{
  "cells": [
    {
      "cell_type": "code",
      "execution_count": null,
      "metadata": {
        "id": "rlM8Qb-ZgK4-",
        "colab": {
          "base_uri": "https://localhost:8080/",
          "height": 1000
        },
        "outputId": "ad63e753-4dc5-462a-f40a-a40605bc5645"
      },
      "outputs": [
        {
          "output_type": "stream",
          "name": "stdout",
          "text": [
            "Looking in indexes: https://pypi.org/simple, https://us-python.pkg.dev/colab-wheels/public/simple/\n",
            "Collecting textattack[tensorflow]\n",
            "  Downloading textattack-0.3.5-py3-none-any.whl (415 kB)\n",
            "\u001b[K     |████████████████████████████████| 415 kB 4.9 MB/s \n",
            "\u001b[?25hCollecting pycld2\n",
            "  Downloading pycld2-0.41.tar.gz (41.4 MB)\n",
            "\u001b[K     |████████████████████████████████| 41.4 MB 1.2 MB/s \n",
            "\u001b[?25hCollecting lru-dict\n",
            "  Downloading lru_dict-1.1.8-cp37-cp37m-manylinux_2_5_x86_64.manylinux1_x86_64.manylinux_2_17_x86_64.manylinux2014_x86_64.whl (26 kB)\n",
            "Requirement already satisfied: jieba in /usr/local/lib/python3.7/dist-packages (from textattack[tensorflow]) (0.42.1)\n",
            "Collecting lemminflect\n",
            "  Downloading lemminflect-0.2.2-py3-none-any.whl (769 kB)\n",
            "\u001b[K     |████████████████████████████████| 769 kB 54.7 MB/s \n",
            "\u001b[?25hCollecting num2words\n",
            "  Downloading num2words-0.5.10-py3-none-any.whl (101 kB)\n",
            "\u001b[K     |████████████████████████████████| 101 kB 12.4 MB/s \n",
            "\u001b[?25hCollecting datasets==1.15\n",
            "  Downloading datasets-1.15.0-py3-none-any.whl (290 kB)\n",
            "\u001b[K     |████████████████████████████████| 290 kB 61.9 MB/s \n",
            "\u001b[?25hRequirement already satisfied: nltk in /usr/local/lib/python3.7/dist-packages (from textattack[tensorflow]) (3.7)\n",
            "Collecting pinyin==0.4.0\n",
            "  Downloading pinyin-0.4.0.tar.gz (3.6 MB)\n",
            "\u001b[K     |████████████████████████████████| 3.6 MB 48.6 MB/s \n",
            "\u001b[?25hRequirement already satisfied: scipy>=1.4.1 in /usr/local/lib/python3.7/dist-packages (from textattack[tensorflow]) (1.7.3)\n",
            "Collecting bert-score>=0.3.5\n",
            "  Downloading bert_score-0.3.11-py3-none-any.whl (60 kB)\n",
            "\u001b[K     |████████████████████████████████| 60 kB 3.7 MB/s \n",
            "\u001b[?25hRequirement already satisfied: editdistance in /usr/local/lib/python3.7/dist-packages (from textattack[tensorflow]) (0.5.3)\n",
            "Collecting flair\n",
            "  Downloading flair-0.11.3-py3-none-any.whl (401 kB)\n",
            "\u001b[K     |████████████████████████████████| 401 kB 30.5 MB/s \n",
            "\u001b[?25hCollecting language-tool-python\n",
            "  Downloading language_tool_python-2.7.1-py3-none-any.whl (34 kB)\n",
            "Requirement already satisfied: pandas>=1.0.1 in /usr/local/lib/python3.7/dist-packages (from textattack[tensorflow]) (1.3.5)\n",
            "Requirement already satisfied: more-itertools in /usr/local/lib/python3.7/dist-packages (from textattack[tensorflow]) (8.13.0)\n",
            "Requirement already satisfied: tqdm in /usr/local/lib/python3.7/dist-packages (from textattack[tensorflow]) (4.64.0)\n",
            "Requirement already satisfied: torch!=1.8,>=1.7.0 in /usr/local/lib/python3.7/dist-packages (from textattack[tensorflow]) (1.12.0+cu113)\n",
            "Requirement already satisfied: PySocks!=1.5.7,>=1.5.6 in /usr/local/lib/python3.7/dist-packages (from textattack[tensorflow]) (1.7.1)\n",
            "Collecting OpenHowNet\n",
            "  Downloading OpenHowNet-2.0-py3-none-any.whl (18 kB)\n",
            "Requirement already satisfied: click<8.1.0 in /usr/local/lib/python3.7/dist-packages (from textattack[tensorflow]) (7.1.2)\n",
            "Requirement already satisfied: numpy>=1.19.2 in /usr/local/lib/python3.7/dist-packages (from textattack[tensorflow]) (1.21.6)\n",
            "Collecting transformers>=3.3.0\n",
            "  Downloading transformers-4.21.0-py3-none-any.whl (4.7 MB)\n",
            "\u001b[K     |████████████████████████████████| 4.7 MB 35.0 MB/s \n",
            "\u001b[?25hCollecting terminaltables\n",
            "  Downloading terminaltables-3.1.10-py2.py3-none-any.whl (15 kB)\n",
            "Requirement already satisfied: filelock in /usr/local/lib/python3.7/dist-packages (from textattack[tensorflow]) (3.7.1)\n",
            "Collecting word2number\n",
            "  Downloading word2number-1.1.zip (9.7 kB)\n",
            "Collecting tensorboardX\n",
            "  Downloading tensorboardX-2.5.1-py2.py3-none-any.whl (125 kB)\n",
            "\u001b[K     |████████████████████████████████| 125 kB 53.4 MB/s \n",
            "\u001b[?25hCollecting tensorflow-text>=2\n",
            "  Downloading tensorflow_text-2.9.0-cp37-cp37m-manylinux_2_17_x86_64.manylinux2014_x86_64.whl (4.6 MB)\n",
            "\u001b[K     |████████████████████████████████| 4.6 MB 48.0 MB/s \n",
            "\u001b[?25hRequirement already satisfied: tensorflow-hub in /usr/local/lib/python3.7/dist-packages (from textattack[tensorflow]) (0.12.0)\n",
            "Collecting tensorflow-estimator==2.5.0\n",
            "  Downloading tensorflow_estimator-2.5.0-py2.py3-none-any.whl (462 kB)\n",
            "\u001b[K     |████████████████████████████████| 462 kB 58.6 MB/s \n",
            "\u001b[?25hCollecting tensorflow==2.5.0\n",
            "  Downloading tensorflow-2.5.0-cp37-cp37m-manylinux2010_x86_64.whl (454.3 MB)\n",
            "\u001b[K     |████████████████████████████████| 454.3 MB 17 kB/s \n",
            "\u001b[?25hCollecting xxhash\n",
            "  Downloading xxhash-3.0.0-cp37-cp37m-manylinux_2_17_x86_64.manylinux2014_x86_64.whl (212 kB)\n",
            "\u001b[K     |████████████████████████████████| 212 kB 73.1 MB/s \n",
            "\u001b[?25hRequirement already satisfied: dill in /usr/local/lib/python3.7/dist-packages (from datasets==1.15->textattack[tensorflow]) (0.3.5.1)\n",
            "Collecting fsspec[http]>=2021.05.0\n",
            "  Downloading fsspec-2022.7.1-py3-none-any.whl (141 kB)\n",
            "\u001b[K     |████████████████████████████████| 141 kB 73.5 MB/s \n",
            "\u001b[?25hRequirement already satisfied: multiprocess in /usr/local/lib/python3.7/dist-packages (from datasets==1.15->textattack[tensorflow]) (0.70.13)\n",
            "Requirement already satisfied: aiohttp in /usr/local/lib/python3.7/dist-packages (from datasets==1.15->textattack[tensorflow]) (3.8.1)\n",
            "Requirement already satisfied: pyarrow!=4.0.0,>=1.0.0 in /usr/local/lib/python3.7/dist-packages (from datasets==1.15->textattack[tensorflow]) (6.0.1)\n",
            "Requirement already satisfied: importlib-metadata in /usr/local/lib/python3.7/dist-packages (from datasets==1.15->textattack[tensorflow]) (4.12.0)\n",
            "Collecting huggingface-hub<0.1.0,>=0.0.19\n",
            "  Downloading huggingface_hub-0.0.19-py3-none-any.whl (56 kB)\n",
            "\u001b[K     |████████████████████████████████| 56 kB 5.7 MB/s \n",
            "\u001b[?25hRequirement already satisfied: packaging in /usr/local/lib/python3.7/dist-packages (from datasets==1.15->textattack[tensorflow]) (21.3)\n",
            "Requirement already satisfied: requests>=2.19.0 in /usr/local/lib/python3.7/dist-packages (from datasets==1.15->textattack[tensorflow]) (2.23.0)\n",
            "Collecting gast==0.4.0\n",
            "  Downloading gast-0.4.0-py3-none-any.whl (9.8 kB)\n",
            "Requirement already satisfied: six~=1.15.0 in /usr/local/lib/python3.7/dist-packages (from tensorflow==2.5.0->textattack[tensorflow]) (1.15.0)\n",
            "Collecting numpy>=1.19.2\n",
            "  Downloading numpy-1.19.5-cp37-cp37m-manylinux2010_x86_64.whl (14.8 MB)\n",
            "\u001b[K     |████████████████████████████████| 14.8 MB 57.8 MB/s \n",
            "\u001b[?25hRequirement already satisfied: tensorboard~=2.5 in /usr/local/lib/python3.7/dist-packages (from tensorflow==2.5.0->textattack[tensorflow]) (2.8.0)\n",
            "Requirement already satisfied: opt-einsum~=3.3.0 in /usr/local/lib/python3.7/dist-packages (from tensorflow==2.5.0->textattack[tensorflow]) (3.3.0)\n",
            "Requirement already satisfied: termcolor~=1.1.0 in /usr/local/lib/python3.7/dist-packages (from tensorflow==2.5.0->textattack[tensorflow]) (1.1.0)\n",
            "Collecting wrapt~=1.12.1\n",
            "  Downloading wrapt-1.12.1.tar.gz (27 kB)\n",
            "Requirement already satisfied: h5py~=3.1.0 in /usr/local/lib/python3.7/dist-packages (from tensorflow==2.5.0->textattack[tensorflow]) (3.1.0)\n",
            "Collecting typing-extensions~=3.7.4\n",
            "  Downloading typing_extensions-3.7.4.3-py3-none-any.whl (22 kB)\n",
            "Collecting absl-py~=0.10\n",
            "  Downloading absl_py-0.15.0-py3-none-any.whl (132 kB)\n",
            "\u001b[K     |████████████████████████████████| 132 kB 71.6 MB/s \n",
            "\u001b[?25hCollecting flatbuffers~=1.12.0\n",
            "  Downloading flatbuffers-1.12-py2.py3-none-any.whl (15 kB)\n",
            "Requirement already satisfied: keras-preprocessing~=1.1.2 in /usr/local/lib/python3.7/dist-packages (from tensorflow==2.5.0->textattack[tensorflow]) (1.1.2)\n",
            "Requirement already satisfied: wheel~=0.35 in /usr/local/lib/python3.7/dist-packages (from tensorflow==2.5.0->textattack[tensorflow]) (0.37.1)\n",
            "Collecting keras-nightly~=2.5.0.dev\n",
            "  Downloading keras_nightly-2.5.0.dev2021032900-py2.py3-none-any.whl (1.2 MB)\n",
            "\u001b[K     |████████████████████████████████| 1.2 MB 60.4 MB/s \n",
            "\u001b[?25hRequirement already satisfied: astunparse~=1.6.3 in /usr/local/lib/python3.7/dist-packages (from tensorflow==2.5.0->textattack[tensorflow]) (1.6.3)\n",
            "Collecting grpcio~=1.34.0\n",
            "  Downloading grpcio-1.34.1-cp37-cp37m-manylinux2014_x86_64.whl (4.0 MB)\n",
            "\u001b[K     |████████████████████████████████| 4.0 MB 54.6 MB/s \n",
            "\u001b[?25hRequirement already satisfied: google-pasta~=0.2 in /usr/local/lib/python3.7/dist-packages (from tensorflow==2.5.0->textattack[tensorflow]) (0.2.0)\n",
            "Requirement already satisfied: protobuf>=3.9.2 in /usr/local/lib/python3.7/dist-packages (from tensorflow==2.5.0->textattack[tensorflow]) (3.17.3)\n",
            "Requirement already satisfied: matplotlib in /usr/local/lib/python3.7/dist-packages (from bert-score>=0.3.5->textattack[tensorflow]) (3.2.2)\n",
            "Requirement already satisfied: cached-property in /usr/local/lib/python3.7/dist-packages (from h5py~=3.1.0->tensorflow==2.5.0->textattack[tensorflow]) (1.5.2)\n",
            "Requirement already satisfied: pyyaml in /usr/local/lib/python3.7/dist-packages (from huggingface-hub<0.1.0,>=0.0.19->datasets==1.15->textattack[tensorflow]) (3.13)\n",
            "Requirement already satisfied: pyparsing!=3.0.5,>=2.0.2 in /usr/local/lib/python3.7/dist-packages (from packaging->datasets==1.15->textattack[tensorflow]) (3.0.9)\n",
            "Requirement already satisfied: python-dateutil>=2.7.3 in /usr/local/lib/python3.7/dist-packages (from pandas>=1.0.1->textattack[tensorflow]) (2.8.2)\n",
            "Requirement already satisfied: pytz>=2017.3 in /usr/local/lib/python3.7/dist-packages (from pandas>=1.0.1->textattack[tensorflow]) (2022.1)\n",
            "Requirement already satisfied: idna<3,>=2.5 in /usr/local/lib/python3.7/dist-packages (from requests>=2.19.0->datasets==1.15->textattack[tensorflow]) (2.10)\n",
            "Requirement already satisfied: certifi>=2017.4.17 in /usr/local/lib/python3.7/dist-packages (from requests>=2.19.0->datasets==1.15->textattack[tensorflow]) (2022.6.15)\n",
            "Requirement already satisfied: urllib3!=1.25.0,!=1.25.1,<1.26,>=1.21.1 in /usr/local/lib/python3.7/dist-packages (from requests>=2.19.0->datasets==1.15->textattack[tensorflow]) (1.24.3)\n",
            "Requirement already satisfied: chardet<4,>=3.0.2 in /usr/local/lib/python3.7/dist-packages (from requests>=2.19.0->datasets==1.15->textattack[tensorflow]) (3.0.4)\n",
            "Requirement already satisfied: markdown>=2.6.8 in /usr/local/lib/python3.7/dist-packages (from tensorboard~=2.5->tensorflow==2.5.0->textattack[tensorflow]) (3.4.1)\n",
            "Requirement already satisfied: werkzeug>=0.11.15 in /usr/local/lib/python3.7/dist-packages (from tensorboard~=2.5->tensorflow==2.5.0->textattack[tensorflow]) (1.0.1)\n",
            "Requirement already satisfied: tensorboard-data-server<0.7.0,>=0.6.0 in /usr/local/lib/python3.7/dist-packages (from tensorboard~=2.5->tensorflow==2.5.0->textattack[tensorflow]) (0.6.1)\n",
            "Requirement already satisfied: tensorboard-plugin-wit>=1.6.0 in /usr/local/lib/python3.7/dist-packages (from tensorboard~=2.5->tensorflow==2.5.0->textattack[tensorflow]) (1.8.1)\n",
            "Requirement already satisfied: google-auth-oauthlib<0.5,>=0.4.1 in /usr/local/lib/python3.7/dist-packages (from tensorboard~=2.5->tensorflow==2.5.0->textattack[tensorflow]) (0.4.6)\n",
            "Requirement already satisfied: google-auth<3,>=1.6.3 in /usr/local/lib/python3.7/dist-packages (from tensorboard~=2.5->tensorflow==2.5.0->textattack[tensorflow]) (1.35.0)\n",
            "Requirement already satisfied: setuptools>=41.0.0 in /usr/local/lib/python3.7/dist-packages (from tensorboard~=2.5->tensorflow==2.5.0->textattack[tensorflow]) (57.4.0)\n",
            "Requirement already satisfied: pyasn1-modules>=0.2.1 in /usr/local/lib/python3.7/dist-packages (from google-auth<3,>=1.6.3->tensorboard~=2.5->tensorflow==2.5.0->textattack[tensorflow]) (0.2.8)\n",
            "Requirement already satisfied: rsa<5,>=3.1.4 in /usr/local/lib/python3.7/dist-packages (from google-auth<3,>=1.6.3->tensorboard~=2.5->tensorflow==2.5.0->textattack[tensorflow]) (4.9)\n",
            "Requirement already satisfied: cachetools<5.0,>=2.0.0 in /usr/local/lib/python3.7/dist-packages (from google-auth<3,>=1.6.3->tensorboard~=2.5->tensorflow==2.5.0->textattack[tensorflow]) (4.2.4)\n",
            "Requirement already satisfied: requests-oauthlib>=0.7.0 in /usr/local/lib/python3.7/dist-packages (from google-auth-oauthlib<0.5,>=0.4.1->tensorboard~=2.5->tensorflow==2.5.0->textattack[tensorflow]) (1.3.1)\n",
            "Requirement already satisfied: zipp>=0.5 in /usr/local/lib/python3.7/dist-packages (from importlib-metadata->datasets==1.15->textattack[tensorflow]) (3.8.1)\n",
            "Requirement already satisfied: pyasn1<0.5.0,>=0.4.6 in /usr/local/lib/python3.7/dist-packages (from pyasn1-modules>=0.2.1->google-auth<3,>=1.6.3->tensorboard~=2.5->tensorflow==2.5.0->textattack[tensorflow]) (0.4.8)\n",
            "Requirement already satisfied: oauthlib>=3.0.0 in /usr/local/lib/python3.7/dist-packages (from requests-oauthlib>=0.7.0->google-auth-oauthlib<0.5,>=0.4.1->tensorboard~=2.5->tensorflow==2.5.0->textattack[tensorflow]) (3.2.0)\n",
            "Collecting tensorflow-text>=2\n",
            "  Downloading tensorflow_text-2.8.2-cp37-cp37m-manylinux_2_12_x86_64.manylinux2010_x86_64.whl (4.9 MB)\n",
            "\u001b[K     |████████████████████████████████| 4.9 MB 58.9 MB/s \n",
            "\u001b[?25h  Downloading tensorflow_text-2.8.1-cp37-cp37m-manylinux_2_12_x86_64.manylinux2010_x86_64.whl (4.9 MB)\n",
            "\u001b[K     |████████████████████████████████| 4.9 MB 51.6 MB/s \n",
            "\u001b[?25h  Downloading tensorflow_text-2.7.3-cp37-cp37m-manylinux2010_x86_64.whl (4.9 MB)\n",
            "\u001b[K     |████████████████████████████████| 4.9 MB 59.4 MB/s \n",
            "\u001b[?25h  Downloading tensorflow_text-2.7.0-cp37-cp37m-manylinux2010_x86_64.whl (4.9 MB)\n",
            "\u001b[K     |████████████████████████████████| 4.9 MB 58.0 MB/s \n",
            "\u001b[?25h  Downloading tensorflow_text-2.6.0-cp37-cp37m-manylinux1_x86_64.whl (4.4 MB)\n",
            "\u001b[K     |████████████████████████████████| 4.4 MB 48.7 MB/s \n",
            "\u001b[?25h  Downloading tensorflow_text-2.5.0-cp37-cp37m-manylinux1_x86_64.whl (4.3 MB)\n",
            "\u001b[K     |████████████████████████████████| 4.3 MB 49.5 MB/s \n",
            "\u001b[?25hCollecting tokenizers!=0.11.3,<0.13,>=0.11.1\n",
            "  Downloading tokenizers-0.12.1-cp37-cp37m-manylinux_2_12_x86_64.manylinux2010_x86_64.whl (6.6 MB)\n",
            "\u001b[K     |████████████████████████████████| 6.6 MB 52.5 MB/s \n",
            "\u001b[?25hCollecting transformers>=3.3.0\n",
            "  Downloading transformers-4.20.1-py3-none-any.whl (4.4 MB)\n",
            "\u001b[K     |████████████████████████████████| 4.4 MB 52.6 MB/s \n",
            "\u001b[?25h  Downloading transformers-4.20.0-py3-none-any.whl (4.4 MB)\n",
            "\u001b[K     |████████████████████████████████| 4.4 MB 48.8 MB/s \n",
            "\u001b[?25h  Downloading transformers-4.19.4-py3-none-any.whl (4.2 MB)\n",
            "\u001b[K     |████████████████████████████████| 4.2 MB 39.8 MB/s \n",
            "\u001b[?25h  Downloading transformers-4.19.3-py3-none-any.whl (4.2 MB)\n",
            "\u001b[K     |████████████████████████████████| 4.2 MB 45.3 MB/s \n",
            "\u001b[?25h  Downloading transformers-4.19.2-py3-none-any.whl (4.2 MB)\n",
            "\u001b[K     |████████████████████████████████| 4.2 MB 46.0 MB/s \n",
            "\u001b[?25h  Downloading transformers-4.19.1-py3-none-any.whl (4.2 MB)\n",
            "\u001b[K     |████████████████████████████████| 4.2 MB 56.9 MB/s \n",
            "\u001b[?25h  Downloading transformers-4.19.0-py3-none-any.whl (4.2 MB)\n",
            "\u001b[K     |████████████████████████████████| 4.2 MB 56.2 MB/s \n",
            "\u001b[?25h  Downloading transformers-4.18.0-py3-none-any.whl (4.0 MB)\n",
            "\u001b[K     |████████████████████████████████| 4.0 MB 29.6 MB/s \n",
            "\u001b[?25h  Downloading transformers-4.17.0-py3-none-any.whl (3.8 MB)\n",
            "\u001b[K     |████████████████████████████████| 3.8 MB 47.9 MB/s \n",
            "\u001b[?25h  Downloading transformers-4.16.2-py3-none-any.whl (3.5 MB)\n",
            "\u001b[K     |████████████████████████████████| 3.5 MB 39.6 MB/s \n",
            "\u001b[?25h  Downloading transformers-4.16.1-py3-none-any.whl (3.5 MB)\n",
            "\u001b[K     |████████████████████████████████| 3.5 MB 45.9 MB/s \n",
            "\u001b[?25h  Downloading transformers-4.16.0-py3-none-any.whl (3.5 MB)\n",
            "\u001b[K     |████████████████████████████████| 3.5 MB 40.2 MB/s \n",
            "\u001b[?25h  Downloading transformers-4.15.0-py3-none-any.whl (3.4 MB)\n",
            "\u001b[K     |████████████████████████████████| 3.4 MB 45.5 MB/s \n",
            "\u001b[?25hCollecting tokenizers<0.11,>=0.10.1\n",
            "  Downloading tokenizers-0.10.3-cp37-cp37m-manylinux_2_5_x86_64.manylinux1_x86_64.manylinux_2_12_x86_64.manylinux2010_x86_64.whl (3.3 MB)\n",
            "\u001b[K     |████████████████████████████████| 3.3 MB 43.6 MB/s \n",
            "\u001b[?25hCollecting transformers>=3.3.0\n",
            "  Downloading transformers-4.14.1-py3-none-any.whl (3.4 MB)\n",
            "\u001b[K     |████████████████████████████████| 3.4 MB 60.2 MB/s \n",
            "\u001b[?25h  Downloading transformers-4.13.0-py3-none-any.whl (3.3 MB)\n",
            "\u001b[K     |████████████████████████████████| 3.3 MB 49.4 MB/s \n",
            "\u001b[?25h  Downloading transformers-4.12.5-py3-none-any.whl (3.1 MB)\n",
            "\u001b[K     |████████████████████████████████| 3.1 MB 56.0 MB/s \n",
            "\u001b[?25h  Downloading transformers-4.12.4-py3-none-any.whl (3.1 MB)\n",
            "\u001b[K     |████████████████████████████████| 3.1 MB 63.4 MB/s \n",
            "\u001b[?25h  Downloading transformers-4.12.3-py3-none-any.whl (3.1 MB)\n",
            "\u001b[K     |████████████████████████████████| 3.1 MB 54.7 MB/s \n",
            "\u001b[?25h  Downloading transformers-4.12.2-py3-none-any.whl (3.1 MB)\n",
            "\u001b[K     |████████████████████████████████| 3.1 MB 48.6 MB/s \n",
            "\u001b[?25hCollecting sacremoses\n",
            "  Downloading sacremoses-0.0.53.tar.gz (880 kB)\n",
            "\u001b[K     |████████████████████████████████| 880 kB 74.2 MB/s \n",
            "\u001b[?25hRequirement already satisfied: regex!=2019.12.17 in /usr/local/lib/python3.7/dist-packages (from transformers>=3.3.0->textattack[tensorflow]) (2022.6.2)\n",
            "Collecting pyyaml\n",
            "  Downloading PyYAML-6.0-cp37-cp37m-manylinux_2_5_x86_64.manylinux1_x86_64.manylinux_2_12_x86_64.manylinux2010_x86_64.whl (596 kB)\n",
            "\u001b[K     |████████████████████████████████| 596 kB 70.8 MB/s \n",
            "\u001b[?25hRequirement already satisfied: frozenlist>=1.1.1 in /usr/local/lib/python3.7/dist-packages (from aiohttp->datasets==1.15->textattack[tensorflow]) (1.3.0)\n",
            "Requirement already satisfied: asynctest==0.13.0 in /usr/local/lib/python3.7/dist-packages (from aiohttp->datasets==1.15->textattack[tensorflow]) (0.13.0)\n",
            "Requirement already satisfied: aiosignal>=1.1.2 in /usr/local/lib/python3.7/dist-packages (from aiohttp->datasets==1.15->textattack[tensorflow]) (1.2.0)\n",
            "Requirement already satisfied: yarl<2.0,>=1.0 in /usr/local/lib/python3.7/dist-packages (from aiohttp->datasets==1.15->textattack[tensorflow]) (1.7.2)\n",
            "Requirement already satisfied: charset-normalizer<3.0,>=2.0 in /usr/local/lib/python3.7/dist-packages (from aiohttp->datasets==1.15->textattack[tensorflow]) (2.1.0)\n",
            "Requirement already satisfied: attrs>=17.3.0 in /usr/local/lib/python3.7/dist-packages (from aiohttp->datasets==1.15->textattack[tensorflow]) (21.4.0)\n",
            "Requirement already satisfied: async-timeout<5.0,>=4.0.0a3 in /usr/local/lib/python3.7/dist-packages (from aiohttp->datasets==1.15->textattack[tensorflow]) (4.0.2)\n",
            "Requirement already satisfied: multidict<7.0,>=4.5 in /usr/local/lib/python3.7/dist-packages (from aiohttp->datasets==1.15->textattack[tensorflow]) (6.0.2)\n",
            "Collecting conllu>=4.0\n",
            "  Downloading conllu-4.5.2-py2.py3-none-any.whl (16 kB)\n",
            "Collecting sentencepiece==0.1.95\n",
            "  Downloading sentencepiece-0.1.95-cp37-cp37m-manylinux2014_x86_64.whl (1.2 MB)\n",
            "\u001b[K     |████████████████████████████████| 1.2 MB 56.8 MB/s \n",
            "\u001b[?25hCollecting konoha<5.0.0,>=4.0.0\n",
            "  Downloading konoha-4.6.5-py3-none-any.whl (20 kB)\n",
            "Requirement already satisfied: scikit-learn>=0.21.3 in /usr/local/lib/python3.7/dist-packages (from flair->textattack[tensorflow]) (1.0.2)\n",
            "Collecting ftfy\n",
            "  Downloading ftfy-6.1.1-py3-none-any.whl (53 kB)\n",
            "\u001b[K     |████████████████████████████████| 53 kB 1.9 MB/s \n",
            "\u001b[?25hCollecting janome\n",
            "  Downloading Janome-0.4.2-py2.py3-none-any.whl (19.7 MB)\n",
            "\u001b[K     |████████████████████████████████| 19.7 MB 371 kB/s \n",
            "\u001b[?25hCollecting segtok>=1.5.7\n",
            "  Downloading segtok-1.5.11-py3-none-any.whl (24 kB)\n",
            "Collecting deprecated>=1.2.4\n",
            "  Downloading Deprecated-1.2.13-py2.py3-none-any.whl (9.6 kB)\n",
            "Collecting mpld3==0.3\n",
            "  Downloading mpld3-0.3.tar.gz (788 kB)\n",
            "\u001b[K     |████████████████████████████████| 788 kB 70.9 MB/s \n",
            "\u001b[?25hCollecting wikipedia-api\n",
            "  Downloading Wikipedia-API-0.5.4.tar.gz (18 kB)\n",
            "Collecting pptree\n",
            "  Downloading pptree-3.1.tar.gz (3.0 kB)\n",
            "Requirement already satisfied: gensim>=3.4.0 in /usr/local/lib/python3.7/dist-packages (from flair->textattack[tensorflow]) (3.6.0)\n",
            "Requirement already satisfied: gdown==4.4.0 in /usr/local/lib/python3.7/dist-packages (from flair->textattack[tensorflow]) (4.4.0)\n",
            "Requirement already satisfied: lxml in /usr/local/lib/python3.7/dist-packages (from flair->textattack[tensorflow]) (4.2.6)\n",
            "Collecting sqlitedict>=1.6.0\n",
            "  Downloading sqlitedict-2.0.0.tar.gz (46 kB)\n",
            "\u001b[K     |████████████████████████████████| 46 kB 4.8 MB/s \n",
            "\u001b[?25hCollecting bpemb>=0.3.2\n",
            "  Downloading bpemb-0.3.3-py3-none-any.whl (19 kB)\n",
            "Requirement already satisfied: tabulate in /usr/local/lib/python3.7/dist-packages (from flair->textattack[tensorflow]) (0.8.10)\n",
            "Collecting hyperopt>=0.2.7\n",
            "  Downloading hyperopt-0.2.7-py2.py3-none-any.whl (1.6 MB)\n",
            "\u001b[K     |████████████████████████████████| 1.6 MB 21.8 MB/s \n",
            "\u001b[?25hCollecting langdetect\n",
            "  Downloading langdetect-1.0.9.tar.gz (981 kB)\n",
            "\u001b[K     |████████████████████████████████| 981 kB 74.9 MB/s \n",
            "\u001b[?25hRequirement already satisfied: beautifulsoup4 in /usr/local/lib/python3.7/dist-packages (from gdown==4.4.0->flair->textattack[tensorflow]) (4.6.3)\n",
            "Requirement already satisfied: smart-open>=1.2.1 in /usr/local/lib/python3.7/dist-packages (from gensim>=3.4.0->flair->textattack[tensorflow]) (5.2.1)\n",
            "Collecting py4j\n",
            "  Downloading py4j-0.10.9.5-py2.py3-none-any.whl (199 kB)\n",
            "\u001b[K     |████████████████████████████████| 199 kB 74.2 MB/s \n",
            "\u001b[?25hRequirement already satisfied: networkx>=2.2 in /usr/local/lib/python3.7/dist-packages (from hyperopt>=0.2.7->flair->textattack[tensorflow]) (2.6.3)\n",
            "Requirement already satisfied: future in /usr/local/lib/python3.7/dist-packages (from hyperopt>=0.2.7->flair->textattack[tensorflow]) (0.16.0)\n",
            "Requirement already satisfied: cloudpickle in /usr/local/lib/python3.7/dist-packages (from hyperopt>=0.2.7->flair->textattack[tensorflow]) (1.3.0)\n",
            "Collecting konoha<5.0.0,>=4.0.0\n",
            "  Downloading konoha-4.6.4-py3-none-any.whl (19 kB)\n",
            "  Downloading konoha-4.6.3-py3-none-any.whl (19 kB)\n",
            "Collecting overrides<4.0.0,>=3.0.0\n",
            "  Downloading overrides-3.1.0.tar.gz (11 kB)\n",
            "Requirement already satisfied: cycler>=0.10 in /usr/local/lib/python3.7/dist-packages (from matplotlib->bert-score>=0.3.5->textattack[tensorflow]) (0.11.0)\n",
            "Requirement already satisfied: kiwisolver>=1.0.1 in /usr/local/lib/python3.7/dist-packages (from matplotlib->bert-score>=0.3.5->textattack[tensorflow]) (1.4.4)\n",
            "Requirement already satisfied: joblib>=0.11 in /usr/local/lib/python3.7/dist-packages (from scikit-learn>=0.21.3->flair->textattack[tensorflow]) (1.1.0)\n",
            "Requirement already satisfied: threadpoolctl>=2.0.0 in /usr/local/lib/python3.7/dist-packages (from scikit-learn>=0.21.3->flair->textattack[tensorflow]) (3.1.0)\n",
            "Requirement already satisfied: wcwidth>=0.2.5 in /usr/local/lib/python3.7/dist-packages (from ftfy->flair->textattack[tensorflow]) (0.2.5)\n",
            "Requirement already satisfied: docopt>=0.6.2 in /usr/local/lib/python3.7/dist-packages (from num2words->textattack[tensorflow]) (0.6.2)\n",
            "Collecting anytree\n",
            "  Downloading anytree-2.8.0-py2.py3-none-any.whl (41 kB)\n",
            "\u001b[K     |████████████████████████████████| 41 kB 712 kB/s \n",
            "\u001b[?25hBuilding wheels for collected packages: pinyin, wrapt, mpld3, overrides, sqlitedict, langdetect, pptree, pycld2, sacremoses, wikipedia-api, word2number\n",
            "  Building wheel for pinyin (setup.py) ... \u001b[?25l\u001b[?25hdone\n",
            "  Created wheel for pinyin: filename=pinyin-0.4.0-py3-none-any.whl size=3630494 sha256=b901921523cad6710b74174f2c5c9a2372ffe9c4339f5bf708f8c0b7913df732\n",
            "  Stored in directory: /root/.cache/pip/wheels/b8/7d/a6/f2fe72950e89e84982e1982f7a68805a37773693188a9c889c\n",
            "  Building wheel for wrapt (setup.py) ... \u001b[?25l\u001b[?25hdone\n",
            "  Created wheel for wrapt: filename=wrapt-1.12.1-cp37-cp37m-linux_x86_64.whl size=68720 sha256=a03b8263afedf95517b03d3187009c7ab13cbb32a1023a3e01ac6047ff2ab1ef\n",
            "  Stored in directory: /root/.cache/pip/wheels/62/76/4c/aa25851149f3f6d9785f6c869387ad82b3fd37582fa8147ac6\n",
            "  Building wheel for mpld3 (setup.py) ... \u001b[?25l\u001b[?25hdone\n",
            "  Created wheel for mpld3: filename=mpld3-0.3-py3-none-any.whl size=116702 sha256=8e329f6b7eaa77c6967b30c6d7769118e3103521f4d0b3f889dd1716e2b9f8db\n",
            "  Stored in directory: /root/.cache/pip/wheels/26/70/6a/1c79e59951a41b4045497da187b2724f5659ca64033cf4548e\n",
            "  Building wheel for overrides (setup.py) ... \u001b[?25l\u001b[?25hdone\n",
            "  Created wheel for overrides: filename=overrides-3.1.0-py3-none-any.whl size=10187 sha256=7c650c89fa2c2b367c785f6e8df1b170b80b936fc4bf0e19f278bda7f8dfcfa5\n",
            "  Stored in directory: /root/.cache/pip/wheels/3a/0d/38/01a9bc6e20dcfaf0a6a7b552d03137558ba1c38aea47644682\n",
            "  Building wheel for sqlitedict (setup.py) ... \u001b[?25l\u001b[?25hdone\n",
            "  Created wheel for sqlitedict: filename=sqlitedict-2.0.0-py3-none-any.whl size=15736 sha256=5a50f5ade979cd3e5ff4c1fb0a853f1e91d1c07420672a8e06b2bdeeb0d6afd2\n",
            "  Stored in directory: /root/.cache/pip/wheels/96/dd/2e/0ed4a25cb73fc30c7ea8d10b50acb7226175736067e40a7ea3\n",
            "  Building wheel for langdetect (setup.py) ... \u001b[?25l\u001b[?25hdone\n",
            "  Created wheel for langdetect: filename=langdetect-1.0.9-py3-none-any.whl size=993242 sha256=87d952d26352eda6df15e27843cee19298b725c724a3f49994a5171d195f450a\n",
            "  Stored in directory: /root/.cache/pip/wheels/c5/96/8a/f90c59ed25d75e50a8c10a1b1c2d4c402e4dacfa87f3aff36a\n",
            "  Building wheel for pptree (setup.py) ... \u001b[?25l\u001b[?25hdone\n",
            "  Created wheel for pptree: filename=pptree-3.1-py3-none-any.whl size=4629 sha256=226e95ff30515e53551a0791047c98857edd3c38633f2c21100a34ece7746a39\n",
            "  Stored in directory: /root/.cache/pip/wheels/9e/e8/7d/a9c3c19b4722608a0d8b05a38c36bc3f230c43becd2a46794b\n",
            "  Building wheel for pycld2 (setup.py) ... \u001b[?25l\u001b[?25hdone\n",
            "  Created wheel for pycld2: filename=pycld2-0.41-cp37-cp37m-linux_x86_64.whl size=9834290 sha256=1ab1831ef3b97921122bb643732d6045444d0eae14ef45cf56f0e6625b6b3a7d\n",
            "  Stored in directory: /root/.cache/pip/wheels/ed/e4/58/ed2e9f43c07d617cc81fe7aff0fc6e42b16c9cf6afe960b614\n",
            "  Building wheel for sacremoses (setup.py) ... \u001b[?25l\u001b[?25hdone\n",
            "  Created wheel for sacremoses: filename=sacremoses-0.0.53-py3-none-any.whl size=895260 sha256=a85f90899f3dd9f3db68d3eafdfc2f3da3e53eadbac819e6a4f1d143b4203a51\n",
            "  Stored in directory: /root/.cache/pip/wheels/87/39/dd/a83eeef36d0bf98e7a4d1933a4ad2d660295a40613079bafc9\n",
            "  Building wheel for wikipedia-api (setup.py) ... \u001b[?25l\u001b[?25hdone\n",
            "  Created wheel for wikipedia-api: filename=Wikipedia_API-0.5.4-py3-none-any.whl size=13477 sha256=83e2683af5eb26425151dbc9406ccd32225383aabc45a8fb48d4dc3342155dce\n",
            "  Stored in directory: /root/.cache/pip/wheels/d3/24/56/58ba93cf78be162451144e7a9889603f437976ef1ae7013d04\n",
            "  Building wheel for word2number (setup.py) ... \u001b[?25l\u001b[?25hdone\n",
            "  Created wheel for word2number: filename=word2number-1.1-py3-none-any.whl size=5582 sha256=3b3e1edb6c2ad838bf0fb7719f95b7b3da437fea20af018f8a6a553e8a932fba\n",
            "  Stored in directory: /root/.cache/pip/wheels/4b/c3/77/a5f48aeb0d3efb7cd5ad61cbd3da30bbf9ffc9662b07c9f879\n",
            "Successfully built pinyin wrapt mpld3 overrides sqlitedict langdetect pptree pycld2 sacremoses wikipedia-api word2number\n",
            "Installing collected packages: typing-extensions, numpy, pyyaml, wrapt, tokenizers, sentencepiece, sacremoses, py4j, overrides, huggingface-hub, grpcio, fsspec, absl-py, xxhash, wikipedia-api, transformers, tensorflow-estimator, sqlitedict, segtok, pptree, mpld3, langdetect, konoha, keras-nightly, janome, hyperopt, gast, ftfy, flatbuffers, deprecated, conllu, bpemb, anytree, word2number, terminaltables, tensorflow, pycld2, pinyin, OpenHowNet, num2words, lru-dict, lemminflect, language-tool-python, flair, datasets, bert-score, textattack, tensorflow-text, tensorboardX\n",
            "  Attempting uninstall: typing-extensions\n",
            "    Found existing installation: typing-extensions 4.1.1\n",
            "    Uninstalling typing-extensions-4.1.1:\n",
            "      Successfully uninstalled typing-extensions-4.1.1\n",
            "  Attempting uninstall: numpy\n",
            "    Found existing installation: numpy 1.21.6\n",
            "    Uninstalling numpy-1.21.6:\n",
            "      Successfully uninstalled numpy-1.21.6\n",
            "  Attempting uninstall: pyyaml\n",
            "    Found existing installation: PyYAML 3.13\n",
            "    Uninstalling PyYAML-3.13:\n",
            "      Successfully uninstalled PyYAML-3.13\n",
            "  Attempting uninstall: wrapt\n",
            "    Found existing installation: wrapt 1.14.1\n",
            "    Uninstalling wrapt-1.14.1:\n",
            "      Successfully uninstalled wrapt-1.14.1\n",
            "  Attempting uninstall: grpcio\n",
            "    Found existing installation: grpcio 1.47.0\n",
            "    Uninstalling grpcio-1.47.0:\n",
            "      Successfully uninstalled grpcio-1.47.0\n",
            "  Attempting uninstall: absl-py\n",
            "    Found existing installation: absl-py 1.2.0\n",
            "    Uninstalling absl-py-1.2.0:\n",
            "      Successfully uninstalled absl-py-1.2.0\n",
            "  Attempting uninstall: tensorflow-estimator\n",
            "    Found existing installation: tensorflow-estimator 2.8.0\n",
            "    Uninstalling tensorflow-estimator-2.8.0:\n",
            "      Successfully uninstalled tensorflow-estimator-2.8.0\n",
            "  Attempting uninstall: hyperopt\n",
            "    Found existing installation: hyperopt 0.1.2\n",
            "    Uninstalling hyperopt-0.1.2:\n",
            "      Successfully uninstalled hyperopt-0.1.2\n",
            "  Attempting uninstall: gast\n",
            "    Found existing installation: gast 0.5.3\n",
            "    Uninstalling gast-0.5.3:\n",
            "      Successfully uninstalled gast-0.5.3\n",
            "  Attempting uninstall: flatbuffers\n",
            "    Found existing installation: flatbuffers 2.0\n",
            "    Uninstalling flatbuffers-2.0:\n",
            "      Successfully uninstalled flatbuffers-2.0\n",
            "  Attempting uninstall: tensorflow\n",
            "    Found existing installation: tensorflow 2.8.2+zzzcolab20220719082949\n",
            "    Uninstalling tensorflow-2.8.2+zzzcolab20220719082949:\n",
            "      Successfully uninstalled tensorflow-2.8.2+zzzcolab20220719082949\n",
            "\u001b[31mERROR: pip's dependency resolver does not currently take into account all the packages that are installed. This behaviour is the source of the following dependency conflicts.\n",
            "xarray-einstats 0.2.2 requires numpy>=1.21, but you have numpy 1.19.5 which is incompatible.\n",
            "datascience 0.10.6 requires folium==0.2.1, but you have folium 0.8.3 which is incompatible.\n",
            "cmdstanpy 1.0.4 requires numpy>=1.21, but you have numpy 1.19.5 which is incompatible.\n",
            "albumentations 0.1.12 requires imgaug<0.2.7,>=0.2.5, but you have imgaug 0.2.9 which is incompatible.\u001b[0m\n",
            "Successfully installed OpenHowNet-2.0 absl-py-0.15.0 anytree-2.8.0 bert-score-0.3.11 bpemb-0.3.3 conllu-4.5.2 datasets-1.15.0 deprecated-1.2.13 flair-0.11.3 flatbuffers-1.12 fsspec-2022.7.1 ftfy-6.1.1 gast-0.4.0 grpcio-1.34.1 huggingface-hub-0.0.19 hyperopt-0.2.7 janome-0.4.2 keras-nightly-2.5.0.dev2021032900 konoha-4.6.3 langdetect-1.0.9 language-tool-python-2.7.1 lemminflect-0.2.2 lru-dict-1.1.8 mpld3-0.3 num2words-0.5.10 numpy-1.19.5 overrides-3.1.0 pinyin-0.4.0 pptree-3.1 py4j-0.10.9.5 pycld2-0.41 pyyaml-6.0 sacremoses-0.0.53 segtok-1.5.11 sentencepiece-0.1.95 sqlitedict-2.0.0 tensorboardX-2.5.1 tensorflow-2.5.0 tensorflow-estimator-2.5.0 tensorflow-text-2.5.0 terminaltables-3.1.10 textattack-0.3.5 tokenizers-0.10.3 transformers-4.12.2 typing-extensions-3.7.4.3 wikipedia-api-0.5.4 word2number-1.1 wrapt-1.12.1 xxhash-3.0.0\n"
          ]
        },
        {
          "output_type": "display_data",
          "data": {
            "application/vnd.colab-display-data+json": {
              "pip_warning": {
                "packages": [
                  "numpy",
                  "typing_extensions"
                ]
              }
            }
          },
          "metadata": {}
        }
      ],
      "source": [
        "pip install textattack[tensorflow]"
      ]
    },
    {
      "cell_type": "code",
      "execution_count": null,
      "metadata": {
        "id": "gZE_FeO9ULpo"
      },
      "outputs": [],
      "source": [
        "import numpy as np # linear algebra\n",
        "import pandas as pd # data processing, CSV file I/O (e.g. pd.read_csv)\n",
        "from tqdm import tqdm\n",
        "from sklearn.model_selection import train_test_split\n",
        "import tensorflow as tf\n",
        "#from keras.models import Sequential\n",
        "#from keras.layers.recurrent import LSTM, GRU,SimpleRNN\n",
        "#from keras.layers.core import Dense, Activation, Dropout\n",
        "#from keras.layers.embeddings import Embedding\n",
        "#from tensorflow.keras.layers import BatchNormalization\n",
        "#from keras.utils import np_utils\n",
        "from sklearn import preprocessing, decomposition, model_selection, metrics, pipeline\n",
        "#from keras.layers import GlobalMaxPooling1D, Conv1D, MaxPooling1D, Flatten, Bidirectional, SpatialDropout1D\n",
        "#from keras.preprocessing import sequence, text\n",
        "#from keras.callbacks import EarlyStopping\n",
        "\n",
        "\n",
        "import matplotlib.pyplot as plt\n",
        "import seaborn as sns\n",
        "%matplotlib inline\n",
        "#from plotly import graph_objs as go\n",
        "#import plotly.express as px\n",
        "#import plotly.figure_factory as ff"
      ]
    },
    {
      "cell_type": "code",
      "execution_count": null,
      "metadata": {
        "id": "xFQThkaLL9L9"
      },
      "outputs": [],
      "source": [
        "#from google.colab import drive\n",
        "#drive.mount('/content/drive')"
      ]
    },
    {
      "cell_type": "code",
      "execution_count": null,
      "metadata": {
        "colab": {
          "base_uri": "https://localhost:8080/"
        },
        "id": "vSelLP1JbsZQ",
        "outputId": "3a12dbe2-b7a5-4602-9dbe-4443311bd9a6"
      },
      "outputs": [
        {
          "output_type": "stream",
          "name": "stdout",
          "text": [
            "REPLICAS:  1\n"
          ]
        }
      ],
      "source": [
        "# Detect hardware, return appropriate distribution strategy\n",
        "try:\n",
        "    # TPU detection. No parameters necessary if TPU_NAME environment variable is\n",
        "    # set: this is always the case on Kaggle.\n",
        "    tpu = tf.distribute.cluster_resolver.TPUClusterResolver()\n",
        "    print('Running on TPU ', tpu.master())\n",
        "except ValueError:\n",
        "    tpu = None\n",
        "\n",
        "if tpu:\n",
        "    tf.config.experimental_connect_to_cluster(tpu)\n",
        "    tf.tpu.experimental.initialize_tpu_system(tpu)\n",
        "    strategy = tf.distribute.experimental.TPUStrategy(tpu)\n",
        "else:\n",
        "    # Default distribution strategy in Tensorflow. Works on CPU and single GPU.\n",
        "    strategy = tf.distribute.get_strategy()\n",
        "\n",
        "print(\"REPLICAS: \", strategy.num_replicas_in_sync)"
      ]
    },
    {
      "cell_type": "code",
      "execution_count": null,
      "metadata": {
        "id": "EL_2kVOUVUyy",
        "colab": {
          "base_uri": "https://localhost:8080/"
        },
        "outputId": "12dd59c6-5539-4242-e49b-16971f810b18"
      },
      "outputs": [
        {
          "output_type": "stream",
          "name": "stdout",
          "text": [
            "Looking in indexes: https://pypi.org/simple, https://us-python.pkg.dev/colab-wheels/public/simple/\n",
            "Requirement already satisfied: transformers in /usr/local/lib/python3.7/dist-packages (4.12.2)\n",
            "Requirement already satisfied: filelock in /usr/local/lib/python3.7/dist-packages (from transformers) (3.7.1)\n",
            "Requirement already satisfied: importlib-metadata in /usr/local/lib/python3.7/dist-packages (from transformers) (4.12.0)\n",
            "Requirement already satisfied: packaging>=20.0 in /usr/local/lib/python3.7/dist-packages (from transformers) (21.3)\n",
            "Requirement already satisfied: tqdm>=4.27 in /usr/local/lib/python3.7/dist-packages (from transformers) (4.64.0)\n",
            "Requirement already satisfied: pyyaml>=5.1 in /usr/local/lib/python3.7/dist-packages (from transformers) (6.0)\n",
            "Requirement already satisfied: requests in /usr/local/lib/python3.7/dist-packages (from transformers) (2.23.0)\n",
            "Requirement already satisfied: sacremoses in /usr/local/lib/python3.7/dist-packages (from transformers) (0.0.53)\n",
            "Requirement already satisfied: regex!=2019.12.17 in /usr/local/lib/python3.7/dist-packages (from transformers) (2022.6.2)\n",
            "Requirement already satisfied: tokenizers<0.11,>=0.10.1 in /usr/local/lib/python3.7/dist-packages (from transformers) (0.10.3)\n",
            "Requirement already satisfied: numpy>=1.17 in /usr/local/lib/python3.7/dist-packages (from transformers) (1.19.5)\n",
            "Requirement already satisfied: huggingface-hub>=0.0.17 in /usr/local/lib/python3.7/dist-packages (from transformers) (0.0.19)\n",
            "Requirement already satisfied: typing-extensions in /usr/local/lib/python3.7/dist-packages (from huggingface-hub>=0.0.17->transformers) (3.7.4.3)\n",
            "Requirement already satisfied: pyparsing!=3.0.5,>=2.0.2 in /usr/local/lib/python3.7/dist-packages (from packaging>=20.0->transformers) (3.0.9)\n",
            "Requirement already satisfied: zipp>=0.5 in /usr/local/lib/python3.7/dist-packages (from importlib-metadata->transformers) (3.8.1)\n",
            "Requirement already satisfied: urllib3!=1.25.0,!=1.25.1,<1.26,>=1.21.1 in /usr/local/lib/python3.7/dist-packages (from requests->transformers) (1.24.3)\n",
            "Requirement already satisfied: chardet<4,>=3.0.2 in /usr/local/lib/python3.7/dist-packages (from requests->transformers) (3.0.4)\n",
            "Requirement already satisfied: idna<3,>=2.5 in /usr/local/lib/python3.7/dist-packages (from requests->transformers) (2.10)\n",
            "Requirement already satisfied: certifi>=2017.4.17 in /usr/local/lib/python3.7/dist-packages (from requests->transformers) (2022.6.15)\n",
            "Requirement already satisfied: six in /usr/local/lib/python3.7/dist-packages (from sacremoses->transformers) (1.15.0)\n",
            "Requirement already satisfied: joblib in /usr/local/lib/python3.7/dist-packages (from sacremoses->transformers) (1.1.0)\n",
            "Requirement already satisfied: click in /usr/local/lib/python3.7/dist-packages (from sacremoses->transformers) (7.1.2)\n"
          ]
        }
      ],
      "source": [
        "pip install transformers"
      ]
    },
    {
      "cell_type": "code",
      "execution_count": null,
      "metadata": {
        "id": "ulnafdMqUHNL"
      },
      "outputs": [],
      "source": [
        "# Loading Dependencies\n",
        "import os\n",
        "import tensorflow as tf\n",
        "from tensorflow.keras.layers import Dense, Input\n",
        "from tensorflow.keras.optimizers import Adam\n",
        "from tensorflow.keras.models import Model\n",
        "from tensorflow.keras.callbacks import ModelCheckpoint\n",
        "import transformers\n",
        "\n",
        "from tokenizers import BertWordPieceTokenizer"
      ]
    },
    {
      "cell_type": "code",
      "execution_count": null,
      "metadata": {
        "id": "li2b0Q3oVIV3"
      },
      "outputs": [],
      "source": [
        "train1 = pd.read_table('train.tsv')\n",
        "valid = pd.read_table('validation.tsv')\n",
        "test = pd.read_table('test.tsv')"
      ]
    },
    {
      "cell_type": "code",
      "execution_count": null,
      "metadata": {
        "colab": {
          "base_uri": "https://localhost:8080/",
          "height": 423
        },
        "id": "GFIiuCnOV-sz",
        "outputId": "0e6d3638-e0c2-4437-d144-bde18d65c717"
      },
      "outputs": [
        {
          "output_type": "execute_result",
          "data": {
            "text/plain": [
              "                 id                                              Tweet  \\\n",
              "0           3054935  @realDonaldTrump It's too dangerous to hold th...   \n",
              "1            453444  If masks are so important why is the public no...   \n",
              "2            211600  But if schools close who is gonna occupy those...   \n",
              "3           3049718  @GavinNewsom be the Governor I thought you wer...   \n",
              "4     5039679580998  @BBCNews 1. You are reporting 78% uptake on ma...   \n",
              "...             ...                                                ...   \n",
              "3551         333323  @BremainInSpain #lockdown is a #lifechoice for...   \n",
              "3552         910360  The next fucking asshole that tells me there i...   \n",
              "3553         769878  Learning should be constant...then . Why not i...   \n",
              "3554         648731  Every lockdown has had One Common Clause “Esse...   \n",
              "3555         245949  @DrZweliMkhize Don’t teachers and learners fal...   \n",
              "\n",
              "                    Claim   Stance  Premise  \n",
              "0         school closures    FAVOR        1  \n",
              "1              face masks  AGAINST        1  \n",
              "2         school closures    FAVOR        1  \n",
              "3     stay at home orders    FAVOR        1  \n",
              "4              face masks    FAVOR        1  \n",
              "...                   ...      ...      ...  \n",
              "3551  stay at home orders    FAVOR        1  \n",
              "3552      school closures    FAVOR        1  \n",
              "3553      school closures    FAVOR        1  \n",
              "3554      school closures  AGAINST        1  \n",
              "3555      school closures    FAVOR        1  \n",
              "\n",
              "[3556 rows x 5 columns]"
            ],
            "text/html": [
              "\n",
              "  <div id=\"df-d600cf9d-3122-42a4-8f83-d56f2f7dd307\">\n",
              "    <div class=\"colab-df-container\">\n",
              "      <div>\n",
              "<style scoped>\n",
              "    .dataframe tbody tr th:only-of-type {\n",
              "        vertical-align: middle;\n",
              "    }\n",
              "\n",
              "    .dataframe tbody tr th {\n",
              "        vertical-align: top;\n",
              "    }\n",
              "\n",
              "    .dataframe thead th {\n",
              "        text-align: right;\n",
              "    }\n",
              "</style>\n",
              "<table border=\"1\" class=\"dataframe\">\n",
              "  <thead>\n",
              "    <tr style=\"text-align: right;\">\n",
              "      <th></th>\n",
              "      <th>id</th>\n",
              "      <th>Tweet</th>\n",
              "      <th>Claim</th>\n",
              "      <th>Stance</th>\n",
              "      <th>Premise</th>\n",
              "    </tr>\n",
              "  </thead>\n",
              "  <tbody>\n",
              "    <tr>\n",
              "      <th>0</th>\n",
              "      <td>3054935</td>\n",
              "      <td>@realDonaldTrump It's too dangerous to hold th...</td>\n",
              "      <td>school closures</td>\n",
              "      <td>FAVOR</td>\n",
              "      <td>1</td>\n",
              "    </tr>\n",
              "    <tr>\n",
              "      <th>1</th>\n",
              "      <td>453444</td>\n",
              "      <td>If masks are so important why is the public no...</td>\n",
              "      <td>face masks</td>\n",
              "      <td>AGAINST</td>\n",
              "      <td>1</td>\n",
              "    </tr>\n",
              "    <tr>\n",
              "      <th>2</th>\n",
              "      <td>211600</td>\n",
              "      <td>But if schools close who is gonna occupy those...</td>\n",
              "      <td>school closures</td>\n",
              "      <td>FAVOR</td>\n",
              "      <td>1</td>\n",
              "    </tr>\n",
              "    <tr>\n",
              "      <th>3</th>\n",
              "      <td>3049718</td>\n",
              "      <td>@GavinNewsom be the Governor I thought you wer...</td>\n",
              "      <td>stay at home orders</td>\n",
              "      <td>FAVOR</td>\n",
              "      <td>1</td>\n",
              "    </tr>\n",
              "    <tr>\n",
              "      <th>4</th>\n",
              "      <td>5039679580998</td>\n",
              "      <td>@BBCNews 1. You are reporting 78% uptake on ma...</td>\n",
              "      <td>face masks</td>\n",
              "      <td>FAVOR</td>\n",
              "      <td>1</td>\n",
              "    </tr>\n",
              "    <tr>\n",
              "      <th>...</th>\n",
              "      <td>...</td>\n",
              "      <td>...</td>\n",
              "      <td>...</td>\n",
              "      <td>...</td>\n",
              "      <td>...</td>\n",
              "    </tr>\n",
              "    <tr>\n",
              "      <th>3551</th>\n",
              "      <td>333323</td>\n",
              "      <td>@BremainInSpain #lockdown is a #lifechoice for...</td>\n",
              "      <td>stay at home orders</td>\n",
              "      <td>FAVOR</td>\n",
              "      <td>1</td>\n",
              "    </tr>\n",
              "    <tr>\n",
              "      <th>3552</th>\n",
              "      <td>910360</td>\n",
              "      <td>The next fucking asshole that tells me there i...</td>\n",
              "      <td>school closures</td>\n",
              "      <td>FAVOR</td>\n",
              "      <td>1</td>\n",
              "    </tr>\n",
              "    <tr>\n",
              "      <th>3553</th>\n",
              "      <td>769878</td>\n",
              "      <td>Learning should be constant...then . Why not i...</td>\n",
              "      <td>school closures</td>\n",
              "      <td>FAVOR</td>\n",
              "      <td>1</td>\n",
              "    </tr>\n",
              "    <tr>\n",
              "      <th>3554</th>\n",
              "      <td>648731</td>\n",
              "      <td>Every lockdown has had One Common Clause “Esse...</td>\n",
              "      <td>school closures</td>\n",
              "      <td>AGAINST</td>\n",
              "      <td>1</td>\n",
              "    </tr>\n",
              "    <tr>\n",
              "      <th>3555</th>\n",
              "      <td>245949</td>\n",
              "      <td>@DrZweliMkhize Don’t teachers and learners fal...</td>\n",
              "      <td>school closures</td>\n",
              "      <td>FAVOR</td>\n",
              "      <td>1</td>\n",
              "    </tr>\n",
              "  </tbody>\n",
              "</table>\n",
              "<p>3556 rows × 5 columns</p>\n",
              "</div>\n",
              "      <button class=\"colab-df-convert\" onclick=\"convertToInteractive('df-d600cf9d-3122-42a4-8f83-d56f2f7dd307')\"\n",
              "              title=\"Convert this dataframe to an interactive table.\"\n",
              "              style=\"display:none;\">\n",
              "        \n",
              "  <svg xmlns=\"http://www.w3.org/2000/svg\" height=\"24px\"viewBox=\"0 0 24 24\"\n",
              "       width=\"24px\">\n",
              "    <path d=\"M0 0h24v24H0V0z\" fill=\"none\"/>\n",
              "    <path d=\"M18.56 5.44l.94 2.06.94-2.06 2.06-.94-2.06-.94-.94-2.06-.94 2.06-2.06.94zm-11 1L8.5 8.5l.94-2.06 2.06-.94-2.06-.94L8.5 2.5l-.94 2.06-2.06.94zm10 10l.94 2.06.94-2.06 2.06-.94-2.06-.94-.94-2.06-.94 2.06-2.06.94z\"/><path d=\"M17.41 7.96l-1.37-1.37c-.4-.4-.92-.59-1.43-.59-.52 0-1.04.2-1.43.59L10.3 9.45l-7.72 7.72c-.78.78-.78 2.05 0 2.83L4 21.41c.39.39.9.59 1.41.59.51 0 1.02-.2 1.41-.59l7.78-7.78 2.81-2.81c.8-.78.8-2.07 0-2.86zM5.41 20L4 18.59l7.72-7.72 1.47 1.35L5.41 20z\"/>\n",
              "  </svg>\n",
              "      </button>\n",
              "      \n",
              "  <style>\n",
              "    .colab-df-container {\n",
              "      display:flex;\n",
              "      flex-wrap:wrap;\n",
              "      gap: 12px;\n",
              "    }\n",
              "\n",
              "    .colab-df-convert {\n",
              "      background-color: #E8F0FE;\n",
              "      border: none;\n",
              "      border-radius: 50%;\n",
              "      cursor: pointer;\n",
              "      display: none;\n",
              "      fill: #1967D2;\n",
              "      height: 32px;\n",
              "      padding: 0 0 0 0;\n",
              "      width: 32px;\n",
              "    }\n",
              "\n",
              "    .colab-df-convert:hover {\n",
              "      background-color: #E2EBFA;\n",
              "      box-shadow: 0px 1px 2px rgba(60, 64, 67, 0.3), 0px 1px 3px 1px rgba(60, 64, 67, 0.15);\n",
              "      fill: #174EA6;\n",
              "    }\n",
              "\n",
              "    [theme=dark] .colab-df-convert {\n",
              "      background-color: #3B4455;\n",
              "      fill: #D2E3FC;\n",
              "    }\n",
              "\n",
              "    [theme=dark] .colab-df-convert:hover {\n",
              "      background-color: #434B5C;\n",
              "      box-shadow: 0px 1px 3px 1px rgba(0, 0, 0, 0.15);\n",
              "      filter: drop-shadow(0px 1px 2px rgba(0, 0, 0, 0.3));\n",
              "      fill: #FFFFFF;\n",
              "    }\n",
              "  </style>\n",
              "\n",
              "      <script>\n",
              "        const buttonEl =\n",
              "          document.querySelector('#df-d600cf9d-3122-42a4-8f83-d56f2f7dd307 button.colab-df-convert');\n",
              "        buttonEl.style.display =\n",
              "          google.colab.kernel.accessAllowed ? 'block' : 'none';\n",
              "\n",
              "        async function convertToInteractive(key) {\n",
              "          const element = document.querySelector('#df-d600cf9d-3122-42a4-8f83-d56f2f7dd307');\n",
              "          const dataTable =\n",
              "            await google.colab.kernel.invokeFunction('convertToInteractive',\n",
              "                                                     [key], {});\n",
              "          if (!dataTable) return;\n",
              "\n",
              "          const docLinkHtml = 'Like what you see? Visit the ' +\n",
              "            '<a target=\"_blank\" href=https://colab.research.google.com/notebooks/data_table.ipynb>data table notebook</a>'\n",
              "            + ' to learn more about interactive tables.';\n",
              "          element.innerHTML = '';\n",
              "          dataTable['output_type'] = 'display_data';\n",
              "          await google.colab.output.renderOutput(dataTable, element);\n",
              "          const docLink = document.createElement('div');\n",
              "          docLink.innerHTML = docLinkHtml;\n",
              "          element.appendChild(docLink);\n",
              "        }\n",
              "      </script>\n",
              "    </div>\n",
              "  </div>\n",
              "  "
            ]
          },
          "metadata": {},
          "execution_count": 14
        }
      ],
      "source": [
        "train1"
      ]
    },
    {
      "cell_type": "code",
      "execution_count": null,
      "metadata": {
        "colab": {
          "base_uri": "https://localhost:8080/",
          "height": 423
        },
        "id": "4Tv4pAZrtTtN",
        "outputId": "59826fb8-967d-422d-a198-a86bb3da48c6"
      },
      "outputs": [
        {
          "output_type": "execute_result",
          "data": {
            "text/plain": [
              "                id                                              Tweet  \\\n",
              "0    7212131785749  Ordered a mask that had a cute chain attached ...   \n",
              "1       2367433035  Who is ready for some #baseball?  #BaseballisB...   \n",
              "2           496011  @Mystere07623203 @va_shiva @Liberty13046 130,0...   \n",
              "3          1490686  When they ask me what I did with my life I wil...   \n",
              "4          1209366  Taylor not putting her album in physical store...   \n",
              "..             ...                                                ...   \n",
              "595        2949472  @BrianKempGA is one of the few #Governors that...   \n",
              "596         208269  I tested positive for Covid. Got it from a fri...   \n",
              "597        2316008  If you are under retirement age, you have a *m...   \n",
              "598         659269  @TheLalasventure @doqholliday @realDonaldTrump...   \n",
              "599        1940282  @Caissie Obviously I was simply practicing my ...   \n",
              "\n",
              "                   Claim   Stance  Premise  \n",
              "0             face masks    FAVOR        0  \n",
              "1    stay at home orders     NONE        0  \n",
              "2             face masks    FAVOR        1  \n",
              "3             face masks    FAVOR        0  \n",
              "4    stay at home orders    FAVOR        0  \n",
              "..                   ...      ...      ...  \n",
              "595           face masks  AGAINST        1  \n",
              "596           face masks    FAVOR        1  \n",
              "597  stay at home orders  AGAINST        1  \n",
              "598           face masks    FAVOR        0  \n",
              "599           face masks    FAVOR        0  \n",
              "\n",
              "[600 rows x 5 columns]"
            ],
            "text/html": [
              "\n",
              "  <div id=\"df-9002554a-a3a9-46b9-aeb3-053922795eb7\">\n",
              "    <div class=\"colab-df-container\">\n",
              "      <div>\n",
              "<style scoped>\n",
              "    .dataframe tbody tr th:only-of-type {\n",
              "        vertical-align: middle;\n",
              "    }\n",
              "\n",
              "    .dataframe tbody tr th {\n",
              "        vertical-align: top;\n",
              "    }\n",
              "\n",
              "    .dataframe thead th {\n",
              "        text-align: right;\n",
              "    }\n",
              "</style>\n",
              "<table border=\"1\" class=\"dataframe\">\n",
              "  <thead>\n",
              "    <tr style=\"text-align: right;\">\n",
              "      <th></th>\n",
              "      <th>id</th>\n",
              "      <th>Tweet</th>\n",
              "      <th>Claim</th>\n",
              "      <th>Stance</th>\n",
              "      <th>Premise</th>\n",
              "    </tr>\n",
              "  </thead>\n",
              "  <tbody>\n",
              "    <tr>\n",
              "      <th>0</th>\n",
              "      <td>7212131785749</td>\n",
              "      <td>Ordered a mask that had a cute chain attached ...</td>\n",
              "      <td>face masks</td>\n",
              "      <td>FAVOR</td>\n",
              "      <td>0</td>\n",
              "    </tr>\n",
              "    <tr>\n",
              "      <th>1</th>\n",
              "      <td>2367433035</td>\n",
              "      <td>Who is ready for some #baseball?  #BaseballisB...</td>\n",
              "      <td>stay at home orders</td>\n",
              "      <td>NONE</td>\n",
              "      <td>0</td>\n",
              "    </tr>\n",
              "    <tr>\n",
              "      <th>2</th>\n",
              "      <td>496011</td>\n",
              "      <td>@Mystere07623203 @va_shiva @Liberty13046 130,0...</td>\n",
              "      <td>face masks</td>\n",
              "      <td>FAVOR</td>\n",
              "      <td>1</td>\n",
              "    </tr>\n",
              "    <tr>\n",
              "      <th>3</th>\n",
              "      <td>1490686</td>\n",
              "      <td>When they ask me what I did with my life I wil...</td>\n",
              "      <td>face masks</td>\n",
              "      <td>FAVOR</td>\n",
              "      <td>0</td>\n",
              "    </tr>\n",
              "    <tr>\n",
              "      <th>4</th>\n",
              "      <td>1209366</td>\n",
              "      <td>Taylor not putting her album in physical store...</td>\n",
              "      <td>stay at home orders</td>\n",
              "      <td>FAVOR</td>\n",
              "      <td>0</td>\n",
              "    </tr>\n",
              "    <tr>\n",
              "      <th>...</th>\n",
              "      <td>...</td>\n",
              "      <td>...</td>\n",
              "      <td>...</td>\n",
              "      <td>...</td>\n",
              "      <td>...</td>\n",
              "    </tr>\n",
              "    <tr>\n",
              "      <th>595</th>\n",
              "      <td>2949472</td>\n",
              "      <td>@BrianKempGA is one of the few #Governors that...</td>\n",
              "      <td>face masks</td>\n",
              "      <td>AGAINST</td>\n",
              "      <td>1</td>\n",
              "    </tr>\n",
              "    <tr>\n",
              "      <th>596</th>\n",
              "      <td>208269</td>\n",
              "      <td>I tested positive for Covid. Got it from a fri...</td>\n",
              "      <td>face masks</td>\n",
              "      <td>FAVOR</td>\n",
              "      <td>1</td>\n",
              "    </tr>\n",
              "    <tr>\n",
              "      <th>597</th>\n",
              "      <td>2316008</td>\n",
              "      <td>If you are under retirement age, you have a *m...</td>\n",
              "      <td>stay at home orders</td>\n",
              "      <td>AGAINST</td>\n",
              "      <td>1</td>\n",
              "    </tr>\n",
              "    <tr>\n",
              "      <th>598</th>\n",
              "      <td>659269</td>\n",
              "      <td>@TheLalasventure @doqholliday @realDonaldTrump...</td>\n",
              "      <td>face masks</td>\n",
              "      <td>FAVOR</td>\n",
              "      <td>0</td>\n",
              "    </tr>\n",
              "    <tr>\n",
              "      <th>599</th>\n",
              "      <td>1940282</td>\n",
              "      <td>@Caissie Obviously I was simply practicing my ...</td>\n",
              "      <td>face masks</td>\n",
              "      <td>FAVOR</td>\n",
              "      <td>0</td>\n",
              "    </tr>\n",
              "  </tbody>\n",
              "</table>\n",
              "<p>600 rows × 5 columns</p>\n",
              "</div>\n",
              "      <button class=\"colab-df-convert\" onclick=\"convertToInteractive('df-9002554a-a3a9-46b9-aeb3-053922795eb7')\"\n",
              "              title=\"Convert this dataframe to an interactive table.\"\n",
              "              style=\"display:none;\">\n",
              "        \n",
              "  <svg xmlns=\"http://www.w3.org/2000/svg\" height=\"24px\"viewBox=\"0 0 24 24\"\n",
              "       width=\"24px\">\n",
              "    <path d=\"M0 0h24v24H0V0z\" fill=\"none\"/>\n",
              "    <path d=\"M18.56 5.44l.94 2.06.94-2.06 2.06-.94-2.06-.94-.94-2.06-.94 2.06-2.06.94zm-11 1L8.5 8.5l.94-2.06 2.06-.94-2.06-.94L8.5 2.5l-.94 2.06-2.06.94zm10 10l.94 2.06.94-2.06 2.06-.94-2.06-.94-.94-2.06-.94 2.06-2.06.94z\"/><path d=\"M17.41 7.96l-1.37-1.37c-.4-.4-.92-.59-1.43-.59-.52 0-1.04.2-1.43.59L10.3 9.45l-7.72 7.72c-.78.78-.78 2.05 0 2.83L4 21.41c.39.39.9.59 1.41.59.51 0 1.02-.2 1.41-.59l7.78-7.78 2.81-2.81c.8-.78.8-2.07 0-2.86zM5.41 20L4 18.59l7.72-7.72 1.47 1.35L5.41 20z\"/>\n",
              "  </svg>\n",
              "      </button>\n",
              "      \n",
              "  <style>\n",
              "    .colab-df-container {\n",
              "      display:flex;\n",
              "      flex-wrap:wrap;\n",
              "      gap: 12px;\n",
              "    }\n",
              "\n",
              "    .colab-df-convert {\n",
              "      background-color: #E8F0FE;\n",
              "      border: none;\n",
              "      border-radius: 50%;\n",
              "      cursor: pointer;\n",
              "      display: none;\n",
              "      fill: #1967D2;\n",
              "      height: 32px;\n",
              "      padding: 0 0 0 0;\n",
              "      width: 32px;\n",
              "    }\n",
              "\n",
              "    .colab-df-convert:hover {\n",
              "      background-color: #E2EBFA;\n",
              "      box-shadow: 0px 1px 2px rgba(60, 64, 67, 0.3), 0px 1px 3px 1px rgba(60, 64, 67, 0.15);\n",
              "      fill: #174EA6;\n",
              "    }\n",
              "\n",
              "    [theme=dark] .colab-df-convert {\n",
              "      background-color: #3B4455;\n",
              "      fill: #D2E3FC;\n",
              "    }\n",
              "\n",
              "    [theme=dark] .colab-df-convert:hover {\n",
              "      background-color: #434B5C;\n",
              "      box-shadow: 0px 1px 3px 1px rgba(0, 0, 0, 0.15);\n",
              "      filter: drop-shadow(0px 1px 2px rgba(0, 0, 0, 0.3));\n",
              "      fill: #FFFFFF;\n",
              "    }\n",
              "  </style>\n",
              "\n",
              "      <script>\n",
              "        const buttonEl =\n",
              "          document.querySelector('#df-9002554a-a3a9-46b9-aeb3-053922795eb7 button.colab-df-convert');\n",
              "        buttonEl.style.display =\n",
              "          google.colab.kernel.accessAllowed ? 'block' : 'none';\n",
              "\n",
              "        async function convertToInteractive(key) {\n",
              "          const element = document.querySelector('#df-9002554a-a3a9-46b9-aeb3-053922795eb7');\n",
              "          const dataTable =\n",
              "            await google.colab.kernel.invokeFunction('convertToInteractive',\n",
              "                                                     [key], {});\n",
              "          if (!dataTable) return;\n",
              "\n",
              "          const docLinkHtml = 'Like what you see? Visit the ' +\n",
              "            '<a target=\"_blank\" href=https://colab.research.google.com/notebooks/data_table.ipynb>data table notebook</a>'\n",
              "            + ' to learn more about interactive tables.';\n",
              "          element.innerHTML = '';\n",
              "          dataTable['output_type'] = 'display_data';\n",
              "          await google.colab.output.renderOutput(dataTable, element);\n",
              "          const docLink = document.createElement('div');\n",
              "          docLink.innerHTML = docLinkHtml;\n",
              "          element.appendChild(docLink);\n",
              "        }\n",
              "      </script>\n",
              "    </div>\n",
              "  </div>\n",
              "  "
            ]
          },
          "metadata": {},
          "execution_count": 15
        }
      ],
      "source": [
        "valid"
      ]
    },
    {
      "cell_type": "code",
      "execution_count": null,
      "metadata": {
        "id": "nis5GV7RWBB6"
      },
      "outputs": [],
      "source": [
        "train1['Stance'] = train1['Stance'].values.astype('U')\n",
        "train1['Tweet'] = train1['Tweet'].values.astype('U')\n",
        "valid['Stance'] = valid['Stance'].values.astype('U')\n",
        "valid['Tweet'] = valid['Tweet'].values.astype('U')\n",
        "test['Tweet'] = test['text'].values.astype('U')\n"
      ]
    },
    {
      "cell_type": "code",
      "execution_count": null,
      "metadata": {
        "id": "DN0KiicRxPiF"
      },
      "outputs": [],
      "source": [
        "del test['text']"
      ]
    },
    {
      "cell_type": "code",
      "execution_count": null,
      "metadata": {
        "colab": {
          "base_uri": "https://localhost:8080/",
          "height": 423
        },
        "id": "NtSKBtXbxPiF",
        "outputId": "cc80d59f-ba5c-4fae-81f3-90ca00b855a9"
      },
      "outputs": [
        {
          "output_type": "execute_result",
          "data": {
            "text/plain": [
              "                       id                claim  \\\n",
              "0     1307558525371965442      school closures   \n",
              "1     1247739239879467009  stay at home orders   \n",
              "2     1242046510155653125  stay at home orders   \n",
              "3     1358446499949084675      school closures   \n",
              "4     1249740062775902208  stay at home orders   \n",
              "...                   ...                  ...   \n",
              "9950  1242516037628813314  stay at home orders   \n",
              "9951  1242746919933415424  stay at home orders   \n",
              "9952  1276638598813679617  stay at home orders   \n",
              "9953  1243504288661270528  stay at home orders   \n",
              "9954  1237875841981247488      school closures   \n",
              "\n",
              "                                                  Tweet  \n",
              "0     @narendramodi @rajnathsingh Student ka bhi soa...  \n",
              "1     —échale un vistazo a esto…   … a fair piece on...  \n",
              "2     Why do think skilling women and girls is impor...  \n",
              "3     To reduce the risk of the virus spreading as e...  \n",
              "4     I speak for a great many people when i say WE ...  \n",
              "...                                                 ...  \n",
              "9950  StayAtHomeSaveLives 21daysLockdown StayAtHome ...  \n",
              "9951  If this is true this is heartbreaking StayAtHo...  \n",
              "9952  855 Sunset Cove Dr, Winter Haven, FL 33880 3 B...  \n",
              "9953  StayAtHomeSaveLives StayHomeStaySafe StayHome ...  \n",
              "9954  We’re on track to be like Italy is now. Time t...  \n",
              "\n",
              "[9955 rows x 3 columns]"
            ],
            "text/html": [
              "\n",
              "  <div id=\"df-bfb68d76-df0e-4e9c-abd2-a4aff9517d52\">\n",
              "    <div class=\"colab-df-container\">\n",
              "      <div>\n",
              "<style scoped>\n",
              "    .dataframe tbody tr th:only-of-type {\n",
              "        vertical-align: middle;\n",
              "    }\n",
              "\n",
              "    .dataframe tbody tr th {\n",
              "        vertical-align: top;\n",
              "    }\n",
              "\n",
              "    .dataframe thead th {\n",
              "        text-align: right;\n",
              "    }\n",
              "</style>\n",
              "<table border=\"1\" class=\"dataframe\">\n",
              "  <thead>\n",
              "    <tr style=\"text-align: right;\">\n",
              "      <th></th>\n",
              "      <th>id</th>\n",
              "      <th>claim</th>\n",
              "      <th>Tweet</th>\n",
              "    </tr>\n",
              "  </thead>\n",
              "  <tbody>\n",
              "    <tr>\n",
              "      <th>0</th>\n",
              "      <td>1307558525371965442</td>\n",
              "      <td>school closures</td>\n",
              "      <td>@narendramodi @rajnathsingh Student ka bhi soa...</td>\n",
              "    </tr>\n",
              "    <tr>\n",
              "      <th>1</th>\n",
              "      <td>1247739239879467009</td>\n",
              "      <td>stay at home orders</td>\n",
              "      <td>—échale un vistazo a esto…   … a fair piece on...</td>\n",
              "    </tr>\n",
              "    <tr>\n",
              "      <th>2</th>\n",
              "      <td>1242046510155653125</td>\n",
              "      <td>stay at home orders</td>\n",
              "      <td>Why do think skilling women and girls is impor...</td>\n",
              "    </tr>\n",
              "    <tr>\n",
              "      <th>3</th>\n",
              "      <td>1358446499949084675</td>\n",
              "      <td>school closures</td>\n",
              "      <td>To reduce the risk of the virus spreading as e...</td>\n",
              "    </tr>\n",
              "    <tr>\n",
              "      <th>4</th>\n",
              "      <td>1249740062775902208</td>\n",
              "      <td>stay at home orders</td>\n",
              "      <td>I speak for a great many people when i say WE ...</td>\n",
              "    </tr>\n",
              "    <tr>\n",
              "      <th>...</th>\n",
              "      <td>...</td>\n",
              "      <td>...</td>\n",
              "      <td>...</td>\n",
              "    </tr>\n",
              "    <tr>\n",
              "      <th>9950</th>\n",
              "      <td>1242516037628813314</td>\n",
              "      <td>stay at home orders</td>\n",
              "      <td>StayAtHomeSaveLives 21daysLockdown StayAtHome ...</td>\n",
              "    </tr>\n",
              "    <tr>\n",
              "      <th>9951</th>\n",
              "      <td>1242746919933415424</td>\n",
              "      <td>stay at home orders</td>\n",
              "      <td>If this is true this is heartbreaking StayAtHo...</td>\n",
              "    </tr>\n",
              "    <tr>\n",
              "      <th>9952</th>\n",
              "      <td>1276638598813679617</td>\n",
              "      <td>stay at home orders</td>\n",
              "      <td>855 Sunset Cove Dr, Winter Haven, FL 33880 3 B...</td>\n",
              "    </tr>\n",
              "    <tr>\n",
              "      <th>9953</th>\n",
              "      <td>1243504288661270528</td>\n",
              "      <td>stay at home orders</td>\n",
              "      <td>StayAtHomeSaveLives StayHomeStaySafe StayHome ...</td>\n",
              "    </tr>\n",
              "    <tr>\n",
              "      <th>9954</th>\n",
              "      <td>1237875841981247488</td>\n",
              "      <td>school closures</td>\n",
              "      <td>We’re on track to be like Italy is now. Time t...</td>\n",
              "    </tr>\n",
              "  </tbody>\n",
              "</table>\n",
              "<p>9955 rows × 3 columns</p>\n",
              "</div>\n",
              "      <button class=\"colab-df-convert\" onclick=\"convertToInteractive('df-bfb68d76-df0e-4e9c-abd2-a4aff9517d52')\"\n",
              "              title=\"Convert this dataframe to an interactive table.\"\n",
              "              style=\"display:none;\">\n",
              "        \n",
              "  <svg xmlns=\"http://www.w3.org/2000/svg\" height=\"24px\"viewBox=\"0 0 24 24\"\n",
              "       width=\"24px\">\n",
              "    <path d=\"M0 0h24v24H0V0z\" fill=\"none\"/>\n",
              "    <path d=\"M18.56 5.44l.94 2.06.94-2.06 2.06-.94-2.06-.94-.94-2.06-.94 2.06-2.06.94zm-11 1L8.5 8.5l.94-2.06 2.06-.94-2.06-.94L8.5 2.5l-.94 2.06-2.06.94zm10 10l.94 2.06.94-2.06 2.06-.94-2.06-.94-.94-2.06-.94 2.06-2.06.94z\"/><path d=\"M17.41 7.96l-1.37-1.37c-.4-.4-.92-.59-1.43-.59-.52 0-1.04.2-1.43.59L10.3 9.45l-7.72 7.72c-.78.78-.78 2.05 0 2.83L4 21.41c.39.39.9.59 1.41.59.51 0 1.02-.2 1.41-.59l7.78-7.78 2.81-2.81c.8-.78.8-2.07 0-2.86zM5.41 20L4 18.59l7.72-7.72 1.47 1.35L5.41 20z\"/>\n",
              "  </svg>\n",
              "      </button>\n",
              "      \n",
              "  <style>\n",
              "    .colab-df-container {\n",
              "      display:flex;\n",
              "      flex-wrap:wrap;\n",
              "      gap: 12px;\n",
              "    }\n",
              "\n",
              "    .colab-df-convert {\n",
              "      background-color: #E8F0FE;\n",
              "      border: none;\n",
              "      border-radius: 50%;\n",
              "      cursor: pointer;\n",
              "      display: none;\n",
              "      fill: #1967D2;\n",
              "      height: 32px;\n",
              "      padding: 0 0 0 0;\n",
              "      width: 32px;\n",
              "    }\n",
              "\n",
              "    .colab-df-convert:hover {\n",
              "      background-color: #E2EBFA;\n",
              "      box-shadow: 0px 1px 2px rgba(60, 64, 67, 0.3), 0px 1px 3px 1px rgba(60, 64, 67, 0.15);\n",
              "      fill: #174EA6;\n",
              "    }\n",
              "\n",
              "    [theme=dark] .colab-df-convert {\n",
              "      background-color: #3B4455;\n",
              "      fill: #D2E3FC;\n",
              "    }\n",
              "\n",
              "    [theme=dark] .colab-df-convert:hover {\n",
              "      background-color: #434B5C;\n",
              "      box-shadow: 0px 1px 3px 1px rgba(0, 0, 0, 0.15);\n",
              "      filter: drop-shadow(0px 1px 2px rgba(0, 0, 0, 0.3));\n",
              "      fill: #FFFFFF;\n",
              "    }\n",
              "  </style>\n",
              "\n",
              "      <script>\n",
              "        const buttonEl =\n",
              "          document.querySelector('#df-bfb68d76-df0e-4e9c-abd2-a4aff9517d52 button.colab-df-convert');\n",
              "        buttonEl.style.display =\n",
              "          google.colab.kernel.accessAllowed ? 'block' : 'none';\n",
              "\n",
              "        async function convertToInteractive(key) {\n",
              "          const element = document.querySelector('#df-bfb68d76-df0e-4e9c-abd2-a4aff9517d52');\n",
              "          const dataTable =\n",
              "            await google.colab.kernel.invokeFunction('convertToInteractive',\n",
              "                                                     [key], {});\n",
              "          if (!dataTable) return;\n",
              "\n",
              "          const docLinkHtml = 'Like what you see? Visit the ' +\n",
              "            '<a target=\"_blank\" href=https://colab.research.google.com/notebooks/data_table.ipynb>data table notebook</a>'\n",
              "            + ' to learn more about interactive tables.';\n",
              "          element.innerHTML = '';\n",
              "          dataTable['output_type'] = 'display_data';\n",
              "          await google.colab.output.renderOutput(dataTable, element);\n",
              "          const docLink = document.createElement('div');\n",
              "          docLink.innerHTML = docLinkHtml;\n",
              "          element.appendChild(docLink);\n",
              "        }\n",
              "      </script>\n",
              "    </div>\n",
              "  </div>\n",
              "  "
            ]
          },
          "metadata": {},
          "execution_count": 18
        }
      ],
      "source": [
        "test"
      ]
    },
    {
      "cell_type": "code",
      "execution_count": null,
      "metadata": {
        "id": "41hd_40SXWDK"
      },
      "outputs": [],
      "source": [
        "#IMP DATA FOR CONFIG\n",
        "\n",
        "AUTO = tf.data.experimental.AUTOTUNE\n",
        "BATCH_SIZE = 16 * strategy.num_replicas_in_sync"
      ]
    },
    {
      "cell_type": "code",
      "execution_count": null,
      "metadata": {
        "id": "ZOHPxvVZ7d7b"
      },
      "outputs": [],
      "source": [
        "from numpy import array\n",
        "from numpy import argmax\n",
        "from sklearn.preprocessing import LabelEncoder\n",
        "from sklearn.preprocessing import OneHotEncoder"
      ]
    },
    {
      "cell_type": "code",
      "execution_count": null,
      "metadata": {
        "id": "qqRg185s-FL-"
      },
      "outputs": [],
      "source": [
        "train_list = train1['Tweet'].tolist()\n",
        "valid_list = valid['Tweet'].tolist()\n",
        "test_list = test['Tweet'].tolist()"
      ]
    },
    {
      "cell_type": "code",
      "execution_count": null,
      "metadata": {
        "id": "yRmvnE27-H6d"
      },
      "outputs": [],
      "source": [
        "data = train_list+valid_list+test_list"
      ]
    },
    {
      "cell_type": "code",
      "execution_count": null,
      "metadata": {
        "id": "ZARzQwsQMRvQ"
      },
      "outputs": [],
      "source": [
        "import re\n",
        "\n",
        "def remove_punctuation(sent):\n",
        "  new_string = re.sub(r'[^\\w\\s]', '', sent)\n",
        "  return new_string"
      ]
    },
    {
      "cell_type": "code",
      "execution_count": null,
      "metadata": {
        "id": "FH0kskBoMIWv"
      },
      "outputs": [],
      "source": [
        "data1 = []\n",
        "for i in range(len(data)):\n",
        "  new_string = remove_punctuation(data[i])\n",
        "  data1.append(new_string)"
      ]
    },
    {
      "cell_type": "code",
      "execution_count": null,
      "metadata": {
        "colab": {
          "base_uri": "https://localhost:8080/",
          "height": 35
        },
        "id": "cJylyVjxNIe6",
        "outputId": "ab071030-5a9d-4ff8-8392-a1e51bb464cb"
      },
      "outputs": [
        {
          "output_type": "execute_result",
          "data": {
            "text/plain": [
              "\"@realDonaldTrump It's too dangerous to hold the RNC, but let's send students and teachers back to school  #TrumpLiesAmericansDie\""
            ],
            "application/vnd.google.colaboratory.intrinsic+json": {
              "type": "string"
            }
          },
          "metadata": {},
          "execution_count": 25
        }
      ],
      "source": [
        "data[0]"
      ]
    },
    {
      "cell_type": "code",
      "execution_count": null,
      "metadata": {
        "colab": {
          "base_uri": "https://localhost:8080/",
          "height": 35
        },
        "id": "mngBTNeKNA_3",
        "outputId": "b2f16d87-3701-497d-cb2d-4ab8aca9cdfd"
      },
      "outputs": [
        {
          "output_type": "execute_result",
          "data": {
            "text/plain": [
              "'realDonaldTrump Its too dangerous to hold the RNC but lets send students and teachers back to school  TrumpLiesAmericansDie'"
            ],
            "application/vnd.google.colaboratory.intrinsic+json": {
              "type": "string"
            }
          },
          "metadata": {},
          "execution_count": 26
        }
      ],
      "source": [
        "data1[0]"
      ]
    },
    {
      "cell_type": "code",
      "execution_count": null,
      "metadata": {
        "id": "-xHSMeb5NW88"
      },
      "outputs": [],
      "source": [
        "data=data1"
      ]
    },
    {
      "cell_type": "code",
      "execution_count": null,
      "metadata": {
        "id": "vlR6qYcZX5dd"
      },
      "outputs": [],
      "source": [
        "from sklearn.metrics import accuracy_score\n",
        "from sklearn.metrics import precision_score\n",
        "from sklearn.metrics import recall_score\n",
        "from sklearn.metrics import f1_score\n",
        "\n",
        "def report(testy,yhat_classes):\n",
        "  # accuracy: (tp + tn) / (p + n)\n",
        "  accuracy = accuracy_score(testy, yhat_classes)\n",
        "  print('Accuracy: %f' % accuracy)\n",
        "  # precision tp / (tp + fp)\n",
        "  precision = precision_score(testy, yhat_classes)\n",
        "  print('Precision: %f' % precision)\n",
        "  # recall: tp / (tp + fn)\n",
        "  recall = recall_score(testy, yhat_classes)\n",
        "  print('Recall: %f' % recall)\n",
        "  # f1: 2 tp / (2 tp + fp + fn)\n",
        "  f1 = f1_score(testy, yhat_classes)\n",
        "  print('F1 score: %f' % f1)"
      ]
    },
    {
      "cell_type": "code",
      "source": [
        "import matplotlib.pyplot as plt\n",
        "\n",
        "def plot_loss_curves(history):\n",
        "  loss = history.history[\"loss\"]\n",
        "  val_loss = history.history[\"val_loss\"]\n",
        "\n",
        "  accuracy = history.history[\"accuracy\"]\n",
        "  val_accuracy = history.history[\"val_accuracy\"]\n",
        "\n",
        "  epochs = range(len(history.history[\"loss\"])) # how many epochs did we run for ?\n",
        "\n",
        "  # Plot loss\n",
        "  plt.plot(epochs, loss, label='training_loss')\n",
        "  plt.plot(epochs, val_loss, label='val_loss')\n",
        "  plt.title('Loss')\n",
        "  plt.xlabel('Epochs')\n",
        "  plt.legend()\n",
        "\n",
        "  # Plot accuracy\n",
        "  plt.figure()\n",
        "  plt.plot(epochs, accuracy, label='training_accuracy')\n",
        "  plt.plot(epochs, val_accuracy, label='val_accuracy')\n",
        "  plt.title('Accuracy')\n",
        "  plt.xlabel('Epochs')\n",
        "  plt.legend();"
      ],
      "metadata": {
        "id": "a3ZdEugeS1EI"
      },
      "execution_count": null,
      "outputs": []
    },
    {
      "cell_type": "markdown",
      "metadata": {
        "id": "rrVwwTWKq0rY"
      },
      "source": [
        "## pubmedbert-uncased"
      ]
    },
    {
      "cell_type": "code",
      "execution_count": null,
      "metadata": {
        "colab": {
          "base_uri": "https://localhost:8080/",
          "height": 252,
          "referenced_widgets": [
            "4cb04cdb03124011981801f42a745a95",
            "64d3ac746b8f4fb49f1c0099f6181f41",
            "20eb849b260b4745969b86849047b1e8",
            "709529ba2eb74a989e7be5179d3347e5",
            "d1c5f592052448a381e8fbb5d3bc1a04",
            "c906b9fb723d4f9d8b9e4d59a40130ae",
            "eb9d2cc7120c4d0dbe853c11502265d0",
            "cbf5b6d6214448d1a32b937c8a6a9bab",
            "423ebe4ed7f04f5692d98d4bfa038d6b",
            "385d43db7a1f427290757d2bd72d3dc3",
            "7db4c0b0825c4c4e81d8418afa4b820d",
            "62259ce9f6554d389daa459ef4f6ba0f",
            "276e011e755a47ec9f5feb9232480abb",
            "35151569b0fc4ed18877241260190502",
            "2e64febee21a432f8ca9b65155bb1ea1",
            "82e292b6da374affa9fc4a36a1dced13",
            "392aea85f8984d4f8a9b17a77fad6672",
            "b220bab59fa048f7b3a5fc94079b8019",
            "84876e60864843c4b4dfefc482c44df9",
            "28b3b8bf99f149118db2c515d9f9ac44",
            "68b1d8033a1148bda9d1dd89864bb2b5",
            "5bab10d58c4e4533807858582046d7a8",
            "a17a0c52492f4024a5d542f5dde55600",
            "47c5d11761444d4393770d7541066b78",
            "ac04745bf17546538ddde8d01de7a63d",
            "6222d2192baf4fffb9e0246e4aece7c8",
            "b3e949a23fe741a4b599002ab0cf1567",
            "3ddf16954f23481a85cfe202bd57af69",
            "5cfd2886ad294a37964bb62025c2fdd9",
            "e4e1d561645342cc85dc17cfdb30d6a7",
            "f381579177094e2b951ab5f8ca6bbf04",
            "4abb129845dc417ab01d60013ffa7fb6",
            "0a3f80df5a0a468599070cf2ae0a1fb9",
            "e68cf2f0a0a04b448900042262fe8a2b",
            "3bb0e610c50a45598cc0951c5e079c0d",
            "c3104e1869eb439b8454f41b2835cdeb",
            "4ebf2b6fba9244179971bd59d62a8646",
            "a6b2c9aed7c24ea2bfda1335165c50e5",
            "562ed9fd8acd4b58857df2805abb8980",
            "45c1a6ea59224321a1f8c5a8f0ba4a4c",
            "0daa5162626943c1820229bc1dc37eef",
            "2d1b8396c05f4532806b30193849ef23",
            "77e5a136f3b84525a50ab951dc77dfee",
            "e34b0100af764a2eb47daac22726317d"
          ]
        },
        "id": "GedTHzqCnVTw",
        "outputId": "d92e12dd-e2b9-4658-97dc-62dbaff86c17"
      },
      "outputs": [
        {
          "output_type": "display_data",
          "data": {
            "text/plain": [
              "Downloading:   0%|          | 0.00/28.0 [00:00<?, ?B/s]"
            ],
            "application/vnd.jupyter.widget-view+json": {
              "version_major": 2,
              "version_minor": 0,
              "model_id": "4cb04cdb03124011981801f42a745a95"
            }
          },
          "metadata": {}
        },
        {
          "output_type": "display_data",
          "data": {
            "text/plain": [
              "Downloading:   0%|          | 0.00/385 [00:00<?, ?B/s]"
            ],
            "application/vnd.jupyter.widget-view+json": {
              "version_major": 2,
              "version_minor": 0,
              "model_id": "62259ce9f6554d389daa459ef4f6ba0f"
            }
          },
          "metadata": {}
        },
        {
          "output_type": "display_data",
          "data": {
            "text/plain": [
              "Downloading:   0%|          | 0.00/220k [00:00<?, ?B/s]"
            ],
            "application/vnd.jupyter.widget-view+json": {
              "version_major": 2,
              "version_minor": 0,
              "model_id": "a17a0c52492f4024a5d542f5dde55600"
            }
          },
          "metadata": {}
        },
        {
          "output_type": "display_data",
          "data": {
            "text/plain": [
              "Downloading:   0%|          | 0.00/420M [00:00<?, ?B/s]"
            ],
            "application/vnd.jupyter.widget-view+json": {
              "version_major": 2,
              "version_minor": 0,
              "model_id": "e68cf2f0a0a04b448900042262fe8a2b"
            }
          },
          "metadata": {}
        },
        {
          "output_type": "stream",
          "name": "stderr",
          "text": [
            "Some weights of the PyTorch model were not used when initializing the TF 2.0 model TFBertModel: ['cls.predictions.transform.LayerNorm.weight', 'cls.predictions.bias', 'cls.seq_relationship.bias', 'cls.seq_relationship.weight', 'cls.predictions.decoder.weight', 'cls.predictions.transform.LayerNorm.bias', 'cls.predictions.transform.dense.bias', 'cls.predictions.decoder.bias', 'cls.predictions.transform.dense.weight']\n",
            "- This IS expected if you are initializing TFBertModel from a PyTorch model trained on another task or with another architecture (e.g. initializing a TFBertForSequenceClassification model from a BertForPreTraining model).\n",
            "- This IS NOT expected if you are initializing TFBertModel from a PyTorch model that you expect to be exactly identical (e.g. initializing a TFBertForSequenceClassification model from a BertForSequenceClassification model).\n",
            "All the weights of TFBertModel were initialized from the PyTorch model.\n",
            "If your task is similar to the task the model of the checkpoint was trained on, you can already use TFBertModel for predictions without further training.\n"
          ]
        }
      ],
      "source": [
        "from transformers import AutoTokenizer, TFAutoModel\n",
        "tokenizer = AutoTokenizer.from_pretrained(\"microsoft/BiomedNLP-PubMedBERT-base-uncased-abstract\", from_pt=True,model_max_length=256)\n",
        "model = TFAutoModel.from_pretrained(\"microsoft/BiomedNLP-PubMedBERT-base-uncased-abstract\", from_pt=True)\n",
        "\n",
        "#tokenizer = BertTokenizer.from_pretrained('scibert_scivocab_cased')\n",
        "#bert_base_model = TFBertModel.from_pretrained(\"scibert_scivocab_cased\")"
      ]
    },
    {
      "cell_type": "code",
      "execution_count": null,
      "metadata": {
        "id": "0CHLb-816R-p"
      },
      "outputs": [],
      "source": [
        "def build_model(transformer, max_len=512):\n",
        "    \"\"\"\n",
        "    function for training the BERT model\n",
        "    \"\"\"\n",
        "    input_word_ids = Input(shape=(max_len,), dtype=tf.int32, name=\"input_word_ids\")\n",
        "    sequence_output = transformer(input_word_ids)[0]\n",
        "    cls_token = sequence_output[:, 0, :]\n",
        "    out = Dense(1, activation='sigmoid')(cls_token)\n",
        "    \n",
        "    model = Model(inputs=input_word_ids, outputs=out)\n",
        "    model.compile(Adam(lr=1e-5), loss='binary_crossentropy', metrics=['accuracy'])\n",
        "    \n",
        "    return model"
      ]
    },
    {
      "cell_type": "code",
      "execution_count": null,
      "metadata": {
        "colab": {
          "base_uri": "https://localhost:8080/"
        },
        "id": "Fyu1apN9tibu",
        "outputId": "9935552a-9785-4282-b9c2-1f6838ac2ec4"
      },
      "outputs": [
        {
          "output_type": "stream",
          "name": "stdout",
          "text": [
            "Model: \"model_3\"\n",
            "_________________________________________________________________\n",
            "Layer (type)                 Output Shape              Param #   \n",
            "=================================================================\n",
            "input_word_ids (InputLayer)  [(None, 256)]             0         \n",
            "_________________________________________________________________\n",
            "tf_bert_model_2 (TFBertModel TFBaseModelOutputWithPool 109482240 \n",
            "_________________________________________________________________\n",
            "tf.__operators__.getitem_3 ( (None, 768)               0         \n",
            "_________________________________________________________________\n",
            "dense_3 (Dense)              (None, 1)                 769       \n",
            "=================================================================\n",
            "Total params: 109,483,009\n",
            "Trainable params: 109,483,009\n",
            "Non-trainable params: 0\n",
            "_________________________________________________________________\n",
            "CPU times: user 2.21 s, sys: 5.58 ms, total: 2.22 s\n",
            "Wall time: 5.37 s\n"
          ]
        },
        {
          "output_type": "stream",
          "name": "stderr",
          "text": [
            "/usr/local/lib/python3.7/dist-packages/tensorflow/python/keras/optimizer_v2/optimizer_v2.py:375: UserWarning: The `lr` argument is deprecated, use `learning_rate` instead.\n",
            "  \"The `lr` argument is deprecated, use `learning_rate` instead.\")\n"
          ]
        }
      ],
      "source": [
        "%%time\n",
        "with strategy.scope():\n",
        "    transformer_layer = (\n",
        "        model\n",
        "    )\n",
        "    model = build_model(transformer_layer, max_len=256)\n",
        "model.summary()"
      ]
    },
    {
      "cell_type": "code",
      "execution_count": null,
      "metadata": {
        "id": "BCptLw4OyJiA"
      },
      "outputs": [],
      "source": [
        "def tokenized_data(tokenizer, data):\n",
        "  list1 = tokenizer(data, truncation=True, padding=True)\n",
        "  return list1"
      ]
    },
    {
      "cell_type": "code",
      "execution_count": null,
      "metadata": {
        "id": "VLfbL2h4s_Kc"
      },
      "outputs": [],
      "source": [
        "data_pubmedbert = tokenized_data(tokenizer, data)\n",
        "data_pubmedbert = array(data_pubmedbert['input_ids'])"
      ]
    },
    {
      "cell_type": "code",
      "execution_count": null,
      "metadata": {
        "id": "v76z3tSzBzIj"
      },
      "outputs": [],
      "source": [
        "x_train_pubmedbert = data_pubmedbert[0:3556]\n",
        "x_valid_pubmedbert = data_pubmedbert[3556:4156]\n",
        "x_test_pubmedbert = data_pubmedbert[4156:]"
      ]
    },
    {
      "cell_type": "code",
      "execution_count": null,
      "metadata": {
        "id": "4HhgwLKtBLio"
      },
      "outputs": [],
      "source": [
        "y_train_pubmedbert = train1.Premise.values\n",
        "y_valid_pubmedbert = valid.Premise.values"
      ]
    },
    {
      "cell_type": "code",
      "execution_count": null,
      "metadata": {
        "id": "9XEo8qw407Mm"
      },
      "outputs": [],
      "source": [
        "train_dataset_pubmedbert = (\n",
        "    tf.data.Dataset\n",
        "    .from_tensor_slices((x_train_pubmedbert, y_train_pubmedbert))\n",
        "    .repeat()\n",
        "    .shuffle(2048)\n",
        "    .batch(BATCH_SIZE)\n",
        "    .prefetch(AUTO)\n",
        ")\n",
        "\n",
        "valid_dataset_pubmedbert = (\n",
        "    tf.data.Dataset\n",
        "    .from_tensor_slices((x_valid_pubmedbert, y_valid_pubmedbert))\n",
        "    .batch(BATCH_SIZE)\n",
        "    .cache()\n",
        "    .prefetch(AUTO)\n",
        ")"
      ]
    },
    {
      "cell_type": "code",
      "execution_count": null,
      "metadata": {
        "colab": {
          "base_uri": "https://localhost:8080/"
        },
        "id": "ZnOkdFqe0jAr",
        "outputId": "8288c026-9f53-405d-c12a-e42c2c026441"
      },
      "outputs": [
        {
          "output_type": "stream",
          "name": "stdout",
          "text": [
            "Epoch 1/4\n",
            "WARNING:tensorflow:Gradients do not exist for variables ['tf_bert_model_3/bert/pooler/dense/kernel:0', 'tf_bert_model_3/bert/pooler/dense/bias:0'] when minimizing the loss.\n"
          ]
        },
        {
          "output_type": "stream",
          "name": "stderr",
          "text": [
            "WARNING:tensorflow:Gradients do not exist for variables ['tf_bert_model_3/bert/pooler/dense/kernel:0', 'tf_bert_model_3/bert/pooler/dense/bias:0'] when minimizing the loss.\n"
          ]
        },
        {
          "output_type": "stream",
          "name": "stdout",
          "text": [
            "WARNING:tensorflow:Gradients do not exist for variables ['tf_bert_model_3/bert/pooler/dense/kernel:0', 'tf_bert_model_3/bert/pooler/dense/bias:0'] when minimizing the loss.\n"
          ]
        },
        {
          "output_type": "stream",
          "name": "stderr",
          "text": [
            "WARNING:tensorflow:Gradients do not exist for variables ['tf_bert_model_3/bert/pooler/dense/kernel:0', 'tf_bert_model_3/bert/pooler/dense/bias:0'] when minimizing the loss.\n"
          ]
        },
        {
          "output_type": "stream",
          "name": "stdout",
          "text": [
            "222/222 [==============================] - 152s 556ms/step - loss: 0.5744 - accuracy: 0.6793 - val_loss: 0.4714 - val_accuracy: 0.7417\n",
            "Epoch 2/4\n",
            "222/222 [==============================] - 120s 542ms/step - loss: 0.4634 - accuracy: 0.7548 - val_loss: 0.4480 - val_accuracy: 0.7733\n",
            "Epoch 3/4\n",
            "222/222 [==============================] - 120s 541ms/step - loss: 0.4112 - accuracy: 0.7970 - val_loss: 0.4424 - val_accuracy: 0.8133\n",
            "Epoch 4/4\n",
            "222/222 [==============================] - 120s 541ms/step - loss: 0.3408 - accuracy: 0.8499 - val_loss: 0.4576 - val_accuracy: 0.7817\n"
          ]
        }
      ],
      "source": [
        "n_steps = x_train_pubmedbert.shape[0] // BATCH_SIZE\n",
        "train_history_pubmedbert = model.fit(\n",
        "    train_dataset_pubmedbert,\n",
        "    steps_per_epoch=n_steps,\n",
        "    validation_data=valid_dataset_pubmedbert,\n",
        "    epochs=4\n",
        ")"
      ]
    },
    {
      "cell_type": "code",
      "execution_count": null,
      "metadata": {
        "colab": {
          "base_uri": "https://localhost:8080/"
        },
        "id": "KjLHNFcD56-D",
        "outputId": "3e5531ec-94b4-4669-d8ac-3ba46822d48e"
      },
      "outputs": [
        {
          "output_type": "stream",
          "name": "stdout",
          "text": [
            "38/38 [==============================] - 12s 189ms/step - loss: 0.4576 - accuracy: 0.7817\n"
          ]
        },
        {
          "output_type": "execute_result",
          "data": {
            "text/plain": [
              "[0.45762455463409424, 0.7816666960716248]"
            ]
          },
          "metadata": {},
          "execution_count": 88
        }
      ],
      "source": [
        "model.evaluate(valid_dataset_pubmedbert)"
      ]
    },
    {
      "cell_type": "code",
      "execution_count": null,
      "metadata": {
        "id": "aQ_v1_cBVhCR"
      },
      "outputs": [],
      "source": [
        "model.save_weights('/content/drive/MyDrive/smm4h/pubmedbert.h5')"
      ]
    },
    {
      "cell_type": "code",
      "source": [
        "plot_loss_curves(train_history_pubmedbert)"
      ],
      "metadata": {
        "colab": {
          "base_uri": "https://localhost:8080/",
          "height": 573
        },
        "id": "L0VtprAtTB1_",
        "outputId": "bf8ca02b-e40a-41c7-a947-34304a6f4d6c"
      },
      "execution_count": null,
      "outputs": [
        {
          "output_type": "display_data",
          "data": {
            "text/plain": [
              "<Figure size 432x288 with 1 Axes>"
            ],
            "image/png": "[encoded data removed]"
          },
          "metadata": {
            "needs_background": "light"
          }
        },
        {
          "output_type": "display_data",
          "data": {
            "text/plain": [
              "<Figure size 432x288 with 1 Axes>"
            ],
            "image/png": "[encoded data removed]"
          },
          "metadata": {
            "needs_background": "light"
          }
        }
      ]
    },
    {
      "cell_type": "code",
      "source": [
        "model.load_weights('/content/drive/MyDrive/smm4h/pubmedbert.h5')"
      ],
      "metadata": {
        "id": "_aWt6bDwO6RV"
      },
      "execution_count": null,
      "outputs": []
    },
    {
      "cell_type": "code",
      "source": [
        ""
      ],
      "metadata": {
        "id": "idsd_Ic4P7qq"
      },
      "execution_count": null,
      "outputs": []
    },
    {
      "cell_type": "code",
      "execution_count": null,
      "metadata": {
        "id": "Ykb4eJlSOfyT"
      },
      "outputs": [],
      "source": [
        "y_preds = model.predict(valid_dataset_pubmedbert)"
      ]
    },
    {
      "cell_type": "code",
      "execution_count": null,
      "metadata": {
        "colab": {
          "base_uri": "https://localhost:8080/"
        },
        "id": "f3DDd987Yg_j",
        "outputId": "f0491b48-499b-46dd-9626-27dbeb0f6c25"
      },
      "outputs": [
        {
          "output_type": "execute_result",
          "data": {
            "text/plain": [
              "<tf.Tensor: shape=(600,), dtype=float32, numpy=\n",
              "array([2.54929721e-01, 1.47714522e-02, 4.39895660e-01, 6.81631491e-02,\n",
              "       1.25980437e-01, 3.61775845e-01, 8.11745286e-01, 2.04050198e-01,\n",
              "       8.47306609e-01, 8.84713173e-01, 3.76042396e-01, 5.85757261e-05,\n",
              "       1.54944155e-02, 9.67500985e-01, 8.78418326e-01, 3.87709469e-01,\n",
              "       5.27805276e-03, 9.48321998e-01, 1.84063986e-02, 2.02991202e-01,\n",
              "       4.86967675e-02, 9.54070210e-01, 9.62576509e-01, 1.18330092e-04,\n",
              "       8.88891220e-01, 1.05800770e-01, 8.80643487e-01, 9.63851392e-01,\n",
              "       9.60516036e-01, 9.31718424e-02, 8.72236013e-01, 7.86696619e-05,\n",
              "       9.05796349e-01, 2.03313679e-03, 7.58047640e-01, 1.43878511e-04,\n",
              "       8.49390864e-01, 9.65662956e-01, 4.03141767e-01, 7.21761703e-01,\n",
              "       3.32429886e-01, 1.96374148e-01, 3.82826030e-01, 2.85552472e-01,\n",
              "       6.87973574e-03, 2.04917431e-01, 1.66193880e-02, 5.14937215e-04,\n",
              "       8.79752874e-01, 8.98286879e-01, 8.14811230e-01, 2.09951550e-02,\n",
              "       6.48476720e-01, 8.42069864e-01, 1.24387688e-03, 3.03981430e-03,\n",
              "       9.59692657e-01, 1.45158600e-02, 5.04825190e-02, 5.73572797e-05,\n",
              "       3.86153959e-04, 4.65077579e-01, 8.47049236e-01, 2.69496115e-04,\n",
              "       6.46248221e-01, 9.08978358e-02, 1.74033102e-02, 6.87810461e-05,\n",
              "       1.20356679e-03, 9.93243635e-01, 1.22839576e-02, 1.11722304e-02,\n",
              "       4.51106671e-03, 1.47912987e-02, 9.38692510e-01, 5.38011670e-01,\n",
              "       3.60074610e-01, 1.47765622e-01, 9.02413726e-01, 4.74417478e-01,\n",
              "       9.74850714e-01, 4.62856233e-01, 2.48394092e-03, 8.90653729e-01,\n",
              "       7.82785177e-01, 5.60969353e-01, 5.62156618e-01, 1.09709457e-01,\n",
              "       6.89639986e-01, 8.73173535e-01, 7.68213285e-05, 9.07377481e-01,\n",
              "       3.17140557e-02, 8.42179835e-01, 6.86385948e-03, 9.91603315e-01,\n",
              "       9.96653676e-01, 8.52459490e-01, 8.53755236e-01, 1.60079435e-01,\n",
              "       1.76854804e-02, 9.82532740e-01, 2.69767772e-02, 9.61143523e-02,\n",
              "       3.37409526e-01, 6.16134405e-02, 2.97027137e-02, 8.22771251e-01,\n",
              "       9.56175745e-01, 6.07051790e-01, 2.98583418e-01, 7.81957209e-01,\n",
              "       4.05308247e-01, 3.26609216e-03, 7.79222173e-05, 4.28672694e-02,\n",
              "       5.52876830e-01, 6.38846815e-01, 7.50628412e-01, 7.44654894e-01,\n",
              "       3.15039545e-01, 9.66914535e-01, 8.23008358e-01, 9.41307127e-01,\n",
              "       4.92608935e-01, 1.74648911e-02, 1.98185761e-02, 3.50670338e-01,\n",
              "       5.55895984e-01, 4.99406815e-01, 7.67127752e-01, 6.51944280e-02,\n",
              "       5.51852137e-02, 9.73522305e-01, 1.89426690e-01, 8.23070765e-01,\n",
              "       3.82965733e-03, 1.21742589e-02, 9.31136608e-01, 9.41383362e-01,\n",
              "       7.94529080e-01, 2.03298230e-04, 6.31214619e-01, 8.47051799e-01,\n",
              "       1.06707225e-02, 4.42944467e-01, 1.00242861e-01, 1.24162296e-02,\n",
              "       5.95947504e-01, 1.34551004e-01, 5.77851057e-01, 9.94754732e-02,\n",
              "       9.93135214e-01, 1.60823518e-03, 5.25793184e-05, 8.09203267e-01,\n",
              "       2.86080122e-01, 8.74820590e-01, 3.66934419e-01, 1.19633131e-01,\n",
              "       5.07355511e-01, 7.78786182e-01, 2.83451885e-01, 3.79533321e-01,\n",
              "       3.43766868e-01, 9.59035873e-01, 2.91056763e-02, 4.81295288e-02,\n",
              "       9.49125767e-01, 6.23496063e-03, 2.99670678e-02, 6.48630521e-05,\n",
              "       4.28744316e-01, 3.71820301e-01, 2.26703063e-01, 1.06855631e-02,\n",
              "       1.02167956e-04, 8.54081661e-02, 6.38972759e-01, 4.73383009e-01,\n",
              "       5.42360187e-01, 7.25172972e-03, 3.38754147e-01, 2.30016023e-01,\n",
              "       1.40183806e-01, 4.58105356e-01, 4.25842494e-01, 1.67246256e-02,\n",
              "       8.89753819e-01, 5.14887906e-05, 6.77526355e-01, 8.28378722e-02,\n",
              "       8.01206410e-01, 7.69420149e-05, 4.44214940e-01, 2.07415864e-01,\n",
              "       1.29762635e-01, 9.57670331e-01, 3.67483079e-01, 8.95320892e-01,\n",
              "       5.88581204e-01, 2.61012036e-02, 8.91558766e-01, 9.03512061e-01,\n",
              "       2.39114393e-04, 6.27550107e-05, 2.17308775e-01, 2.87882984e-01,\n",
              "       6.98253334e-01, 1.36174029e-04, 5.52792132e-01, 9.23629326e-04,\n",
              "       5.27250133e-02, 8.10047150e-01, 6.31324410e-01, 6.09731257e-01,\n",
              "       7.28000164e-01, 5.35384059e-01, 5.54187715e-01, 2.92949639e-02,\n",
              "       9.89880636e-02, 9.91202239e-03, 9.67883097e-05, 7.16899812e-01,\n",
              "       2.50134580e-02, 8.94925833e-01, 7.89534330e-01, 1.44742310e-01,\n",
              "       8.17864109e-03, 4.01878322e-04, 1.77504689e-01, 9.05312538e-01,\n",
              "       2.78203160e-01, 2.48978928e-01, 9.53283743e-04, 6.96141869e-05,\n",
              "       7.93397784e-01, 9.49840784e-01, 8.66413057e-01, 5.52577674e-01,\n",
              "       1.02078505e-02, 2.56958697e-03, 3.47202271e-01, 1.98148891e-01,\n",
              "       4.79946464e-01, 6.04789674e-01, 1.14999451e-01, 5.42945454e-05,\n",
              "       8.65064621e-01, 9.47272539e-01, 1.72773898e-01, 7.18784809e-01,\n",
              "       5.31069100e-01, 5.59264421e-01, 9.83450532e-01, 8.36205423e-01,\n",
              "       9.29955959e-01, 1.80527987e-03, 1.62548810e-01, 3.10779386e-03,\n",
              "       4.60920572e-01, 1.97273605e-02, 9.92191732e-01, 9.60675299e-01,\n",
              "       2.80078620e-01, 2.73592398e-02, 7.57007673e-02, 3.08407471e-02,\n",
              "       2.37062722e-02, 3.41154693e-04, 5.13074847e-05, 8.12291622e-01,\n",
              "       4.79843561e-03, 3.80533755e-01, 6.59264770e-05, 6.22941911e-01,\n",
              "       9.78112102e-01, 2.38168642e-01, 4.47001636e-01, 9.33205783e-01,\n",
              "       7.70853758e-01, 9.87265348e-01, 8.16136003e-01, 9.01359856e-01,\n",
              "       3.47210914e-01, 3.70588064e-01, 3.44181746e-01, 9.10553098e-01,\n",
              "       5.17395914e-01, 8.98276210e-01, 5.16570270e-01, 6.96802672e-05,\n",
              "       4.19935405e-01, 1.38661131e-01, 6.28939961e-05, 2.22975010e-04,\n",
              "       4.54847962e-01, 9.90557194e-01, 3.47338974e-01, 5.94029427e-02,\n",
              "       9.61995102e-05, 9.85291123e-01, 2.61998355e-01, 1.48773819e-01,\n",
              "       9.64371085e-01, 3.80147211e-02, 6.08296931e-01, 5.11230409e-01,\n",
              "       4.35607508e-04, 9.29578483e-01, 5.38571272e-04, 3.34693223e-01,\n",
              "       9.93443012e-01, 8.17892492e-01, 9.15344119e-01, 1.72398701e-01,\n",
              "       9.14576292e-01, 8.41818810e-01, 7.17064381e-01, 1.18607156e-01,\n",
              "       4.22271574e-03, 9.83213127e-01, 9.47327018e-01, 9.87388313e-01,\n",
              "       7.84101427e-01, 6.31248206e-02, 9.09719765e-01, 7.41974175e-01,\n",
              "       3.44465077e-01, 6.92824423e-02, 7.96139956e-01, 1.64194703e-01,\n",
              "       2.63205962e-04, 1.68789979e-02, 5.18378615e-01, 1.68648317e-01,\n",
              "       3.67579490e-01, 9.02019680e-01, 9.26397562e-01, 9.20780838e-01,\n",
              "       1.08602541e-02, 4.51437205e-01, 3.83352757e-01, 7.29971766e-01,\n",
              "       7.00022161e-01, 4.58707392e-01, 9.42723036e-01, 1.43400326e-01,\n",
              "       5.54993808e-01, 4.26022485e-02, 4.48898137e-01, 6.42477453e-01,\n",
              "       7.84783423e-01, 3.27429205e-01, 7.02998400e-01, 4.36308563e-01,\n",
              "       9.75302815e-01, 6.97375596e-01, 8.16474080e-01, 5.59921563e-01,\n",
              "       7.37115622e-01, 2.59212554e-01, 7.74025466e-05, 7.86355674e-01,\n",
              "       4.47282800e-03, 7.85426676e-01, 8.60914290e-02, 3.52701962e-01,\n",
              "       2.93488652e-01, 6.41716301e-01, 2.66338974e-01, 6.13033626e-05,\n",
              "       3.84429172e-02, 8.67409408e-01, 1.52551427e-01, 7.24887068e-05,\n",
              "       9.80587125e-01, 1.45405412e-01, 9.33035859e-04, 1.25983462e-01,\n",
              "       3.29197239e-04, 2.54040122e-01, 1.25182085e-02, 6.82082057e-01,\n",
              "       7.52009571e-01, 2.65473675e-04, 8.45660746e-01, 6.89044833e-01,\n",
              "       5.99237323e-01, 9.11025882e-01, 6.27749506e-03, 5.32191470e-02,\n",
              "       9.01914954e-01, 1.99863642e-01, 5.78939468e-02, 1.62571232e-04,\n",
              "       6.97279320e-05, 3.37437481e-01, 3.96219760e-01, 1.17436633e-03,\n",
              "       5.17449155e-03, 2.21958399e-01, 6.87996805e-01, 3.14201027e-01,\n",
              "       1.15721866e-01, 9.56783831e-01, 9.25225735e-01, 2.41301462e-01,\n",
              "       3.65509033e-01, 6.92772195e-02, 7.80378938e-01, 9.33284879e-01,\n",
              "       3.51721654e-04, 4.77847084e-02, 4.20671999e-01, 8.55220675e-01,\n",
              "       1.17445074e-03, 7.35701680e-01, 3.48124094e-02, 9.86225963e-01,\n",
              "       3.28912556e-01, 6.31520689e-01, 5.47670543e-01, 1.72689915e-01,\n",
              "       7.74941146e-02, 4.53934014e-01, 9.63952839e-01, 1.04021400e-01,\n",
              "       5.66916764e-01, 7.26351678e-01, 2.86296923e-02, 7.05431283e-01,\n",
              "       4.44020191e-03, 8.18183482e-01, 9.31042790e-01, 1.02386571e-01,\n",
              "       9.93261516e-01, 2.83166897e-02, 1.59992293e-01, 3.25645931e-04,\n",
              "       9.76482868e-01, 5.16493991e-02, 1.99445963e-01, 1.04309611e-01,\n",
              "       7.64442520e-05, 8.47153589e-02, 9.64410007e-01, 5.33497453e-01,\n",
              "       5.78178660e-05, 4.15411256e-02, 5.30025005e-01, 2.83247203e-01,\n",
              "       4.15368974e-02, 3.79095674e-01, 6.79189384e-01, 1.21093850e-04,\n",
              "       8.28092933e-01, 3.50466490e-01, 8.87052119e-01, 7.97501020e-03,\n",
              "       8.20006609e-01, 1.72738492e-01, 9.41984117e-01, 8.68807852e-01,\n",
              "       9.78787802e-03, 2.63691127e-01, 7.67413199e-01, 4.51094529e-04,\n",
              "       9.87922728e-01, 1.68259308e-01, 1.18802764e-01, 1.27419040e-01,\n",
              "       1.09915875e-01, 8.51481020e-01, 7.85996169e-02, 4.29382890e-01,\n",
              "       1.68907076e-01, 4.08857584e-01, 9.72984374e-01, 4.76349564e-03,\n",
              "       8.49910378e-01, 3.45205307e-01, 8.77299383e-02, 5.58765709e-01,\n",
              "       2.19235405e-01, 5.41641153e-02, 7.62010962e-02, 3.32720131e-01,\n",
              "       1.39454499e-01, 8.25329423e-01, 5.00799239e-01, 2.23062318e-02,\n",
              "       2.85249054e-01, 9.65974689e-01, 9.40010965e-01, 1.22479657e-02,\n",
              "       5.59544683e-01, 3.55856180e-01, 7.64247234e-05, 5.81910551e-01,\n",
              "       1.88660296e-03, 6.59893692e-01, 6.31562434e-04, 6.50560996e-03,\n",
              "       9.32913423e-01, 9.68780994e-01, 9.09940124e-01, 2.81050712e-01,\n",
              "       3.20935585e-02, 4.10612255e-01, 6.07963204e-01, 3.18583101e-02,\n",
              "       8.16713095e-01, 3.61511670e-03, 2.93229610e-01, 2.03007817e-01,\n",
              "       9.42062080e-01, 1.07059343e-04, 1.99069783e-01, 6.07643664e-01,\n",
              "       3.34466109e-03, 3.83994193e-04, 1.56258747e-01, 7.60925770e-01,\n",
              "       7.59696364e-01, 4.84495878e-01, 2.13642232e-03, 9.30095553e-01,\n",
              "       6.98224306e-01, 4.88262355e-01, 1.92084145e-02, 4.53885198e-01,\n",
              "       9.02765691e-02, 6.85806930e-01, 6.30222930e-05, 9.03182089e-01,\n",
              "       9.14277613e-01, 5.35413972e-04, 8.53442550e-01, 1.19425710e-02,\n",
              "       2.10187212e-02, 2.58940621e-04, 3.62542301e-01, 7.80258954e-01,\n",
              "       2.75323957e-01, 8.47539604e-01, 6.51372492e-01, 3.22358236e-02,\n",
              "       3.28263976e-02, 8.73757005e-01, 8.43820751e-01, 5.76962903e-03,\n",
              "       5.53806901e-01, 2.33536828e-02, 8.77858877e-01, 6.58177435e-01,\n",
              "       7.16855884e-01, 2.48680443e-01, 9.10123169e-01, 8.11889887e-01,\n",
              "       9.20983851e-01, 6.69547319e-01, 6.72545612e-01, 7.94155836e-01,\n",
              "       3.31522733e-01, 9.17224646e-01, 4.31776702e-01, 9.91987944e-01,\n",
              "       4.60466951e-01, 1.89933836e-01, 8.95087540e-01, 1.63440391e-01,\n",
              "       3.66141319e-01, 8.79227936e-01, 1.26953647e-01, 4.67130482e-01,\n",
              "       5.52226484e-01, 2.72209980e-02, 6.65885031e-01, 9.71845508e-01,\n",
              "       1.92763396e-02, 6.85405466e-05, 8.77402008e-01, 9.81764138e-01,\n",
              "       9.46999788e-02, 5.47550023e-01, 1.47044316e-01, 7.47197211e-01,\n",
              "       7.39495993e-01, 5.46926320e-01, 8.41414213e-01, 2.99523235e-04,\n",
              "       9.37747061e-01, 9.21754241e-01, 8.05150211e-01, 2.64671117e-01,\n",
              "       9.36970115e-01, 9.76477444e-01, 7.51558244e-01, 1.24431171e-01],\n",
              "      dtype=float32)>"
            ]
          },
          "metadata": {},
          "execution_count": 90
        }
      ],
      "source": [
        "#y_preds_1 =tf.round(y_preds)\n",
        "y_preds_2 = tf.reshape(y_preds, [600])\n",
        "y_preds_3 = tf.cast(y_preds_2, tf.float32)\n",
        "y_preds_3"
      ]
    },
    {
      "cell_type": "code",
      "execution_count": null,
      "metadata": {
        "colab": {
          "base_uri": "https://localhost:8080/"
        },
        "id": "quvvql6IXReL",
        "outputId": "9031f46f-7f07-4a0e-c6a5-c16ec1367553"
      },
      "outputs": [
        {
          "output_type": "stream",
          "name": "stdout",
          "text": [
            "f1 score:  0.7289719626168225\n",
            "accuracy:  0.8066666666666666\n"
          ]
        }
      ],
      "source": [
        "print(\"f1 score: \", f1_score(y_valid_pubmedbert, y_preds_3>0.65))\n",
        "print(\"accuracy: \", accuracy_score(y_valid_pubmedbert, y_preds_3>0.65))"
      ]
    },
    {
      "cell_type": "code",
      "execution_count": null,
      "metadata": {
        "id": "jEkWYkqqZoVC"
      },
      "outputs": [],
      "source": [
        "y_preds_4 = []\n",
        "for i in range(len(y_preds_3)):\n",
        "  if y_preds_3[i]>0.65:\n",
        "    y_preds_4.append(1)\n",
        "  else:\n",
        "    y_preds_4.append(0)\n"
      ]
    },
    {
      "cell_type": "code",
      "execution_count": null,
      "metadata": {
        "colab": {
          "base_uri": "https://localhost:8080/"
        },
        "id": "4_MQ62AuVfv8",
        "outputId": "a7761a44-dd4f-4127-dcca-22eb8af39b8e"
      },
      "outputs": [
        {
          "output_type": "execute_result",
          "data": {
            "text/plain": [
              "array([0, 0, 0, 0, 0, 0, 1, 0, 1, 1, 0, 0, 0, 1, 1, 0, 0, 1, 0, 0, 0, 1,\n",
              "       1, 0, 1, 0, 1, 1, 1, 0, 1, 0, 1, 0, 1, 0, 1, 1, 0, 1, 0, 0, 0, 0,\n",
              "       0, 0, 0, 0, 1, 1, 1, 0, 0, 1, 0, 0, 1, 0, 0, 0, 0, 0, 1, 0, 0, 0,\n",
              "       0, 0, 0, 1, 0, 0, 0, 0, 1, 0, 0, 0, 1, 0, 1, 0, 0, 1, 1, 0, 0, 0,\n",
              "       1, 1, 0, 1, 0, 1, 0, 1, 1, 1, 1, 0, 0, 1, 0, 0, 0, 0, 0, 1, 1, 0,\n",
              "       0, 1, 0, 0, 0, 0, 0, 0, 1, 1, 0, 1, 1, 1, 0, 0, 0, 0, 0, 0, 1, 0,\n",
              "       0, 1, 0, 1, 0, 0, 1, 1, 1, 0, 0, 1, 0, 0, 0, 0, 0, 0, 0, 0, 1, 0,\n",
              "       0, 1, 0, 1, 0, 0, 0, 1, 0, 0, 0, 1, 0, 0, 1, 0, 0, 0, 0, 0, 0, 0,\n",
              "       0, 0, 0, 0, 0, 0, 0, 0, 0, 0, 0, 0, 1, 0, 1, 0, 1, 0, 0, 0, 0, 1,\n",
              "       0, 1, 0, 0, 1, 1, 0, 0, 0, 0, 1, 0, 0, 0, 0, 1, 0, 0, 1, 0, 0, 0,\n",
              "       0, 0, 0, 1, 0, 1, 1, 0, 0, 0, 0, 1, 0, 0, 0, 0, 1, 1, 1, 0, 0, 0,\n",
              "       0, 0, 0, 0, 0, 0, 1, 1, 0, 1, 0, 0, 1, 1, 1, 0, 0, 0, 0, 0, 1, 1,\n",
              "       0, 0, 0, 0, 0, 0, 0, 1, 0, 0, 0, 0, 1, 0, 0, 1, 1, 1, 1, 1, 0, 0,\n",
              "       0, 1, 0, 1, 0, 0, 0, 0, 0, 0, 0, 1, 0, 0, 0, 1, 0, 0, 1, 0, 0, 0,\n",
              "       0, 1, 0, 0, 1, 1, 1, 0, 1, 1, 1, 0, 0, 1, 1, 1, 1, 0, 1, 1, 0, 0,\n",
              "       1, 0, 0, 0, 0, 0, 0, 1, 1, 1, 0, 0, 0, 1, 1, 0, 1, 0, 0, 0, 0, 0,\n",
              "       1, 0, 1, 0, 1, 1, 1, 0, 1, 0, 0, 1, 0, 1, 0, 0, 0, 0, 0, 0, 0, 1,\n",
              "       0, 0, 1, 0, 0, 0, 0, 0, 0, 1, 1, 0, 1, 1, 0, 1, 0, 0, 1, 0, 0, 0,\n",
              "       0, 0, 0, 0, 0, 0, 1, 0, 0, 1, 1, 0, 0, 0, 1, 1, 0, 0, 0, 1, 0, 1,\n",
              "       0, 1, 0, 0, 0, 0, 0, 0, 1, 0, 0, 1, 0, 1, 0, 1, 1, 0, 1, 0, 0, 0,\n",
              "       1, 0, 0, 0, 0, 0, 1, 0, 0, 0, 0, 0, 0, 0, 1, 0, 1, 0, 1, 0, 1, 0,\n",
              "       1, 1, 0, 0, 1, 0, 1, 0, 0, 0, 0, 1, 0, 0, 0, 0, 1, 0, 1, 0, 0, 0,\n",
              "       0, 0, 0, 0, 0, 1, 0, 0, 0, 1, 1, 0, 0, 0, 0, 0, 0, 1, 0, 0, 1, 1,\n",
              "       1, 0, 0, 0, 0, 0, 1, 0, 0, 0, 1, 0, 0, 0, 0, 0, 0, 1, 1, 0, 0, 1,\n",
              "       1, 0, 0, 0, 0, 1, 0, 1, 1, 0, 1, 0, 0, 0, 0, 1, 0, 1, 1, 0, 0, 1,\n",
              "       1, 0, 0, 0, 1, 1, 1, 0, 1, 1, 1, 1, 1, 1, 0, 1, 0, 1, 0, 0, 1, 0,\n",
              "       0, 1, 0, 0, 0, 0, 1, 1, 0, 0, 1, 1, 0, 0, 0, 1, 1, 0, 1, 0, 1, 1,\n",
              "       1, 0, 1, 1, 1, 0])"
            ]
          },
          "metadata": {},
          "execution_count": 101
        }
      ],
      "source": [
        "y_preds_4 = np.array(y_preds_4)\n",
        "y_preds_4"
      ]
    },
    {
      "cell_type": "code",
      "execution_count": null,
      "metadata": {
        "colab": {
          "base_uri": "https://localhost:8080/"
        },
        "id": "5kCgliYDVng4",
        "outputId": "9609be0e-ea5e-4f3d-85e2-946b514674ec"
      },
      "outputs": [
        {
          "output_type": "stream",
          "name": "stdout",
          "text": [
            "Accuracy: 0.806667\n",
            "Precision: 0.750000\n",
            "Recall: 0.709091\n",
            "F1 score: 0.728972\n"
          ]
        }
      ],
      "source": [
        "report(y_valid_pubmedbert, y_preds_4)"
      ]
    },
    {
      "cell_type": "markdown",
      "metadata": {
        "id": "LEkaiZKc-fH8"
      },
      "source": [
        "## on test"
      ]
    },
    {
      "cell_type": "code",
      "execution_count": null,
      "metadata": {
        "id": "1HGXc8OP2GAC"
      },
      "outputs": [],
      "source": [
        "y_preds_test = model.predict(x_test_bert)"
      ]
    },
    {
      "cell_type": "code",
      "execution_count": null,
      "metadata": {
        "colab": {
          "base_uri": "https://localhost:8080/"
        },
        "id": "d9ygTzf1sFf7",
        "outputId": "0a7975cd-14b9-48ae-a0bc-c6d054345a03"
      },
      "outputs": [
        {
          "data": {
            "text/plain": [
              "<tf.Tensor: shape=(9955,), dtype=float32, numpy=\n",
              "array([1.1092094e-03, 3.0953534e-02, 5.3951609e-01, ..., 1.9201511e-03,\n",
              "       1.6947601e-04, 1.4609825e-03], dtype=float32)>"
            ]
          },
          "execution_count": 65,
          "metadata": {},
          "output_type": "execute_result"
        }
      ],
      "source": [
        "# y_preds_1 =tf.round(y_preds_test)\n",
        "y_preds_2 = tf.reshape(y_preds_test, [9955])\n",
        "y_preds_3 = tf.cast(y_preds_2, tf.float32)\n",
        "y_preds_3"
      ]
    },
    {
      "cell_type": "code",
      "execution_count": null,
      "metadata": {
        "colab": {
          "base_uri": "https://localhost:8080/"
        },
        "id": "W-cpy-N8WUXi",
        "outputId": "73b51e48-afb6-4ffd-cb94-e67ef06be488"
      },
      "outputs": [
        {
          "data": {
            "text/plain": [
              "array([0, 0, 1, ..., 0, 0, 0])"
            ]
          },
          "execution_count": 67,
          "metadata": {},
          "output_type": "execute_result"
        }
      ],
      "source": [
        "y_preds_4 = []\n",
        "for i in range(len(y_preds_3)):\n",
        "  if y_preds_3[i]>0.49:\n",
        "    y_preds_4.append(1)\n",
        "  else:\n",
        "    y_preds_4.append(0)\n",
        "\n",
        "y_preds_4 = np.array(y_preds_4)\n",
        "y_preds_4"
      ]
    },
    {
      "cell_type": "code",
      "execution_count": null,
      "metadata": {
        "id": "mcV867g1Wlnd"
      },
      "outputs": [],
      "source": [
        ""
      ]
    },
    {
      "cell_type": "code",
      "execution_count": null,
      "metadata": {
        "id": "NrLXZAoCufQS"
      },
      "outputs": [],
      "source": [
        "test['Premise'] = y_preds_4"
      ]
    },
    {
      "cell_type": "code",
      "execution_count": null,
      "metadata": {
        "colab": {
          "base_uri": "https://localhost:8080/",
          "height": 423
        },
        "id": "bXrpEnhXvQFl",
        "outputId": "2efee052-c2ec-41ff-ed14-d3c87b11f6c1"
      },
      "outputs": [
        {
          "data": {
            "text/html": [
              "\n",
              "  <div id=\"df-d590c372-823d-478a-81d5-dae50e67227b\">\n",
              "    <div class=\"colab-df-container\">\n",
              "      <div>\n",
              "<style scoped>\n",
              "    .dataframe tbody tr th:only-of-type {\n",
              "        vertical-align: middle;\n",
              "    }\n",
              "\n",
              "    .dataframe tbody tr th {\n",
              "        vertical-align: top;\n",
              "    }\n",
              "\n",
              "    .dataframe thead th {\n",
              "        text-align: right;\n",
              "    }\n",
              "</style>\n",
              "<table border=\"1\" class=\"dataframe\">\n",
              "  <thead>\n",
              "    <tr style=\"text-align: right;\">\n",
              "      <th></th>\n",
              "      <th>id</th>\n",
              "      <th>claim</th>\n",
              "      <th>Tweet</th>\n",
              "      <th>Premise</th>\n",
              "    </tr>\n",
              "  </thead>\n",
              "  <tbody>\n",
              "    <tr>\n",
              "      <th>0</th>\n",
              "      <td>1307558525371965442</td>\n",
              "      <td>school closures</td>\n",
              "      <td>@narendramodi @rajnathsingh Student ka bhi soa...</td>\n",
              "      <td>0</td>\n",
              "    </tr>\n",
              "    <tr>\n",
              "      <th>1</th>\n",
              "      <td>1247739239879467009</td>\n",
              "      <td>stay at home orders</td>\n",
              "      <td>—échale un vistazo a esto…   … a fair piece on...</td>\n",
              "      <td>0</td>\n",
              "    </tr>\n",
              "    <tr>\n",
              "      <th>2</th>\n",
              "      <td>1242046510155653125</td>\n",
              "      <td>stay at home orders</td>\n",
              "      <td>Why do think skilling women and girls is impor...</td>\n",
              "      <td>1</td>\n",
              "    </tr>\n",
              "    <tr>\n",
              "      <th>3</th>\n",
              "      <td>1358446499949084675</td>\n",
              "      <td>school closures</td>\n",
              "      <td>To reduce the risk of the virus spreading as e...</td>\n",
              "      <td>1</td>\n",
              "    </tr>\n",
              "    <tr>\n",
              "      <th>4</th>\n",
              "      <td>1249740062775902208</td>\n",
              "      <td>stay at home orders</td>\n",
              "      <td>I speak for a great many people when i say WE ...</td>\n",
              "      <td>0</td>\n",
              "    </tr>\n",
              "    <tr>\n",
              "      <th>...</th>\n",
              "      <td>...</td>\n",
              "      <td>...</td>\n",
              "      <td>...</td>\n",
              "      <td>...</td>\n",
              "    </tr>\n",
              "    <tr>\n",
              "      <th>9950</th>\n",
              "      <td>1242516037628813314</td>\n",
              "      <td>stay at home orders</td>\n",
              "      <td>StayAtHomeSaveLives 21daysLockdown StayAtHome ...</td>\n",
              "      <td>0</td>\n",
              "    </tr>\n",
              "    <tr>\n",
              "      <th>9951</th>\n",
              "      <td>1242746919933415424</td>\n",
              "      <td>stay at home orders</td>\n",
              "      <td>If this is true this is heartbreaking StayAtHo...</td>\n",
              "      <td>0</td>\n",
              "    </tr>\n",
              "    <tr>\n",
              "      <th>9952</th>\n",
              "      <td>1276638598813679617</td>\n",
              "      <td>stay at home orders</td>\n",
              "      <td>855 Sunset Cove Dr, Winter Haven, FL 33880 3 B...</td>\n",
              "      <td>0</td>\n",
              "    </tr>\n",
              "    <tr>\n",
              "      <th>9953</th>\n",
              "      <td>1243504288661270528</td>\n",
              "      <td>stay at home orders</td>\n",
              "      <td>StayAtHomeSaveLives StayHomeStaySafe StayHome ...</td>\n",
              "      <td>0</td>\n",
              "    </tr>\n",
              "    <tr>\n",
              "      <th>9954</th>\n",
              "      <td>1237875841981247488</td>\n",
              "      <td>school closures</td>\n",
              "      <td>We’re on track to be like Italy is now. Time t...</td>\n",
              "      <td>0</td>\n",
              "    </tr>\n",
              "  </tbody>\n",
              "</table>\n",
              "<p>9955 rows × 4 columns</p>\n",
              "</div>\n",
              "      <button class=\"colab-df-convert\" onclick=\"convertToInteractive('df-d590c372-823d-478a-81d5-dae50e67227b')\"\n",
              "              title=\"Convert this dataframe to an interactive table.\"\n",
              "              style=\"display:none;\">\n",
              "        \n",
              "  <svg xmlns=\"http://www.w3.org/2000/svg\" height=\"24px\"viewBox=\"0 0 24 24\"\n",
              "       width=\"24px\">\n",
              "    <path d=\"M0 0h24v24H0V0z\" fill=\"none\"/>\n",
              "    <path d=\"M18.56 5.44l.94 2.06.94-2.06 2.06-.94-2.06-.94-.94-2.06-.94 2.06-2.06.94zm-11 1L8.5 8.5l.94-2.06 2.06-.94-2.06-.94L8.5 2.5l-.94 2.06-2.06.94zm10 10l.94 2.06.94-2.06 2.06-.94-2.06-.94-.94-2.06-.94 2.06-2.06.94z\"/><path d=\"M17.41 7.96l-1.37-1.37c-.4-.4-.92-.59-1.43-.59-.52 0-1.04.2-1.43.59L10.3 9.45l-7.72 7.72c-.78.78-.78 2.05 0 2.83L4 21.41c.39.39.9.59 1.41.59.51 0 1.02-.2 1.41-.59l7.78-7.78 2.81-2.81c.8-.78.8-2.07 0-2.86zM5.41 20L4 18.59l7.72-7.72 1.47 1.35L5.41 20z\"/>\n",
              "  </svg>\n",
              "      </button>\n",
              "      \n",
              "  <style>\n",
              "    .colab-df-container {\n",
              "      display:flex;\n",
              "      flex-wrap:wrap;\n",
              "      gap: 12px;\n",
              "    }\n",
              "\n",
              "    .colab-df-convert {\n",
              "      background-color: #E8F0FE;\n",
              "      border: none;\n",
              "      border-radius: 50%;\n",
              "      cursor: pointer;\n",
              "      display: none;\n",
              "      fill: #1967D2;\n",
              "      height: 32px;\n",
              "      padding: 0 0 0 0;\n",
              "      width: 32px;\n",
              "    }\n",
              "\n",
              "    .colab-df-convert:hover {\n",
              "      background-color: #E2EBFA;\n",
              "      box-shadow: 0px 1px 2px rgba(60, 64, 67, 0.3), 0px 1px 3px 1px rgba(60, 64, 67, 0.15);\n",
              "      fill: #174EA6;\n",
              "    }\n",
              "\n",
              "    [theme=dark] .colab-df-convert {\n",
              "      background-color: #3B4455;\n",
              "      fill: #D2E3FC;\n",
              "    }\n",
              "\n",
              "    [theme=dark] .colab-df-convert:hover {\n",
              "      background-color: #434B5C;\n",
              "      box-shadow: 0px 1px 3px 1px rgba(0, 0, 0, 0.15);\n",
              "      filter: drop-shadow(0px 1px 2px rgba(0, 0, 0, 0.3));\n",
              "      fill: #FFFFFF;\n",
              "    }\n",
              "  </style>\n",
              "\n",
              "      <script>\n",
              "        const buttonEl =\n",
              "          document.querySelector('#df-d590c372-823d-478a-81d5-dae50e67227b button.colab-df-convert');\n",
              "        buttonEl.style.display =\n",
              "          google.colab.kernel.accessAllowed ? 'block' : 'none';\n",
              "\n",
              "        async function convertToInteractive(key) {\n",
              "          const element = document.querySelector('#df-d590c372-823d-478a-81d5-dae50e67227b');\n",
              "          const dataTable =\n",
              "            await google.colab.kernel.invokeFunction('convertToInteractive',\n",
              "                                                     [key], {});\n",
              "          if (!dataTable) return;\n",
              "\n",
              "          const docLinkHtml = 'Like what you see? Visit the ' +\n",
              "            '<a target=\"_blank\" href=https://colab.research.google.com/notebooks/data_table.ipynb>data table notebook</a>'\n",
              "            + ' to learn more about interactive tables.';\n",
              "          element.innerHTML = '';\n",
              "          dataTable['output_type'] = 'display_data';\n",
              "          await google.colab.output.renderOutput(dataTable, element);\n",
              "          const docLink = document.createElement('div');\n",
              "          docLink.innerHTML = docLinkHtml;\n",
              "          element.appendChild(docLink);\n",
              "        }\n",
              "      </script>\n",
              "    </div>\n",
              "  </div>\n",
              "  "
            ],
            "text/plain": [
              "                       id                claim  \\\n",
              "0     1307558525371965442      school closures   \n",
              "1     1247739239879467009  stay at home orders   \n",
              "2     1242046510155653125  stay at home orders   \n",
              "3     1358446499949084675      school closures   \n",
              "4     1249740062775902208  stay at home orders   \n",
              "...                   ...                  ...   \n",
              "9950  1242516037628813314  stay at home orders   \n",
              "9951  1242746919933415424  stay at home orders   \n",
              "9952  1276638598813679617  stay at home orders   \n",
              "9953  1243504288661270528  stay at home orders   \n",
              "9954  1237875841981247488      school closures   \n",
              "\n",
              "                                                  Tweet  Premise  \n",
              "0     @narendramodi @rajnathsingh Student ka bhi soa...        0  \n",
              "1     —échale un vistazo a esto…   … a fair piece on...        0  \n",
              "2     Why do think skilling women and girls is impor...        1  \n",
              "3     To reduce the risk of the virus spreading as e...        1  \n",
              "4     I speak for a great many people when i say WE ...        0  \n",
              "...                                                 ...      ...  \n",
              "9950  StayAtHomeSaveLives 21daysLockdown StayAtHome ...        0  \n",
              "9951  If this is true this is heartbreaking StayAtHo...        0  \n",
              "9952  855 Sunset Cove Dr, Winter Haven, FL 33880 3 B...        0  \n",
              "9953  StayAtHomeSaveLives StayHomeStaySafe StayHome ...        0  \n",
              "9954  We’re on track to be like Italy is now. Time t...        0  \n",
              "\n",
              "[9955 rows x 4 columns]"
            ]
          },
          "execution_count": 69,
          "metadata": {},
          "output_type": "execute_result"
        }
      ],
      "source": [
        "test"
      ]
    },
    {
      "cell_type": "code",
      "execution_count": null,
      "metadata": {
        "id": "FfvtebCZvRDN"
      },
      "outputs": [],
      "source": [
        "test.to_csv('/content/drive/MyDrive/smmh/premise_predictions_pubmedbert.tsv', sep='\\t', index=False)"
      ]
    },
    {
      "cell_type": "markdown",
      "metadata": {
        "id": "d5VwRwpKvYzC"
      },
      "source": [
        "# bert"
      ]
    },
    {
      "cell_type": "code",
      "execution_count": null,
      "metadata": {
        "colab": {
          "base_uri": "https://localhost:8080/"
        },
        "id": "JHm2rNLD98OG",
        "outputId": "c6daeb07-a005-48d3-c290-c852fa94ca4d"
      },
      "outputs": [
        {
          "output_type": "stream",
          "name": "stderr",
          "text": [
            "Some layers from the model checkpoint at bert-base-uncased were not used when initializing TFBertModel: ['nsp___cls', 'mlm___cls']\n",
            "- This IS expected if you are initializing TFBertModel from the checkpoint of a model trained on another task or with another architecture (e.g. initializing a BertForSequenceClassification model from a BertForPreTraining model).\n",
            "- This IS NOT expected if you are initializing TFBertModel from the checkpoint of a model that you expect to be exactly identical (initializing a BertForSequenceClassification model from a BertForSequenceClassification model).\n",
            "All the layers of TFBertModel were initialized from the model checkpoint at bert-base-uncased.\n",
            "If your task is similar to the task the model of the checkpoint was trained on, you can already use TFBertModel for predictions without further training.\n"
          ]
        }
      ],
      "source": [
        "from transformers import BertTokenizer, TFBertModel\n",
        "tokenizer = BertTokenizer.from_pretrained('bert-base-uncased',model_max_length=256)\n",
        "model = TFBertModel.from_pretrained(\"bert-base-uncased\")"
      ]
    },
    {
      "cell_type": "code",
      "execution_count": null,
      "metadata": {
        "id": "VxoVIgLV-3KB"
      },
      "outputs": [],
      "source": [
        "def build_model(transformer, max_len=512):\n",
        "    \"\"\"\n",
        "    function for training the BERT model\n",
        "    \"\"\"\n",
        "    input_word_ids = Input(shape=(max_len,), dtype=tf.int32, name=\"input_word_ids\")\n",
        "    sequence_output = transformer(input_word_ids)[0]\n",
        "    cls_token = sequence_output[:, 0, :]\n",
        "    out = Dense(1, activation='sigmoid')(cls_token)\n",
        "    \n",
        "    model = Model(inputs=input_word_ids, outputs=out)\n",
        "    model.compile(Adam(lr=1e-5), loss='binary_crossentropy', metrics=['accuracy'])\n",
        "    \n",
        "    return model"
      ]
    },
    {
      "cell_type": "code",
      "execution_count": null,
      "metadata": {
        "colab": {
          "base_uri": "https://localhost:8080/"
        },
        "id": "4G6T9bvP-7aC",
        "outputId": "5ac34063-ae48-4f2b-f4de-c0c58b08f14c"
      },
      "outputs": [
        {
          "output_type": "stream",
          "name": "stdout",
          "text": [
            "Model: \"model_3\"\n",
            "_________________________________________________________________\n",
            "Layer (type)                 Output Shape              Param #   \n",
            "=================================================================\n",
            "input_word_ids (InputLayer)  [(None, 256)]             0         \n",
            "_________________________________________________________________\n",
            "tf_bert_model_3 (TFBertModel TFBaseModelOutputWithPool 109482240 \n",
            "_________________________________________________________________\n",
            "tf.__operators__.getitem_3 ( (None, 768)               0         \n",
            "_________________________________________________________________\n",
            "dense_3 (Dense)              (None, 1)                 769       \n",
            "=================================================================\n",
            "Total params: 109,483,009\n",
            "Trainable params: 109,483,009\n",
            "Non-trainable params: 0\n",
            "_________________________________________________________________\n",
            "CPU times: user 1.4 s, sys: 12.7 ms, total: 1.41 s\n",
            "Wall time: 1.4 s\n"
          ]
        },
        {
          "output_type": "stream",
          "name": "stderr",
          "text": [
            "/usr/local/lib/python3.7/dist-packages/tensorflow/python/keras/optimizer_v2/optimizer_v2.py:375: UserWarning: The `lr` argument is deprecated, use `learning_rate` instead.\n",
            "  \"The `lr` argument is deprecated, use `learning_rate` instead.\")\n"
          ]
        }
      ],
      "source": [
        "%%time\n",
        "with strategy.scope():\n",
        "    transformer_layer = (\n",
        "        model\n",
        "    )\n",
        "    model = build_model(transformer_layer, max_len=256)\n",
        "model.summary()"
      ]
    },
    {
      "cell_type": "code",
      "execution_count": null,
      "metadata": {
        "id": "vUuzTApa-_Wv"
      },
      "outputs": [],
      "source": [
        "def tokenized_data(tokenizer, data):\n",
        "  list1 = tokenizer(data, truncation=True, padding=True)\n",
        "  return list1"
      ]
    },
    {
      "cell_type": "code",
      "execution_count": null,
      "metadata": {
        "id": "dKMn_LBX_DT9"
      },
      "outputs": [],
      "source": [
        "data_bert = tokenized_data(tokenizer, data)\n",
        "data_bert = array(data_bert['input_ids'])"
      ]
    },
    {
      "cell_type": "code",
      "execution_count": null,
      "metadata": {
        "id": "X5rE7vH-_EAu"
      },
      "outputs": [],
      "source": [
        "x_train_bert = data_bert[0:3556]\n",
        "x_valid_bert = data_bert[3556:4156]\n",
        "x_test_bert = data_bert[4156:]"
      ]
    },
    {
      "cell_type": "code",
      "execution_count": null,
      "metadata": {
        "id": "tZ4P_zm__K6E"
      },
      "outputs": [],
      "source": [
        "y_train_bert = train1.Premise.values\n",
        "y_valid_bert = valid.Premise.values"
      ]
    },
    {
      "cell_type": "code",
      "execution_count": null,
      "metadata": {
        "id": "rNacVPbJ_Liy"
      },
      "outputs": [],
      "source": [
        "train_dataset = (\n",
        "    tf.data.Dataset\n",
        "    .from_tensor_slices((x_train_bert, y_train_bert))\n",
        "    .repeat()\n",
        "    .shuffle(2048)\n",
        "    .batch(BATCH_SIZE)\n",
        "    .prefetch(AUTO)\n",
        ")\n",
        "\n",
        "valid_dataset = (\n",
        "    tf.data.Dataset\n",
        "    .from_tensor_slices((x_valid_bert, y_valid_bert))\n",
        "    .batch(BATCH_SIZE)\n",
        "    .cache()\n",
        "    .prefetch(AUTO)\n",
        ")"
      ]
    },
    {
      "cell_type": "code",
      "execution_count": null,
      "metadata": {
        "colab": {
          "base_uri": "https://localhost:8080/"
        },
        "id": "057CzDcw_Rt2",
        "outputId": "0f769abe-deaa-4af0-9790-eeeb861f163b"
      },
      "outputs": [
        {
          "output_type": "stream",
          "name": "stdout",
          "text": [
            "Epoch 1/3\n",
            "WARNING:tensorflow:Gradients do not exist for variables ['tf_bert_model_3/bert/pooler/dense/kernel:0', 'tf_bert_model_3/bert/pooler/dense/bias:0'] when minimizing the loss.\n"
          ]
        },
        {
          "output_type": "stream",
          "name": "stderr",
          "text": [
            "WARNING:tensorflow:Gradients do not exist for variables ['tf_bert_model_3/bert/pooler/dense/kernel:0', 'tf_bert_model_3/bert/pooler/dense/bias:0'] when minimizing the loss.\n"
          ]
        },
        {
          "output_type": "stream",
          "name": "stdout",
          "text": [
            "WARNING:tensorflow:Gradients do not exist for variables ['tf_bert_model_3/bert/pooler/dense/kernel:0', 'tf_bert_model_3/bert/pooler/dense/bias:0'] when minimizing the loss.\n"
          ]
        },
        {
          "output_type": "stream",
          "name": "stderr",
          "text": [
            "WARNING:tensorflow:Gradients do not exist for variables ['tf_bert_model_3/bert/pooler/dense/kernel:0', 'tf_bert_model_3/bert/pooler/dense/bias:0'] when minimizing the loss.\n"
          ]
        },
        {
          "output_type": "stream",
          "name": "stdout",
          "text": [
            "222/222 [==============================] - 134s 541ms/step - loss: 0.5595 - accuracy: 0.6928 - val_loss: 0.4751 - val_accuracy: 0.7767\n",
            "Epoch 2/3\n",
            "222/222 [==============================] - 118s 531ms/step - loss: 0.4588 - accuracy: 0.7663 - val_loss: 0.4246 - val_accuracy: 0.7783\n",
            "Epoch 3/3\n",
            "222/222 [==============================] - 118s 530ms/step - loss: 0.3628 - accuracy: 0.8336 - val_loss: 0.4474 - val_accuracy: 0.7917\n"
          ]
        }
      ],
      "source": [
        "n_steps = x_train_bert.shape[0] // BATCH_SIZE\n",
        "train_history = model.fit(\n",
        "    train_dataset,\n",
        "    steps_per_epoch=n_steps,\n",
        "    validation_data=valid_dataset,\n",
        "    epochs=3\n",
        ")"
      ]
    },
    {
      "cell_type": "code",
      "execution_count": null,
      "metadata": {
        "colab": {
          "base_uri": "https://localhost:8080/"
        },
        "id": "let9L_Uh_Sew",
        "outputId": "72750ae6-df8c-4b48-d504-84944976399c"
      },
      "outputs": [
        {
          "output_type": "stream",
          "name": "stdout",
          "text": [
            "38/38 [==============================] - 7s 176ms/step - loss: 0.4474 - accuracy: 0.7917\n"
          ]
        },
        {
          "output_type": "execute_result",
          "data": {
            "text/plain": [
              "[0.44735777378082275, 0.7916666865348816]"
            ]
          },
          "metadata": {},
          "execution_count": 98
        }
      ],
      "source": [
        "model.evaluate(valid_dataset)"
      ]
    },
    {
      "cell_type": "code",
      "execution_count": null,
      "metadata": {
        "id": "J41U-Ckza_3a"
      },
      "outputs": [],
      "source": [
        "model.save_weights('/content/drive/MyDrive/smm4h/bert.h5')"
      ]
    },
    {
      "cell_type": "code",
      "source": [
        "  plot_loss_curves(train_history)"
      ],
      "metadata": {
        "colab": {
          "base_uri": "https://localhost:8080/",
          "height": 573
        },
        "id": "fzQM_dxxaqOA",
        "outputId": "047a601c-4513-4365-d5ad-d6d742402ef3"
      },
      "execution_count": null,
      "outputs": [
        {
          "output_type": "display_data",
          "data": {
            "text/plain": [
              "<Figure size 432x288 with 1 Axes>"
            ],
            "image/png": "[encoded data removed]"
          },
          "metadata": {
            "needs_background": "light"
          }
        },
        {
          "output_type": "display_data",
          "data": {
            "text/plain": [
              "<Figure size 432x288 with 1 Axes>"
            ],
            "image/png": "[encoded data removed]"
          },
          "metadata": {
            "needs_background": "light"
          }
        }
      ]
    },
    {
      "cell_type": "code",
      "source": [
        "model.load_weights('/content/drive/MyDrive/smm4h/bert.h5')"
      ],
      "metadata": {
        "id": "wx_nVAt42vit"
      },
      "execution_count": null,
      "outputs": []
    },
    {
      "cell_type": "code",
      "execution_count": null,
      "metadata": {
        "colab": {
          "base_uri": "https://localhost:8080/"
        },
        "id": "dqWlNWssbaBg",
        "outputId": "3a1f52c4-64d2-4e87-98d1-a3b4c4768df7"
      },
      "outputs": [
        {
          "output_type": "execute_result",
          "data": {
            "text/plain": [
              "<tf.Tensor: shape=(600,), dtype=float32, numpy=\n",
              "array([1.73650756e-01, 1.68968725e-03, 1.87202051e-01, 2.51740441e-02,\n",
              "       3.13635841e-02, 2.11853996e-01, 9.24546659e-01, 1.62681239e-03,\n",
              "       4.32382464e-01, 9.59643900e-01, 3.68339628e-01, 2.80323206e-04,\n",
              "       8.55622988e-04, 9.84230697e-01, 7.45631158e-01, 2.12685183e-01,\n",
              "       1.22340978e-03, 9.73671436e-01, 2.07868242e-03, 7.47931659e-01,\n",
              "       5.34632336e-03, 9.62579072e-01, 9.83631015e-01, 3.59387341e-04,\n",
              "       9.92543936e-01, 1.89511761e-01, 9.85757709e-01, 9.81776655e-01,\n",
              "       8.97797406e-01, 4.40392122e-02, 9.55682695e-01, 1.77040652e-04,\n",
              "       8.96691859e-01, 5.97774237e-03, 9.44982409e-01, 2.96223589e-04,\n",
              "       9.71334636e-01, 9.26437914e-01, 3.29255015e-01, 9.59642768e-01,\n",
              "       6.62275791e-01, 5.16152307e-02, 1.07042626e-01, 1.00056224e-01,\n",
              "       2.53570336e-03, 3.60150069e-01, 2.12806650e-03, 1.46331033e-02,\n",
              "       9.55598772e-01, 5.80122530e-01, 9.74047005e-01, 3.82834911e-01,\n",
              "       6.35050595e-01, 9.46546555e-01, 6.94327289e-04, 4.18199003e-02,\n",
              "       9.87321556e-01, 8.11484009e-02, 6.88745901e-02, 2.36800697e-04,\n",
              "       2.45452323e-03, 5.84297597e-01, 8.15625489e-01, 3.09650466e-04,\n",
              "       2.96703756e-01, 4.62341122e-03, 2.26567010e-03, 3.77110147e-04,\n",
              "       7.33180786e-04, 9.55483794e-01, 6.34320313e-03, 1.17593294e-03,\n",
              "       1.28073590e-02, 2.26877239e-02, 9.39035118e-01, 3.63601178e-01,\n",
              "       3.57537121e-01, 3.60186212e-02, 9.74470556e-01, 3.30447853e-01,\n",
              "       9.59801316e-01, 7.40482986e-01, 2.59153778e-04, 6.64002836e-01,\n",
              "       8.14513922e-01, 1.59448922e-01, 4.34024572e-01, 2.76092235e-02,\n",
              "       8.44156206e-01, 8.83773744e-01, 2.78780295e-04, 7.04616904e-01,\n",
              "       3.12341866e-03, 9.56326902e-01, 8.20209098e-04, 9.62426901e-01,\n",
              "       9.94390905e-01, 9.69097316e-01, 9.90119219e-01, 1.06413506e-01,\n",
              "       1.12162009e-02, 9.86239493e-01, 5.52636245e-03, 5.21208942e-01,\n",
              "       4.41552885e-03, 6.38324767e-02, 1.92005374e-02, 9.46342289e-01,\n",
              "       9.73126113e-01, 7.75944412e-01, 3.34214032e-01, 7.61075318e-01,\n",
              "       3.40086967e-01, 5.56523912e-03, 2.22501199e-04, 1.14469342e-02,\n",
              "       3.59029502e-01, 6.86104774e-01, 8.26281846e-01, 1.68441549e-01,\n",
              "       2.80165613e-01, 8.32926214e-01, 9.41592395e-01, 9.60160792e-01,\n",
              "       6.52123809e-01, 8.58459622e-03, 1.27292387e-02, 4.36637849e-01,\n",
              "       8.76196027e-01, 9.36667919e-01, 7.01481521e-01, 1.07930293e-02,\n",
              "       4.53558937e-02, 9.61031199e-01, 7.97963291e-02, 7.18323708e-01,\n",
              "       1.10745411e-02, 2.33693291e-02, 6.99414492e-01, 9.25201416e-01,\n",
              "       1.89036831e-01, 9.45367734e-04, 1.50055572e-01, 7.86565900e-01,\n",
              "       1.44567026e-03, 2.53922224e-01, 2.55363464e-01, 3.83017771e-02,\n",
              "       8.10757995e-01, 6.96722826e-04, 4.59139228e-01, 7.99120545e-01,\n",
              "       9.88459945e-01, 1.37091742e-03, 2.64445000e-04, 7.27204680e-01,\n",
              "       6.59849262e-03, 8.17841113e-01, 6.99970275e-02, 6.69678897e-02,\n",
              "       7.87019789e-01, 8.60655725e-01, 2.89737046e-01, 4.08323109e-01,\n",
              "       2.98881158e-02, 9.67681587e-01, 8.07270966e-03, 4.94723953e-02,\n",
              "       9.56791818e-01, 2.34398083e-03, 8.14157948e-02, 2.53549370e-04,\n",
              "       1.43368617e-01, 2.23936841e-01, 6.86709136e-02, 1.22550698e-02,\n",
              "       2.94008438e-04, 2.04874109e-02, 4.93837833e-01, 4.69496012e-01,\n",
              "       7.36806810e-01, 5.47878891e-02, 1.70342997e-01, 1.48248196e-01,\n",
              "       5.46391428e-01, 7.39367306e-01, 7.22011387e-01, 5.35448082e-02,\n",
              "       8.53093743e-01, 2.49430072e-04, 7.95955777e-01, 1.21587619e-01,\n",
              "       9.70256865e-01, 2.01322560e-04, 2.89624900e-01, 1.00883603e-01,\n",
              "       1.07055962e-01, 9.78017330e-01, 2.45088283e-02, 9.71029818e-01,\n",
              "       8.06926847e-01, 2.54481303e-04, 9.47480977e-01, 9.35383081e-01,\n",
              "       1.53672183e-03, 3.54253105e-04, 8.16969931e-01, 4.30561900e-01,\n",
              "       2.32395381e-01, 2.54009588e-04, 6.11047149e-01, 4.40341653e-03,\n",
              "       1.38504043e-01, 9.58175719e-01, 6.87117517e-01, 5.36121011e-01,\n",
              "       8.94900858e-01, 5.39755464e-01, 4.20208365e-01, 7.64874509e-04,\n",
              "       5.19811222e-03, 3.87421176e-02, 2.38406443e-04, 3.18309158e-01,\n",
              "       1.58232991e-02, 9.74855363e-01, 8.85715127e-01, 1.77682415e-01,\n",
              "       9.16982163e-03, 6.55022450e-04, 4.59359102e-02, 8.39519083e-01,\n",
              "       1.05161518e-01, 5.14341056e-01, 1.82497257e-03, 3.43641528e-04,\n",
              "       9.17394757e-01, 9.86784518e-01, 9.17915225e-01, 2.86145091e-01,\n",
              "       2.63235793e-02, 2.48109619e-03, 4.72735643e-01, 3.83621216e-01,\n",
              "       4.65363771e-01, 9.07452404e-01, 4.12156552e-01, 2.70314660e-04,\n",
              "       9.17497218e-01, 9.49351251e-01, 6.67942286e-01, 6.05061352e-01,\n",
              "       5.26321352e-01, 8.78324330e-01, 9.83997464e-01, 7.07131028e-02,\n",
              "       4.75958586e-01, 1.57724938e-03, 1.14940703e-02, 3.23872780e-04,\n",
              "       2.55196113e-02, 1.16282525e-02, 8.83148789e-01, 9.62880731e-01,\n",
              "       3.33114952e-01, 1.67695587e-04, 5.44877583e-03, 2.27015074e-02,\n",
              "       8.02256051e-04, 6.09249517e-04, 3.24521854e-04, 4.03520972e-01,\n",
              "       4.02074959e-03, 7.47947156e-01, 3.57292389e-04, 8.39175820e-01,\n",
              "       9.75494623e-01, 2.07139224e-01, 1.09152451e-01, 9.39540029e-01,\n",
              "       5.92665136e-01, 9.79234934e-01, 3.92207444e-01, 7.33949065e-01,\n",
              "       2.64072955e-01, 3.60067010e-01, 6.86360896e-01, 6.25238419e-01,\n",
              "       8.64773035e-01, 9.71114337e-01, 7.25008905e-01, 2.83055822e-04,\n",
              "       8.26396167e-01, 3.54179069e-02, 2.63482623e-04, 1.82334625e-04,\n",
              "       8.28154087e-02, 9.69030440e-01, 8.87001753e-01, 4.01215166e-01,\n",
              "       2.11762963e-04, 9.76477444e-01, 5.55628896e-01, 1.84677660e-01,\n",
              "       7.74273753e-01, 2.01475341e-03, 6.12007558e-01, 7.00177372e-01,\n",
              "       3.75247502e-04, 9.56848562e-01, 1.89764643e-04, 5.54812670e-01,\n",
              "       9.70152974e-01, 8.49987209e-01, 9.80246127e-01, 9.52977873e-03,\n",
              "       7.07548201e-01, 9.54828024e-01, 9.02185515e-02, 4.17008758e-01,\n",
              "       2.41413130e-03, 8.92517447e-01, 8.74877751e-01, 9.81131196e-01,\n",
              "       5.64076722e-01, 1.50318116e-01, 8.82234335e-01, 9.73754406e-01,\n",
              "       3.82149071e-01, 1.48629099e-01, 7.21279740e-01, 9.76165161e-02,\n",
              "       5.66157512e-04, 6.48866582e-04, 2.71415681e-01, 3.31649892e-02,\n",
              "       3.78551893e-03, 8.78253758e-01, 9.24141407e-01, 9.29793298e-01,\n",
              "       1.25751249e-03, 2.12867215e-01, 8.06448758e-01, 9.29316461e-01,\n",
              "       7.93861628e-01, 6.11442804e-01, 9.24819767e-01, 4.37367439e-01,\n",
              "       5.21366477e-01, 2.54446149e-01, 4.42760289e-01, 7.65395880e-01,\n",
              "       9.74255741e-01, 2.91362792e-01, 9.12558854e-01, 2.22248435e-01,\n",
              "       9.78927076e-01, 9.24403846e-01, 9.32381034e-01, 8.76869142e-01,\n",
              "       7.60838747e-01, 5.62396385e-02, 2.42235139e-04, 8.61898124e-01,\n",
              "       1.21166941e-03, 8.61627400e-01, 1.21912897e-01, 1.72784671e-01,\n",
              "       5.85316718e-01, 1.75207164e-02, 7.80642390e-01, 2.59950641e-04,\n",
              "       2.21352130e-01, 8.80105436e-01, 8.06128383e-02, 2.97939405e-04,\n",
              "       9.30840790e-01, 4.15572040e-02, 8.69643700e-04, 1.44022390e-01,\n",
              "       1.10067916e-03, 1.01560421e-01, 5.46642637e-04, 7.48092234e-01,\n",
              "       8.48865986e-01, 3.55470984e-04, 9.36274886e-01, 4.44322973e-01,\n",
              "       9.18403924e-01, 8.09929550e-01, 2.65351124e-03, 1.98253185e-01,\n",
              "       9.60799396e-01, 7.93231905e-01, 2.08716765e-02, 3.09449766e-04,\n",
              "       2.12594212e-04, 5.76653540e-01, 2.17011333e-01, 7.38869188e-04,\n",
              "       3.34855611e-03, 1.34741351e-01, 8.80670846e-01, 1.42112851e-01,\n",
              "       7.64244888e-03, 9.89890337e-01, 9.24366474e-01, 6.72524750e-01,\n",
              "       6.90665185e-01, 8.63580629e-02, 8.95998359e-01, 9.81401742e-01,\n",
              "       3.68626177e-04, 1.04865007e-01, 8.34703386e-01, 7.89408267e-01,\n",
              "       1.45553821e-03, 8.27984571e-01, 8.70012194e-02, 9.58668709e-01,\n",
              "       2.89273709e-01, 8.57852280e-01, 6.23104513e-01, 8.48340213e-01,\n",
              "       3.30353469e-01, 6.49018466e-01, 9.44819808e-01, 4.07555401e-02,\n",
              "       7.36845553e-01, 7.15861499e-01, 1.18722983e-01, 9.36596096e-01,\n",
              "       1.18625462e-02, 7.81832695e-01, 9.83360291e-01, 7.54194707e-02,\n",
              "       9.48121011e-01, 5.09040104e-03, 9.67069194e-02, 1.11967929e-04,\n",
              "       8.94624531e-01, 6.77327991e-01, 2.73490340e-01, 3.67145449e-01,\n",
              "       3.01981374e-04, 9.81011689e-02, 9.56017494e-01, 4.64595184e-02,\n",
              "       2.79576663e-04, 4.39003296e-03, 9.06946242e-01, 1.81710944e-01,\n",
              "       1.05118277e-02, 4.28718239e-01, 3.11951637e-01, 3.26204026e-04,\n",
              "       8.98431301e-01, 1.45245582e-01, 6.44556344e-01, 9.09604225e-03,\n",
              "       2.95016468e-01, 3.75772953e-01, 9.73804295e-01, 8.09140682e-01,\n",
              "       1.50781441e-02, 1.52552843e-01, 8.66072655e-01, 3.40082392e-04,\n",
              "       9.94702876e-01, 8.53567347e-02, 6.62252307e-02, 7.57248774e-02,\n",
              "       1.48944169e-01, 9.27508056e-01, 2.18370438e-01, 8.74355972e-01,\n",
              "       2.42570058e-01, 5.23610353e-01, 9.42897797e-01, 7.40116171e-04,\n",
              "       9.48565423e-01, 8.41142714e-01, 1.23337358e-01, 9.15589809e-01,\n",
              "       2.46043414e-01, 5.06242104e-02, 7.94926751e-03, 7.48281404e-02,\n",
              "       3.96117598e-01, 9.33292687e-01, 3.68494123e-01, 1.58776432e-01,\n",
              "       2.16392651e-02, 9.77530062e-01, 8.83664250e-01, 1.93157326e-03,\n",
              "       5.28911650e-01, 5.03060758e-01, 2.42630631e-04, 9.64091003e-01,\n",
              "       4.50646039e-03, 8.72965217e-01, 6.89158915e-03, 2.93146679e-03,\n",
              "       9.60636139e-01, 9.74459350e-01, 9.90918517e-01, 2.60972045e-03,\n",
              "       4.28697048e-03, 3.88166904e-01, 6.69258416e-01, 6.28531503e-04,\n",
              "       8.71024668e-01, 5.25049400e-03, 2.86928773e-01, 8.80754948e-01,\n",
              "       9.83397722e-01, 3.26185662e-04, 3.27206403e-02, 5.41407049e-01,\n",
              "       6.71158487e-04, 2.92603858e-04, 2.82200217e-01, 7.44436562e-01,\n",
              "       5.75716019e-01, 3.39489222e-01, 5.14454069e-03, 9.12739217e-01,\n",
              "       9.28477108e-01, 5.15301287e-01, 5.86786978e-02, 1.69785425e-01,\n",
              "       2.05801241e-02, 8.36807132e-01, 3.27058166e-04, 8.10267985e-01,\n",
              "       6.78062618e-01, 2.01216055e-04, 9.17423368e-01, 1.70896985e-02,\n",
              "       1.48778164e-03, 5.82170149e-04, 5.29307267e-03, 6.28501832e-01,\n",
              "       2.39092171e-01, 9.68400657e-01, 4.76193309e-01, 3.19822989e-02,\n",
              "       4.19520766e-01, 8.80243778e-02, 8.11335742e-01, 8.90186131e-02,\n",
              "       2.42391694e-02, 7.24568442e-02, 9.80819881e-01, 8.45156312e-01,\n",
              "       9.13323686e-02, 8.48147422e-02, 9.66089368e-01, 9.55894530e-01,\n",
              "       9.80561554e-01, 7.36542821e-01, 1.66846216e-01, 6.93051934e-01,\n",
              "       1.78261518e-01, 9.88579154e-01, 5.33852391e-02, 9.68971610e-01,\n",
              "       4.13977742e-01, 3.93813774e-02, 8.55799496e-01, 1.31652638e-01,\n",
              "       1.73891231e-01, 7.74013400e-01, 1.74138680e-01, 9.72304881e-01,\n",
              "       3.01154703e-01, 1.10170199e-02, 2.88152218e-01, 9.64453280e-01,\n",
              "       6.08763434e-02, 3.87551874e-04, 9.39037919e-01, 9.93228376e-01,\n",
              "       5.99830672e-02, 2.82773405e-01, 1.55440509e-01, 3.35026026e-01,\n",
              "       7.24100173e-01, 5.32070994e-01, 7.96592653e-01, 4.33922163e-04,\n",
              "       9.83808458e-01, 9.01683807e-01, 9.17100549e-01, 3.68938357e-01,\n",
              "       8.13621521e-01, 9.79589522e-01, 2.39289299e-01, 4.66900319e-02],\n",
              "      dtype=float32)>"
            ]
          },
          "metadata": {},
          "execution_count": 101
        }
      ],
      "source": [
        "y_preds = model.predict(valid_dataset)\n",
        "#y_preds_1 =tf.round(y_preds)\n",
        "y_preds_2 = tf.reshape(y_preds, [600])\n",
        "y_preds_3 = tf.cast(y_preds_2, tf.float32)\n",
        "y_preds_3"
      ]
    },
    {
      "cell_type": "code",
      "execution_count": null,
      "metadata": {
        "colab": {
          "base_uri": "https://localhost:8080/"
        },
        "id": "hFhjnUQPjIMs",
        "outputId": "c9e4ae39-2c22-42cf-d10f-9b3d9011ee66"
      },
      "outputs": [
        {
          "output_type": "stream",
          "name": "stdout",
          "text": [
            "f1 score:  0.7428571428571429\n",
            "accuracy:  0.805\n"
          ]
        }
      ],
      "source": [
        "print(\"f1 score: \", f1_score(y_valid_bert, y_preds_3>0.62))\n",
        "print(\"accuracy: \", accuracy_score(y_valid_bert, y_preds_3>0.62))"
      ]
    },
    {
      "cell_type": "code",
      "execution_count": null,
      "metadata": {
        "colab": {
          "base_uri": "https://localhost:8080/"
        },
        "id": "_xshXpSMXoMS",
        "outputId": "5cb4b416-2eb2-4d66-a17f-36847d8b7301"
      },
      "outputs": [
        {
          "output_type": "execute_result",
          "data": {
            "text/plain": [
              "array([0, 0, 0, 0, 0, 0, 1, 0, 0, 1, 0, 0, 0, 1, 1, 0, 0, 1, 0, 1, 0, 1,\n",
              "       1, 0, 1, 0, 1, 1, 1, 0, 1, 0, 1, 0, 1, 0, 1, 1, 0, 1, 1, 0, 0, 0,\n",
              "       0, 0, 0, 0, 1, 0, 1, 0, 1, 1, 0, 0, 1, 0, 0, 0, 0, 0, 1, 0, 0, 0,\n",
              "       0, 0, 0, 1, 0, 0, 0, 0, 1, 0, 0, 0, 1, 0, 1, 1, 0, 1, 1, 0, 0, 0,\n",
              "       1, 1, 0, 1, 0, 1, 0, 1, 1, 1, 1, 0, 0, 1, 0, 0, 0, 0, 0, 1, 1, 1,\n",
              "       0, 1, 0, 0, 0, 0, 0, 1, 1, 0, 0, 1, 1, 1, 1, 0, 0, 0, 1, 1, 1, 0,\n",
              "       0, 1, 0, 1, 0, 0, 1, 1, 0, 0, 0, 1, 0, 0, 0, 0, 1, 0, 0, 1, 1, 0,\n",
              "       0, 1, 0, 1, 0, 0, 1, 1, 0, 0, 0, 1, 0, 0, 1, 0, 0, 0, 0, 0, 0, 0,\n",
              "       0, 0, 0, 0, 1, 0, 0, 0, 0, 1, 1, 0, 1, 0, 1, 0, 1, 0, 0, 0, 0, 1,\n",
              "       0, 1, 1, 0, 1, 1, 0, 0, 1, 0, 0, 0, 0, 0, 0, 1, 1, 0, 1, 0, 0, 0,\n",
              "       0, 0, 0, 0, 0, 1, 1, 0, 0, 0, 0, 1, 0, 0, 0, 0, 1, 1, 1, 0, 0, 0,\n",
              "       0, 0, 0, 1, 0, 0, 1, 1, 1, 0, 0, 1, 1, 0, 0, 0, 0, 0, 0, 0, 1, 1,\n",
              "       0, 0, 0, 0, 0, 0, 0, 0, 0, 1, 0, 1, 1, 0, 0, 1, 0, 1, 0, 1, 0, 0,\n",
              "       1, 1, 1, 1, 1, 0, 1, 0, 0, 0, 0, 1, 1, 0, 0, 1, 0, 0, 1, 0, 0, 1,\n",
              "       0, 1, 0, 0, 1, 1, 1, 0, 1, 1, 0, 0, 0, 1, 1, 1, 0, 0, 1, 1, 0, 0,\n",
              "       1, 0, 0, 0, 0, 0, 0, 1, 1, 1, 0, 0, 1, 1, 1, 0, 1, 0, 0, 0, 0, 1,\n",
              "       1, 0, 1, 0, 1, 1, 1, 1, 1, 0, 0, 1, 0, 1, 0, 0, 0, 0, 1, 0, 0, 1,\n",
              "       0, 0, 1, 0, 0, 0, 0, 0, 0, 1, 1, 0, 1, 0, 1, 1, 0, 0, 1, 1, 0, 0,\n",
              "       0, 0, 0, 0, 0, 0, 1, 0, 0, 1, 1, 1, 1, 0, 1, 1, 0, 0, 1, 1, 0, 1,\n",
              "       0, 1, 0, 1, 1, 1, 0, 1, 1, 0, 1, 1, 0, 1, 0, 1, 1, 0, 1, 0, 0, 0,\n",
              "       1, 1, 0, 0, 0, 0, 1, 0, 0, 0, 1, 0, 0, 0, 0, 0, 1, 0, 1, 0, 0, 0,\n",
              "       1, 1, 0, 0, 1, 0, 1, 0, 0, 0, 0, 1, 0, 1, 0, 0, 1, 0, 1, 1, 0, 1,\n",
              "       0, 0, 0, 0, 0, 1, 0, 0, 0, 1, 1, 0, 0, 0, 0, 1, 0, 1, 0, 0, 1, 1,\n",
              "       1, 0, 0, 0, 1, 0, 1, 0, 0, 1, 1, 0, 0, 0, 0, 0, 0, 1, 0, 0, 0, 1,\n",
              "       1, 0, 0, 0, 0, 1, 0, 1, 1, 0, 1, 0, 0, 0, 0, 1, 0, 1, 0, 0, 0, 0,\n",
              "       1, 0, 0, 0, 1, 1, 0, 0, 1, 1, 1, 1, 0, 1, 0, 1, 0, 1, 0, 0, 1, 0,\n",
              "       0, 1, 0, 1, 0, 0, 0, 1, 0, 0, 1, 1, 0, 0, 0, 0, 1, 0, 1, 0, 1, 1,\n",
              "       1, 0, 1, 1, 0, 0])"
            ]
          },
          "metadata": {},
          "execution_count": 116
        }
      ],
      "source": [
        "y_preds_4 = []\n",
        "for i in range(len(y_preds_3)):\n",
        "  if y_preds_3[i]>0.62:\n",
        "    y_preds_4.append(1)\n",
        "  else:\n",
        "    y_preds_4.append(0)\n",
        "\n",
        "y_preds_4 = np.array(y_preds_4)\n",
        "y_preds_4"
      ]
    },
    {
      "cell_type": "code",
      "execution_count": null,
      "metadata": {
        "colab": {
          "base_uri": "https://localhost:8080/"
        },
        "id": "_tx1afmNX3rR",
        "outputId": "3a6b70cb-51ab-40ad-a142-3f3610823088"
      },
      "outputs": [
        {
          "output_type": "stream",
          "name": "stdout",
          "text": [
            "Accuracy: 0.805000\n",
            "Precision: 0.719149\n",
            "Recall: 0.768182\n",
            "F1 score: 0.742857\n"
          ]
        }
      ],
      "source": [
        "report(y_valid_bert, y_preds_4)"
      ]
    },
    {
      "cell_type": "code",
      "execution_count": null,
      "metadata": {
        "id": "DT1TshvtYE6K"
      },
      "outputs": [],
      "source": [
        "y_preds_test = model.predict(x_test_bert)\n",
        "\n",
        "# y_preds_1 =tf.round(y_preds_test)\n",
        "y_preds_2 = tf.reshape(y_preds_test, [9955])\n",
        "y_preds_3 = tf.cast(y_preds_2, tf.float32)\n",
        "y_preds_3\n",
        "\n",
        "y_preds_4 = []\n",
        "for i in range(len(y_preds_3)):\n",
        "  if y_preds_3[i]>0.50:\n",
        "    y_preds_4.append(1)\n",
        "  else:\n",
        "    y_preds_4.append(0)\n",
        "\n",
        "y_preds_4 = np.array(y_preds_4)\n",
        "y_preds_4\n",
        "\n",
        "test['Premise'] = y_preds_4"
      ]
    },
    {
      "cell_type": "code",
      "execution_count": null,
      "metadata": {
        "id": "o8s3hocSYlUZ"
      },
      "outputs": [],
      "source": [
        ""
      ]
    },
    {
      "cell_type": "code",
      "execution_count": null,
      "metadata": {
        "id": "f95iEn-_b5mM"
      },
      "outputs": [],
      "source": [
        "test.to_csv('/content/drive/MyDrive/smmh/premise_predictions_bert.tsv', sep='\\t', index=False)"
      ]
    },
    {
      "cell_type": "markdown",
      "metadata": {
        "id": "-u1OkaTh9xen"
      },
      "source": [
        "# scibert"
      ]
    },
    {
      "cell_type": "code",
      "execution_count": null,
      "metadata": {
        "colab": {
          "base_uri": "https://localhost:8080/",
          "height": 220,
          "referenced_widgets": [
            "54212438377f41ffb312a3404181b8c5",
            "be05a0ddd1dd4277b063258c07a77104",
            "b2967616b37647b7b197eb26575f8a6f",
            "65018faee4c2413d818061f671c3adcd",
            "c12131bba15a4d0eb96c39117ea71192",
            "4759e18c7db24c2ba533a471f737d5cf",
            "979391870a714653a5837564d807a865",
            "0a82afffe200439195c0f45ecee1e43b",
            "d56c7798ae304ffdb2166f966d71cb25",
            "0ed23e521a8a4384b19f88faeed5ff7f",
            "5a5421fbfb794ff1b329dc23e32994e3",
            "5e0b4ffba22b4c91a0c4cede7558acb8",
            "674cc04e1a09401994bf98ac6d077880",
            "aa5373aae96747fa849a3d47f8b801f6",
            "82eaedd550ca4df2a0836ea0558edebe",
            "98be7abb4f244e458ee4360053e7a9b5",
            "f248525495ad48d580aed168fe4dcf15",
            "5d010cc435b74735a70455811e3110bb",
            "16cfce7040cd4215bae59848d9ded2dd",
            "3a27f82860cb4a2193b8654cef07c069",
            "ce3559b1fceb4a1e830aaaadd7bf2a38",
            "f44832c57bce43f893ea1e1d8e1732fe",
            "e11ac54d98bf48b381738416dfb57ead",
            "334d4cd832674531b489fcebed1bd5e6",
            "851d6aa0cce7496ead7df1c535126d6f",
            "0574046008f347e4bf17467878c25711",
            "e30eb3492d6a4e8d9ab7b70984853429",
            "4e82c41f33d74d0aadb0d1f4a733adcd",
            "6a37ece0dd2845219be21e61798bb98a",
            "79823729d1b4452f89e709c481b0e8a1",
            "98c27a4a0dcb437a825d2d22a5b974ce",
            "bf0d280baf3b4021b16f151a07efa838",
            "954cc46566784a04b043e0a4f7bfd3a5"
          ]
        },
        "id": "ArBtqF5398uj",
        "outputId": "5a937421-6a58-4f95-cd39-f08e09f84a6e"
      },
      "outputs": [
        {
          "output_type": "display_data",
          "data": {
            "text/plain": [
              "Downloading:   0%|          | 0.00/385 [00:00<?, ?B/s]"
            ],
            "application/vnd.jupyter.widget-view+json": {
              "version_major": 2,
              "version_minor": 0,
              "model_id": "54212438377f41ffb312a3404181b8c5"
            }
          },
          "metadata": {}
        },
        {
          "output_type": "display_data",
          "data": {
            "text/plain": [
              "Downloading:   0%|          | 0.00/223k [00:00<?, ?B/s]"
            ],
            "application/vnd.jupyter.widget-view+json": {
              "version_major": 2,
              "version_minor": 0,
              "model_id": "5e0b4ffba22b4c91a0c4cede7558acb8"
            }
          },
          "metadata": {}
        },
        {
          "output_type": "display_data",
          "data": {
            "text/plain": [
              "Downloading:   0%|          | 0.00/422M [00:00<?, ?B/s]"
            ],
            "application/vnd.jupyter.widget-view+json": {
              "version_major": 2,
              "version_minor": 0,
              "model_id": "e11ac54d98bf48b381738416dfb57ead"
            }
          },
          "metadata": {}
        },
        {
          "output_type": "stream",
          "name": "stderr",
          "text": [
            "Some weights of the PyTorch model were not used when initializing the TF 2.0 model TFBertModel: ['cls.seq_relationship.bias', 'cls.predictions.transform.LayerNorm.weight', 'cls.predictions.decoder.weight', 'cls.seq_relationship.weight', 'cls.predictions.transform.dense.weight', 'cls.predictions.decoder.bias', 'cls.predictions.transform.dense.bias', 'cls.predictions.transform.LayerNorm.bias', 'cls.predictions.bias']\n",
            "- This IS expected if you are initializing TFBertModel from a PyTorch model trained on another task or with another architecture (e.g. initializing a TFBertForSequenceClassification model from a BertForPreTraining model).\n",
            "- This IS NOT expected if you are initializing TFBertModel from a PyTorch model that you expect to be exactly identical (e.g. initializing a TFBertForSequenceClassification model from a BertForSequenceClassification model).\n",
            "All the weights of TFBertModel were initialized from the PyTorch model.\n",
            "If your task is similar to the task the model of the checkpoint was trained on, you can already use TFBertModel for predictions without further training.\n"
          ]
        }
      ],
      "source": [
        "from transformers import AutoTokenizer, TFAutoModel\n",
        "tokenizer = AutoTokenizer.from_pretrained(\"allenai/scibert_scivocab_uncased\", from_pt=True,model_max_length=256)\n",
        "model = TFAutoModel.from_pretrained(\"allenai/scibert_scivocab_uncased\", from_pt=True)"
      ]
    },
    {
      "cell_type": "code",
      "execution_count": null,
      "metadata": {
        "id": "HkxpF3Cs_0id"
      },
      "outputs": [],
      "source": [
        "def build_model(transformer, max_len=512):\n",
        "    \"\"\"\n",
        "    function for training the BERT model\n",
        "    \"\"\"\n",
        "    input_word_ids = Input(shape=(max_len,), dtype=tf.int32, name=\"input_word_ids\")\n",
        "    sequence_output = transformer(input_word_ids)[0]\n",
        "    cls_token = sequence_output[:, 0, :]\n",
        "    out = Dense(1, activation='sigmoid')(cls_token)\n",
        "    \n",
        "    model = Model(inputs=input_word_ids, outputs=out)\n",
        "    model.compile(Adam(lr=1e-5), loss='binary_crossentropy', metrics=['accuracy'])\n",
        "    \n",
        "    return model"
      ]
    },
    {
      "cell_type": "code",
      "execution_count": null,
      "metadata": {
        "colab": {
          "base_uri": "https://localhost:8080/"
        },
        "id": "j49WaV_C_3bd",
        "outputId": "0703b548-ee7c-4471-ad5e-edcafe15ee3e"
      },
      "outputs": [
        {
          "output_type": "stream",
          "name": "stdout",
          "text": [
            "WARNING:tensorflow:From /usr/local/lib/python3.7/dist-packages/tensorflow/python/ops/array_ops.py:5049: calling gather (from tensorflow.python.ops.array_ops) with validate_indices is deprecated and will be removed in a future version.\n",
            "Instructions for updating:\n",
            "The `validate_indices` argument has no effect. Indices are always validated on CPU and never validated on GPU.\n",
            "Model: \"model\"\n",
            "_________________________________________________________________\n",
            "Layer (type)                 Output Shape              Param #   \n",
            "=================================================================\n",
            "input_word_ids (InputLayer)  [(None, 256)]             0         \n",
            "_________________________________________________________________\n",
            "tf_bert_model (TFBertModel)  TFBaseModelOutputWithPool 109918464 \n",
            "_________________________________________________________________\n",
            "tf.__operators__.getitem (Sl (None, 768)               0         \n",
            "_________________________________________________________________\n",
            "dense (Dense)                (None, 1)                 769       \n",
            "=================================================================\n",
            "Total params: 109,919,233\n",
            "Trainable params: 109,919,233\n",
            "Non-trainable params: 0\n",
            "_________________________________________________________________\n",
            "CPU times: user 4.72 s, sys: 39.3 ms, total: 4.76 s\n",
            "Wall time: 4.75 s\n"
          ]
        },
        {
          "output_type": "stream",
          "name": "stderr",
          "text": [
            "/usr/local/lib/python3.7/dist-packages/tensorflow/python/keras/optimizer_v2/optimizer_v2.py:375: UserWarning: The `lr` argument is deprecated, use `learning_rate` instead.\n",
            "  \"The `lr` argument is deprecated, use `learning_rate` instead.\")\n"
          ]
        }
      ],
      "source": [
        "%%time\n",
        "with strategy.scope():\n",
        "    transformer_layer = (\n",
        "        model\n",
        "    )\n",
        "    model = build_model(transformer_layer, max_len=256)\n",
        "model.summary()"
      ]
    },
    {
      "cell_type": "code",
      "execution_count": null,
      "metadata": {
        "id": "LKiFHzfF_77q"
      },
      "outputs": [],
      "source": [
        "def tokenized_data(tokenizer, data):\n",
        "  list1 = tokenizer(data, truncation=True, padding=True)\n",
        "  return list1"
      ]
    },
    {
      "cell_type": "code",
      "execution_count": null,
      "metadata": {
        "id": "wfdltgnv_-Yb"
      },
      "outputs": [],
      "source": [
        "data_scibert = tokenized_data(tokenizer, data)\n",
        "data_scibert = array(data_scibert['input_ids'])"
      ]
    },
    {
      "cell_type": "code",
      "execution_count": null,
      "metadata": {
        "id": "MLlNrbJ0ABcp"
      },
      "outputs": [],
      "source": [
        "x_train_scibert = data_scibert[0:3556]\n",
        "x_valid_scibert = data_scibert[3556:4156]\n",
        "x_test_scibert = data_scibert[4156:]"
      ]
    },
    {
      "cell_type": "code",
      "execution_count": null,
      "metadata": {
        "id": "5slZzdNZAED2"
      },
      "outputs": [],
      "source": [
        "y_train_scibert = train1.Premise.values\n",
        "y_valid_scibert = valid.Premise.values"
      ]
    },
    {
      "cell_type": "code",
      "execution_count": null,
      "metadata": {
        "id": "5XEPl6w_AHC5"
      },
      "outputs": [],
      "source": [
        "train_dataset_scibert = (\n",
        "    tf.data.Dataset\n",
        "    .from_tensor_slices((x_train_scibert, y_train_scibert))\n",
        "    .repeat()\n",
        "    .shuffle(2048)\n",
        "    .batch(BATCH_SIZE)\n",
        "    .prefetch(AUTO)\n",
        ")\n",
        "\n",
        "valid_dataset_scibert = (\n",
        "    tf.data.Dataset\n",
        "    .from_tensor_slices((x_valid_scibert, y_valid_scibert))\n",
        "    .batch(BATCH_SIZE)\n",
        "    .cache()\n",
        "    .prefetch(AUTO)\n",
        ")"
      ]
    },
    {
      "cell_type": "code",
      "execution_count": null,
      "metadata": {
        "colab": {
          "base_uri": "https://localhost:8080/"
        },
        "id": "Gz-PpJH_AJq6",
        "outputId": "0114d82c-4542-4477-9d8f-12d8b9222a42"
      },
      "outputs": [
        {
          "output_type": "stream",
          "name": "stdout",
          "text": [
            "Epoch 1/4\n",
            "WARNING:tensorflow:Gradients do not exist for variables ['tf_bert_model_1/bert/pooler/dense/kernel:0', 'tf_bert_model_1/bert/pooler/dense/bias:0'] when minimizing the loss.\n"
          ]
        },
        {
          "output_type": "stream",
          "name": "stderr",
          "text": [
            "WARNING:tensorflow:Gradients do not exist for variables ['tf_bert_model_1/bert/pooler/dense/kernel:0', 'tf_bert_model_1/bert/pooler/dense/bias:0'] when minimizing the loss.\n"
          ]
        },
        {
          "output_type": "stream",
          "name": "stdout",
          "text": [
            "WARNING:tensorflow:Gradients do not exist for variables ['tf_bert_model_1/bert/pooler/dense/kernel:0', 'tf_bert_model_1/bert/pooler/dense/bias:0'] when minimizing the loss.\n"
          ]
        },
        {
          "output_type": "stream",
          "name": "stderr",
          "text": [
            "WARNING:tensorflow:Gradients do not exist for variables ['tf_bert_model_1/bert/pooler/dense/kernel:0', 'tf_bert_model_1/bert/pooler/dense/bias:0'] when minimizing the loss.\n"
          ]
        },
        {
          "output_type": "stream",
          "name": "stdout",
          "text": [
            "222/222 [==============================] - 166s 591ms/step - loss: 0.6034 - accuracy: 0.6776 - val_loss: 0.4603 - val_accuracy: 0.7833\n",
            "Epoch 2/4\n",
            "222/222 [==============================] - 122s 549ms/step - loss: 0.5036 - accuracy: 0.7401 - val_loss: 0.4812 - val_accuracy: 0.7550\n",
            "Epoch 3/4\n",
            "222/222 [==============================] - 120s 542ms/step - loss: 0.4409 - accuracy: 0.7869 - val_loss: 0.5155 - val_accuracy: 0.7467\n",
            "Epoch 4/4\n",
            "222/222 [==============================] - 120s 541ms/step - loss: 0.3629 - accuracy: 0.8308 - val_loss: 0.4479 - val_accuracy: 0.7883\n"
          ]
        }
      ],
      "source": [
        "n_steps = x_train_scibert.shape[0] // BATCH_SIZE\n",
        "train_history_scibert = model.fit(\n",
        "    train_dataset_scibert,\n",
        "    steps_per_epoch=n_steps,\n",
        "    validation_data=valid_dataset_scibert,\n",
        "    epochs=4\n",
        ")"
      ]
    },
    {
      "cell_type": "code",
      "execution_count": null,
      "metadata": {
        "colab": {
          "base_uri": "https://localhost:8080/"
        },
        "id": "GXeriK7EAL9y",
        "outputId": "5802aee2-c891-4a81-8800-7c09b174fde7"
      },
      "outputs": [
        {
          "output_type": "stream",
          "name": "stdout",
          "text": [
            "38/38 [==============================] - 11s 175ms/step - loss: 0.4479 - accuracy: 0.7883\n"
          ]
        },
        {
          "output_type": "execute_result",
          "data": {
            "text/plain": [
              "[0.4478854238986969, 0.7883333563804626]"
            ]
          },
          "metadata": {},
          "execution_count": 37
        }
      ],
      "source": [
        "model.evaluate(valid_dataset_scibert)"
      ]
    },
    {
      "cell_type": "code",
      "execution_count": null,
      "metadata": {
        "id": "i2JUefn0AQCI"
      },
      "outputs": [],
      "source": [
        "model.save_weights('/content/drive/MyDrive/smm4h/scibert.h5')"
      ]
    },
    {
      "cell_type": "code",
      "source": [
        "plot_loss_curves(train_history_scibert)"
      ],
      "metadata": {
        "colab": {
          "base_uri": "https://localhost:8080/",
          "height": 573
        },
        "id": "zdhi8qnnfjXb",
        "outputId": "9692fd18-6dd5-4808-8d3e-55ad1680e1f0"
      },
      "execution_count": null,
      "outputs": [
        {
          "output_type": "display_data",
          "data": {
            "text/plain": [
              "<Figure size 432x288 with 1 Axes>"
            ],
            "image/png": "[encoded data removed]"
          },
          "metadata": {
            "needs_background": "light"
          }
        },
        {
          "output_type": "display_data",
          "data": {
            "text/plain": [
              "<Figure size 432x288 with 1 Axes>"
            ],
            "image/png": "[encoded data removed]"
          },
          "metadata": {
            "needs_background": "light"
          }
        }
      ]
    },
    {
      "cell_type": "code",
      "source": [
        "model.load_weights('/content/drive/MyDrive/smm4h/scibert.h5')"
      ],
      "metadata": {
        "id": "xR-HplX6tmjW"
      },
      "execution_count": null,
      "outputs": []
    },
    {
      "cell_type": "code",
      "execution_count": null,
      "metadata": {
        "colab": {
          "base_uri": "https://localhost:8080/"
        },
        "id": "JpAosmqFj1bG",
        "outputId": "4bde9048-88cd-4e28-ab9b-73342a7d377d"
      },
      "outputs": [
        {
          "output_type": "execute_result",
          "data": {
            "text/plain": [
              "<tf.Tensor: shape=(600,), dtype=float32, numpy=\n",
              "array([2.77061105e-01, 4.77385154e-04, 4.21987891e-01, 3.68229789e-03,\n",
              "       2.31217638e-01, 2.93510467e-01, 7.36230075e-01, 3.51112289e-03,\n",
              "       4.28433508e-01, 9.22012687e-01, 1.14873692e-01, 7.97481116e-05,\n",
              "       3.06227966e-03, 9.83865559e-01, 8.41199756e-01, 1.88566878e-01,\n",
              "       1.72652453e-02, 7.33564794e-01, 1.19352550e-03, 5.16662717e-01,\n",
              "       9.04485360e-02, 7.74172664e-01, 9.77243483e-01, 1.78804412e-03,\n",
              "       7.40944684e-01, 7.85589963e-03, 9.68946517e-01, 9.88490582e-01,\n",
              "       9.59561348e-01, 1.48462832e-01, 7.35035002e-01, 8.50893048e-05,\n",
              "       7.02847302e-01, 7.43111921e-03, 9.33485210e-01, 1.14125760e-04,\n",
              "       8.27508569e-01, 8.31769526e-01, 9.89269018e-02, 7.59576142e-01,\n",
              "       2.25936443e-01, 5.07413298e-02, 1.04036644e-01, 3.17992330e-01,\n",
              "       1.44997360e-02, 3.81046534e-02, 1.28633785e-03, 1.46148424e-03,\n",
              "       9.60895240e-01, 3.83648008e-01, 9.06414330e-01, 8.84591695e-03,\n",
              "       8.02153170e-01, 6.61597133e-01, 7.58940878e-04, 3.40137035e-02,\n",
              "       9.69831169e-01, 6.95527941e-02, 1.70589518e-02, 9.70399706e-05,\n",
              "       9.61973856e-04, 2.10058942e-01, 5.22901475e-01, 1.72798129e-04,\n",
              "       7.25641668e-01, 1.43347591e-01, 7.34644197e-03, 8.75170226e-05,\n",
              "       1.00501603e-03, 6.09665453e-01, 1.07650587e-03, 2.75642797e-03,\n",
              "       2.76747247e-04, 6.10483158e-03, 4.19119865e-01, 2.02512592e-01,\n",
              "       1.36003301e-01, 3.30867171e-02, 9.35842037e-01, 3.03437382e-01,\n",
              "       9.74348903e-01, 1.48491800e-01, 4.78061178e-04, 3.19274753e-01,\n",
              "       4.46647584e-01, 3.25511634e-01, 5.83711982e-01, 5.69726117e-02,\n",
              "       7.49063790e-01, 4.91472036e-01, 7.56368390e-05, 9.80243802e-01,\n",
              "       8.16613610e-04, 5.78038812e-01, 2.04861630e-03, 9.80586290e-01,\n",
              "       9.78090763e-01, 9.07050490e-01, 9.73451436e-01, 2.95128636e-02,\n",
              "       4.43222281e-03, 9.51097131e-01, 2.52351910e-03, 1.90526038e-01,\n",
              "       4.29967865e-02, 5.92849888e-02, 8.17759242e-03, 7.21027374e-01,\n",
              "       9.28882241e-01, 5.91955721e-01, 3.38030338e-01, 6.73843443e-01,\n",
              "       5.53722978e-01, 7.01653655e-04, 8.11599675e-05, 2.72275303e-02,\n",
              "       1.34410515e-01, 3.86762291e-01, 2.74532288e-01, 7.40099490e-01,\n",
              "       4.81822342e-01, 9.21379566e-01, 6.17864668e-01, 8.83879721e-01,\n",
              "       2.91187674e-01, 1.53551638e-01, 7.63042073e-04, 6.37015462e-01,\n",
              "       7.52022088e-01, 6.67561054e-01, 1.21734284e-01, 4.68550064e-02,\n",
              "       5.66599285e-03, 9.88000929e-01, 8.22385922e-02, 4.46547925e-01,\n",
              "       1.54976349e-03, 2.38231495e-02, 7.23014295e-01, 8.47931743e-01,\n",
              "       8.69739890e-01, 2.29177167e-04, 5.45076728e-01, 1.22188985e-01,\n",
              "       9.31732706e-04, 1.28651395e-01, 3.70316729e-02, 7.75654763e-02,\n",
              "       7.87292778e-01, 1.99276105e-01, 1.70903683e-01, 5.81812635e-02,\n",
              "       9.84026015e-01, 8.06628843e-04, 9.46061264e-05, 8.12072814e-01,\n",
              "       1.94898665e-01, 3.94892782e-01, 4.32174504e-02, 1.09150365e-01,\n",
              "       6.39796734e-01, 4.48577136e-01, 2.41679102e-01, 3.50243896e-01,\n",
              "       4.50044237e-02, 8.53942335e-01, 5.77644678e-03, 4.03119177e-02,\n",
              "       9.20263052e-01, 1.19250617e-03, 8.15960094e-02, 9.36690485e-05,\n",
              "       5.01364648e-01, 5.19540906e-02, 9.46231112e-02, 2.77171563e-03,\n",
              "       1.63467499e-04, 4.61820289e-02, 9.05575305e-02, 3.17363590e-01,\n",
              "       4.30977136e-01, 1.25140585e-02, 1.47280663e-01, 2.59170532e-02,\n",
              "       2.78695971e-01, 3.35809946e-01, 2.35250145e-01, 7.24739535e-03,\n",
              "       3.54332626e-01, 7.91442289e-05, 8.94968629e-01, 4.46465798e-02,\n",
              "       9.20950890e-01, 9.13897093e-05, 1.35761112e-01, 1.20131038e-01,\n",
              "       6.97849929e-01, 8.65625322e-01, 5.19198105e-02, 9.83032346e-01,\n",
              "       7.89742172e-02, 8.76270526e-04, 6.54108584e-01, 9.27384794e-01,\n",
              "       9.92484507e-04, 9.08698785e-05, 1.67442381e-01, 1.07414618e-01,\n",
              "       2.38549754e-01, 9.73642891e-05, 4.45469558e-01, 1.86137296e-02,\n",
              "       8.10740963e-02, 8.93363178e-01, 1.54416636e-01, 4.03671533e-01,\n",
              "       6.73832953e-01, 3.48334640e-01, 4.80308890e-01, 1.99575871e-02,\n",
              "       1.15107104e-01, 8.73129163e-03, 1.31868088e-04, 3.70704681e-01,\n",
              "       5.10882866e-03, 8.70035768e-01, 3.04851919e-01, 5.53996861e-01,\n",
              "       4.53702956e-02, 7.89721683e-03, 2.23548375e-02, 9.27273452e-01,\n",
              "       1.81381360e-01, 1.16798021e-02, 2.27984823e-02, 9.03859909e-05,\n",
              "       9.46850836e-01, 8.51495087e-01, 9.37700868e-01, 4.11918610e-02,\n",
              "       2.07497682e-02, 5.19697322e-04, 4.04028207e-01, 1.96289569e-01,\n",
              "       4.21432316e-01, 7.08217502e-01, 1.75284762e-02, 7.28786545e-05,\n",
              "       5.17278790e-01, 8.22371662e-01, 3.79899919e-01, 7.06400990e-01,\n",
              "       8.58480334e-01, 6.60225213e-01, 9.52572942e-01, 1.22558706e-01,\n",
              "       9.45991814e-01, 3.63874249e-04, 3.97116654e-02, 2.52407230e-03,\n",
              "       9.92365852e-02, 1.18457328e-03, 9.81106400e-01, 9.02530134e-01,\n",
              "       1.06816500e-01, 5.90234878e-04, 2.32408475e-02, 2.81299967e-02,\n",
              "       4.58667334e-03, 1.69420440e-04, 8.40833891e-05, 7.61574984e-01,\n",
              "       1.00013707e-03, 1.65066853e-01, 1.00744459e-04, 4.59025592e-01,\n",
              "       9.80690658e-01, 1.99609295e-01, 3.80365908e-01, 8.81918728e-01,\n",
              "       4.07168746e-01, 9.27001417e-01, 1.70802921e-01, 2.85498828e-01,\n",
              "       2.64659137e-01, 1.75170675e-01, 8.53521764e-01, 5.42449713e-01,\n",
              "       5.28625309e-01, 7.55706608e-01, 1.42380223e-01, 8.10861675e-05,\n",
              "       7.12290049e-01, 1.35956958e-01, 1.84840595e-04, 2.67311232e-04,\n",
              "       2.49099191e-02, 9.33567882e-01, 3.77102286e-01, 5.28560638e-01,\n",
              "       8.50625293e-05, 9.49572086e-01, 2.45881572e-01, 3.84983048e-02,\n",
              "       3.57120335e-01, 8.25764611e-02, 2.04048529e-01, 6.13208354e-01,\n",
              "       1.09301502e-04, 9.17159140e-01, 6.74361872e-05, 5.60822666e-01,\n",
              "       9.83759880e-01, 4.11606699e-01, 9.81634080e-01, 1.08409133e-02,\n",
              "       9.24966574e-01, 9.22110736e-01, 2.75134385e-01, 3.46443474e-01,\n",
              "       7.96494074e-03, 8.05417538e-01, 8.04907560e-01, 9.41936433e-01,\n",
              "       5.64105570e-01, 5.63243069e-02, 6.79002523e-01, 4.96397883e-01,\n",
              "       3.87078702e-01, 3.64452489e-02, 7.34541178e-01, 2.62598693e-01,\n",
              "       1.34817950e-04, 1.03734713e-02, 7.78491870e-02, 5.35669476e-02,\n",
              "       2.76185572e-01, 8.29138339e-01, 7.45283544e-01, 7.61355579e-01,\n",
              "       3.32051143e-03, 1.46262854e-01, 4.58620042e-01, 6.29995048e-01,\n",
              "       4.18210477e-01, 5.26922941e-01, 8.60719085e-01, 5.44965453e-02,\n",
              "       2.10301802e-01, 3.88733740e-03, 1.14640214e-01, 1.31829262e-01,\n",
              "       6.37123704e-01, 5.76707721e-01, 4.19446170e-01, 3.44280720e-01,\n",
              "       9.86222446e-01, 8.51681411e-01, 8.51072490e-01, 8.64312202e-02,\n",
              "       6.23493552e-01, 6.39884323e-02, 8.00067792e-05, 5.49603522e-01,\n",
              "       6.82153681e-04, 6.64345920e-01, 2.54624069e-01, 3.48769248e-01,\n",
              "       3.81051488e-02, 1.61932036e-01, 6.56535208e-01, 9.02821121e-05,\n",
              "       5.15706651e-02, 7.00158238e-01, 1.31469190e-01, 1.00097597e-04,\n",
              "       9.27517951e-01, 1.01288289e-01, 2.71981582e-03, 6.68333948e-01,\n",
              "       6.97809970e-04, 3.15010101e-01, 2.41121836e-03, 5.92080653e-01,\n",
              "       9.03498709e-01, 1.88125399e-04, 8.50821555e-01, 2.45921806e-01,\n",
              "       6.59037471e-01, 1.37743488e-01, 2.18351968e-02, 8.06985050e-02,\n",
              "       9.25528407e-01, 2.34361023e-01, 1.63755268e-02, 1.02987637e-04,\n",
              "       8.53988458e-05, 2.45399818e-01, 3.00678283e-01, 1.23270936e-02,\n",
              "       5.16345724e-03, 7.45915473e-01, 4.66833144e-01, 1.41452193e-01,\n",
              "       1.62850600e-02, 9.78571534e-01, 6.72099590e-01, 7.55853355e-01,\n",
              "       1.46332979e-01, 1.35524586e-01, 5.08465171e-01, 7.65221894e-01,\n",
              "       4.26193641e-04, 1.77830886e-02, 3.73695046e-01, 4.64446396e-01,\n",
              "       1.56847714e-03, 9.21957195e-01, 6.43845052e-02, 9.61619973e-01,\n",
              "       9.77559984e-02, 3.96243334e-01, 4.54270482e-01, 4.08885330e-01,\n",
              "       5.33913225e-02, 6.87092125e-01, 9.40114081e-01, 1.86108127e-02,\n",
              "       3.83756965e-01, 7.82769740e-01, 5.97921498e-02, 6.53351307e-01,\n",
              "       5.57245547e-03, 4.17605966e-01, 9.18781340e-01, 3.63270611e-01,\n",
              "       8.84742856e-01, 1.22044690e-01, 1.10188171e-01, 1.25442384e-04,\n",
              "       9.77297425e-01, 2.88057745e-01, 1.69298559e-01, 2.85599470e-01,\n",
              "       7.68326208e-05, 6.91244751e-02, 9.58822846e-01, 1.57991230e-01,\n",
              "       8.40120629e-05, 1.12712430e-02, 5.66528022e-01, 9.15969983e-02,\n",
              "       8.37917328e-02, 5.90246022e-01, 4.23339218e-01, 1.77720751e-04,\n",
              "       9.03958440e-01, 3.20773721e-02, 8.66600692e-01, 1.90951955e-03,\n",
              "       2.16745690e-01, 1.68610498e-01, 9.24553812e-01, 2.87691712e-01,\n",
              "       1.01863697e-01, 1.75446019e-01, 9.03823376e-01, 2.49202567e-04,\n",
              "       9.78898585e-01, 5.38382530e-02, 7.63143897e-01, 8.13908502e-02,\n",
              "       4.59178686e-02, 9.20918107e-01, 5.88895082e-02, 7.87714779e-01,\n",
              "       2.00129703e-01, 1.24638841e-01, 9.65756357e-01, 2.60878610e-03,\n",
              "       8.57403338e-01, 8.47693861e-01, 1.49070442e-01, 2.37555459e-01,\n",
              "       2.90808797e-01, 5.49815856e-02, 3.07365675e-02, 3.18075329e-01,\n",
              "       1.10267699e-01, 5.97366989e-01, 2.48566136e-01, 7.54617667e-03,\n",
              "       1.11996651e-01, 9.27880049e-01, 9.41628873e-01, 9.82200634e-03,\n",
              "       5.31844676e-01, 6.51824355e-01, 1.31185952e-04, 6.61894143e-01,\n",
              "       1.39918912e-03, 8.89141381e-01, 1.78384280e-03, 1.26601392e-02,\n",
              "       6.67974353e-01, 8.62822771e-01, 9.38049376e-01, 7.07801878e-02,\n",
              "       1.29535457e-03, 2.48453282e-02, 5.85503638e-01, 4.27040271e-02,\n",
              "       8.40844512e-01, 1.79751846e-03, 1.56798720e-01, 2.79328674e-01,\n",
              "       9.71168756e-01, 1.07092012e-04, 2.42744293e-03, 7.70303607e-01,\n",
              "       6.20086852e-04, 1.01935766e-04, 2.82726940e-02, 7.48852074e-01,\n",
              "       4.65654790e-01, 4.45745140e-01, 3.34151834e-02, 8.22893679e-01,\n",
              "       7.34874487e-01, 4.27164942e-01, 2.20915582e-02, 8.78972337e-02,\n",
              "       1.65997469e-03, 4.50329691e-01, 8.67597773e-05, 7.40554512e-01,\n",
              "       5.96349895e-01, 1.37780837e-04, 8.90878320e-01, 3.57318530e-03,\n",
              "       1.35719578e-03, 4.53160203e-04, 2.14121561e-03, 2.62095392e-01,\n",
              "       3.40072326e-02, 7.58422852e-01, 2.49861971e-01, 8.05242173e-03,\n",
              "       1.64507218e-02, 5.09370685e-01, 5.89867234e-01, 5.83119690e-03,\n",
              "       2.75607556e-01, 2.32277345e-03, 7.91555464e-01, 5.41404486e-01,\n",
              "       4.14212823e-01, 1.17424458e-01, 9.29674029e-01, 9.58182812e-01,\n",
              "       9.82880056e-01, 5.40788770e-01, 1.85878873e-01, 1.18940867e-01,\n",
              "       5.92284389e-02, 9.39323723e-01, 4.79302602e-03, 9.32546973e-01,\n",
              "       5.77149726e-02, 5.43180034e-02, 7.40164578e-01, 1.47846460e-01,\n",
              "       5.70798516e-01, 5.65964818e-01, 7.47800991e-02, 9.55476403e-01,\n",
              "       2.00427130e-01, 1.11189345e-02, 2.26036146e-01, 8.88730705e-01,\n",
              "       4.11535874e-02, 8.29902274e-05, 9.36815143e-01, 9.91109133e-01,\n",
              "       4.97241952e-02, 1.81537867e-01, 4.06918004e-02, 4.74470347e-01,\n",
              "       1.67693093e-01, 2.59435326e-01, 7.20372498e-01, 1.06981047e-03,\n",
              "       9.50832129e-01, 9.39692616e-01, 8.74320686e-01, 1.54176757e-01,\n",
              "       6.30720913e-01, 9.79033172e-01, 4.84116226e-01, 6.48923544e-03],\n",
              "      dtype=float32)>"
            ]
          },
          "metadata": {},
          "execution_count": 39
        }
      ],
      "source": [
        "y_preds = model.predict(valid_dataset_scibert)\n",
        "#y_preds_1 =tf.round(y_preds)\n",
        "y_preds_2 = tf.reshape(y_preds, [600])\n",
        "y_preds_3 = tf.cast(y_preds_2, tf.float32)\n",
        "y_preds_3"
      ]
    },
    {
      "cell_type": "code",
      "execution_count": null,
      "metadata": {
        "colab": {
          "base_uri": "https://localhost:8080/"
        },
        "id": "tpTox5uSbzNl",
        "outputId": "dd7d2975-0c0e-49ba-ccf8-45481799a182"
      },
      "outputs": [
        {
          "output_type": "stream",
          "name": "stdout",
          "text": [
            "f1 score:  0.7047146401985112\n",
            "accuracy:  0.8016666666666666\n"
          ]
        }
      ],
      "source": [
        "print(\"f1 score: \", f1_score(y_valid_scibert, y_preds_3>0.58))\n",
        "print(\"accuracy: \", accuracy_score(y_valid_scibert, y_preds_3>0.58))"
      ]
    },
    {
      "cell_type": "code",
      "execution_count": null,
      "metadata": {
        "colab": {
          "base_uri": "https://localhost:8080/"
        },
        "id": "08YutTxLbzI-",
        "outputId": "b2a30f1f-0412-4ff4-da51-b713de358ee9"
      },
      "outputs": [
        {
          "output_type": "execute_result",
          "data": {
            "text/plain": [
              "array([0, 0, 0, 0, 0, 0, 1, 0, 0, 1, 0, 0, 0, 1, 1, 0, 0, 1, 0, 0, 0, 1,\n",
              "       1, 0, 1, 0, 1, 1, 1, 0, 1, 0, 1, 0, 1, 0, 1, 1, 0, 1, 0, 0, 0, 0,\n",
              "       0, 0, 0, 0, 1, 0, 1, 0, 1, 1, 0, 0, 1, 0, 0, 0, 0, 0, 0, 0, 1, 0,\n",
              "       0, 0, 0, 1, 0, 0, 0, 0, 0, 0, 0, 0, 1, 0, 1, 0, 0, 0, 0, 0, 1, 0,\n",
              "       1, 0, 0, 1, 0, 0, 0, 1, 1, 1, 1, 0, 0, 1, 0, 0, 0, 0, 0, 1, 1, 1,\n",
              "       0, 1, 0, 0, 0, 0, 0, 0, 0, 1, 0, 1, 1, 1, 0, 0, 0, 1, 1, 1, 0, 0,\n",
              "       0, 1, 0, 0, 0, 0, 1, 1, 1, 0, 0, 0, 0, 0, 0, 0, 1, 0, 0, 0, 1, 0,\n",
              "       0, 1, 0, 0, 0, 0, 1, 0, 0, 0, 0, 1, 0, 0, 1, 0, 0, 0, 0, 0, 0, 0,\n",
              "       0, 0, 0, 0, 0, 0, 0, 0, 0, 0, 0, 0, 0, 0, 1, 0, 1, 0, 0, 0, 1, 1,\n",
              "       0, 1, 0, 0, 1, 1, 0, 0, 0, 0, 0, 0, 0, 0, 0, 1, 0, 0, 1, 0, 0, 0,\n",
              "       0, 0, 0, 0, 0, 1, 0, 0, 0, 0, 0, 1, 0, 0, 0, 0, 1, 1, 1, 0, 0, 0,\n",
              "       0, 0, 0, 1, 0, 0, 0, 1, 0, 1, 1, 1, 1, 0, 1, 0, 0, 0, 0, 0, 1, 1,\n",
              "       0, 0, 0, 0, 0, 0, 0, 1, 0, 0, 0, 0, 1, 0, 0, 1, 0, 1, 0, 0, 0, 0,\n",
              "       1, 0, 0, 1, 0, 0, 1, 0, 0, 0, 0, 1, 0, 0, 0, 1, 0, 0, 0, 0, 0, 1,\n",
              "       0, 1, 0, 0, 1, 0, 1, 0, 1, 1, 0, 0, 0, 1, 1, 1, 0, 0, 1, 0, 0, 0,\n",
              "       1, 0, 0, 0, 0, 0, 0, 1, 1, 1, 0, 0, 0, 1, 0, 0, 1, 0, 0, 0, 0, 0,\n",
              "       1, 0, 0, 0, 1, 1, 1, 0, 1, 0, 0, 0, 0, 1, 0, 0, 0, 0, 1, 0, 0, 1,\n",
              "       0, 0, 1, 0, 0, 1, 0, 0, 0, 1, 1, 0, 1, 0, 1, 0, 0, 0, 1, 0, 0, 0,\n",
              "       0, 0, 0, 0, 0, 1, 0, 0, 0, 1, 1, 1, 0, 0, 0, 1, 0, 0, 0, 0, 0, 1,\n",
              "       0, 1, 0, 0, 0, 0, 0, 1, 1, 0, 0, 1, 0, 1, 0, 0, 1, 0, 1, 0, 0, 0,\n",
              "       1, 0, 0, 0, 0, 0, 1, 0, 0, 0, 0, 0, 0, 1, 0, 0, 1, 0, 1, 0, 0, 0,\n",
              "       1, 0, 0, 0, 1, 0, 1, 0, 1, 0, 0, 1, 0, 1, 0, 0, 1, 0, 1, 1, 0, 0,\n",
              "       0, 0, 0, 0, 0, 1, 0, 0, 0, 1, 1, 0, 0, 1, 0, 1, 0, 1, 0, 0, 1, 1,\n",
              "       1, 0, 0, 0, 1, 0, 1, 0, 0, 0, 1, 0, 0, 1, 0, 0, 0, 1, 0, 0, 0, 1,\n",
              "       1, 0, 0, 0, 0, 0, 0, 1, 1, 0, 1, 0, 0, 0, 0, 0, 0, 1, 0, 0, 0, 0,\n",
              "       1, 0, 0, 0, 1, 0, 0, 0, 1, 1, 1, 0, 0, 0, 0, 1, 0, 1, 0, 0, 1, 0,\n",
              "       0, 0, 0, 1, 0, 0, 0, 1, 0, 0, 1, 1, 0, 0, 0, 0, 0, 0, 1, 0, 1, 1,\n",
              "       1, 0, 1, 1, 0, 0])"
            ]
          },
          "metadata": {},
          "execution_count": 53
        }
      ],
      "source": [
        "y_preds_4 = []\n",
        "for i in range(len(y_preds_3)):\n",
        "  if y_preds_3[i]>0.58:\n",
        "    y_preds_4.append(1)\n",
        "  else:\n",
        "    y_preds_4.append(0)\n",
        "\n",
        "y_preds_4 = np.array(y_preds_4)\n",
        "y_preds_4"
      ]
    },
    {
      "cell_type": "code",
      "execution_count": null,
      "metadata": {
        "colab": {
          "base_uri": "https://localhost:8080/"
        },
        "id": "GoaX5csnbzAN",
        "outputId": "f819cd6a-2b52-4087-fc31-5c15ee2b6661"
      },
      "outputs": [
        {
          "output_type": "stream",
          "name": "stdout",
          "text": [
            "Accuracy: 0.801667\n",
            "Precision: 0.775956\n",
            "Recall: 0.645455\n",
            "F1 score: 0.704715\n"
          ]
        }
      ],
      "source": [
        "report(y_valid_scibert, y_preds_4)"
      ]
    },
    {
      "cell_type": "code",
      "execution_count": null,
      "metadata": {
        "id": "tq1smRDTb9c7"
      },
      "outputs": [],
      "source": [
        "y_preds_test = model.predict(x_test_bert)\n",
        "\n",
        "# y_preds_1 =tf.round(y_preds_test)\n",
        "y_preds_2 = tf.reshape(y_preds_test, [9955])\n",
        "y_preds_3 = tf.cast(y_preds_2, tf.float32)\n",
        "y_preds_3\n",
        "\n",
        "y_preds_4 = []\n",
        "for i in range(len(y_preds_3)):\n",
        "  if y_preds_3[i]>0.58:\n",
        "    y_preds_4.append(1)\n",
        "  else:\n",
        "    y_preds_4.append(0)\n",
        "\n",
        "y_preds_4 = np.array(y_preds_4)\n",
        "y_preds_4\n",
        "\n",
        "test['Premise'] = y_preds_4"
      ]
    },
    {
      "cell_type": "code",
      "execution_count": null,
      "metadata": {
        "id": "f9nI2kT5kXe-"
      },
      "outputs": [],
      "source": [
        "test.to_csv('/content/drive/MyDrive/smmh/premise_predictions_scibert.tsv', sep='\\t', index=False)"
      ]
    },
    {
      "cell_type": "markdown",
      "metadata": {
        "id": "bVfXvwzu937n"
      },
      "source": [
        "# specter"
      ]
    },
    {
      "cell_type": "code",
      "execution_count": null,
      "metadata": {
        "colab": {
          "base_uri": "https://localhost:8080/",
          "height": 284,
          "referenced_widgets": [
            "511066fb5786494389ed09065b788ab4",
            "277159b9ecd848d0902516ec098638d7",
            "9c468413402b468084f821c350cff720",
            "a08b50c3c1144d359f958055decb45eb",
            "ea4e4455fb2648228bb96807c8dc9f22",
            "753719cb41324aa4bd1722f1fe6a34af",
            "775af22563384cc59037134ca5141fa8",
            "e585e02daeb04ee7b2efc4b5dc87c0b0",
            "1aed516df85d4a9a9f4259d53e348060",
            "aa1819dfb3b84a2082c70e9840b2073c",
            "d535f25fa0c147399a803944208790e2",
            "ed3cdb16823643d2af4d4cd30d6bb94c",
            "90c456fa37354bb19dbb6c2b285d8792",
            "f4e24917ed3b42c9a7a9ba0b00e7235e",
            "9592b8b91274447ca44eae68ef6648d0",
            "0f723239e313473fbf5c1db2578576fb",
            "d3a0aedb14504ffc94ffe8f3216cba51",
            "98ac5113d6e64103bd99e796e0a80bb1",
            "6d81d5de6d2c496fa09e7d82bcd8e995",
            "5fcd12d21eac45de82cea41df55459b4",
            "ffb9e6f8e36d4e93b2c8ef6c9841b811",
            "fa0a63d791f54ef8964199d27bb20243",
            "dbd2108c88f5423d8b3ae7b87e7b5cb5",
            "9989cf507e544ef7a009143d31262d76",
            "bc8b0748a7b0419bbe857e1aa62f45df",
            "62e46521cec543cda36af151b8c12764",
            "5535b4233b064f59a78d771f15776f44",
            "045a427d231a42c4a212de199edffb7f",
            "66809e6930df4dd98c219bd702a9855c",
            "cb41ff86cb874b94bb2a7f2c18aca2c0",
            "adb55edcaf5c4bd6848a56fa01d89d52",
            "beb0116c40754af982d3dc228f2e18fd",
            "cfbe014272a248349e0eeeaef82efbf6",
            "bf818dc8cf3f4f38b46e3a994e244369",
            "1c945d889da54b149560c7d9805d456a",
            "94da0d7920234e82b1718fa7876d5126",
            "ee14244dbe0543f89d545a55ece7c390",
            "ceaa1686617d47c3abaa10216d7d5530",
            "da0ad88e847d48309504b238521abd38",
            "b2b1245685d74611b97091c630e34b91",
            "b594cde3a83a47048e1bae2af0aa0873",
            "63475a1879a64c75a30092384d1c6ee3",
            "03b06ba905484440888a463746ec6bde",
            "b31d8ffab62a465e97b3c28351dce823",
            "8f141911563c413a9cb87b38b90118a4",
            "a90e32ff738c42429ff51361cd2feca7",
            "3542db6cdcf143e5a959e37af4621a76",
            "31d6921a311d46d7a8ad11f1d3a78a38",
            "33b92bd1012a4a73bcd676a260ff55f0",
            "667c77544df344fe85c6882499ce6170",
            "86a534eb3c82425ea4811b36cae19bd2",
            "b6696206b02947a390f586302fdc695e",
            "158d7d0db7e34d4da52012e9e95af398",
            "4bd3f76adaef48c885975dd4e56530cc",
            "a126db05550846449717139bc763439d"
          ]
        },
        "id": "rMbLuTYn99rM",
        "outputId": "fc56f8ab-e8f6-422a-9c7d-82bb8e7abc2b"
      },
      "outputs": [
        {
          "output_type": "display_data",
          "data": {
            "text/plain": [
              "Downloading:   0%|          | 0.00/321 [00:00<?, ?B/s]"
            ],
            "application/vnd.jupyter.widget-view+json": {
              "version_major": 2,
              "version_minor": 0,
              "model_id": "511066fb5786494389ed09065b788ab4"
            }
          },
          "metadata": {}
        },
        {
          "output_type": "display_data",
          "data": {
            "text/plain": [
              "Downloading:   0%|          | 0.00/612 [00:00<?, ?B/s]"
            ],
            "application/vnd.jupyter.widget-view+json": {
              "version_major": 2,
              "version_minor": 0,
              "model_id": "ed3cdb16823643d2af4d4cd30d6bb94c"
            }
          },
          "metadata": {}
        },
        {
          "output_type": "display_data",
          "data": {
            "text/plain": [
              "Downloading:   0%|          | 0.00/217k [00:00<?, ?B/s]"
            ],
            "application/vnd.jupyter.widget-view+json": {
              "version_major": 2,
              "version_minor": 0,
              "model_id": "dbd2108c88f5423d8b3ae7b87e7b5cb5"
            }
          },
          "metadata": {}
        },
        {
          "output_type": "display_data",
          "data": {
            "text/plain": [
              "Downloading:   0%|          | 0.00/112 [00:00<?, ?B/s]"
            ],
            "application/vnd.jupyter.widget-view+json": {
              "version_major": 2,
              "version_minor": 0,
              "model_id": "bf818dc8cf3f4f38b46e3a994e244369"
            }
          },
          "metadata": {}
        },
        {
          "output_type": "display_data",
          "data": {
            "text/plain": [
              "Downloading:   0%|          | 0.00/419M [00:00<?, ?B/s]"
            ],
            "application/vnd.jupyter.widget-view+json": {
              "version_major": 2,
              "version_minor": 0,
              "model_id": "8f141911563c413a9cb87b38b90118a4"
            }
          },
          "metadata": {}
        },
        {
          "output_type": "stream",
          "name": "stderr",
          "text": [
            "Some weights of the PyTorch model were not used when initializing the TF 2.0 model TFBertModel: ['embeddings.position_ids']\n",
            "- This IS expected if you are initializing TFBertModel from a PyTorch model trained on another task or with another architecture (e.g. initializing a TFBertForSequenceClassification model from a BertForPreTraining model).\n",
            "- This IS NOT expected if you are initializing TFBertModel from a PyTorch model that you expect to be exactly identical (e.g. initializing a TFBertForSequenceClassification model from a BertForSequenceClassification model).\n",
            "All the weights of TFBertModel were initialized from the PyTorch model.\n",
            "If your task is similar to the task the model of the checkpoint was trained on, you can already use TFBertModel for predictions without further training.\n"
          ]
        }
      ],
      "source": [
        "from transformers import AutoTokenizer, TFAutoModel\n",
        "tokenizer = AutoTokenizer.from_pretrained(\"allenai/specter\", from_pt=True,model_max_length=256)\n",
        "model = TFAutoModel.from_pretrained(\"allenai/specter\", from_pt=True)"
      ]
    },
    {
      "cell_type": "code",
      "execution_count": null,
      "metadata": {
        "id": "TU9KVqYvAaud"
      },
      "outputs": [],
      "source": [
        "def build_model(transformer, max_len=512):\n",
        "    \"\"\"\n",
        "    function for training the BERT model\n",
        "    \"\"\"\n",
        "    input_word_ids = Input(shape=(max_len,), dtype=tf.int32, name=\"input_word_ids\")\n",
        "    sequence_output = transformer(input_word_ids)[0]\n",
        "    cls_token = sequence_output[:, 0, :]\n",
        "    out = Dense(1, activation='sigmoid')(cls_token)\n",
        "    \n",
        "    model = Model(inputs=input_word_ids, outputs=out)\n",
        "    model.compile(Adam(lr=1e-5), loss='binary_crossentropy', metrics=['accuracy'])\n",
        "    \n",
        "    return model"
      ]
    },
    {
      "cell_type": "code",
      "execution_count": null,
      "metadata": {
        "colab": {
          "base_uri": "https://localhost:8080/"
        },
        "id": "K_YLkqjPAiNF",
        "outputId": "8c140040-96b9-4d7a-9f3b-d191c86f3a75"
      },
      "outputs": [
        {
          "output_type": "stream",
          "name": "stdout",
          "text": [
            "Model: \"model_1\"\n",
            "_________________________________________________________________\n",
            "Layer (type)                 Output Shape              Param #   \n",
            "=================================================================\n",
            "input_word_ids (InputLayer)  [(None, 256)]             0         \n",
            "_________________________________________________________________\n",
            "tf_bert_model_1 (TFBertModel TFBaseModelOutputWithPool 109938432 \n",
            "_________________________________________________________________\n",
            "tf.__operators__.getitem_1 ( (None, 768)               0         \n",
            "_________________________________________________________________\n",
            "dense_1 (Dense)              (None, 1)                 769       \n",
            "=================================================================\n",
            "Total params: 109,939,201\n",
            "Trainable params: 109,939,201\n",
            "Non-trainable params: 0\n",
            "_________________________________________________________________\n",
            "CPU times: user 1.72 s, sys: 15.1 ms, total: 1.73 s\n",
            "Wall time: 1.73 s\n"
          ]
        },
        {
          "output_type": "stream",
          "name": "stderr",
          "text": [
            "/usr/local/lib/python3.7/dist-packages/tensorflow/python/keras/optimizer_v2/optimizer_v2.py:375: UserWarning: The `lr` argument is deprecated, use `learning_rate` instead.\n",
            "  \"The `lr` argument is deprecated, use `learning_rate` instead.\")\n"
          ]
        }
      ],
      "source": [
        "%%time\n",
        "with strategy.scope():\n",
        "    transformer_layer = (\n",
        "        model\n",
        "    )\n",
        "    model = build_model(transformer_layer, max_len=256)\n",
        "model.summary()"
      ]
    },
    {
      "cell_type": "code",
      "execution_count": null,
      "metadata": {
        "id": "dao8rf0XAkuv"
      },
      "outputs": [],
      "source": [
        "def tokenized_data(tokenizer, data):\n",
        "  list1 = tokenizer(data, truncation=True, padding=True)\n",
        "  return list1"
      ]
    },
    {
      "cell_type": "code",
      "execution_count": null,
      "metadata": {
        "id": "i4lH7bmYAnL-"
      },
      "outputs": [],
      "source": [
        "data_specter = tokenized_data(tokenizer, data)\n",
        "data_specter = array(data_specter['input_ids'])"
      ]
    },
    {
      "cell_type": "code",
      "execution_count": null,
      "metadata": {
        "id": "wMOFu2YhApfN"
      },
      "outputs": [],
      "source": [
        "x_train_specter = data_specter[0:3556]\n",
        "x_valid_specter = data_specter[3556:4156]\n",
        "x_test_specter = data_specter[4156:]"
      ]
    },
    {
      "cell_type": "code",
      "execution_count": null,
      "metadata": {
        "id": "gaRDIg4pAsaO"
      },
      "outputs": [],
      "source": [
        "y_train_specter = train1.Premise.values\n",
        "y_valid_specter = valid.Premise.values"
      ]
    },
    {
      "cell_type": "code",
      "execution_count": null,
      "metadata": {
        "id": "ZJ7nLXYOAu98"
      },
      "outputs": [],
      "source": [
        "train_dataset_specter = (\n",
        "    tf.data.Dataset\n",
        "    .from_tensor_slices((x_train_specter, y_train_specter))\n",
        "    .repeat()\n",
        "    .shuffle(2048)\n",
        "    .batch(BATCH_SIZE)\n",
        "    .prefetch(AUTO)\n",
        ")\n",
        "\n",
        "valid_dataset_specter = (\n",
        "    tf.data.Dataset\n",
        "    .from_tensor_slices((x_valid_specter, y_valid_specter))\n",
        "    .batch(BATCH_SIZE)\n",
        "    .cache()\n",
        "    .prefetch(AUTO)\n",
        ")"
      ]
    },
    {
      "cell_type": "code",
      "execution_count": null,
      "metadata": {
        "colab": {
          "base_uri": "https://localhost:8080/"
        },
        "id": "dojohINFAxca",
        "outputId": "ebf696e4-783d-44dd-fcb1-78cefec68aa4"
      },
      "outputs": [
        {
          "output_type": "stream",
          "name": "stdout",
          "text": [
            "Epoch 1/4\n",
            "WARNING:tensorflow:Gradients do not exist for variables ['tf_bert_model_2/bert/pooler/dense/kernel:0', 'tf_bert_model_2/bert/pooler/dense/bias:0'] when minimizing the loss.\n"
          ]
        },
        {
          "output_type": "stream",
          "name": "stderr",
          "text": [
            "WARNING:tensorflow:Gradients do not exist for variables ['tf_bert_model_2/bert/pooler/dense/kernel:0', 'tf_bert_model_2/bert/pooler/dense/bias:0'] when minimizing the loss.\n"
          ]
        },
        {
          "output_type": "stream",
          "name": "stdout",
          "text": [
            "WARNING:tensorflow:Gradients do not exist for variables ['tf_bert_model_2/bert/pooler/dense/kernel:0', 'tf_bert_model_2/bert/pooler/dense/bias:0'] when minimizing the loss.\n"
          ]
        },
        {
          "output_type": "stream",
          "name": "stderr",
          "text": [
            "WARNING:tensorflow:Gradients do not exist for variables ['tf_bert_model_2/bert/pooler/dense/kernel:0', 'tf_bert_model_2/bert/pooler/dense/bias:0'] when minimizing the loss.\n"
          ]
        },
        {
          "output_type": "stream",
          "name": "stdout",
          "text": [
            "222/222 [==============================] - 160s 562ms/step - loss: 0.6538 - accuracy: 0.6264 - val_loss: 0.5178 - val_accuracy: 0.7233\n",
            "Epoch 2/4\n",
            "222/222 [==============================] - 121s 543ms/step - loss: 0.5300 - accuracy: 0.7185 - val_loss: 0.5196 - val_accuracy: 0.7300\n",
            "Epoch 3/4\n",
            "222/222 [==============================] - 120s 542ms/step - loss: 0.4688 - accuracy: 0.7621 - val_loss: 0.4707 - val_accuracy: 0.7717\n",
            "Epoch 4/4\n",
            "222/222 [==============================] - 120s 541ms/step - loss: 0.3708 - accuracy: 0.8271 - val_loss: 0.4863 - val_accuracy: 0.7683\n"
          ]
        }
      ],
      "source": [
        "n_steps = x_train_specter.shape[0] // BATCH_SIZE\n",
        "train_history_specter = model.fit(\n",
        "    train_dataset_specter,\n",
        "    steps_per_epoch=n_steps,\n",
        "    validation_data=valid_dataset_specter,\n",
        "    epochs=4\n",
        ")"
      ]
    },
    {
      "cell_type": "code",
      "execution_count": null,
      "metadata": {
        "colab": {
          "base_uri": "https://localhost:8080/"
        },
        "id": "ZyQAfD8lAzXm",
        "outputId": "0c2d415c-535a-4d7c-d670-f4d113a23a3b"
      },
      "outputs": [
        {
          "output_type": "stream",
          "name": "stdout",
          "text": [
            "38/38 [==============================] - 13s 174ms/step - loss: 0.4863 - accuracy: 0.7683\n"
          ]
        },
        {
          "output_type": "execute_result",
          "data": {
            "text/plain": [
              "[0.48632925748825073, 0.7683333158493042]"
            ]
          },
          "metadata": {},
          "execution_count": 66
        }
      ],
      "source": [
        "model.evaluate(valid_dataset_specter)"
      ]
    },
    {
      "cell_type": "code",
      "execution_count": null,
      "metadata": {
        "id": "gKv5T7X6oADm"
      },
      "outputs": [],
      "source": [
        "model.save_weights('/content/drive/MyDrive/smm4h/specter.h5')"
      ]
    },
    {
      "cell_type": "code",
      "source": [
        "plot_loss_curves(train_history_specter)"
      ],
      "metadata": {
        "colab": {
          "base_uri": "https://localhost:8080/",
          "height": 573
        },
        "id": "wl5dU9R_kca8",
        "outputId": "e1b242aa-ac08-405c-ab7a-0875df1a02bc"
      },
      "execution_count": null,
      "outputs": [
        {
          "output_type": "display_data",
          "data": {
            "text/plain": [
              "<Figure size 432x288 with 1 Axes>"
            ],
            "image/png": "[encoded data removed]"
          },
          "metadata": {
            "needs_background": "light"
          }
        },
        {
          "output_type": "display_data",
          "data": {
            "text/plain": [
              "<Figure size 432x288 with 1 Axes>"
            ],
            "image/png": "[encoded data removed]"
          },
          "metadata": {
            "needs_background": "light"
          }
        }
      ]
    },
    {
      "cell_type": "code",
      "source": [
        "model.load_weights('/content/drive/MyDrive/smm4h/specter.h5')"
      ],
      "metadata": {
        "id": "0V_MdmSf09-F"
      },
      "execution_count": null,
      "outputs": []
    },
    {
      "cell_type": "code",
      "execution_count": null,
      "metadata": {
        "colab": {
          "base_uri": "https://localhost:8080/"
        },
        "id": "12BGE82slKNI",
        "outputId": "362f4a14-035a-4c6b-ef65-750c96059b8f"
      },
      "outputs": [
        {
          "output_type": "execute_result",
          "data": {
            "text/plain": [
              "<tf.Tensor: shape=(600,), dtype=float32, numpy=\n",
              "array([8.94248188e-02, 3.78416316e-03, 6.23835623e-01, 9.14741904e-02,\n",
              "       1.19655706e-01, 4.49661613e-01, 9.53788579e-01, 1.09339440e-02,\n",
              "       4.92052883e-01, 9.31003511e-01, 2.27488071e-01, 4.19539312e-04,\n",
              "       1.68716274e-02, 9.85626757e-01, 9.28497255e-01, 1.73496112e-01,\n",
              "       2.03805026e-02, 7.48392403e-01, 1.68808121e-02, 2.13590279e-01,\n",
              "       6.28510416e-02, 5.92833579e-01, 9.52161431e-01, 2.34877039e-03,\n",
              "       8.12194347e-01, 1.38221592e-01, 9.59130704e-01, 9.67301726e-01,\n",
              "       9.62182581e-01, 9.97184217e-02, 7.11321890e-01, 6.03171065e-04,\n",
              "       7.28496432e-01, 9.38643813e-02, 8.12873960e-01, 5.55924315e-04,\n",
              "       8.80170107e-01, 9.21655715e-01, 2.74672091e-01, 7.45964348e-01,\n",
              "       7.47007355e-02, 1.03482664e-01, 2.26623237e-01, 2.25599185e-01,\n",
              "       1.52521655e-02, 3.73728797e-02, 2.88698683e-03, 2.60439026e-03,\n",
              "       9.90494490e-01, 8.04064095e-01, 7.23402858e-01, 4.41899598e-02,\n",
              "       8.29795063e-01, 8.29795480e-01, 3.76133039e-03, 7.05387583e-03,\n",
              "       9.91131485e-01, 1.07292838e-01, 7.84587339e-02, 5.85529080e-04,\n",
              "       4.39571589e-03, 6.36471689e-01, 2.92275995e-01, 2.40367046e-03,\n",
              "       6.93569779e-01, 7.64051735e-01, 3.01001556e-02, 4.41851444e-04,\n",
              "       2.17476231e-03, 2.86646456e-01, 1.85772255e-02, 2.16407962e-02,\n",
              "       1.62227952e-03, 1.52074564e-02, 4.47284609e-01, 3.00393701e-01,\n",
              "       1.21509112e-01, 2.31031477e-01, 9.05711770e-01, 2.95211196e-01,\n",
              "       9.44978893e-01, 5.29532611e-01, 3.69238621e-03, 8.94430697e-01,\n",
              "       4.54705954e-01, 7.54454881e-02, 2.56300807e-01, 7.83148631e-02,\n",
              "       7.94765472e-01, 4.91412401e-01, 4.80888906e-04, 5.62421143e-01,\n",
              "       3.91414613e-02, 9.02968228e-01, 2.41202838e-03, 9.39756215e-01,\n",
              "       9.91370916e-01, 8.75381529e-01, 9.75081444e-01, 8.67878050e-02,\n",
              "       4.50317375e-02, 9.68973160e-01, 1.01447953e-02, 1.54040307e-01,\n",
              "       1.56621024e-01, 3.55044752e-01, 2.98638549e-02, 8.79181862e-01,\n",
              "       9.59832430e-01, 3.76129121e-01, 2.08529040e-01, 8.12208712e-01,\n",
              "       7.87717104e-01, 2.00875290e-03, 4.51221189e-04, 1.97872631e-02,\n",
              "       4.35903192e-01, 8.37806165e-01, 3.44461292e-01, 9.22935188e-01,\n",
              "       8.27718496e-01, 9.38951969e-01, 7.49312460e-01, 9.68455553e-01,\n",
              "       2.27322683e-01, 4.16462779e-01, 8.94098368e-04, 7.62188613e-01,\n",
              "       6.27086043e-01, 6.78792477e-01, 1.73977926e-01, 8.66434872e-02,\n",
              "       2.17316914e-02, 9.82910335e-01, 2.91403607e-02, 6.89088047e-01,\n",
              "       2.69333683e-02, 3.88631672e-02, 9.52924550e-01, 9.02447522e-01,\n",
              "       4.78982389e-01, 2.22333614e-03, 3.95201087e-01, 3.46633554e-01,\n",
              "       1.90118719e-02, 5.31623244e-01, 9.87963676e-02, 3.53805684e-02,\n",
              "       4.28775400e-01, 5.46329655e-02, 1.21226892e-01, 2.43209079e-01,\n",
              "       9.83215988e-01, 1.94589049e-02, 5.48036362e-04, 9.29709375e-01,\n",
              "       1.31686658e-01, 7.56938577e-01, 6.04826093e-01, 3.31800207e-02,\n",
              "       8.40850949e-01, 4.28355098e-01, 3.29974383e-01, 2.23691061e-01,\n",
              "       5.99668436e-02, 9.51143563e-01, 9.39234719e-02, 6.89496696e-02,\n",
              "       7.52916694e-01, 5.18409815e-03, 3.42095159e-02, 4.63628210e-04,\n",
              "       1.54986545e-01, 5.99114895e-01, 3.91671538e-01, 1.17658721e-02,\n",
              "       2.26888875e-03, 8.59370008e-02, 1.30071258e-02, 1.23647116e-01,\n",
              "       6.61741316e-01, 3.77323255e-02, 1.50733665e-01, 5.68920113e-02,\n",
              "       1.51810244e-01, 3.19186985e-01, 2.99302250e-01, 3.05704828e-02,\n",
              "       3.28770190e-01, 3.44194297e-04, 2.94178426e-01, 2.28694066e-01,\n",
              "       9.75890458e-01, 5.24560106e-04, 3.53595227e-01, 3.69923189e-02,\n",
              "       7.91632608e-02, 8.95825267e-01, 1.55254975e-01, 9.76161182e-01,\n",
              "       2.91461319e-01, 8.77663214e-03, 8.42416048e-01, 8.86483788e-01,\n",
              "       2.51691299e-03, 5.21855138e-04, 2.13944763e-01, 4.34004098e-01,\n",
              "       5.51480055e-01, 6.10185962e-04, 8.09461176e-01, 7.16216816e-03,\n",
              "       2.23124251e-01, 9.27430272e-01, 1.40708447e-01, 8.23234499e-01,\n",
              "       7.23983586e-01, 6.57025158e-01, 2.89369285e-01, 7.65244961e-02,\n",
              "       7.47308373e-01, 4.44813445e-03, 5.24308183e-04, 3.61437388e-02,\n",
              "       2.64729802e-02, 7.18766451e-01, 1.75354779e-01, 6.25875413e-01,\n",
              "       3.12116463e-02, 2.58580642e-03, 4.82508279e-02, 7.37555206e-01,\n",
              "       8.08282569e-02, 6.70739710e-02, 3.91907692e-02, 4.25503880e-04,\n",
              "       9.58923459e-01, 8.94913614e-01, 7.90359080e-01, 5.14887124e-02,\n",
              "       6.32919669e-02, 1.25894626e-03, 3.48469168e-01, 4.84161079e-02,\n",
              "       1.30834490e-01, 8.25683415e-01, 6.93076029e-02, 3.40943167e-04,\n",
              "       9.55906808e-01, 7.75889516e-01, 8.52468133e-01, 2.82353938e-01,\n",
              "       8.41957331e-01, 1.48739606e-01, 9.09177184e-01, 6.69858158e-01,\n",
              "       9.02502656e-01, 3.84745304e-03, 3.92469257e-01, 5.80369821e-03,\n",
              "       1.93595722e-01, 1.53537048e-03, 9.65261161e-01, 8.99121046e-01,\n",
              "       3.08078140e-01, 6.09800732e-03, 6.45778924e-02, 1.20560594e-01,\n",
              "       3.90339084e-02, 2.63504032e-03, 4.66047059e-04, 8.54991913e-01,\n",
              "       2.02671182e-03, 1.39471233e-01, 7.32156506e-04, 5.76296866e-01,\n",
              "       9.84383464e-01, 2.61871845e-01, 5.21058619e-01, 9.44183111e-01,\n",
              "       9.48123395e-01, 9.17455733e-01, 3.06792468e-01, 8.28639269e-01,\n",
              "       3.19757909e-01, 5.77820122e-01, 3.89929712e-01, 2.28616387e-01,\n",
              "       4.73718226e-01, 9.82427001e-01, 1.54163137e-01, 4.40430536e-04,\n",
              "       5.73608160e-01, 2.16315705e-02, 8.17884109e-04, 9.57269804e-04,\n",
              "       7.56221592e-01, 9.93265867e-01, 7.01532722e-01, 2.89454967e-01,\n",
              "       4.27579449e-04, 9.93299007e-01, 1.43428996e-01, 1.12634480e-01,\n",
              "       9.51080501e-01, 1.93659458e-02, 5.78356683e-01, 5.30911565e-01,\n",
              "       1.20800245e-03, 9.83899713e-01, 1.42311025e-03, 3.54814500e-01,\n",
              "       9.81833875e-01, 6.84113801e-01, 9.43697810e-01, 1.68553721e-02,\n",
              "       9.01932955e-01, 8.68927538e-01, 2.65972257e-01, 6.97784662e-01,\n",
              "       5.89164160e-02, 9.06270385e-01, 8.34558070e-01, 9.90481794e-01,\n",
              "       8.24036360e-01, 7.68287897e-01, 5.67779541e-01, 9.17160451e-01,\n",
              "       1.51000142e-01, 1.11945063e-01, 9.60444212e-01, 2.95362532e-01,\n",
              "       1.91786699e-03, 4.89554442e-02, 4.62529153e-01, 6.50042221e-02,\n",
              "       4.17665601e-01, 8.66526365e-01, 5.13020337e-01, 4.31028783e-01,\n",
              "       3.58130783e-03, 1.08789906e-01, 3.80631089e-01, 6.26850009e-01,\n",
              "       4.81785804e-01, 8.16116273e-01, 9.68162119e-01, 1.22658245e-01,\n",
              "       7.76841521e-01, 1.89214963e-02, 3.25265646e-01, 1.46903604e-01,\n",
              "       9.23929691e-01, 3.91069263e-01, 5.97168684e-01, 6.21169925e-01,\n",
              "       9.78837967e-01, 9.41766918e-01, 9.36027050e-01, 4.86504823e-01,\n",
              "       5.91424525e-01, 2.19773352e-01, 4.03571001e-04, 3.32862467e-01,\n",
              "       6.87503302e-03, 8.54594946e-01, 1.29205540e-01, 7.90592372e-01,\n",
              "       9.25926208e-01, 4.85730395e-02, 4.37505782e-01, 4.09345754e-04,\n",
              "       1.00381538e-01, 5.15862286e-01, 3.63884777e-01, 6.14476332e-04,\n",
              "       8.19441378e-01, 1.36526292e-02, 1.38759157e-02, 3.30079854e-01,\n",
              "       1.19182596e-03, 8.83874819e-02, 9.86129884e-03, 3.31087112e-01,\n",
              "       8.46902668e-01, 1.00167852e-03, 9.12700474e-01, 8.11971202e-02,\n",
              "       3.84247959e-01, 2.20304996e-01, 2.37680711e-02, 1.03789911e-01,\n",
              "       8.45250666e-01, 1.95457116e-01, 4.88533787e-02, 8.12067941e-04,\n",
              "       6.56626537e-04, 3.00699472e-01, 8.45055759e-01, 2.95548630e-03,\n",
              "       3.09868157e-02, 3.62673193e-01, 4.23657686e-01, 1.31379828e-01,\n",
              "       5.24722300e-02, 9.36958611e-01, 9.05898452e-01, 7.07527816e-01,\n",
              "       1.90275863e-01, 1.30535841e-01, 2.12519690e-01, 6.49897039e-01,\n",
              "       9.05634183e-03, 5.77467121e-02, 6.60243511e-01, 9.21993554e-01,\n",
              "       3.27466754e-03, 9.43437099e-01, 2.33414784e-01, 9.94376957e-01,\n",
              "       6.65508956e-02, 7.16060936e-01, 3.63803625e-01, 4.25847828e-01,\n",
              "       1.43523544e-01, 3.50898087e-01, 9.75867271e-01, 3.76308383e-03,\n",
              "       8.16230059e-01, 7.94283867e-01, 2.90933494e-02, 5.32464266e-01,\n",
              "       2.66544484e-02, 6.17583871e-01, 9.51500893e-01, 2.75199115e-02,\n",
              "       8.38579118e-01, 3.28646339e-02, 6.26798496e-02, 6.45734486e-04,\n",
              "       9.88762319e-01, 6.20379951e-03, 1.18962295e-01, 7.58747697e-01,\n",
              "       3.80290032e-04, 9.92899388e-02, 9.94086742e-01, 2.18746401e-02,\n",
              "       4.77747992e-04, 2.26679742e-02, 9.31524485e-02, 1.01088963e-01,\n",
              "       8.02463889e-02, 9.13921714e-01, 5.78046918e-01, 3.47742601e-03,\n",
              "       9.33545768e-01, 1.04887769e-01, 9.45907652e-01, 2.66863662e-03,\n",
              "       9.08576608e-01, 4.31714267e-01, 9.37229633e-01, 9.07364190e-01,\n",
              "       1.20034084e-01, 6.15380466e-01, 6.09832108e-01, 1.72887440e-03,\n",
              "       9.81938839e-01, 1.13285996e-01, 9.17354077e-02, 1.64435595e-01,\n",
              "       6.05217636e-01, 9.52829838e-01, 1.72085911e-01, 1.96275294e-01,\n",
              "       5.21907568e-01, 3.46632272e-01, 9.85812426e-01, 3.29754618e-03,\n",
              "       9.48202074e-01, 2.80565679e-01, 9.06072408e-02, 4.05406743e-01,\n",
              "       2.22320974e-01, 3.25474292e-02, 1.32454317e-02, 8.97383094e-01,\n",
              "       1.65342838e-01, 8.58832955e-01, 2.33336821e-01, 3.20227444e-02,\n",
              "       1.84224900e-02, 9.76816297e-01, 9.86694694e-01, 8.12004041e-03,\n",
              "       5.94126642e-01, 7.86971986e-01, 8.33220431e-04, 9.68627512e-01,\n",
              "       5.49946278e-02, 8.99871826e-01, 3.15315952e-03, 1.81269813e-02,\n",
              "       9.19949353e-01, 8.50207329e-01, 9.34134781e-01, 2.40754142e-01,\n",
              "       4.53193225e-02, 1.03534192e-01, 7.52180099e-01, 2.81058741e-03,\n",
              "       8.59201074e-01, 1.18057914e-02, 2.28454500e-01, 2.86617190e-01,\n",
              "       9.81009245e-01, 5.70038799e-04, 4.76938933e-02, 8.13294113e-01,\n",
              "       3.81794758e-03, 9.49606532e-04, 5.98753281e-02, 5.41842520e-01,\n",
              "       9.24370229e-01, 3.15963447e-01, 1.09372493e-02, 9.01665807e-01,\n",
              "       6.37751877e-01, 4.82070178e-01, 1.03395134e-01, 6.12386987e-02,\n",
              "       3.35799195e-02, 6.72940075e-01, 5.09863137e-04, 7.04506695e-01,\n",
              "       4.28706497e-01, 1.88633997e-03, 9.07982111e-01, 4.58241962e-02,\n",
              "       7.54906535e-02, 8.54675774e-04, 7.84410816e-03, 7.35310912e-01,\n",
              "       5.79113603e-01, 6.84240937e-01, 2.81448737e-02, 1.06662037e-02,\n",
              "       4.43959273e-02, 6.69986188e-01, 5.16477048e-01, 7.46999588e-03,\n",
              "       1.20293505e-01, 1.03627266e-02, 8.65681887e-01, 6.62778378e-01,\n",
              "       7.06650853e-01, 4.50300165e-02, 9.66230035e-01, 8.52822423e-01,\n",
              "       9.75539565e-01, 8.85495484e-01, 3.07161182e-01, 8.33723068e-01,\n",
              "       1.23142079e-01, 9.82017994e-01, 2.92528309e-02, 8.98981154e-01,\n",
              "       3.58265519e-01, 5.64719141e-02, 7.08108068e-01, 2.28517652e-01,\n",
              "       1.20653562e-01, 5.14472187e-01, 7.56705776e-02, 9.77794111e-01,\n",
              "       1.79801077e-01, 2.33214647e-02, 4.70170766e-01, 9.10139263e-01,\n",
              "       1.00080691e-01, 3.68831650e-04, 7.74883389e-01, 9.76333976e-01,\n",
              "       7.17678815e-02, 6.15786910e-01, 4.59708989e-01, 7.63425648e-01,\n",
              "       4.38191384e-01, 3.14255059e-01, 3.52918059e-01, 1.32427807e-03,\n",
              "       9.64618146e-01, 9.60631609e-01, 3.90228063e-01, 3.20532888e-01,\n",
              "       9.46591198e-01, 9.76315618e-01, 7.62424946e-01, 1.76154017e-01],\n",
              "      dtype=float32)>"
            ]
          },
          "metadata": {},
          "execution_count": 68
        }
      ],
      "source": [
        "y_preds = model.predict(valid_dataset_specter)\n",
        "#y_preds_1 =tf.round(y_preds)\n",
        "y_preds_2 = tf.reshape(y_preds, [600])\n",
        "y_preds_3 = tf.cast(y_preds_2, tf.float32)\n",
        "y_preds_3"
      ]
    },
    {
      "cell_type": "code",
      "execution_count": null,
      "metadata": {
        "colab": {
          "base_uri": "https://localhost:8080/"
        },
        "id": "GVsKxogqlKJ9",
        "outputId": "72eb1e84-2cb8-418f-e3e7-eaba0c1e9196"
      },
      "outputs": [
        {
          "output_type": "stream",
          "name": "stdout",
          "text": [
            "f1 score:  0.7112068965517242\n",
            "accuracy:  0.7766666666666666\n"
          ]
        }
      ],
      "source": [
        "print(\"f1 score: \", f1_score(y_valid_specter, y_preds_3>0.45))\n",
        "print(\"accuracy: \", accuracy_score(y_valid_specter, y_preds_3>0.45))"
      ]
    },
    {
      "cell_type": "code",
      "execution_count": null,
      "metadata": {
        "colab": {
          "base_uri": "https://localhost:8080/"
        },
        "id": "8mqFziNPlKHO",
        "outputId": "baa2de6b-f583-4386-9287-c084e7e8c783"
      },
      "outputs": [
        {
          "output_type": "execute_result",
          "data": {
            "text/plain": [
              "array([0, 0, 1, 0, 0, 0, 1, 0, 1, 1, 0, 0, 0, 1, 1, 0, 0, 1, 0, 0, 0, 1,\n",
              "       1, 0, 1, 0, 1, 1, 1, 0, 1, 0, 1, 0, 1, 0, 1, 1, 0, 1, 0, 0, 0, 0,\n",
              "       0, 0, 0, 0, 1, 1, 1, 0, 1, 1, 0, 0, 1, 0, 0, 0, 0, 1, 0, 0, 1, 1,\n",
              "       0, 0, 0, 0, 0, 0, 0, 0, 0, 0, 0, 0, 1, 0, 1, 1, 0, 1, 1, 0, 0, 0,\n",
              "       1, 1, 0, 1, 0, 1, 0, 1, 1, 1, 1, 0, 0, 1, 0, 0, 0, 0, 0, 1, 1, 0,\n",
              "       0, 1, 1, 0, 0, 0, 0, 1, 0, 1, 1, 1, 1, 1, 0, 0, 0, 1, 1, 1, 0, 0,\n",
              "       0, 1, 0, 1, 0, 0, 1, 1, 1, 0, 0, 0, 0, 1, 0, 0, 0, 0, 0, 0, 1, 0,\n",
              "       0, 1, 0, 1, 1, 0, 1, 0, 0, 0, 0, 1, 0, 0, 1, 0, 0, 0, 0, 1, 0, 0,\n",
              "       0, 0, 0, 0, 1, 0, 0, 0, 0, 0, 0, 0, 0, 0, 0, 0, 1, 0, 0, 0, 0, 1,\n",
              "       0, 1, 0, 0, 1, 1, 0, 0, 0, 0, 1, 0, 1, 0, 0, 1, 0, 1, 1, 1, 0, 0,\n",
              "       1, 0, 0, 0, 0, 1, 0, 1, 0, 0, 0, 1, 0, 0, 0, 0, 1, 1, 1, 0, 0, 0,\n",
              "       0, 0, 0, 1, 0, 0, 1, 1, 1, 0, 1, 0, 1, 1, 1, 0, 0, 0, 0, 0, 1, 1,\n",
              "       0, 0, 0, 0, 0, 0, 0, 1, 0, 0, 0, 1, 1, 0, 1, 1, 1, 1, 0, 1, 0, 1,\n",
              "       0, 0, 1, 1, 0, 0, 1, 0, 0, 0, 1, 1, 1, 0, 0, 1, 0, 0, 1, 0, 1, 1,\n",
              "       0, 1, 0, 0, 1, 1, 1, 0, 1, 1, 0, 1, 0, 1, 1, 1, 1, 1, 1, 1, 0, 0,\n",
              "       1, 0, 0, 0, 1, 0, 0, 1, 1, 0, 0, 0, 0, 1, 1, 1, 1, 0, 1, 0, 0, 0,\n",
              "       1, 0, 1, 1, 1, 1, 1, 1, 1, 0, 0, 0, 0, 1, 0, 1, 1, 0, 0, 0, 0, 1,\n",
              "       0, 0, 1, 0, 0, 0, 0, 0, 0, 0, 1, 0, 1, 0, 0, 0, 0, 0, 1, 0, 0, 0,\n",
              "       0, 0, 1, 0, 0, 0, 0, 0, 0, 1, 1, 1, 0, 0, 0, 1, 0, 0, 1, 1, 0, 1,\n",
              "       0, 1, 0, 1, 0, 0, 0, 0, 1, 0, 1, 1, 0, 1, 0, 1, 1, 0, 1, 0, 0, 0,\n",
              "       1, 0, 0, 1, 0, 0, 1, 0, 0, 0, 0, 0, 0, 1, 1, 0, 1, 0, 1, 0, 1, 0,\n",
              "       1, 1, 0, 1, 1, 0, 1, 0, 0, 0, 1, 1, 0, 0, 1, 0, 1, 0, 1, 0, 0, 0,\n",
              "       0, 0, 0, 1, 0, 1, 0, 0, 0, 1, 1, 0, 1, 1, 0, 1, 0, 1, 0, 0, 1, 1,\n",
              "       1, 0, 0, 0, 1, 0, 1, 0, 0, 0, 1, 0, 0, 1, 0, 0, 0, 1, 1, 0, 0, 1,\n",
              "       1, 1, 0, 0, 0, 1, 0, 1, 0, 0, 1, 0, 0, 0, 0, 1, 1, 1, 0, 0, 0, 1,\n",
              "       1, 0, 0, 0, 1, 1, 1, 0, 1, 1, 1, 1, 0, 1, 0, 1, 0, 1, 0, 0, 1, 0,\n",
              "       0, 1, 0, 1, 0, 0, 1, 1, 0, 0, 1, 1, 0, 1, 1, 1, 0, 0, 0, 0, 1, 1,\n",
              "       0, 0, 1, 1, 1, 0])"
            ]
          },
          "metadata": {},
          "execution_count": 77
        }
      ],
      "source": [
        "y_preds_4 = []\n",
        "for i in range(len(y_preds_3)):\n",
        "  if y_preds_3[i]>0.45:\n",
        "    y_preds_4.append(1)\n",
        "  else:\n",
        "    y_preds_4.append(0)\n",
        "\n",
        "y_preds_4 = np.array(y_preds_4)\n",
        "y_preds_4"
      ]
    },
    {
      "cell_type": "code",
      "execution_count": null,
      "metadata": {
        "colab": {
          "base_uri": "https://localhost:8080/"
        },
        "id": "qQrZM4QVloxq",
        "outputId": "cd45e51a-fe65-4739-b6f0-00d94d6d89fe"
      },
      "outputs": [
        {
          "output_type": "stream",
          "name": "stdout",
          "text": [
            "Accuracy: 0.776667\n",
            "Precision: 0.676230\n",
            "Recall: 0.750000\n",
            "F1 score: 0.711207\n"
          ]
        }
      ],
      "source": [
        "report(y_valid_specter, y_preds_4)"
      ]
    },
    {
      "cell_type": "code",
      "execution_count": null,
      "metadata": {
        "id": "Or5niEsRlYTg"
      },
      "outputs": [],
      "source": [
        "y_preds_test = model.predict(x_test_bert)\n",
        "\n",
        "# y_preds_1 =tf.round(y_preds_test)\n",
        "y_preds_2 = tf.reshape(y_preds_test, [9955])\n",
        "y_preds_3 = tf.cast(y_preds_2, tf.float32)\n",
        "y_preds_3\n",
        "\n",
        "y_preds_4 = []\n",
        "for i in range(len(y_preds_3)):\n",
        "  if y_preds_3[i]>0.38:\n",
        "    y_preds_4.append(1)\n",
        "  else:\n",
        "    y_preds_4.append(0)\n",
        "\n",
        "y_preds_4 = np.array(y_preds_4)\n",
        "y_preds_4\n",
        "\n",
        "test['Premise'] = y_preds_4"
      ]
    },
    {
      "cell_type": "code",
      "execution_count": null,
      "metadata": {
        "id": "ijjPpXDplsJa"
      },
      "outputs": [],
      "source": [
        ""
      ]
    },
    {
      "cell_type": "code",
      "execution_count": null,
      "metadata": {
        "id": "gL7ojIKko6cL"
      },
      "outputs": [],
      "source": [
        "test.to_csv('/content/drive/MyDrive/smmh/premise_predictions_specter.tsv', sep='\\t', index=False)"
      ]
    },
    {
      "cell_type": "markdown",
      "metadata": {
        "id": "X6jnwPoSnmFe"
      },
      "source": [
        "# roberta"
      ]
    },
    {
      "cell_type": "code",
      "execution_count": null,
      "metadata": {
        "colab": {
          "base_uri": "https://localhost:8080/",
          "height": 284,
          "referenced_widgets": [
            "0110f1cd79ec4045b2eef0e7540556bc",
            "2e454d72888e4e959070f9330eb846da",
            "4435e3bb8d254a9c8551b669d109da34",
            "55f6520ba784450f9276b517d3f44bc6",
            "78820e7847b34c1fa3fab207bcb80c7c",
            "1cce7608e098465c8733d839fa7ea080",
            "f18219c3593a4717a8b9a6bea7ec6474",
            "4cc9c22fa5314d38aad8fa3d26945f71",
            "438846c4ed814c419479e3850f8726a5",
            "0cb112ddc12e403bbb00d2fd8d4da370",
            "d6872b3c51384d95af575ddb7fde43a2",
            "781d468a14824292ad80959c776535b1",
            "934a3f4633eb4634916a1083577ffe4f",
            "01ae4ba53e0d46dfb8df35a1e3c29b36",
            "7a33b5254cc6403e8ec46cf63ab8dd1f",
            "daa9f84d76ce4eae8a670d37bf2aee42",
            "3fb83a8e2b6c461fa2cd20be311f187e",
            "a171db893ef54948ada0056ee2e250c4",
            "4f0d148eab88400a8693682e1b932717",
            "a34161f380a94fefb7618e4121514ba7",
            "647763f4238e40d6974e9286f0c01e7b",
            "a9b556219f654d5789083b8501bf4feb",
            "7e5b5a7006664131aad09b49e42e83eb",
            "d755257f03fb4ce4a7565284dda015bc",
            "7516b9893a7645a4b6e09f26442d6126",
            "86cb645d8a114a56a7e83f0f41991eca",
            "e7473c77e794446ba551cf79039fb3c2",
            "5ed7b2b0d1dc46b582d06ce6d8dfe693",
            "0784f1bc8d9b491495c002b450bb1685",
            "0132c6a2341b4394b0f9c791a4d912ed",
            "d3c06952cd4446628a65d764fb3a493d",
            "c83f37256e0a496fb5a7478613255a96",
            "ba13be02f0e94b50bdf62fc566f684b4",
            "65834c8ae72145498415051bd906ee32",
            "3b6f7748d10b4602a1f447b2e56f20cb",
            "50a33fd73f2a4b61bb6cb60c0670e3a4",
            "cd94475f126a406fa7d69a5944cdab1b",
            "03e1d2c9c9094e77a0c90f7b8400fea7",
            "17e974a8735b45f49b0b019b9450c455",
            "5672638529284c2783f6c0e72b02366c",
            "5e60a84b8f744ea99c738ad38017199d",
            "db9b98f0f9c7492cab05cae0359bd7c4",
            "0652ca9cb0e145828a515e80ac31dd09",
            "47b62cf170384177a85b49cdcc740007",
            "3c088d6bfd17433aaa8e11c06332b511",
            "2afc656719524b48baea49e1cc89632d",
            "504a36514ae0446d8a99189b88d74ced",
            "c8be935a5539479f87ab49112cc414bb",
            "1e67ab5545304f0fbe031ed0eb55a297",
            "c1b8126ddf994d319ac2c09c9c51efe4",
            "ecdb473fa2ee49db88f9b0d085a9d675",
            "d604876f4e0a45a585251128ca636724",
            "0582c7426b0b4047b507868c3756862d",
            "3e3a3fdcee234b19883f16624a50cb1f",
            "25a1ebc42f95419b8548d9553bc951f3"
          ]
        },
        "id": "JgPoZh5YpEPx",
        "outputId": "aab7e739-2bcf-4144-f641-c33827d80134"
      },
      "outputs": [
        {
          "output_type": "display_data",
          "data": {
            "text/plain": [
              "Downloading:   0%|          | 0.00/878k [00:00<?, ?B/s]"
            ],
            "application/vnd.jupyter.widget-view+json": {
              "version_major": 2,
              "version_minor": 0,
              "model_id": "0110f1cd79ec4045b2eef0e7540556bc"
            }
          },
          "metadata": {}
        },
        {
          "output_type": "display_data",
          "data": {
            "text/plain": [
              "Downloading:   0%|          | 0.00/446k [00:00<?, ?B/s]"
            ],
            "application/vnd.jupyter.widget-view+json": {
              "version_major": 2,
              "version_minor": 0,
              "model_id": "781d468a14824292ad80959c776535b1"
            }
          },
          "metadata": {}
        },
        {
          "output_type": "display_data",
          "data": {
            "text/plain": [
              "Downloading:   0%|          | 0.00/1.29M [00:00<?, ?B/s]"
            ],
            "application/vnd.jupyter.widget-view+json": {
              "version_major": 2,
              "version_minor": 0,
              "model_id": "7e5b5a7006664131aad09b49e42e83eb"
            }
          },
          "metadata": {}
        },
        {
          "output_type": "display_data",
          "data": {
            "text/plain": [
              "Downloading:   0%|          | 0.00/481 [00:00<?, ?B/s]"
            ],
            "application/vnd.jupyter.widget-view+json": {
              "version_major": 2,
              "version_minor": 0,
              "model_id": "65834c8ae72145498415051bd906ee32"
            }
          },
          "metadata": {}
        },
        {
          "output_type": "display_data",
          "data": {
            "text/plain": [
              "Downloading:   0%|          | 0.00/627M [00:00<?, ?B/s]"
            ],
            "application/vnd.jupyter.widget-view+json": {
              "version_major": 2,
              "version_minor": 0,
              "model_id": "3c088d6bfd17433aaa8e11c06332b511"
            }
          },
          "metadata": {}
        },
        {
          "output_type": "stream",
          "name": "stderr",
          "text": [
            "Some layers from the model checkpoint at roberta-base were not used when initializing TFRobertaModel: ['lm_head']\n",
            "- This IS expected if you are initializing TFRobertaModel from the checkpoint of a model trained on another task or with another architecture (e.g. initializing a BertForSequenceClassification model from a BertForPreTraining model).\n",
            "- This IS NOT expected if you are initializing TFRobertaModel from the checkpoint of a model that you expect to be exactly identical (initializing a BertForSequenceClassification model from a BertForSequenceClassification model).\n",
            "All the layers of TFRobertaModel were initialized from the model checkpoint at roberta-base.\n",
            "If your task is similar to the task the model of the checkpoint was trained on, you can already use TFRobertaModel for predictions without further training.\n"
          ]
        }
      ],
      "source": [
        "from transformers import RobertaTokenizer, TFRobertaModel\n",
        "tokenizer = RobertaTokenizer.from_pretrained('roberta-base',model_max_length=256)\n",
        "model = TFRobertaModel.from_pretrained('roberta-base')"
      ]
    },
    {
      "cell_type": "code",
      "execution_count": null,
      "metadata": {
        "id": "YBbWPYkOsoDx"
      },
      "outputs": [],
      "source": [
        "def build_model(transformer, max_len=512):\n",
        "    \"\"\"\n",
        "    function for training the BERT model\n",
        "    \"\"\"\n",
        "    input_word_ids = Input(shape=(max_len,), dtype=tf.int32, name=\"input_word_ids\")\n",
        "    sequence_output = transformer(input_word_ids)[0]\n",
        "    cls_token = sequence_output[:, 0, :]\n",
        "    out = Dense(1, activation='sigmoid')(cls_token)\n",
        "    \n",
        "    model = Model(inputs=input_word_ids, outputs=out)\n",
        "    model.compile(Adam(lr=1e-5), loss='binary_crossentropy', metrics=['accuracy'])\n",
        "    \n",
        "    return model"
      ]
    },
    {
      "cell_type": "code",
      "execution_count": null,
      "metadata": {
        "colab": {
          "base_uri": "https://localhost:8080/"
        },
        "id": "VIED6Rp3tJxR",
        "outputId": "7c61dbfc-342a-4e90-bc33-b1d4112ab921"
      },
      "outputs": [
        {
          "output_type": "stream",
          "name": "stdout",
          "text": [
            "Model: \"model_2\"\n",
            "_________________________________________________________________\n",
            "Layer (type)                 Output Shape              Param #   \n",
            "=================================================================\n",
            "input_word_ids (InputLayer)  [(None, 256)]             0         \n",
            "_________________________________________________________________\n",
            "tf_roberta_model (TFRobertaM TFBaseModelOutputWithPool 124645632 \n",
            "_________________________________________________________________\n",
            "tf.__operators__.getitem_2 ( (None, 768)               0         \n",
            "_________________________________________________________________\n",
            "dense_2 (Dense)              (None, 1)                 769       \n",
            "=================================================================\n",
            "Total params: 124,646,401\n",
            "Trainable params: 124,646,401\n",
            "Non-trainable params: 0\n",
            "_________________________________________________________________\n",
            "CPU times: user 4.72 s, sys: 123 ms, total: 4.84 s\n",
            "Wall time: 7.32 s\n"
          ]
        },
        {
          "output_type": "stream",
          "name": "stderr",
          "text": [
            "/usr/local/lib/python3.7/dist-packages/tensorflow/python/keras/optimizer_v2/optimizer_v2.py:375: UserWarning: The `lr` argument is deprecated, use `learning_rate` instead.\n",
            "  \"The `lr` argument is deprecated, use `learning_rate` instead.\")\n"
          ]
        }
      ],
      "source": [
        "%%time\n",
        "with strategy.scope():\n",
        "    transformer_layer = (\n",
        "        model\n",
        "    )\n",
        "    model = build_model(transformer_layer, max_len=256)\n",
        "model.summary()"
      ]
    },
    {
      "cell_type": "code",
      "execution_count": null,
      "metadata": {
        "id": "E5Jf2wj4tNfR"
      },
      "outputs": [],
      "source": [
        "def tokenized_data(tokenizer, data):\n",
        "  list1 = tokenizer(data, truncation=True, padding=True)\n",
        "  return list1"
      ]
    },
    {
      "cell_type": "code",
      "execution_count": null,
      "metadata": {
        "id": "ndYE_3UptSpn"
      },
      "outputs": [],
      "source": [
        "data_roberta = tokenized_data(tokenizer, data)\n",
        "data_roberta = array(data_roberta['input_ids'])"
      ]
    },
    {
      "cell_type": "code",
      "execution_count": null,
      "metadata": {
        "id": "6T10sjvDtWqX"
      },
      "outputs": [],
      "source": [
        "x_train_roberta = data_roberta[0:3556]\n",
        "x_valid_roberta = data_roberta[3556:4156]\n",
        "x_test_roberta = data_roberta[4156:]"
      ]
    },
    {
      "cell_type": "code",
      "execution_count": null,
      "metadata": {
        "id": "eXRJZhxbtatN"
      },
      "outputs": [],
      "source": [
        "y_train_roberta = train1.Premise.values\n",
        "y_valid_roberta = valid.Premise.values"
      ]
    },
    {
      "cell_type": "code",
      "execution_count": null,
      "metadata": {
        "id": "QDejkEY3telW"
      },
      "outputs": [],
      "source": [
        "train_dataset_roberta = (\n",
        "    tf.data.Dataset\n",
        "    .from_tensor_slices((x_train_roberta, y_train_roberta))\n",
        "    .repeat()\n",
        "    .shuffle(2048)\n",
        "    .batch(BATCH_SIZE)\n",
        "    .prefetch(AUTO)\n",
        ")\n",
        "\n",
        "valid_dataset_roberta = (\n",
        "    tf.data.Dataset\n",
        "    .from_tensor_slices((x_valid_roberta, y_valid_roberta))\n",
        "    .batch(BATCH_SIZE)\n",
        "    .cache()\n",
        "    .prefetch(AUTO)\n",
        ")"
      ]
    },
    {
      "cell_type": "code",
      "execution_count": null,
      "metadata": {
        "colab": {
          "base_uri": "https://localhost:8080/"
        },
        "id": "I1Ok2sPqtiaV",
        "outputId": "73162205-fdbe-453a-cae8-404c049442b0"
      },
      "outputs": [
        {
          "output_type": "stream",
          "name": "stdout",
          "text": [
            "Epoch 1/4\n",
            "WARNING:tensorflow:AutoGraph could not transform <function Model.make_train_function.<locals>.train_function at 0x7f930060fb90> and will run it as-is.\n",
            "Please report this to the TensorFlow team. When filing the bug, set the verbosity to 10 (on Linux, `export AUTOGRAPH_VERBOSITY=10`) and attach the full output.\n",
            "Cause: closure mismatch, requested ('self', 'step_function'), but source function had ()\n",
            "To silence this warning, decorate the function with @tf.autograph.experimental.do_not_convert\n",
            "WARNING: AutoGraph could not transform <function Model.make_train_function.<locals>.train_function at 0x7f930060fb90> and will run it as-is.\n",
            "Please report this to the TensorFlow team. When filing the bug, set the verbosity to 10 (on Linux, `export AUTOGRAPH_VERBOSITY=10`) and attach the full output.\n",
            "Cause: closure mismatch, requested ('self', 'step_function'), but source function had ()\n",
            "To silence this warning, decorate the function with @tf.autograph.experimental.do_not_convert\n",
            "WARNING:tensorflow:Gradients do not exist for variables ['tf_roberta_model/roberta/pooler/dense/kernel:0', 'tf_roberta_model/roberta/pooler/dense/bias:0'] when minimizing the loss. If you're using `model.compile()`, did you forget to provide a `loss`argument?\n",
            "WARNING:tensorflow:Gradients do not exist for variables ['tf_roberta_model/roberta/pooler/dense/kernel:0', 'tf_roberta_model/roberta/pooler/dense/bias:0'] when minimizing the loss. If you're using `model.compile()`, did you forget to provide a `loss`argument?\n",
            "222/222 [==============================] - ETA: 0s - loss: 0.5833 - accuracy: 0.6661WARNING:tensorflow:AutoGraph could not transform <function Model.make_test_function.<locals>.test_function at 0x7f9252cacb00> and will run it as-is.\n",
            "Please report this to the TensorFlow team. When filing the bug, set the verbosity to 10 (on Linux, `export AUTOGRAPH_VERBOSITY=10`) and attach the full output.\n",
            "Cause: closure mismatch, requested ('self', 'step_function'), but source function had ('self',)\n",
            "To silence this warning, decorate the function with @tf.autograph.experimental.do_not_convert\n",
            "WARNING: AutoGraph could not transform <function Model.make_test_function.<locals>.test_function at 0x7f9252cacb00> and will run it as-is.\n",
            "Please report this to the TensorFlow team. When filing the bug, set the verbosity to 10 (on Linux, `export AUTOGRAPH_VERBOSITY=10`) and attach the full output.\n",
            "Cause: closure mismatch, requested ('self', 'step_function'), but source function had ('self',)\n",
            "To silence this warning, decorate the function with @tf.autograph.experimental.do_not_convert\n",
            "222/222 [==============================] - 153s 586ms/step - loss: 0.5833 - accuracy: 0.6661 - val_loss: 0.5196 - val_accuracy: 0.7450\n",
            "Epoch 2/4\n",
            "222/222 [==============================] - 125s 565ms/step - loss: 0.5492 - accuracy: 0.6898 - val_loss: 0.4965 - val_accuracy: 0.7417\n",
            "Epoch 3/4\n",
            "222/222 [==============================] - 126s 569ms/step - loss: 0.5317 - accuracy: 0.7123 - val_loss: 0.4843 - val_accuracy: 0.7583\n",
            "Epoch 4/4\n",
            "222/222 [==============================] - 125s 564ms/step - loss: 0.4948 - accuracy: 0.7348 - val_loss: 0.4692 - val_accuracy: 0.7750\n"
          ]
        }
      ],
      "source": [
        "n_steps = x_train_roberta.shape[0] // BATCH_SIZE\n",
        "train_history_roberta = model.fit(\n",
        "    train_dataset_roberta,\n",
        "    steps_per_epoch=n_steps,\n",
        "    validation_data=valid_dataset_roberta,\n",
        "    epochs=4\n",
        ")"
      ]
    },
    {
      "cell_type": "code",
      "execution_count": null,
      "metadata": {
        "colab": {
          "base_uri": "https://localhost:8080/"
        },
        "id": "sk5rs85btmNb",
        "outputId": "561c0d6d-640b-442e-c9c9-68bfe015dc62"
      },
      "outputs": [
        {
          "output_type": "stream",
          "name": "stdout",
          "text": [
            "38/38 [==============================] - 7s 191ms/step - loss: 0.4692 - accuracy: 0.7750\n"
          ]
        },
        {
          "output_type": "execute_result",
          "data": {
            "text/plain": [
              "[0.4692467749118805, 0.7749999761581421]"
            ]
          },
          "metadata": {},
          "execution_count": 60
        }
      ],
      "source": [
        "model.evaluate(valid_dataset_roberta)"
      ]
    },
    {
      "cell_type": "code",
      "execution_count": null,
      "metadata": {
        "id": "ZdyL4FWYtqD7"
      },
      "outputs": [],
      "source": [
        "model.save_weights('/content/drive/MyDrive/smm4h/roberta.h5')"
      ]
    },
    {
      "cell_type": "code",
      "source": [
        "plot_loss_curves(train_history_roberta)"
      ],
      "metadata": {
        "colab": {
          "base_uri": "https://localhost:8080/",
          "height": 573
        },
        "id": "DtLlBysjlhZj",
        "outputId": "578a41ff-f4da-42fd-9e1c-badb17410365"
      },
      "execution_count": null,
      "outputs": [
        {
          "output_type": "display_data",
          "data": {
            "text/plain": [
              "<Figure size 432x288 with 1 Axes>"
            ],
            "image/png": "[encoded data removed]"
          },
          "metadata": {
            "needs_background": "light"
          }
        },
        {
          "output_type": "display_data",
          "data": {
            "text/plain": [
              "<Figure size 432x288 with 1 Axes>"
            ],
            "image/png": "[encoded data removed]"
          },
          "metadata": {
            "needs_background": "light"
          }
        }
      ]
    },
    {
      "cell_type": "code",
      "source": [
        "model.load_weights('/content/drive/MyDrive/smm4h/roberta.h5')"
      ],
      "metadata": {
        "id": "oIJs0nnf6fXk"
      },
      "execution_count": null,
      "outputs": []
    },
    {
      "cell_type": "code",
      "execution_count": null,
      "metadata": {
        "colab": {
          "base_uri": "https://localhost:8080/"
        },
        "id": "JygIqhhCtvRq",
        "outputId": "044e818e-a910-4b5d-bdfb-b5cc16a9f271"
      },
      "outputs": [
        {
          "output_type": "execute_result",
          "data": {
            "text/plain": [
              "<tf.Tensor: shape=(600,), dtype=float32, numpy=\n",
              "array([0.09819886, 0.02016426, 0.23079325, 0.13749443, 0.20756902,\n",
              "       0.5986928 , 0.6370579 , 0.02461594, 0.34683156, 0.78503555,\n",
              "       0.2552017 , 0.00202369, 0.01230932, 0.8372729 , 0.16819045,\n",
              "       0.11869566, 0.01718582, 0.5504806 , 0.00512056, 0.02090765,\n",
              "       0.03072177, 0.72965276, 0.6985397 , 0.00221978, 0.7175443 ,\n",
              "       0.07549616, 0.8086362 , 0.8112149 , 0.7853877 , 0.1920875 ,\n",
              "       0.62896526, 0.00139038, 0.0850286 , 0.00849447, 0.72413677,\n",
              "       0.00195164, 0.78019965, 0.739802  , 0.50327516, 0.67906487,\n",
              "       0.2841916 , 0.07364367, 0.0518361 , 0.255035  , 0.01674242,\n",
              "       0.14966942, 0.02158109, 0.0205919 , 0.7985269 , 0.2114763 ,\n",
              "       0.594279  , 0.06404217, 0.7929762 , 0.76190776, 0.02372553,\n",
              "       0.08650317, 0.58601016, 0.0949138 , 0.17061469, 0.00138862,\n",
              "       0.01064814, 0.54441917, 0.2578903 , 0.00968378, 0.7763179 ,\n",
              "       0.10969821, 0.01043338, 0.00190441, 0.02010203, 0.81019104,\n",
              "       0.03886924, 0.00846622, 0.00581074, 0.02410252, 0.24528146,\n",
              "       0.44431365, 0.30928406, 0.5033185 , 0.5748643 , 0.2426357 ,\n",
              "       0.8478572 , 0.3546351 , 0.00989951, 0.5100232 , 0.72411686,\n",
              "       0.31532368, 0.23384845, 0.01362348, 0.3786609 , 0.7473706 ,\n",
              "       0.00147296, 0.47259614, 0.07860404, 0.7539456 , 0.00968451,\n",
              "       0.709339  , 0.7787793 , 0.58982843, 0.8198458 , 0.0384828 ,\n",
              "       0.4727727 , 0.79950917, 0.0346656 , 0.4546002 , 0.16203432,\n",
              "       0.01111519, 0.08141137, 0.6277407 , 0.8034875 , 0.42093474,\n",
              "       0.28781244, 0.5183187 , 0.1739641 , 0.02408629, 0.00166556,\n",
              "       0.08548886, 0.34732306, 0.6463252 , 0.5238282 , 0.27843714,\n",
              "       0.23793747, 0.727346  , 0.64692235, 0.8064686 , 0.41303146,\n",
              "       0.125885  , 0.00644524, 0.8074752 , 0.35447156, 0.80023   ,\n",
              "       0.22429894, 0.44971675, 0.03357125, 0.7914358 , 0.06968953,\n",
              "       0.80523795, 0.04124355, 0.01729191, 0.5211917 , 0.5630387 ,\n",
              "       0.43631753, 0.01168649, 0.20979221, 0.35537168, 0.01021487,\n",
              "       0.4149963 , 0.7746394 , 0.47887585, 0.39506426, 0.09703276,\n",
              "       0.50321764, 0.07343915, 0.7609489 , 0.07157808, 0.00142465,\n",
              "       0.7800911 , 0.10447469, 0.49068102, 0.10027742, 0.37051547,\n",
              "       0.3713322 , 0.38395354, 0.80150145, 0.44931164, 0.11644435,\n",
              "       0.60412794, 0.05789062, 0.2639306 , 0.64104754, 0.02260536,\n",
              "       0.16323324, 0.00232931, 0.10089222, 0.4617867 , 0.04065522,\n",
              "       0.04637889, 0.0018907 , 0.32860872, 0.1160363 , 0.25212094,\n",
              "       0.2577098 , 0.04475168, 0.5250646 , 0.11967939, 0.3418898 ,\n",
              "       0.6289032 , 0.7406174 , 0.40483057, 0.43256703, 0.00182054,\n",
              "       0.24135481, 0.38028127, 0.80962515, 0.00176443, 0.5335525 ,\n",
              "       0.01433961, 0.15449199, 0.56921047, 0.06008492, 0.8243057 ,\n",
              "       0.5976307 , 0.04427136, 0.6895478 , 0.7500804 , 0.01707778,\n",
              "       0.00177775, 0.3354937 , 0.79458797, 0.35920376, 0.00162053,\n",
              "       0.25198022, 0.01932218, 0.11942292, 0.76468456, 0.3135749 ,\n",
              "       0.649805  , 0.30329418, 0.3311485 , 0.4835014 , 0.00692885,\n",
              "       0.08637924, 0.07010132, 0.00212009, 0.28560787, 0.05036908,\n",
              "       0.4199995 , 0.7113935 , 0.06804848, 0.05420271, 0.01028285,\n",
              "       0.08838938, 0.7214764 , 0.03451593, 0.03553353, 0.01192182,\n",
              "       0.00229674, 0.72056246, 0.67606795, 0.6890112 , 0.24376968,\n",
              "       0.02813536, 0.02171847, 0.29200923, 0.08591843, 0.549799  ,\n",
              "       0.29317737, 0.46195924, 0.00197034, 0.80921435, 0.7070941 ,\n",
              "       0.51372623, 0.55369484, 0.60700583, 0.5204654 , 0.618377  ,\n",
              "       0.04464692, 0.47774342, 0.01031102, 0.5671675 , 0.00437997,\n",
              "       0.11358809, 0.0558998 , 0.797415  , 0.5683713 , 0.5702783 ,\n",
              "       0.0031345 , 0.04833015, 0.17817886, 0.0167133 , 0.00617871,\n",
              "       0.00181967, 0.26194116, 0.00671672, 0.6123868 , 0.00251394,\n",
              "       0.17553306, 0.824324  , 0.1013991 , 0.04585591, 0.71302783,\n",
              "       0.4498565 , 0.79174745, 0.30930904, 0.3468988 , 0.48059875,\n",
              "       0.1717039 , 0.5819144 , 0.48884845, 0.45171666, 0.44464144,\n",
              "       0.7120716 , 0.00255904, 0.44999948, 0.26594928, 0.00177286,\n",
              "       0.0036952 , 0.0436393 , 0.79862946, 0.7069765 , 0.02903058,\n",
              "       0.00182655, 0.81770027, 0.09123939, 0.2257093 , 0.8058384 ,\n",
              "       0.01462311, 0.63354796, 0.65545493, 0.00778549, 0.5856141 ,\n",
              "       0.00249254, 0.0277057 , 0.5931757 , 0.35959452, 0.7956479 ,\n",
              "       0.01567748, 0.60428995, 0.74187285, 0.14889322, 0.43296167,\n",
              "       0.05721938, 0.6316773 , 0.01817961, 0.8169786 , 0.35155186,\n",
              "       0.04630904, 0.6177039 , 0.37157586, 0.8008791 , 0.7755824 ,\n",
              "       0.6929282 , 0.47434086, 0.0038805 , 0.00696593, 0.11597902,\n",
              "       0.06186936, 0.17343011, 0.75927055, 0.58074737, 0.6130016 ,\n",
              "       0.00505381, 0.40349478, 0.3122562 , 0.81508344, 0.6515693 ,\n",
              "       0.55057937, 0.5618818 , 0.27386504, 0.04637472, 0.01007433,\n",
              "       0.22397335, 0.2156279 , 0.61061865, 0.34266424, 0.6048736 ,\n",
              "       0.5254671 , 0.756054  , 0.38201243, 0.71588594, 0.6058714 ,\n",
              "       0.25503957, 0.08554418, 0.00166599, 0.7803836 , 0.01423122,\n",
              "       0.57530016, 0.15905079, 0.14775422, 0.3349359 , 0.00762464,\n",
              "       0.47690347, 0.0015265 , 0.09477394, 0.63738906, 0.03281118,\n",
              "       0.00204426, 0.71138954, 0.10551345, 0.02282394, 0.23712766,\n",
              "       0.03085047, 0.24547766, 0.00691996, 0.13881727, 0.55485964,\n",
              "       0.01730403, 0.6413992 , 0.18418372, 0.4601607 , 0.04342963,\n",
              "       0.0633973 , 0.6284523 , 0.343248  , 0.08754889, 0.04742125,\n",
              "       0.00359954, 0.0021111 , 0.25676075, 0.64747727, 0.06193724,\n",
              "       0.01096315, 0.09114318, 0.7009777 , 0.40716967, 0.04372475,\n",
              "       0.77358127, 0.5970937 , 0.7428184 , 0.5397914 , 0.12618364,\n",
              "       0.816264  , 0.54333156, 0.00711884, 0.23175582, 0.8459385 ,\n",
              "       0.2629235 , 0.01414205, 0.8235315 , 0.13564144, 0.78051794,\n",
              "       0.45793533, 0.84676355, 0.46387613, 0.5754658 , 0.2612404 ,\n",
              "       0.38245946, 0.6204911 , 0.00477109, 0.4321902 , 0.49052492,\n",
              "       0.10344173, 0.8027476 , 0.02961489, 0.6983368 , 0.6421533 ,\n",
              "       0.08035757, 0.5549621 , 0.02003078, 0.4069461 , 0.00537131,\n",
              "       0.8385145 , 0.12412437, 0.34158564, 0.13460337, 0.00167107,\n",
              "       0.1107344 , 0.8305898 , 0.19378327, 0.00206127, 0.37079918,\n",
              "       0.44176257, 0.09755777, 0.08557446, 0.4439162 , 0.24927297,\n",
              "       0.00157705, 0.71014196, 0.0939797 , 0.51806784, 0.02570458,\n",
              "       0.25678033, 0.6071325 , 0.62538314, 0.49065208, 0.113253  ,\n",
              "       0.1703663 , 0.23457034, 0.00289237, 0.6216999 , 0.05927517,\n",
              "       0.38711706, 0.2220972 , 0.29758653, 0.7167293 , 0.78916115,\n",
              "       0.6605713 , 0.8083775 , 0.34399757, 0.80135673, 0.02056278,\n",
              "       0.6923638 , 0.28527135, 0.11025418, 0.12724496, 0.2754441 ,\n",
              "       0.12163708, 0.01022098, 0.26162532, 0.11361075, 0.66030985,\n",
              "       0.73815244, 0.04513334, 0.08412933, 0.6941382 , 0.6922051 ,\n",
              "       0.02138455, 0.57689273, 0.57424045, 0.00148775, 0.76482344,\n",
              "       0.01951033, 0.75089955, 0.03493357, 0.14354023, 0.74774134,\n",
              "       0.5254433 , 0.83017254, 0.05032418, 0.04354397, 0.258663  ,\n",
              "       0.6761153 , 0.04344511, 0.7660375 , 0.03936276, 0.1010092 ,\n",
              "       0.38358226, 0.77625966, 0.00166503, 0.06088813, 0.7090423 ,\n",
              "       0.00675575, 0.00182271, 0.32519436, 0.55343676, 0.7820544 ,\n",
              "       0.04639198, 0.03301964, 0.7513929 , 0.7877944 , 0.33689263,\n",
              "       0.1826253 , 0.01869459, 0.04644988, 0.7514833 , 0.00212378,\n",
              "       0.23853022, 0.28814423, 0.00579807, 0.74783635, 0.13180293,\n",
              "       0.01314069, 0.0136919 , 0.00518637, 0.5079096 , 0.19332576,\n",
              "       0.5686618 , 0.13683853, 0.03112926, 0.0174749 , 0.5398485 ,\n",
              "       0.38684174, 0.07805816, 0.06042441, 0.03897696, 0.7894121 ,\n",
              "       0.49949673, 0.47581926, 0.4277123 , 0.8259198 , 0.8056379 ,\n",
              "       0.572721  , 0.62654746, 0.511694  , 0.16269557, 0.6325345 ,\n",
              "       0.8132771 , 0.15722246, 0.6737376 , 0.24549542, 0.07633313,\n",
              "       0.54561645, 0.39288655, 0.1548475 , 0.42951155, 0.0997545 ,\n",
              "       0.7365034 , 0.03134252, 0.02063159, 0.18329515, 0.81843066,\n",
              "       0.41836715, 0.00169494, 0.50000465, 0.7977786 , 0.01428859,\n",
              "       0.09313893, 0.17642699, 0.38035524, 0.6039764 , 0.61072624,\n",
              "       0.44325903, 0.03904699, 0.8108162 , 0.53769827, 0.3465281 ,\n",
              "       0.12040516, 0.47254083, 0.69811994, 0.06526607, 0.1262472 ],\n",
              "      dtype=float32)>"
            ]
          },
          "metadata": {},
          "execution_count": 62
        }
      ],
      "source": [
        "y_preds = model.predict(valid_dataset_roberta)\n",
        "#y_preds_1 =tf.round(y_preds)\n",
        "y_preds_2 = tf.reshape(y_preds, [600])\n",
        "y_preds_3 = tf.cast(y_preds_2, tf.float32)\n",
        "y_preds_3"
      ]
    },
    {
      "cell_type": "code",
      "execution_count": null,
      "metadata": {
        "colab": {
          "base_uri": "https://localhost:8080/"
        },
        "id": "P3GlZJnhty9h",
        "outputId": "3d64e056-0062-4248-e500-bb2528b0bbc1"
      },
      "outputs": [
        {
          "output_type": "stream",
          "name": "stdout",
          "text": [
            "f1 score:  0.7212475633528266\n",
            "accuracy:  0.7616666666666667\n"
          ]
        }
      ],
      "source": [
        "print(\"f1 score: \", f1_score(y_valid_bert, y_preds_3>0.30))\n",
        "print(\"accuracy: \", accuracy_score(y_valid_bert, y_preds_3>0.30))"
      ]
    },
    {
      "cell_type": "code",
      "execution_count": null,
      "metadata": {
        "colab": {
          "base_uri": "https://localhost:8080/"
        },
        "id": "KurhgaSopDli",
        "outputId": "e025ed7c-3203-424e-a1f8-31fb30c0c2d4"
      },
      "outputs": [
        {
          "output_type": "execute_result",
          "data": {
            "text/plain": [
              "array([0, 0, 0, 0, 0, 1, 1, 0, 1, 1, 0, 0, 0, 1, 0, 0, 0, 1, 0, 0, 0, 1,\n",
              "       1, 0, 1, 0, 1, 1, 1, 0, 1, 0, 0, 0, 1, 0, 1, 1, 1, 1, 0, 0, 0, 0,\n",
              "       0, 0, 0, 0, 1, 0, 1, 0, 1, 1, 0, 0, 1, 0, 0, 0, 0, 1, 0, 0, 1, 0,\n",
              "       0, 0, 0, 1, 0, 0, 0, 0, 0, 1, 1, 1, 1, 0, 1, 1, 0, 1, 1, 1, 0, 0,\n",
              "       1, 1, 0, 1, 0, 1, 0, 1, 1, 1, 1, 0, 1, 1, 0, 1, 0, 0, 0, 1, 1, 1,\n",
              "       0, 1, 0, 0, 0, 0, 1, 1, 1, 0, 0, 1, 1, 1, 1, 0, 0, 1, 1, 1, 0, 1,\n",
              "       0, 1, 0, 1, 0, 0, 1, 1, 1, 0, 0, 1, 0, 1, 1, 1, 1, 0, 1, 0, 1, 0,\n",
              "       0, 1, 0, 1, 0, 1, 1, 1, 1, 1, 0, 1, 0, 0, 1, 0, 0, 0, 0, 1, 0, 0,\n",
              "       0, 1, 0, 0, 0, 0, 1, 0, 1, 1, 1, 1, 1, 0, 0, 1, 1, 0, 1, 0, 0, 1,\n",
              "       0, 1, 1, 0, 1, 1, 0, 0, 1, 1, 1, 0, 0, 0, 0, 1, 1, 1, 1, 1, 1, 0,\n",
              "       0, 0, 0, 0, 0, 1, 1, 0, 0, 0, 0, 1, 0, 0, 0, 0, 1, 1, 1, 0, 0, 0,\n",
              "       0, 0, 1, 0, 1, 0, 1, 1, 1, 1, 1, 1, 1, 0, 1, 0, 1, 0, 0, 0, 1, 1,\n",
              "       1, 0, 0, 0, 0, 0, 0, 0, 0, 1, 0, 0, 1, 0, 0, 1, 1, 1, 1, 1, 1, 0,\n",
              "       1, 1, 1, 1, 1, 0, 1, 0, 0, 0, 0, 1, 1, 0, 0, 1, 0, 0, 1, 0, 1, 1,\n",
              "       0, 1, 0, 0, 1, 1, 1, 0, 1, 1, 0, 1, 0, 1, 0, 1, 1, 0, 1, 1, 1, 1,\n",
              "       1, 1, 0, 0, 0, 0, 0, 1, 1, 1, 0, 1, 1, 1, 1, 1, 1, 0, 0, 0, 0, 0,\n",
              "       1, 1, 1, 1, 1, 1, 1, 1, 0, 0, 0, 1, 0, 1, 0, 0, 1, 0, 1, 0, 0, 1,\n",
              "       0, 0, 1, 0, 0, 0, 0, 0, 0, 0, 1, 0, 1, 0, 1, 0, 0, 1, 1, 0, 0, 0,\n",
              "       0, 0, 1, 0, 0, 0, 1, 1, 0, 1, 1, 1, 1, 0, 1, 1, 0, 0, 1, 0, 0, 1,\n",
              "       0, 1, 1, 1, 1, 1, 0, 1, 1, 0, 1, 1, 0, 1, 0, 1, 1, 0, 1, 0, 1, 0,\n",
              "       1, 0, 1, 0, 0, 0, 1, 0, 0, 1, 1, 0, 0, 1, 0, 0, 1, 0, 1, 0, 0, 1,\n",
              "       1, 1, 0, 0, 0, 0, 1, 0, 1, 0, 0, 1, 1, 1, 1, 1, 1, 0, 1, 0, 0, 0,\n",
              "       0, 0, 0, 0, 0, 1, 1, 0, 0, 1, 1, 0, 1, 1, 0, 1, 0, 1, 0, 0, 1, 1,\n",
              "       1, 0, 0, 0, 1, 0, 1, 0, 0, 1, 1, 0, 0, 1, 0, 0, 1, 1, 1, 0, 0, 1,\n",
              "       1, 1, 0, 0, 0, 1, 0, 0, 0, 0, 1, 0, 0, 0, 0, 1, 0, 1, 0, 0, 0, 1,\n",
              "       1, 0, 0, 0, 1, 1, 1, 1, 1, 1, 1, 1, 1, 0, 1, 1, 0, 1, 0, 0, 1, 1,\n",
              "       0, 1, 0, 1, 0, 0, 0, 1, 1, 0, 1, 1, 0, 0, 0, 1, 1, 1, 1, 0, 1, 1,\n",
              "       1, 0, 1, 1, 0, 0])"
            ]
          },
          "metadata": {},
          "execution_count": 76
        }
      ],
      "source": [
        "y_preds_4 = []\n",
        "for i in range(len(y_preds_3)):\n",
        "  if y_preds_3[i]>0.30:\n",
        "    y_preds_4.append(1)\n",
        "  else:\n",
        "    y_preds_4.append(0)\n",
        "\n",
        "y_preds_4 = np.array(y_preds_4)\n",
        "y_preds_4"
      ]
    },
    {
      "cell_type": "code",
      "execution_count": null,
      "metadata": {
        "colab": {
          "base_uri": "https://localhost:8080/"
        },
        "id": "yAU_QDr2pDe9",
        "outputId": "c6b4c0e8-1ea9-4af2-da4a-4358dcfac9c7"
      },
      "outputs": [
        {
          "output_type": "stream",
          "name": "stdout",
          "text": [
            "Accuracy: 0.761667\n",
            "Precision: 0.631399\n",
            "Recall: 0.840909\n",
            "F1 score: 0.721248\n"
          ]
        }
      ],
      "source": [
        "report(y_valid_bert, y_preds_4)"
      ]
    },
    {
      "cell_type": "code",
      "execution_count": null,
      "metadata": {
        "id": "8JIs_X85pDcU"
      },
      "outputs": [],
      "source": [
        "y_preds_test = model.predict(x_test_bert)\n",
        "\n",
        "# y_preds_1 =tf.round(y_preds_test)\n",
        "y_preds_2 = tf.reshape(y_preds_test, [9955])\n",
        "y_preds_3 = tf.cast(y_preds_2, tf.float32)\n",
        "y_preds_3\n",
        "\n",
        "y_preds_4 = []\n",
        "for i in range(len(y_preds_3)):\n",
        "  if y_preds_3[i]>0.56:\n",
        "    y_preds_4.append(1)\n",
        "  else:\n",
        "    y_preds_4.append(0)\n",
        "\n",
        "y_preds_4 = np.array(y_preds_4)\n",
        "y_preds_4\n",
        "\n",
        "test['Premise'] = y_preds_4"
      ]
    },
    {
      "cell_type": "code",
      "execution_count": null,
      "metadata": {
        "id": "XFqclMhlpSF8"
      },
      "outputs": [],
      "source": [
        ""
      ]
    },
    {
      "cell_type": "code",
      "execution_count": null,
      "metadata": {
        "id": "Zc3MZ8bxuKxL"
      },
      "outputs": [],
      "source": [
        "test.to_csv('/content/drive/MyDrive/smmh/premise_predictions_roberta.tsv', sep='\\t', index=False)"
      ]
    },
    {
      "cell_type": "markdown",
      "metadata": {
        "id": "f3WtvUTZuSsS"
      },
      "source": [
        "# ensemble results"
      ]
    },
    {
      "cell_type": "code",
      "execution_count": null,
      "metadata": {
        "id": "UyemUfSxyKSe"
      },
      "outputs": [],
      "source": [
        "pubmedbert = [0, 0, 0, 0, 0, 0, 1, 0, 1, 1, 0, 0, 0, 1, 1, 0, 0, 1, 0, 0, 0, 1,\n",
        "       1, 0, 1, 0, 1, 1, 1, 0, 1, 0, 1, 0, 1, 0, 1, 1, 0, 1, 0, 0, 0, 0,\n",
        "       0, 0, 0, 0, 1, 1, 1, 0, 0, 1, 0, 0, 1, 0, 0, 0, 0, 0, 1, 0, 0, 0,\n",
        "       0, 0, 0, 1, 0, 0, 0, 0, 1, 0, 0, 0, 1, 0, 1, 0, 0, 1, 1, 0, 0, 0,\n",
        "       1, 1, 0, 1, 0, 1, 0, 1, 1, 1, 1, 0, 0, 1, 0, 0, 0, 0, 0, 1, 1, 0,\n",
        "       0, 1, 0, 0, 0, 0, 0, 0, 1, 1, 0, 1, 1, 1, 0, 0, 0, 0, 0, 0, 1, 0,\n",
        "       0, 1, 0, 1, 0, 0, 1, 1, 1, 0, 0, 1, 0, 0, 0, 0, 0, 0, 0, 0, 1, 0,\n",
        "       0, 1, 0, 1, 0, 0, 0, 1, 0, 0, 0, 1, 0, 0, 1, 0, 0, 0, 0, 0, 0, 0,\n",
        "       0, 0, 0, 0, 0, 0, 0, 0, 0, 0, 0, 0, 1, 0, 1, 0, 1, 0, 0, 0, 0, 1,\n",
        "       0, 1, 0, 0, 1, 1, 0, 0, 0, 0, 1, 0, 0, 0, 0, 1, 0, 0, 1, 0, 0, 0,\n",
        "       0, 0, 0, 1, 0, 1, 1, 0, 0, 0, 0, 1, 0, 0, 0, 0, 1, 1, 1, 0, 0, 0,\n",
        "       0, 0, 0, 0, 0, 0, 1, 1, 0, 1, 0, 0, 1, 1, 1, 0, 0, 0, 0, 0, 1, 1,\n",
        "       0, 0, 0, 0, 0, 0, 0, 1, 0, 0, 0, 0, 1, 0, 0, 1, 1, 1, 1, 1, 0, 0,\n",
        "       0, 1, 0, 1, 0, 0, 0, 0, 0, 0, 0, 1, 0, 0, 0, 1, 0, 0, 1, 0, 0, 0,\n",
        "       0, 1, 0, 0, 1, 1, 1, 0, 1, 1, 1, 0, 0, 1, 1, 1, 1, 0, 1, 1, 0, 0,\n",
        "       1, 0, 0, 0, 0, 0, 0, 1, 1, 1, 0, 0, 0, 1, 1, 0, 1, 0, 0, 0, 0, 0,\n",
        "       1, 0, 1, 0, 1, 1, 1, 0, 1, 0, 0, 1, 0, 1, 0, 0, 0, 0, 0, 0, 0, 1,\n",
        "       0, 0, 1, 0, 0, 0, 0, 0, 0, 1, 1, 0, 1, 1, 0, 1, 0, 0, 1, 0, 0, 0,\n",
        "       0, 0, 0, 0, 0, 0, 1, 0, 0, 1, 1, 0, 0, 0, 1, 1, 0, 0, 0, 1, 0, 1,\n",
        "       0, 1, 0, 0, 0, 0, 0, 0, 1, 0, 0, 1, 0, 1, 0, 1, 1, 0, 1, 0, 0, 0,\n",
        "       1, 0, 0, 0, 0, 0, 1, 0, 0, 0, 0, 0, 0, 0, 1, 0, 1, 0, 1, 0, 1, 0,\n",
        "       1, 1, 0, 0, 1, 0, 1, 0, 0, 0, 0, 1, 0, 0, 0, 0, 1, 0, 1, 0, 0, 0,\n",
        "       0, 0, 0, 0, 0, 1, 0, 0, 0, 1, 1, 0, 0, 0, 0, 0, 0, 1, 0, 0, 1, 1,\n",
        "       1, 0, 0, 0, 0, 0, 1, 0, 0, 0, 1, 0, 0, 0, 0, 0, 0, 1, 1, 0, 0, 1,\n",
        "       1, 0, 0, 0, 0, 1, 0, 1, 1, 0, 1, 0, 0, 0, 0, 1, 0, 1, 1, 0, 0, 1,\n",
        "       1, 0, 0, 0, 1, 1, 1, 0, 1, 1, 1, 1, 1, 1, 0, 1, 0, 1, 0, 0, 1, 0,\n",
        "       0, 1, 0, 0, 0, 0, 1, 1, 0, 0, 1, 1, 0, 0, 0, 1, 1, 0, 1, 0, 1, 1,\n",
        "       1, 0, 1, 1, 1, 0]\n",
        "\n",
        "\n",
        "bert = [0, 0, 0, 0, 0, 0, 1, 0, 0, 1, 0, 0, 0, 1, 1, 0, 0, 1, 0, 1, 0, 1,\n",
        "       1, 0, 1, 0, 1, 1, 1, 0, 1, 0, 1, 0, 1, 0, 1, 1, 0, 1, 1, 0, 0, 0,\n",
        "       0, 0, 0, 0, 1, 0, 1, 0, 1, 1, 0, 0, 1, 0, 0, 0, 0, 0, 1, 0, 0, 0,\n",
        "       0, 0, 0, 1, 0, 0, 0, 0, 1, 0, 0, 0, 1, 0, 1, 1, 0, 1, 1, 0, 0, 0,\n",
        "       1, 1, 0, 1, 0, 1, 0, 1, 1, 1, 1, 0, 0, 1, 0, 0, 0, 0, 0, 1, 1, 1,\n",
        "       0, 1, 0, 0, 0, 0, 0, 1, 1, 0, 0, 1, 1, 1, 1, 0, 0, 0, 1, 1, 1, 0,\n",
        "       0, 1, 0, 1, 0, 0, 1, 1, 0, 0, 0, 1, 0, 0, 0, 0, 1, 0, 0, 1, 1, 0,\n",
        "       0, 1, 0, 1, 0, 0, 1, 1, 0, 0, 0, 1, 0, 0, 1, 0, 0, 0, 0, 0, 0, 0,\n",
        "       0, 0, 0, 0, 1, 0, 0, 0, 0, 1, 1, 0, 1, 0, 1, 0, 1, 0, 0, 0, 0, 1,\n",
        "       0, 1, 1, 0, 1, 1, 0, 0, 1, 0, 0, 0, 0, 0, 0, 1, 1, 0, 1, 0, 0, 0,\n",
        "       0, 0, 0, 0, 0, 1, 1, 0, 0, 0, 0, 1, 0, 0, 0, 0, 1, 1, 1, 0, 0, 0,\n",
        "       0, 0, 0, 1, 0, 0, 1, 1, 1, 0, 0, 1, 1, 0, 0, 0, 0, 0, 0, 0, 1, 1,\n",
        "       0, 0, 0, 0, 0, 0, 0, 0, 0, 1, 0, 1, 1, 0, 0, 1, 0, 1, 0, 1, 0, 0,\n",
        "       1, 1, 1, 1, 1, 0, 1, 0, 0, 0, 0, 1, 1, 0, 0, 1, 0, 0, 1, 0, 0, 1,\n",
        "       0, 1, 0, 0, 1, 1, 1, 0, 1, 1, 0, 0, 0, 1, 1, 1, 0, 0, 1, 1, 0, 0,\n",
        "       1, 0, 0, 0, 0, 0, 0, 1, 1, 1, 0, 0, 1, 1, 1, 0, 1, 0, 0, 0, 0, 1,\n",
        "       1, 0, 1, 0, 1, 1, 1, 1, 1, 0, 0, 1, 0, 1, 0, 0, 0, 0, 1, 0, 0, 1,\n",
        "       0, 0, 1, 0, 0, 0, 0, 0, 0, 1, 1, 0, 1, 0, 1, 1, 0, 0, 1, 1, 0, 0,\n",
        "       0, 0, 0, 0, 0, 0, 1, 0, 0, 1, 1, 1, 1, 0, 1, 1, 0, 0, 1, 1, 0, 1,\n",
        "       0, 1, 0, 1, 1, 1, 0, 1, 1, 0, 1, 1, 0, 1, 0, 1, 1, 0, 1, 0, 0, 0,\n",
        "       1, 1, 0, 0, 0, 0, 1, 0, 0, 0, 1, 0, 0, 0, 0, 0, 1, 0, 1, 0, 0, 0,\n",
        "       1, 1, 0, 0, 1, 0, 1, 0, 0, 0, 0, 1, 0, 1, 0, 0, 1, 0, 1, 1, 0, 1,\n",
        "       0, 0, 0, 0, 0, 1, 0, 0, 0, 1, 1, 0, 0, 0, 0, 1, 0, 1, 0, 0, 1, 1,\n",
        "       1, 0, 0, 0, 1, 0, 1, 0, 0, 1, 1, 0, 0, 0, 0, 0, 0, 1, 0, 0, 0, 1,\n",
        "       1, 0, 0, 0, 0, 1, 0, 1, 1, 0, 1, 0, 0, 0, 0, 1, 0, 1, 0, 0, 0, 0,\n",
        "       1, 0, 0, 0, 1, 1, 0, 0, 1, 1, 1, 1, 0, 1, 0, 1, 0, 1, 0, 0, 1, 0,\n",
        "       0, 1, 0, 1, 0, 0, 0, 1, 0, 0, 1, 1, 0, 0, 0, 0, 1, 0, 1, 0, 1, 1,\n",
        "       1, 0, 1, 1, 0, 0]\n",
        "\n",
        "\n",
        "scibert = [0, 0, 0, 0, 0, 0, 1, 0, 0, 1, 0, 0, 0, 1, 1, 0, 0, 1, 0, 0, 0, 1,\n",
        "       1, 0, 1, 0, 1, 1, 1, 0, 1, 0, 1, 0, 1, 0, 1, 1, 0, 1, 0, 0, 0, 0,\n",
        "       0, 0, 0, 0, 1, 0, 1, 0, 1, 1, 0, 0, 1, 0, 0, 0, 0, 0, 0, 0, 1, 0,\n",
        "       0, 0, 0, 1, 0, 0, 0, 0, 0, 0, 0, 0, 1, 0, 1, 0, 0, 0, 0, 0, 1, 0,\n",
        "       1, 0, 0, 1, 0, 0, 0, 1, 1, 1, 1, 0, 0, 1, 0, 0, 0, 0, 0, 1, 1, 1,\n",
        "       0, 1, 0, 0, 0, 0, 0, 0, 0, 1, 0, 1, 1, 1, 0, 0, 0, 1, 1, 1, 0, 0,\n",
        "       0, 1, 0, 0, 0, 0, 1, 1, 1, 0, 0, 0, 0, 0, 0, 0, 1, 0, 0, 0, 1, 0,\n",
        "       0, 1, 0, 0, 0, 0, 1, 0, 0, 0, 0, 1, 0, 0, 1, 0, 0, 0, 0, 0, 0, 0,\n",
        "       0, 0, 0, 0, 0, 0, 0, 0, 0, 0, 0, 0, 0, 0, 1, 0, 1, 0, 0, 0, 1, 1,\n",
        "       0, 1, 0, 0, 1, 1, 0, 0, 0, 0, 0, 0, 0, 0, 0, 1, 0, 0, 1, 0, 0, 0,\n",
        "       0, 0, 0, 0, 0, 1, 0, 0, 0, 0, 0, 1, 0, 0, 0, 0, 1, 1, 1, 0, 0, 0,\n",
        "       0, 0, 0, 1, 0, 0, 0, 1, 0, 1, 1, 1, 1, 0, 1, 0, 0, 0, 0, 0, 1, 1,\n",
        "       0, 0, 0, 0, 0, 0, 0, 1, 0, 0, 0, 0, 1, 0, 0, 1, 0, 1, 0, 0, 0, 0,\n",
        "       1, 0, 0, 1, 0, 0, 1, 0, 0, 0, 0, 1, 0, 0, 0, 1, 0, 0, 0, 0, 0, 1,\n",
        "       0, 1, 0, 0, 1, 0, 1, 0, 1, 1, 0, 0, 0, 1, 1, 1, 0, 0, 1, 0, 0, 0,\n",
        "       1, 0, 0, 0, 0, 0, 0, 1, 1, 1, 0, 0, 0, 1, 0, 0, 1, 0, 0, 0, 0, 0,\n",
        "       1, 0, 0, 0, 1, 1, 1, 0, 1, 0, 0, 0, 0, 1, 0, 0, 0, 0, 1, 0, 0, 1,\n",
        "       0, 0, 1, 0, 0, 1, 0, 0, 0, 1, 1, 0, 1, 0, 1, 0, 0, 0, 1, 0, 0, 0,\n",
        "       0, 0, 0, 0, 0, 1, 0, 0, 0, 1, 1, 1, 0, 0, 0, 1, 0, 0, 0, 0, 0, 1,\n",
        "       0, 1, 0, 0, 0, 0, 0, 1, 1, 0, 0, 1, 0, 1, 0, 0, 1, 0, 1, 0, 0, 0,\n",
        "       1, 0, 0, 0, 0, 0, 1, 0, 0, 0, 0, 0, 0, 1, 0, 0, 1, 0, 1, 0, 0, 0,\n",
        "       1, 0, 0, 0, 1, 0, 1, 0, 1, 0, 0, 1, 0, 1, 0, 0, 1, 0, 1, 1, 0, 0,\n",
        "       0, 0, 0, 0, 0, 1, 0, 0, 0, 1, 1, 0, 0, 1, 0, 1, 0, 1, 0, 0, 1, 1,\n",
        "       1, 0, 0, 0, 1, 0, 1, 0, 0, 0, 1, 0, 0, 1, 0, 0, 0, 1, 0, 0, 0, 1,\n",
        "       1, 0, 0, 0, 0, 0, 0, 1, 1, 0, 1, 0, 0, 0, 0, 0, 0, 1, 0, 0, 0, 0,\n",
        "       1, 0, 0, 0, 1, 0, 0, 0, 1, 1, 1, 0, 0, 0, 0, 1, 0, 1, 0, 0, 1, 0,\n",
        "       0, 0, 0, 1, 0, 0, 0, 1, 0, 0, 1, 1, 0, 0, 0, 0, 0, 0, 1, 0, 1, 1,\n",
        "       1, 0, 1, 1, 0, 0]\n",
        "\n",
        "\n",
        "specter = [0, 0, 1, 0, 0, 0, 1, 0, 1, 1, 0, 0, 0, 1, 1, 0, 0, 1, 0, 0, 0, 1,\n",
        "       1, 0, 1, 0, 1, 1, 1, 0, 1, 0, 1, 0, 1, 0, 1, 1, 0, 1, 0, 0, 0, 0,\n",
        "       0, 0, 0, 0, 1, 1, 1, 0, 1, 1, 0, 0, 1, 0, 0, 0, 0, 1, 0, 0, 1, 1,\n",
        "       0, 0, 0, 0, 0, 0, 0, 0, 0, 0, 0, 0, 1, 0, 1, 1, 0, 1, 1, 0, 0, 0,\n",
        "       1, 1, 0, 1, 0, 1, 0, 1, 1, 1, 1, 0, 0, 1, 0, 0, 0, 0, 0, 1, 1, 0,\n",
        "       0, 1, 1, 0, 0, 0, 0, 1, 0, 1, 1, 1, 1, 1, 0, 0, 0, 1, 1, 1, 0, 0,\n",
        "       0, 1, 0, 1, 0, 0, 1, 1, 1, 0, 0, 0, 0, 1, 0, 0, 0, 0, 0, 0, 1, 0,\n",
        "       0, 1, 0, 1, 1, 0, 1, 0, 0, 0, 0, 1, 0, 0, 1, 0, 0, 0, 0, 1, 0, 0,\n",
        "       0, 0, 0, 0, 1, 0, 0, 0, 0, 0, 0, 0, 0, 0, 0, 0, 1, 0, 0, 0, 0, 1,\n",
        "       0, 1, 0, 0, 1, 1, 0, 0, 0, 0, 1, 0, 1, 0, 0, 1, 0, 1, 1, 1, 0, 0,\n",
        "       1, 0, 0, 0, 0, 1, 0, 1, 0, 0, 0, 1, 0, 0, 0, 0, 1, 1, 1, 0, 0, 0,\n",
        "       0, 0, 0, 1, 0, 0, 1, 1, 1, 0, 1, 0, 1, 1, 1, 0, 0, 0, 0, 0, 1, 1,\n",
        "       0, 0, 0, 0, 0, 0, 0, 1, 0, 0, 0, 1, 1, 0, 1, 1, 1, 1, 0, 1, 0, 1,\n",
        "       0, 0, 1, 1, 0, 0, 1, 0, 0, 0, 1, 1, 1, 0, 0, 1, 0, 0, 1, 0, 1, 1,\n",
        "       0, 1, 0, 0, 1, 1, 1, 0, 1, 1, 0, 1, 0, 1, 1, 1, 1, 1, 1, 1, 0, 0,\n",
        "       1, 0, 0, 0, 1, 0, 0, 1, 1, 0, 0, 0, 0, 1, 1, 1, 1, 0, 1, 0, 0, 0,\n",
        "       1, 0, 1, 1, 1, 1, 1, 1, 1, 0, 0, 0, 0, 1, 0, 1, 1, 0, 0, 0, 0, 1,\n",
        "       0, 0, 1, 0, 0, 0, 0, 0, 0, 0, 1, 0, 1, 0, 0, 0, 0, 0, 1, 0, 0, 0,\n",
        "       0, 0, 1, 0, 0, 0, 0, 0, 0, 1, 1, 1, 0, 0, 0, 1, 0, 0, 1, 1, 0, 1,\n",
        "       0, 1, 0, 1, 0, 0, 0, 0, 1, 0, 1, 1, 0, 1, 0, 1, 1, 0, 1, 0, 0, 0,\n",
        "       1, 0, 0, 1, 0, 0, 1, 0, 0, 0, 0, 0, 0, 1, 1, 0, 1, 0, 1, 0, 1, 0,\n",
        "       1, 1, 0, 1, 1, 0, 1, 0, 0, 0, 1, 1, 0, 0, 1, 0, 1, 0, 1, 0, 0, 0,\n",
        "       0, 0, 0, 1, 0, 1, 0, 0, 0, 1, 1, 0, 1, 1, 0, 1, 0, 1, 0, 0, 1, 1,\n",
        "       1, 0, 0, 0, 1, 0, 1, 0, 0, 0, 1, 0, 0, 1, 0, 0, 0, 1, 1, 0, 0, 1,\n",
        "       1, 1, 0, 0, 0, 1, 0, 1, 0, 0, 1, 0, 0, 0, 0, 1, 1, 1, 0, 0, 0, 1,\n",
        "       1, 0, 0, 0, 1, 1, 1, 0, 1, 1, 1, 1, 0, 1, 0, 1, 0, 1, 0, 0, 1, 0,\n",
        "       0, 1, 0, 1, 0, 0, 1, 1, 0, 0, 1, 1, 0, 1, 1, 1, 0, 0, 0, 0, 1, 1,\n",
        "       0, 0, 1, 1, 1, 0]\n",
        "\n",
        "\n",
        "roberta = [0, 0, 0, 0, 0, 1, 1, 0, 1, 1, 0, 0, 0, 1, 0, 0, 0, 1, 0, 0, 0, 1,\n",
        "       1, 0, 1, 0, 1, 1, 1, 0, 1, 0, 0, 0, 1, 0, 1, 1, 1, 1, 0, 0, 0, 0,\n",
        "       0, 0, 0, 0, 1, 0, 1, 0, 1, 1, 0, 0, 1, 0, 0, 0, 0, 1, 0, 0, 1, 0,\n",
        "       0, 0, 0, 1, 0, 0, 0, 0, 0, 1, 1, 1, 1, 0, 1, 1, 0, 1, 1, 1, 0, 0,\n",
        "       1, 1, 0, 1, 0, 1, 0, 1, 1, 1, 1, 0, 1, 1, 0, 1, 0, 0, 0, 1, 1, 1,\n",
        "       0, 1, 0, 0, 0, 0, 1, 1, 1, 0, 0, 1, 1, 1, 1, 0, 0, 1, 1, 1, 0, 1,\n",
        "       0, 1, 0, 1, 0, 0, 1, 1, 1, 0, 0, 1, 0, 1, 1, 1, 1, 0, 1, 0, 1, 0,\n",
        "       0, 1, 0, 1, 0, 1, 1, 1, 1, 1, 0, 1, 0, 0, 1, 0, 0, 0, 0, 1, 0, 0,\n",
        "       0, 1, 0, 0, 0, 0, 1, 0, 1, 1, 1, 1, 1, 0, 0, 1, 1, 0, 1, 0, 0, 1,\n",
        "       0, 1, 1, 0, 1, 1, 0, 0, 1, 1, 1, 0, 0, 0, 0, 1, 1, 1, 1, 1, 1, 0,\n",
        "       0, 0, 0, 0, 0, 1, 1, 0, 0, 0, 0, 1, 0, 0, 0, 0, 1, 1, 1, 0, 0, 0,\n",
        "       0, 0, 1, 0, 1, 0, 1, 1, 1, 1, 1, 1, 1, 0, 1, 0, 1, 0, 0, 0, 1, 1,\n",
        "       1, 0, 0, 0, 0, 0, 0, 0, 0, 1, 0, 0, 1, 0, 0, 1, 1, 1, 1, 1, 1, 0,\n",
        "       1, 1, 1, 1, 1, 0, 1, 0, 0, 0, 0, 1, 1, 0, 0, 1, 0, 0, 1, 0, 1, 1,\n",
        "       0, 1, 0, 0, 1, 1, 1, 0, 1, 1, 0, 1, 0, 1, 0, 1, 1, 0, 1, 1, 1, 1,\n",
        "       1, 1, 0, 0, 0, 0, 0, 1, 1, 1, 0, 1, 1, 1, 1, 1, 1, 0, 0, 0, 0, 0,\n",
        "       1, 1, 1, 1, 1, 1, 1, 1, 0, 0, 0, 1, 0, 1, 0, 0, 1, 0, 1, 0, 0, 1,\n",
        "       0, 0, 1, 0, 0, 0, 0, 0, 0, 0, 1, 0, 1, 0, 1, 0, 0, 1, 1, 0, 0, 0,\n",
        "       0, 0, 1, 0, 0, 0, 1, 1, 0, 1, 1, 1, 1, 0, 1, 1, 0, 0, 1, 0, 0, 1,\n",
        "       0, 1, 1, 1, 1, 1, 0, 1, 1, 0, 1, 1, 0, 1, 0, 1, 1, 0, 1, 0, 1, 0,\n",
        "       1, 0, 1, 0, 0, 0, 1, 0, 0, 1, 1, 0, 0, 1, 0, 0, 1, 0, 1, 0, 0, 1,\n",
        "       1, 1, 0, 0, 0, 0, 1, 0, 1, 0, 0, 1, 1, 1, 1, 1, 1, 0, 1, 0, 0, 0,\n",
        "       0, 0, 0, 0, 0, 1, 1, 0, 0, 1, 1, 0, 1, 1, 0, 1, 0, 1, 0, 0, 1, 1,\n",
        "       1, 0, 0, 0, 1, 0, 1, 0, 0, 1, 1, 0, 0, 1, 0, 0, 1, 1, 1, 0, 0, 1,\n",
        "       1, 1, 0, 0, 0, 1, 0, 0, 0, 0, 1, 0, 0, 0, 0, 1, 0, 1, 0, 0, 0, 1,\n",
        "       1, 0, 0, 0, 1, 1, 1, 1, 1, 1, 1, 1, 1, 0, 1, 1, 0, 1, 0, 0, 1, 1,\n",
        "       0, 1, 0, 1, 0, 0, 0, 1, 1, 0, 1, 1, 0, 0, 0, 1, 1, 1, 1, 0, 1, 1,\n",
        "       1, 0, 1, 1, 0, 0]"
      ]
    },
    {
      "cell_type": "code",
      "execution_count": null,
      "metadata": {
        "id": "bW7pGlIE0Sne"
      },
      "outputs": [],
      "source": [
        "# Program to find most frequent\n",
        "# element in a list\n",
        "def most_frequent(List):\n",
        "\treturn max(set(List), key = List.count)"
      ]
    },
    {
      "cell_type": "code",
      "execution_count": null,
      "metadata": {
        "id": "YbDc39uszTXM"
      },
      "outputs": [],
      "source": [
        "ensemble = []\n",
        "\n",
        "for i in range(600):\n",
        "  prob = []\n",
        "  prob.append(pubmedbert[i])\n",
        "  prob.append(bert[i])\n",
        "  prob.append(scibert[i])\n",
        "  prob.append(specter[i])\n",
        "  prob.append(roberta[i])\n",
        "  ensemble.append(most_frequent(prob))\n"
      ]
    },
    {
      "cell_type": "code",
      "execution_count": null,
      "metadata": {
        "id": "zesxGKR30hjQ"
      },
      "outputs": [],
      "source": [
        "ensemble = np.array(ensemble)"
      ]
    },
    {
      "cell_type": "code",
      "execution_count": null,
      "metadata": {
        "colab": {
          "base_uri": "https://localhost:8080/"
        },
        "id": "XbOKbXPP0jVv",
        "outputId": "20e25d33-d6c4-4c11-f52e-9f33bbe5ea2e"
      },
      "outputs": [
        {
          "output_type": "execute_result",
          "data": {
            "text/plain": [
              "array([0, 0, 0, 0, 0, 0, 1, 0, 1, 1, 0, 0, 0, 1, 1, 0, 0, 1, 0, 0, 0, 1,\n",
              "       1, 0, 1, 0, 1, 1, 1, 0, 1, 0, 1, 0, 1, 0, 1, 1, 0, 1, 0, 0, 0, 0,\n",
              "       0, 0, 0, 0, 1, 0, 1, 0, 1, 1, 0, 0, 1, 0, 0, 0, 0, 0, 0, 0, 1, 0,\n",
              "       0, 0, 0, 1, 0, 0, 0, 0, 0, 0, 0, 0, 1, 0, 1, 1, 0, 1, 1, 0, 0, 0,\n",
              "       1, 1, 0, 1, 0, 1, 0, 1, 1, 1, 1, 0, 0, 1, 0, 0, 0, 0, 0, 1, 1, 1,\n",
              "       0, 1, 0, 0, 0, 0, 0, 1, 1, 1, 0, 1, 1, 1, 0, 0, 0, 1, 1, 1, 0, 0,\n",
              "       0, 1, 0, 1, 0, 0, 1, 1, 1, 0, 0, 1, 0, 0, 0, 0, 1, 0, 0, 0, 1, 0,\n",
              "       0, 1, 0, 1, 0, 0, 1, 1, 0, 0, 0, 1, 0, 0, 1, 0, 0, 0, 0, 0, 0, 0,\n",
              "       0, 0, 0, 0, 0, 0, 0, 0, 0, 0, 0, 0, 1, 0, 1, 0, 1, 0, 0, 0, 0, 1,\n",
              "       0, 1, 0, 0, 1, 1, 0, 0, 0, 0, 1, 0, 0, 0, 0, 1, 0, 0, 1, 0, 0, 0,\n",
              "       0, 0, 0, 0, 0, 1, 1, 0, 0, 0, 0, 1, 0, 0, 0, 0, 1, 1, 1, 0, 0, 0,\n",
              "       0, 0, 0, 1, 0, 0, 1, 1, 1, 1, 1, 1, 1, 0, 1, 0, 0, 0, 0, 0, 1, 1,\n",
              "       0, 0, 0, 0, 0, 0, 0, 1, 0, 0, 0, 0, 1, 0, 0, 1, 1, 1, 0, 1, 0, 0,\n",
              "       1, 1, 1, 1, 0, 0, 1, 0, 0, 0, 0, 1, 1, 0, 0, 1, 0, 0, 1, 0, 0, 1,\n",
              "       0, 1, 0, 0, 1, 1, 1, 0, 1, 1, 0, 0, 0, 1, 1, 1, 1, 0, 1, 1, 0, 0,\n",
              "       1, 0, 0, 0, 0, 0, 0, 1, 1, 1, 0, 0, 0, 1, 1, 0, 1, 0, 0, 0, 0, 0,\n",
              "       1, 0, 1, 0, 1, 1, 1, 1, 1, 0, 0, 1, 0, 1, 0, 0, 0, 0, 1, 0, 0, 1,\n",
              "       0, 0, 1, 0, 0, 0, 0, 0, 0, 1, 1, 0, 1, 0, 1, 0, 0, 0, 1, 0, 0, 0,\n",
              "       0, 0, 0, 0, 0, 0, 1, 0, 0, 1, 1, 1, 0, 0, 1, 1, 0, 0, 1, 1, 0, 1,\n",
              "       0, 1, 0, 1, 0, 0, 0, 1, 1, 0, 1, 1, 0, 1, 0, 1, 1, 0, 1, 0, 0, 0,\n",
              "       1, 0, 0, 0, 0, 0, 1, 0, 0, 0, 0, 0, 0, 1, 0, 0, 1, 0, 1, 0, 0, 0,\n",
              "       1, 1, 0, 0, 1, 0, 1, 0, 0, 0, 0, 1, 0, 1, 0, 0, 1, 0, 1, 0, 0, 0,\n",
              "       0, 0, 0, 0, 0, 1, 0, 0, 0, 1, 1, 0, 0, 1, 0, 1, 0, 1, 0, 0, 1, 1,\n",
              "       1, 0, 0, 0, 1, 0, 1, 0, 0, 0, 1, 0, 0, 1, 0, 0, 0, 1, 1, 0, 0, 1,\n",
              "       1, 0, 0, 0, 0, 1, 0, 1, 1, 0, 1, 0, 0, 0, 0, 1, 0, 1, 0, 0, 0, 1,\n",
              "       1, 0, 0, 0, 1, 1, 1, 0, 1, 1, 1, 1, 0, 1, 0, 1, 0, 1, 0, 0, 1, 0,\n",
              "       0, 1, 0, 1, 0, 0, 0, 1, 0, 0, 1, 1, 0, 0, 0, 1, 1, 0, 1, 0, 1, 1,\n",
              "       1, 0, 1, 1, 0, 0])"
            ]
          },
          "metadata": {},
          "execution_count": 11
        }
      ],
      "source": [
        "ensemble"
      ]
    },
    {
      "cell_type": "code",
      "execution_count": null,
      "metadata": {
        "colab": {
          "base_uri": "https://localhost:8080/"
        },
        "id": "Phjj5Pup0xmD",
        "outputId": "26fb7cce-3e49-48b6-f1f7-8dd41733fe10"
      },
      "outputs": [
        {
          "output_type": "stream",
          "name": "stdout",
          "text": [
            "Accuracy: 0.830000\n",
            "Precision: 0.761062\n",
            "Recall: 0.781818\n",
            "F1 score: 0.771300\n"
          ]
        }
      ],
      "source": [
        "report(y_valid_bert, ensemble)"
      ]
    },
    {
      "cell_type": "markdown",
      "metadata": {
        "id": "o7B_h4T80-y5"
      },
      "source": [
        "# ensemble test results"
      ]
    },
    {
      "cell_type": "code",
      "source": [
        "from google.colab import drive\n",
        "drive.mount('/content/drive')"
      ],
      "metadata": {
        "colab": {
          "base_uri": "https://localhost:8080/"
        },
        "id": "ogbFBkU9SMrk",
        "outputId": "75aac816-a4d1-4b2f-9e79-8da1f187e77a"
      },
      "execution_count": null,
      "outputs": [
        {
          "output_type": "stream",
          "name": "stdout",
          "text": [
            "Mounted at /content/drive\n"
          ]
        }
      ]
    },
    {
      "cell_type": "code",
      "source": [
        "import pandas as pd\n",
        "import numpy as np"
      ],
      "metadata": {
        "id": "K2sYHdg6ScGI"
      },
      "execution_count": null,
      "outputs": []
    },
    {
      "cell_type": "code",
      "execution_count": null,
      "metadata": {
        "id": "2FLbKgTK3aVw"
      },
      "outputs": [],
      "source": [
        "bert_test = pd.read_table('/content/drive/MyDrive/smmh/premise_predictions_bert.tsv')\n",
        "pubmedbert_test = pd.read_table('/content/drive/MyDrive/smmh/premise_predictions_pubmedbert.tsv')\n",
        "roberta_test = pd.read_table('/content/drive/MyDrive/smmh/premise_predictions_roberta.tsv')\n",
        "scibert_test = pd.read_table('/content/drive/MyDrive/smmh/premise_predictions_scibert.tsv')\n",
        "specter_test = pd.read_table('/content/drive/MyDrive/smmh/premise_predictions_specter.tsv')"
      ]
    },
    {
      "cell_type": "code",
      "execution_count": null,
      "metadata": {
        "colab": {
          "base_uri": "https://localhost:8080/",
          "height": 423
        },
        "id": "MadQtdaa8zr4",
        "outputId": "5250ae30-4e80-4417-946b-0dc1c902e815"
      },
      "outputs": [
        {
          "data": {
            "text/html": [
              "\n",
              "  <div id=\"df-fb5ffe23-2446-4844-9ca7-c211f4c17aa1\">\n",
              "    <div class=\"colab-df-container\">\n",
              "      <div>\n",
              "<style scoped>\n",
              "    .dataframe tbody tr th:only-of-type {\n",
              "        vertical-align: middle;\n",
              "    }\n",
              "\n",
              "    .dataframe tbody tr th {\n",
              "        vertical-align: top;\n",
              "    }\n",
              "\n",
              "    .dataframe thead th {\n",
              "        text-align: right;\n",
              "    }\n",
              "</style>\n",
              "<table border=\"1\" class=\"dataframe\">\n",
              "  <thead>\n",
              "    <tr style=\"text-align: right;\">\n",
              "      <th></th>\n",
              "      <th>id</th>\n",
              "      <th>claim</th>\n",
              "      <th>Tweet</th>\n",
              "      <th>Premise</th>\n",
              "    </tr>\n",
              "  </thead>\n",
              "  <tbody>\n",
              "    <tr>\n",
              "      <th>0</th>\n",
              "      <td>1307558525371965442</td>\n",
              "      <td>school closures</td>\n",
              "      <td>@narendramodi @rajnathsingh Student ka bhi soa...</td>\n",
              "      <td>0</td>\n",
              "    </tr>\n",
              "    <tr>\n",
              "      <th>1</th>\n",
              "      <td>1247739239879467009</td>\n",
              "      <td>stay at home orders</td>\n",
              "      <td>—échale un vistazo a esto…   … a fair piece on...</td>\n",
              "      <td>0</td>\n",
              "    </tr>\n",
              "    <tr>\n",
              "      <th>2</th>\n",
              "      <td>1242046510155653125</td>\n",
              "      <td>stay at home orders</td>\n",
              "      <td>Why do think skilling women and girls is impor...</td>\n",
              "      <td>0</td>\n",
              "    </tr>\n",
              "    <tr>\n",
              "      <th>3</th>\n",
              "      <td>1358446499949084675</td>\n",
              "      <td>school closures</td>\n",
              "      <td>To reduce the risk of the virus spreading as e...</td>\n",
              "      <td>1</td>\n",
              "    </tr>\n",
              "    <tr>\n",
              "      <th>4</th>\n",
              "      <td>1249740062775902208</td>\n",
              "      <td>stay at home orders</td>\n",
              "      <td>I speak for a great many people when i say WE ...</td>\n",
              "      <td>0</td>\n",
              "    </tr>\n",
              "    <tr>\n",
              "      <th>...</th>\n",
              "      <td>...</td>\n",
              "      <td>...</td>\n",
              "      <td>...</td>\n",
              "      <td>...</td>\n",
              "    </tr>\n",
              "    <tr>\n",
              "      <th>9950</th>\n",
              "      <td>1242516037628813314</td>\n",
              "      <td>stay at home orders</td>\n",
              "      <td>StayAtHomeSaveLives 21daysLockdown StayAtHome ...</td>\n",
              "      <td>0</td>\n",
              "    </tr>\n",
              "    <tr>\n",
              "      <th>9951</th>\n",
              "      <td>1242746919933415424</td>\n",
              "      <td>stay at home orders</td>\n",
              "      <td>If this is true this is heartbreaking StayAtHo...</td>\n",
              "      <td>0</td>\n",
              "    </tr>\n",
              "    <tr>\n",
              "      <th>9952</th>\n",
              "      <td>1276638598813679617</td>\n",
              "      <td>stay at home orders</td>\n",
              "      <td>855 Sunset Cove Dr, Winter Haven, FL 33880 3 B...</td>\n",
              "      <td>0</td>\n",
              "    </tr>\n",
              "    <tr>\n",
              "      <th>9953</th>\n",
              "      <td>1243504288661270528</td>\n",
              "      <td>stay at home orders</td>\n",
              "      <td>StayAtHomeSaveLives StayHomeStaySafe StayHome ...</td>\n",
              "      <td>0</td>\n",
              "    </tr>\n",
              "    <tr>\n",
              "      <th>9954</th>\n",
              "      <td>1237875841981247488</td>\n",
              "      <td>school closures</td>\n",
              "      <td>We’re on track to be like Italy is now. Time t...</td>\n",
              "      <td>0</td>\n",
              "    </tr>\n",
              "  </tbody>\n",
              "</table>\n",
              "<p>9955 rows × 4 columns</p>\n",
              "</div>\n",
              "      <button class=\"colab-df-convert\" onclick=\"convertToInteractive('df-fb5ffe23-2446-4844-9ca7-c211f4c17aa1')\"\n",
              "              title=\"Convert this dataframe to an interactive table.\"\n",
              "              style=\"display:none;\">\n",
              "        \n",
              "  <svg xmlns=\"http://www.w3.org/2000/svg\" height=\"24px\"viewBox=\"0 0 24 24\"\n",
              "       width=\"24px\">\n",
              "    <path d=\"M0 0h24v24H0V0z\" fill=\"none\"/>\n",
              "    <path d=\"M18.56 5.44l.94 2.06.94-2.06 2.06-.94-2.06-.94-.94-2.06-.94 2.06-2.06.94zm-11 1L8.5 8.5l.94-2.06 2.06-.94-2.06-.94L8.5 2.5l-.94 2.06-2.06.94zm10 10l.94 2.06.94-2.06 2.06-.94-2.06-.94-.94-2.06-.94 2.06-2.06.94z\"/><path d=\"M17.41 7.96l-1.37-1.37c-.4-.4-.92-.59-1.43-.59-.52 0-1.04.2-1.43.59L10.3 9.45l-7.72 7.72c-.78.78-.78 2.05 0 2.83L4 21.41c.39.39.9.59 1.41.59.51 0 1.02-.2 1.41-.59l7.78-7.78 2.81-2.81c.8-.78.8-2.07 0-2.86zM5.41 20L4 18.59l7.72-7.72 1.47 1.35L5.41 20z\"/>\n",
              "  </svg>\n",
              "      </button>\n",
              "      \n",
              "  <style>\n",
              "    .colab-df-container {\n",
              "      display:flex;\n",
              "      flex-wrap:wrap;\n",
              "      gap: 12px;\n",
              "    }\n",
              "\n",
              "    .colab-df-convert {\n",
              "      background-color: #E8F0FE;\n",
              "      border: none;\n",
              "      border-radius: 50%;\n",
              "      cursor: pointer;\n",
              "      display: none;\n",
              "      fill: #1967D2;\n",
              "      height: 32px;\n",
              "      padding: 0 0 0 0;\n",
              "      width: 32px;\n",
              "    }\n",
              "\n",
              "    .colab-df-convert:hover {\n",
              "      background-color: #E2EBFA;\n",
              "      box-shadow: 0px 1px 2px rgba(60, 64, 67, 0.3), 0px 1px 3px 1px rgba(60, 64, 67, 0.15);\n",
              "      fill: #174EA6;\n",
              "    }\n",
              "\n",
              "    [theme=dark] .colab-df-convert {\n",
              "      background-color: #3B4455;\n",
              "      fill: #D2E3FC;\n",
              "    }\n",
              "\n",
              "    [theme=dark] .colab-df-convert:hover {\n",
              "      background-color: #434B5C;\n",
              "      box-shadow: 0px 1px 3px 1px rgba(0, 0, 0, 0.15);\n",
              "      filter: drop-shadow(0px 1px 2px rgba(0, 0, 0, 0.3));\n",
              "      fill: #FFFFFF;\n",
              "    }\n",
              "  </style>\n",
              "\n",
              "      <script>\n",
              "        const buttonEl =\n",
              "          document.querySelector('#df-fb5ffe23-2446-4844-9ca7-c211f4c17aa1 button.colab-df-convert');\n",
              "        buttonEl.style.display =\n",
              "          google.colab.kernel.accessAllowed ? 'block' : 'none';\n",
              "\n",
              "        async function convertToInteractive(key) {\n",
              "          const element = document.querySelector('#df-fb5ffe23-2446-4844-9ca7-c211f4c17aa1');\n",
              "          const dataTable =\n",
              "            await google.colab.kernel.invokeFunction('convertToInteractive',\n",
              "                                                     [key], {});\n",
              "          if (!dataTable) return;\n",
              "\n",
              "          const docLinkHtml = 'Like what you see? Visit the ' +\n",
              "            '<a target=\"_blank\" href=https://colab.research.google.com/notebooks/data_table.ipynb>data table notebook</a>'\n",
              "            + ' to learn more about interactive tables.';\n",
              "          element.innerHTML = '';\n",
              "          dataTable['output_type'] = 'display_data';\n",
              "          await google.colab.output.renderOutput(dataTable, element);\n",
              "          const docLink = document.createElement('div');\n",
              "          docLink.innerHTML = docLinkHtml;\n",
              "          element.appendChild(docLink);\n",
              "        }\n",
              "      </script>\n",
              "    </div>\n",
              "  </div>\n",
              "  "
            ],
            "text/plain": [
              "                       id                claim  \\\n",
              "0     1307558525371965442      school closures   \n",
              "1     1247739239879467009  stay at home orders   \n",
              "2     1242046510155653125  stay at home orders   \n",
              "3     1358446499949084675      school closures   \n",
              "4     1249740062775902208  stay at home orders   \n",
              "...                   ...                  ...   \n",
              "9950  1242516037628813314  stay at home orders   \n",
              "9951  1242746919933415424  stay at home orders   \n",
              "9952  1276638598813679617  stay at home orders   \n",
              "9953  1243504288661270528  stay at home orders   \n",
              "9954  1237875841981247488      school closures   \n",
              "\n",
              "                                                  Tweet  Premise  \n",
              "0     @narendramodi @rajnathsingh Student ka bhi soa...        0  \n",
              "1     —échale un vistazo a esto…   … a fair piece on...        0  \n",
              "2     Why do think skilling women and girls is impor...        0  \n",
              "3     To reduce the risk of the virus spreading as e...        1  \n",
              "4     I speak for a great many people when i say WE ...        0  \n",
              "...                                                 ...      ...  \n",
              "9950  StayAtHomeSaveLives 21daysLockdown StayAtHome ...        0  \n",
              "9951  If this is true this is heartbreaking StayAtHo...        0  \n",
              "9952  855 Sunset Cove Dr, Winter Haven, FL 33880 3 B...        0  \n",
              "9953  StayAtHomeSaveLives StayHomeStaySafe StayHome ...        0  \n",
              "9954  We’re on track to be like Italy is now. Time t...        0  \n",
              "\n",
              "[9955 rows x 4 columns]"
            ]
          },
          "execution_count": 117,
          "metadata": {},
          "output_type": "execute_result"
        }
      ],
      "source": [
        "scibert_test"
      ]
    },
    {
      "cell_type": "code",
      "execution_count": null,
      "metadata": {
        "id": "LK43qlw357Sz"
      },
      "outputs": [],
      "source": [
        "bert_test_premise = bert_test.Premise\n",
        "bert_test_premise = np.array(bert_test_premise)\n",
        "\n",
        "pubmedbert_test_premise = pubmedbert_test.Premise\n",
        "pubmedbert_test_premise = np.array(pubmedbert_test_premise)\n",
        "\n",
        "roberta_test_premise = roberta_test.Premise\n",
        "roberta_test_premise = np.array(roberta_test_premise)\n",
        "\n",
        "scibert_test_premise = scibert_test.Premise\n",
        "scibert_test_premise = np.array(scibert_test_premise)\n",
        "\n",
        "specter_test_premise = specter_test.Premise\n",
        "specter_test_premise = np.array(specter_test_premise)"
      ]
    },
    {
      "cell_type": "code",
      "execution_count": null,
      "metadata": {
        "id": "TAvtDbWe6HfZ"
      },
      "outputs": [],
      "source": [
        "ensemble_test = []\n",
        "\n",
        "for i in range(9955):\n",
        "  prob = []\n",
        "  prob.append(pubmedbert_test_premise[i])\n",
        "  prob.append(bert_test_premise[i])\n",
        "  prob.append(scibert_test_premise[i])\n",
        "  prob.append(specter_test_premise[i])\n",
        "  prob.append(roberta_test_premise[i])\n",
        "  ensemble_test.append(most_frequent(prob))"
      ]
    },
    {
      "cell_type": "code",
      "execution_count": null,
      "metadata": {
        "id": "sjMJQTCU7SF5"
      },
      "outputs": [],
      "source": [
        "test['Premise'] = ensemble_test"
      ]
    },
    {
      "cell_type": "code",
      "source": [
        "test = test.astype(str)\n",
        "print(test.dtypes)"
      ],
      "metadata": {
        "colab": {
          "base_uri": "https://localhost:8080/"
        },
        "id": "dClSx3oPTBkv",
        "outputId": "e82c85dc-6243-48c0-d782-662b88b0f35c"
      },
      "execution_count": null,
      "outputs": [
        {
          "output_type": "stream",
          "name": "stdout",
          "text": [
            "id         object\n",
            "claim      object\n",
            "Tweet      object\n",
            "Premise    object\n",
            "dtype: object\n"
          ]
        }
      ]
    },
    {
      "cell_type": "code",
      "execution_count": null,
      "metadata": {
        "id": "rw5-RoaD7qTP"
      },
      "outputs": [],
      "source": [
        "test.to_csv('/content/drive/MyDrive/smmh/premise_predictions_all.tsv', sep='\\t', index=False)"
      ]
    },
    {
      "cell_type": "code",
      "execution_count": null,
      "metadata": {
        "id": "csBkqe5RI5Fy"
      },
      "outputs": [],
      "source": [
        "ensemble_premise = [0, 0, 0, 0, 0, 0, 1, 0, 1, 1, 0, 0, 0, 1, 1, 0, 0, 1, 0, 0, 0, 1,\n",
        "       1, 0, 1, 0, 1, 1, 1, 0, 1, 0, 1, 0, 1, 0, 1, 1, 0, 1, 0, 0, 0, 0,\n",
        "       0, 0, 0, 0, 1, 0, 1, 0, 1, 1, 0, 0, 1, 0, 0, 0, 0, 0, 0, 0, 1, 0,\n",
        "       0, 0, 0, 1, 0, 0, 0, 0, 0, 0, 0, 0, 1, 0, 1, 1, 0, 1, 1, 0, 0, 0,\n",
        "       1, 1, 0, 1, 0, 1, 0, 1, 1, 1, 1, 0, 0, 1, 0, 0, 0, 0, 0, 1, 1, 1,\n",
        "       0, 1, 0, 0, 0, 0, 0, 1, 1, 1, 0, 1, 1, 1, 0, 0, 0, 1, 1, 1, 0, 0,\n",
        "       0, 1, 0, 1, 0, 0, 1, 1, 1, 0, 0, 1, 0, 0, 0, 0, 1, 0, 0, 0, 1, 0,\n",
        "       0, 1, 0, 1, 0, 0, 1, 1, 0, 0, 0, 1, 0, 0, 1, 0, 0, 0, 0, 0, 0, 0,\n",
        "       0, 0, 0, 0, 0, 0, 0, 0, 0, 0, 0, 0, 1, 0, 1, 0, 1, 0, 0, 0, 0, 1,\n",
        "       0, 1, 0, 0, 1, 1, 0, 0, 0, 0, 1, 0, 0, 0, 0, 1, 0, 0, 1, 0, 0, 0,\n",
        "       0, 0, 0, 0, 0, 1, 1, 0, 0, 0, 0, 1, 0, 0, 0, 0, 1, 1, 1, 0, 0, 0,\n",
        "       0, 0, 0, 1, 0, 0, 1, 1, 1, 1, 1, 1, 1, 0, 1, 0, 0, 0, 0, 0, 1, 1,\n",
        "       0, 0, 0, 0, 0, 0, 0, 1, 0, 0, 0, 0, 1, 0, 0, 1, 1, 1, 0, 1, 0, 0,\n",
        "       1, 1, 1, 1, 0, 0, 1, 0, 0, 0, 0, 1, 1, 0, 0, 1, 0, 0, 1, 0, 0, 1,\n",
        "       0, 1, 0, 0, 1, 1, 1, 0, 1, 1, 0, 0, 0, 1, 1, 1, 1, 0, 1, 1, 0, 0,\n",
        "       1, 0, 0, 0, 0, 0, 0, 1, 1, 1, 0, 0, 0, 1, 1, 0, 1, 0, 0, 0, 0, 0,\n",
        "       1, 0, 1, 0, 1, 1, 1, 1, 1, 0, 0, 1, 0, 1, 0, 0, 0, 0, 1, 0, 0, 1,\n",
        "       0, 0, 1, 0, 0, 0, 0, 0, 0, 1, 1, 0, 1, 0, 1, 0, 0, 0, 1, 0, 0, 0,\n",
        "       0, 0, 0, 0, 0, 0, 1, 0, 0, 1, 1, 1, 0, 0, 1, 1, 0, 0, 1, 1, 0, 1,\n",
        "       0, 1, 0, 1, 0, 0, 0, 1, 1, 0, 1, 1, 0, 1, 0, 1, 1, 0, 1, 0, 0, 0,\n",
        "       1, 0, 0, 0, 0, 0, 1, 0, 0, 0, 0, 0, 0, 1, 0, 0, 1, 0, 1, 0, 0, 0,\n",
        "       1, 1, 0, 0, 1, 0, 1, 0, 0, 0, 0, 1, 0, 1, 0, 0, 1, 0, 1, 0, 0, 0,\n",
        "       0, 0, 0, 0, 0, 1, 0, 0, 0, 1, 1, 0, 0, 1, 0, 1, 0, 1, 0, 0, 1, 1,\n",
        "       1, 0, 0, 0, 1, 0, 1, 0, 0, 0, 1, 0, 0, 1, 0, 0, 0, 1, 1, 0, 0, 1,\n",
        "       1, 0, 0, 0, 0, 1, 0, 1, 1, 0, 1, 0, 0, 0, 0, 1, 0, 1, 0, 0, 0, 1,\n",
        "       1, 0, 0, 0, 1, 1, 1, 0, 1, 1, 1, 1, 0, 1, 0, 1, 0, 1, 0, 0, 1, 0,\n",
        "       0, 1, 0, 1, 0, 0, 0, 1, 0, 0, 1, 1, 0, 0, 0, 1, 1, 0, 1, 0, 1, 1,\n",
        "       1, 0, 1, 1, 0, 0]"
      ]
    },
    {
      "cell_type": "code",
      "source": [
        "ensemble_stance = [1, 2, 2, 1, 2, 0, 0, 0, 0, 0, 1, 2, 2, 0, 0, 1, 2, 1, 2, 2, 2, 0,\n",
        "       0, 2, 1, 0, 1, 1, 0, 2, 1, 2, 2, 1, 1, 2, 1, 1, 0, 1, 0, 1, 1, 1,\n",
        "       2, 2, 0, 2, 0, 2, 0, 2, 1, 0, 2, 2, 1, 0, 1, 2, 2, 1, 0, 2, 2, 2,\n",
        "       2, 2, 2, 1, 2, 2, 1, 1, 1, 1, 1, 2, 0, 1, 0, 2, 1, 2, 1, 1, 1, 0,\n",
        "       2, 1, 2, 0, 1, 2, 2, 0, 1, 1, 1, 2, 2, 0, 2, 1, 2, 0, 2, 0, 1, 1,\n",
        "       0, 1, 2, 2, 2, 2, 1, 1, 1, 0, 2, 1, 1, 1, 2, 1, 2, 0, 1, 1, 1, 2,\n",
        "       2, 0, 2, 2, 2, 2, 1, 0, 1, 2, 1, 2, 2, 1, 2, 2, 1, 0, 2, 0, 0, 1,\n",
        "       2, 1, 0, 1, 2, 1, 1, 1, 0, 1, 1, 0, 2, 0, 1, 2, 1, 2, 0, 2, 1, 1,\n",
        "       2, 2, 1, 2, 1, 2, 1, 1, 2, 2, 1, 2, 1, 2, 0, 1, 0, 2, 2, 1, 0, 0,\n",
        "       2, 0, 2, 2, 0, 0, 2, 2, 2, 1, 1, 2, 2, 2, 2, 0, 2, 0, 0, 2, 1, 1,\n",
        "       2, 1, 2, 1, 2, 1, 1, 1, 2, 2, 2, 1, 2, 0, 2, 2, 0, 1, 1, 1, 2, 2,\n",
        "       1, 2, 1, 0, 1, 2, 1, 1, 1, 1, 0, 1, 1, 1, 1, 2, 1, 2, 1, 2, 0, 0,\n",
        "       1, 2, 2, 2, 0, 2, 2, 1, 2, 1, 2, 0, 1, 2, 1, 0, 2, 1, 1, 1, 1, 0,\n",
        "       1, 0, 1, 0, 1, 2, 0, 2, 2, 2, 2, 1, 1, 1, 2, 1, 2, 2, 1, 2, 2, 0,\n",
        "       2, 1, 1, 1, 0, 1, 1, 1, 1, 0, 2, 2, 2, 1, 0, 1, 1, 2, 0, 1, 0, 2,\n",
        "       0, 1, 2, 2, 2, 0, 1, 2, 1, 1, 2, 0, 1, 1, 1, 1, 0, 0, 2, 2, 1, 1,\n",
        "       0, 1, 0, 0, 1, 0, 1, 0, 1, 2, 2, 0, 2, 2, 1, 2, 2, 2, 2, 2, 2, 1,\n",
        "       2, 2, 1, 1, 2, 0, 2, 0, 2, 1, 2, 2, 0, 0, 2, 1, 2, 2, 0, 2, 1, 2,\n",
        "       2, 1, 2, 2, 2, 2, 0, 1, 1, 1, 2, 1, 2, 0, 1, 1, 2, 2, 0, 1, 2, 1,\n",
        "       0, 0, 2, 0, 1, 0, 0, 1, 1, 0, 1, 2, 2, 1, 1, 1, 1, 0, 0, 0, 2, 1,\n",
        "       1, 2, 2, 0, 2, 1, 1, 2, 2, 2, 0, 0, 1, 2, 0, 2, 2, 1, 1, 1, 0, 2,\n",
        "       0, 1, 2, 2, 1, 2, 0, 1, 0, 2, 1, 1, 2, 0, 2, 1, 1, 0, 1, 2, 2, 0,\n",
        "       1, 1, 1, 2, 1, 0, 1, 2, 2, 1, 1, 2, 1, 0, 2, 1, 2, 2, 2, 2, 1, 1,\n",
        "       1, 1, 2, 1, 0, 1, 1, 2, 2, 2, 1, 2, 2, 2, 2, 2, 1, 1, 1, 2, 2, 0,\n",
        "       1, 1, 2, 1, 1, 1, 2, 0, 1, 2, 2, 1, 1, 2, 0, 2, 0, 1, 2, 2, 2, 1,\n",
        "       1, 2, 0, 0, 1, 0, 0, 1, 1, 1, 1, 1, 1, 1, 2, 1, 1, 0, 2, 1, 1, 0,\n",
        "       2, 1, 1, 2, 1, 2, 2, 0, 2, 2, 1, 1, 1, 2, 0, 0, 0, 1, 1, 2, 1, 1,\n",
        "       0, 0, 1, 0, 1, 1]"
      ],
      "metadata": {
        "id": "Itp6GhtN72FT"
      },
      "execution_count": null,
      "outputs": []
    },
    {
      "cell_type": "code",
      "source": [
        "valid['premise_predicted'] = ensemble_premise"
      ],
      "metadata": {
        "id": "83nu6mnm6CJ4"
      },
      "execution_count": null,
      "outputs": []
    },
    {
      "cell_type": "code",
      "source": [
        "ensemble_stance_1 = []\n",
        "for i in range(600):\n",
        "  if ensemble_stance[i] == 0:\n",
        "    ensemble_stance_1.append('AGAINST')\n",
        "  elif ensemble_stance[i] == 1:\n",
        "    ensemble_stance_1.append('FAVOUR')\n",
        "  elif ensemble_stance[i] == 2:\n",
        "    ensemble_stance_1.append('NONE')"
      ],
      "metadata": {
        "id": "s4A2036K8Jjh"
      },
      "execution_count": null,
      "outputs": []
    },
    {
      "cell_type": "code",
      "source": [
        "valid['stance_predicted'] = ensemble_stance_1"
      ],
      "metadata": {
        "id": "jokfhpQu6Ik7"
      },
      "execution_count": null,
      "outputs": []
    },
    {
      "cell_type": "code",
      "source": [
        "valid"
      ],
      "metadata": {
        "colab": {
          "base_uri": "https://localhost:8080/",
          "height": 1002
        },
        "id": "_djnBVll6Jkq",
        "outputId": "ddf45828-e05c-468c-b6a3-668bf5c4a515"
      },
      "execution_count": null,
      "outputs": [
        {
          "output_type": "execute_result",
          "data": {
            "text/plain": [
              "                id                                              Tweet  \\\n",
              "0    7212131785749  Ordered a mask that had a cute chain attached ...   \n",
              "1       2367433035  Who is ready for some #baseball?  #BaseballisB...   \n",
              "2           496011  @Mystere07623203 @va_shiva @Liberty13046 130,0...   \n",
              "3          1490686  When they ask me what I did with my life I wil...   \n",
              "4          1209366  Taylor not putting her album in physical store...   \n",
              "..             ...                                                ...   \n",
              "595        2949472  @BrianKempGA is one of the few #Governors that...   \n",
              "596         208269  I tested positive for Covid. Got it from a fri...   \n",
              "597        2316008  If you are under retirement age, you have a *m...   \n",
              "598         659269  @TheLalasventure @doqholliday @realDonaldTrump...   \n",
              "599        1940282  @Caissie Obviously I was simply practicing my ...   \n",
              "\n",
              "                   Claim   Stance  Premise  premise_predicted stance_predicted  \n",
              "0             face masks    FAVOR        0                  0           FAVOUR  \n",
              "1    stay at home orders     NONE        0                  0             NONE  \n",
              "2             face masks    FAVOR        1                  0             NONE  \n",
              "3             face masks    FAVOR        0                  0           FAVOUR  \n",
              "4    stay at home orders    FAVOR        0                  0             NONE  \n",
              "..                   ...      ...      ...                ...              ...  \n",
              "595           face masks  AGAINST        1                  0          AGAINST  \n",
              "596           face masks    FAVOR        1                  1           FAVOUR  \n",
              "597  stay at home orders  AGAINST        1                  1          AGAINST  \n",
              "598           face masks    FAVOR        0                  0           FAVOUR  \n",
              "599           face masks    FAVOR        0                  0           FAVOUR  \n",
              "\n",
              "[600 rows x 7 columns]"
            ],
            "text/html": [
              "\n",
              "  <div id=\"df-2ef589ad-9731-4419-b091-b00e8b8bee11\">\n",
              "    <div class=\"colab-df-container\">\n",
              "      <div>\n",
              "<style scoped>\n",
              "    .dataframe tbody tr th:only-of-type {\n",
              "        vertical-align: middle;\n",
              "    }\n",
              "\n",
              "    .dataframe tbody tr th {\n",
              "        vertical-align: top;\n",
              "    }\n",
              "\n",
              "    .dataframe thead th {\n",
              "        text-align: right;\n",
              "    }\n",
              "</style>\n",
              "<table border=\"1\" class=\"dataframe\">\n",
              "  <thead>\n",
              "    <tr style=\"text-align: right;\">\n",
              "      <th></th>\n",
              "      <th>id</th>\n",
              "      <th>Tweet</th>\n",
              "      <th>Claim</th>\n",
              "      <th>Stance</th>\n",
              "      <th>Premise</th>\n",
              "      <th>premise_predicted</th>\n",
              "      <th>stance_predicted</th>\n",
              "    </tr>\n",
              "  </thead>\n",
              "  <tbody>\n",
              "    <tr>\n",
              "      <th>0</th>\n",
              "      <td>7212131785749</td>\n",
              "      <td>Ordered a mask that had a cute chain attached ...</td>\n",
              "      <td>face masks</td>\n",
              "      <td>FAVOR</td>\n",
              "      <td>0</td>\n",
              "      <td>0</td>\n",
              "      <td>FAVOUR</td>\n",
              "    </tr>\n",
              "    <tr>\n",
              "      <th>1</th>\n",
              "      <td>2367433035</td>\n",
              "      <td>Who is ready for some #baseball?  #BaseballisB...</td>\n",
              "      <td>stay at home orders</td>\n",
              "      <td>NONE</td>\n",
              "      <td>0</td>\n",
              "      <td>0</td>\n",
              "      <td>NONE</td>\n",
              "    </tr>\n",
              "    <tr>\n",
              "      <th>2</th>\n",
              "      <td>496011</td>\n",
              "      <td>@Mystere07623203 @va_shiva @Liberty13046 130,0...</td>\n",
              "      <td>face masks</td>\n",
              "      <td>FAVOR</td>\n",
              "      <td>1</td>\n",
              "      <td>0</td>\n",
              "      <td>NONE</td>\n",
              "    </tr>\n",
              "    <tr>\n",
              "      <th>3</th>\n",
              "      <td>1490686</td>\n",
              "      <td>When they ask me what I did with my life I wil...</td>\n",
              "      <td>face masks</td>\n",
              "      <td>FAVOR</td>\n",
              "      <td>0</td>\n",
              "      <td>0</td>\n",
              "      <td>FAVOUR</td>\n",
              "    </tr>\n",
              "    <tr>\n",
              "      <th>4</th>\n",
              "      <td>1209366</td>\n",
              "      <td>Taylor not putting her album in physical store...</td>\n",
              "      <td>stay at home orders</td>\n",
              "      <td>FAVOR</td>\n",
              "      <td>0</td>\n",
              "      <td>0</td>\n",
              "      <td>NONE</td>\n",
              "    </tr>\n",
              "    <tr>\n",
              "      <th>...</th>\n",
              "      <td>...</td>\n",
              "      <td>...</td>\n",
              "      <td>...</td>\n",
              "      <td>...</td>\n",
              "      <td>...</td>\n",
              "      <td>...</td>\n",
              "      <td>...</td>\n",
              "    </tr>\n",
              "    <tr>\n",
              "      <th>595</th>\n",
              "      <td>2949472</td>\n",
              "      <td>@BrianKempGA is one of the few #Governors that...</td>\n",
              "      <td>face masks</td>\n",
              "      <td>AGAINST</td>\n",
              "      <td>1</td>\n",
              "      <td>0</td>\n",
              "      <td>AGAINST</td>\n",
              "    </tr>\n",
              "    <tr>\n",
              "      <th>596</th>\n",
              "      <td>208269</td>\n",
              "      <td>I tested positive for Covid. Got it from a fri...</td>\n",
              "      <td>face masks</td>\n",
              "      <td>FAVOR</td>\n",
              "      <td>1</td>\n",
              "      <td>1</td>\n",
              "      <td>FAVOUR</td>\n",
              "    </tr>\n",
              "    <tr>\n",
              "      <th>597</th>\n",
              "      <td>2316008</td>\n",
              "      <td>If you are under retirement age, you have a *m...</td>\n",
              "      <td>stay at home orders</td>\n",
              "      <td>AGAINST</td>\n",
              "      <td>1</td>\n",
              "      <td>1</td>\n",
              "      <td>AGAINST</td>\n",
              "    </tr>\n",
              "    <tr>\n",
              "      <th>598</th>\n",
              "      <td>659269</td>\n",
              "      <td>@TheLalasventure @doqholliday @realDonaldTrump...</td>\n",
              "      <td>face masks</td>\n",
              "      <td>FAVOR</td>\n",
              "      <td>0</td>\n",
              "      <td>0</td>\n",
              "      <td>FAVOUR</td>\n",
              "    </tr>\n",
              "    <tr>\n",
              "      <th>599</th>\n",
              "      <td>1940282</td>\n",
              "      <td>@Caissie Obviously I was simply practicing my ...</td>\n",
              "      <td>face masks</td>\n",
              "      <td>FAVOR</td>\n",
              "      <td>0</td>\n",
              "      <td>0</td>\n",
              "      <td>FAVOUR</td>\n",
              "    </tr>\n",
              "  </tbody>\n",
              "</table>\n",
              "<p>600 rows × 7 columns</p>\n",
              "</div>\n",
              "      <button class=\"colab-df-convert\" onclick=\"convertToInteractive('df-2ef589ad-9731-4419-b091-b00e8b8bee11')\"\n",
              "              title=\"Convert this dataframe to an interactive table.\"\n",
              "              style=\"display:none;\">\n",
              "        \n",
              "  <svg xmlns=\"http://www.w3.org/2000/svg\" height=\"24px\"viewBox=\"0 0 24 24\"\n",
              "       width=\"24px\">\n",
              "    <path d=\"M0 0h24v24H0V0z\" fill=\"none\"/>\n",
              "    <path d=\"M18.56 5.44l.94 2.06.94-2.06 2.06-.94-2.06-.94-.94-2.06-.94 2.06-2.06.94zm-11 1L8.5 8.5l.94-2.06 2.06-.94-2.06-.94L8.5 2.5l-.94 2.06-2.06.94zm10 10l.94 2.06.94-2.06 2.06-.94-2.06-.94-.94-2.06-.94 2.06-2.06.94z\"/><path d=\"M17.41 7.96l-1.37-1.37c-.4-.4-.92-.59-1.43-.59-.52 0-1.04.2-1.43.59L10.3 9.45l-7.72 7.72c-.78.78-.78 2.05 0 2.83L4 21.41c.39.39.9.59 1.41.59.51 0 1.02-.2 1.41-.59l7.78-7.78 2.81-2.81c.8-.78.8-2.07 0-2.86zM5.41 20L4 18.59l7.72-7.72 1.47 1.35L5.41 20z\"/>\n",
              "  </svg>\n",
              "      </button>\n",
              "      \n",
              "  <style>\n",
              "    .colab-df-container {\n",
              "      display:flex;\n",
              "      flex-wrap:wrap;\n",
              "      gap: 12px;\n",
              "    }\n",
              "\n",
              "    .colab-df-convert {\n",
              "      background-color: #E8F0FE;\n",
              "      border: none;\n",
              "      border-radius: 50%;\n",
              "      cursor: pointer;\n",
              "      display: none;\n",
              "      fill: #1967D2;\n",
              "      height: 32px;\n",
              "      padding: 0 0 0 0;\n",
              "      width: 32px;\n",
              "    }\n",
              "\n",
              "    .colab-df-convert:hover {\n",
              "      background-color: #E2EBFA;\n",
              "      box-shadow: 0px 1px 2px rgba(60, 64, 67, 0.3), 0px 1px 3px 1px rgba(60, 64, 67, 0.15);\n",
              "      fill: #174EA6;\n",
              "    }\n",
              "\n",
              "    [theme=dark] .colab-df-convert {\n",
              "      background-color: #3B4455;\n",
              "      fill: #D2E3FC;\n",
              "    }\n",
              "\n",
              "    [theme=dark] .colab-df-convert:hover {\n",
              "      background-color: #434B5C;\n",
              "      box-shadow: 0px 1px 3px 1px rgba(0, 0, 0, 0.15);\n",
              "      filter: drop-shadow(0px 1px 2px rgba(0, 0, 0, 0.3));\n",
              "      fill: #FFFFFF;\n",
              "    }\n",
              "  </style>\n",
              "\n",
              "      <script>\n",
              "        const buttonEl =\n",
              "          document.querySelector('#df-2ef589ad-9731-4419-b091-b00e8b8bee11 button.colab-df-convert');\n",
              "        buttonEl.style.display =\n",
              "          google.colab.kernel.accessAllowed ? 'block' : 'none';\n",
              "\n",
              "        async function convertToInteractive(key) {\n",
              "          const element = document.querySelector('#df-2ef589ad-9731-4419-b091-b00e8b8bee11');\n",
              "          const dataTable =\n",
              "            await google.colab.kernel.invokeFunction('convertToInteractive',\n",
              "                                                     [key], {});\n",
              "          if (!dataTable) return;\n",
              "\n",
              "          const docLinkHtml = 'Like what you see? Visit the ' +\n",
              "            '<a target=\"_blank\" href=https://colab.research.google.com/notebooks/data_table.ipynb>data table notebook</a>'\n",
              "            + ' to learn more about interactive tables.';\n",
              "          element.innerHTML = '';\n",
              "          dataTable['output_type'] = 'display_data';\n",
              "          await google.colab.output.renderOutput(dataTable, element);\n",
              "          const docLink = document.createElement('div');\n",
              "          docLink.innerHTML = docLinkHtml;\n",
              "          element.appendChild(docLink);\n",
              "        }\n",
              "      </script>\n",
              "    </div>\n",
              "  </div>\n",
              "  "
            ]
          },
          "metadata": {},
          "execution_count": 16
        }
      ]
    },
    {
      "cell_type": "code",
      "source": [
        ""
      ],
      "metadata": {
        "id": "d_Aqpp3Q80XT"
      },
      "execution_count": null,
      "outputs": []
    }
  ],
  "metadata": {
    "accelerator": "GPU",
    "colab": {
      "name": "ensemble_models_premise.ipynb",
      "provenance": [],
      "collapsed_sections": [
        "LEkaiZKc-fH8",
        "f3WtvUTZuSsS"
      ]
    },
    "gpuClass": "standard",
    "kernelspec": {
      "display_name": "Python 3.10.5 64-bit",
      "language": "python",
      "name": "python3"
    },
    "language_info": {
      "codemirror_mode": {
        "name": "ipython",
        "version": 3
      },
      "file_extension": ".py",
      "mimetype": "text/x-python",
      "name": "python",
      "nbconvert_exporter": "python",
      "pygments_lexer": "ipython3",
      "version": "3.10.5"
    },
    "vscode": {
      "interpreter": {
        "hash": "e7370f93d1d0cde622a1f8e1c04877d8463912d04d973331ad4851f04de6915a"
      }
    },
    "widgets": {
      "application/vnd.jupyter.widget-state+json": {
        "4cb04cdb03124011981801f42a745a95": {
          "model_module": "@jupyter-widgets/controls",
          "model_name": "HBoxModel",
          "model_module_version": "1.5.0",
          "state": {
            "_dom_classes": [],
            "_model_module": "@jupyter-widgets/controls",
            "_model_module_version": "1.5.0",
            "_model_name": "HBoxModel",
            "_view_count": null,
            "_view_module": "@jupyter-widgets/controls",
            "_view_module_version": "1.5.0",
            "_view_name": "HBoxView",
            "box_style": "",
            "children": [
              "IPY_MODEL_64d3ac746b8f4fb49f1c0099f6181f41",
              "IPY_MODEL_20eb849b260b4745969b86849047b1e8",
              "IPY_MODEL_709529ba2eb74a989e7be5179d3347e5"
            ],
            "layout": "IPY_MODEL_d1c5f592052448a381e8fbb5d3bc1a04"
          }
        },
        "64d3ac746b8f4fb49f1c0099f6181f41": {
          "model_module": "@jupyter-widgets/controls",
          "model_name": "HTMLModel",
          "model_module_version": "1.5.0",
          "state": {
            "_dom_classes": [],
            "_model_module": "@jupyter-widgets/controls",
            "_model_module_version": "1.5.0",
            "_model_name": "HTMLModel",
            "_view_count": null,
            "_view_module": "@jupyter-widgets/controls",
            "_view_module_version": "1.5.0",
            "_view_name": "HTMLView",
            "description": "",
            "description_tooltip": null,
            "layout": "IPY_MODEL_c906b9fb723d4f9d8b9e4d59a40130ae",
            "placeholder": "​",
            "style": "IPY_MODEL_eb9d2cc7120c4d0dbe853c11502265d0",
            "value": "Downloading: 100%"
          }
        },
        "20eb849b260b4745969b86849047b1e8": {
          "model_module": "@jupyter-widgets/controls",
          "model_name": "FloatProgressModel",
          "model_module_version": "1.5.0",
          "state": {
            "_dom_classes": [],
            "_model_module": "@jupyter-widgets/controls",
            "_model_module_version": "1.5.0",
            "_model_name": "FloatProgressModel",
            "_view_count": null,
            "_view_module": "@jupyter-widgets/controls",
            "_view_module_version": "1.5.0",
            "_view_name": "ProgressView",
            "bar_style": "success",
            "description": "",
            "description_tooltip": null,
            "layout": "IPY_MODEL_cbf5b6d6214448d1a32b937c8a6a9bab",
            "max": 28,
            "min": 0,
            "orientation": "horizontal",
            "style": "IPY_MODEL_423ebe4ed7f04f5692d98d4bfa038d6b",
            "value": 28
          }
        },
        "709529ba2eb74a989e7be5179d3347e5": {
          "model_module": "@jupyter-widgets/controls",
          "model_name": "HTMLModel",
          "model_module_version": "1.5.0",
          "state": {
            "_dom_classes": [],
            "_model_module": "@jupyter-widgets/controls",
            "_model_module_version": "1.5.0",
            "_model_name": "HTMLModel",
            "_view_count": null,
            "_view_module": "@jupyter-widgets/controls",
            "_view_module_version": "1.5.0",
            "_view_name": "HTMLView",
            "description": "",
            "description_tooltip": null,
            "layout": "IPY_MODEL_385d43db7a1f427290757d2bd72d3dc3",
            "placeholder": "​",
            "style": "IPY_MODEL_7db4c0b0825c4c4e81d8418afa4b820d",
            "value": " 28.0/28.0 [00:00&lt;00:00, 864B/s]"
          }
        },
        "d1c5f592052448a381e8fbb5d3bc1a04": {
          "model_module": "@jupyter-widgets/base",
          "model_name": "LayoutModel",
          "model_module_version": "1.2.0",
          "state": {
            "_model_module": "@jupyter-widgets/base",
            "_model_module_version": "1.2.0",
            "_model_name": "LayoutModel",
            "_view_count": null,
            "_view_module": "@jupyter-widgets/base",
            "_view_module_version": "1.2.0",
            "_view_name": "LayoutView",
            "align_content": null,
            "align_items": null,
            "align_self": null,
            "border": null,
            "bottom": null,
            "display": null,
            "flex": null,
            "flex_flow": null,
            "grid_area": null,
            "grid_auto_columns": null,
            "grid_auto_flow": null,
            "grid_auto_rows": null,
            "grid_column": null,
            "grid_gap": null,
            "grid_row": null,
            "grid_template_areas": null,
            "grid_template_columns": null,
            "grid_template_rows": null,
            "height": null,
            "justify_content": null,
            "justify_items": null,
            "left": null,
            "margin": null,
            "max_height": null,
            "max_width": null,
            "min_height": null,
            "min_width": null,
            "object_fit": null,
            "object_position": null,
            "order": null,
            "overflow": null,
            "overflow_x": null,
            "overflow_y": null,
            "padding": null,
            "right": null,
            "top": null,
            "visibility": null,
            "width": null
          }
        },
        "c906b9fb723d4f9d8b9e4d59a40130ae": {
          "model_module": "@jupyter-widgets/base",
          "model_name": "LayoutModel",
          "model_module_version": "1.2.0",
          "state": {
            "_model_module": "@jupyter-widgets/base",
            "_model_module_version": "1.2.0",
            "_model_name": "LayoutModel",
            "_view_count": null,
            "_view_module": "@jupyter-widgets/base",
            "_view_module_version": "1.2.0",
            "_view_name": "LayoutView",
            "align_content": null,
            "align_items": null,
            "align_self": null,
            "border": null,
            "bottom": null,
            "display": null,
            "flex": null,
            "flex_flow": null,
            "grid_area": null,
            "grid_auto_columns": null,
            "grid_auto_flow": null,
            "grid_auto_rows": null,
            "grid_column": null,
            "grid_gap": null,
            "grid_row": null,
            "grid_template_areas": null,
            "grid_template_columns": null,
            "grid_template_rows": null,
            "height": null,
            "justify_content": null,
            "justify_items": null,
            "left": null,
            "margin": null,
            "max_height": null,
            "max_width": null,
            "min_height": null,
            "min_width": null,
            "object_fit": null,
            "object_position": null,
            "order": null,
            "overflow": null,
            "overflow_x": null,
            "overflow_y": null,
            "padding": null,
            "right": null,
            "top": null,
            "visibility": null,
            "width": null
          }
        },
        "eb9d2cc7120c4d0dbe853c11502265d0": {
          "model_module": "@jupyter-widgets/controls",
          "model_name": "DescriptionStyleModel",
          "model_module_version": "1.5.0",
          "state": {
            "_model_module": "@jupyter-widgets/controls",
            "_model_module_version": "1.5.0",
            "_model_name": "DescriptionStyleModel",
            "_view_count": null,
            "_view_module": "@jupyter-widgets/base",
            "_view_module_version": "1.2.0",
            "_view_name": "StyleView",
            "description_width": ""
          }
        },
        "cbf5b6d6214448d1a32b937c8a6a9bab": {
          "model_module": "@jupyter-widgets/base",
          "model_name": "LayoutModel",
          "model_module_version": "1.2.0",
          "state": {
            "_model_module": "@jupyter-widgets/base",
            "_model_module_version": "1.2.0",
            "_model_name": "LayoutModel",
            "_view_count": null,
            "_view_module": "@jupyter-widgets/base",
            "_view_module_version": "1.2.0",
            "_view_name": "LayoutView",
            "align_content": null,
            "align_items": null,
            "align_self": null,
            "border": null,
            "bottom": null,
            "display": null,
            "flex": null,
            "flex_flow": null,
            "grid_area": null,
            "grid_auto_columns": null,
            "grid_auto_flow": null,
            "grid_auto_rows": null,
            "grid_column": null,
            "grid_gap": null,
            "grid_row": null,
            "grid_template_areas": null,
            "grid_template_columns": null,
            "grid_template_rows": null,
            "height": null,
            "justify_content": null,
            "justify_items": null,
            "left": null,
            "margin": null,
            "max_height": null,
            "max_width": null,
            "min_height": null,
            "min_width": null,
            "object_fit": null,
            "object_position": null,
            "order": null,
            "overflow": null,
            "overflow_x": null,
            "overflow_y": null,
            "padding": null,
            "right": null,
            "top": null,
            "visibility": null,
            "width": null
          }
        },
        "423ebe4ed7f04f5692d98d4bfa038d6b": {
          "model_module": "@jupyter-widgets/controls",
          "model_name": "ProgressStyleModel",
          "model_module_version": "1.5.0",
          "state": {
            "_model_module": "@jupyter-widgets/controls",
            "_model_module_version": "1.5.0",
            "_model_name": "ProgressStyleModel",
            "_view_count": null,
            "_view_module": "@jupyter-widgets/base",
            "_view_module_version": "1.2.0",
            "_view_name": "StyleView",
            "bar_color": null,
            "description_width": ""
          }
        },
        "385d43db7a1f427290757d2bd72d3dc3": {
          "model_module": "@jupyter-widgets/base",
          "model_name": "LayoutModel",
          "model_module_version": "1.2.0",
          "state": {
            "_model_module": "@jupyter-widgets/base",
            "_model_module_version": "1.2.0",
            "_model_name": "LayoutModel",
            "_view_count": null,
            "_view_module": "@jupyter-widgets/base",
            "_view_module_version": "1.2.0",
            "_view_name": "LayoutView",
            "align_content": null,
            "align_items": null,
            "align_self": null,
            "border": null,
            "bottom": null,
            "display": null,
            "flex": null,
            "flex_flow": null,
            "grid_area": null,
            "grid_auto_columns": null,
            "grid_auto_flow": null,
            "grid_auto_rows": null,
            "grid_column": null,
            "grid_gap": null,
            "grid_row": null,
            "grid_template_areas": null,
            "grid_template_columns": null,
            "grid_template_rows": null,
            "height": null,
            "justify_content": null,
            "justify_items": null,
            "left": null,
            "margin": null,
            "max_height": null,
            "max_width": null,
            "min_height": null,
            "min_width": null,
            "object_fit": null,
            "object_position": null,
            "order": null,
            "overflow": null,
            "overflow_x": null,
            "overflow_y": null,
            "padding": null,
            "right": null,
            "top": null,
            "visibility": null,
            "width": null
          }
        },
        "7db4c0b0825c4c4e81d8418afa4b820d": {
          "model_module": "@jupyter-widgets/controls",
          "model_name": "DescriptionStyleModel",
          "model_module_version": "1.5.0",
          "state": {
            "_model_module": "@jupyter-widgets/controls",
            "_model_module_version": "1.5.0",
            "_model_name": "DescriptionStyleModel",
            "_view_count": null,
            "_view_module": "@jupyter-widgets/base",
            "_view_module_version": "1.2.0",
            "_view_name": "StyleView",
            "description_width": ""
          }
        },
        "62259ce9f6554d389daa459ef4f6ba0f": {
          "model_module": "@jupyter-widgets/controls",
          "model_name": "HBoxModel",
          "model_module_version": "1.5.0",
          "state": {
            "_dom_classes": [],
            "_model_module": "@jupyter-widgets/controls",
            "_model_module_version": "1.5.0",
            "_model_name": "HBoxModel",
            "_view_count": null,
            "_view_module": "@jupyter-widgets/controls",
            "_view_module_version": "1.5.0",
            "_view_name": "HBoxView",
            "box_style": "",
            "children": [
              "IPY_MODEL_276e011e755a47ec9f5feb9232480abb",
              "IPY_MODEL_35151569b0fc4ed18877241260190502",
              "IPY_MODEL_2e64febee21a432f8ca9b65155bb1ea1"
            ],
            "layout": "IPY_MODEL_82e292b6da374affa9fc4a36a1dced13"
          }
        },
        "276e011e755a47ec9f5feb9232480abb": {
          "model_module": "@jupyter-widgets/controls",
          "model_name": "HTMLModel",
          "model_module_version": "1.5.0",
          "state": {
            "_dom_classes": [],
            "_model_module": "@jupyter-widgets/controls",
            "_model_module_version": "1.5.0",
            "_model_name": "HTMLModel",
            "_view_count": null,
            "_view_module": "@jupyter-widgets/controls",
            "_view_module_version": "1.5.0",
            "_view_name": "HTMLView",
            "description": "",
            "description_tooltip": null,
            "layout": "IPY_MODEL_392aea85f8984d4f8a9b17a77fad6672",
            "placeholder": "​",
            "style": "IPY_MODEL_b220bab59fa048f7b3a5fc94079b8019",
            "value": "Downloading: 100%"
          }
        },
        "35151569b0fc4ed18877241260190502": {
          "model_module": "@jupyter-widgets/controls",
          "model_name": "FloatProgressModel",
          "model_module_version": "1.5.0",
          "state": {
            "_dom_classes": [],
            "_model_module": "@jupyter-widgets/controls",
            "_model_module_version": "1.5.0",
            "_model_name": "FloatProgressModel",
            "_view_count": null,
            "_view_module": "@jupyter-widgets/controls",
            "_view_module_version": "1.5.0",
            "_view_name": "ProgressView",
            "bar_style": "success",
            "description": "",
            "description_tooltip": null,
            "layout": "IPY_MODEL_84876e60864843c4b4dfefc482c44df9",
            "max": 385,
            "min": 0,
            "orientation": "horizontal",
            "style": "IPY_MODEL_28b3b8bf99f149118db2c515d9f9ac44",
            "value": 385
          }
        },
        "2e64febee21a432f8ca9b65155bb1ea1": {
          "model_module": "@jupyter-widgets/controls",
          "model_name": "HTMLModel",
          "model_module_version": "1.5.0",
          "state": {
            "_dom_classes": [],
            "_model_module": "@jupyter-widgets/controls",
            "_model_module_version": "1.5.0",
            "_model_name": "HTMLModel",
            "_view_count": null,
            "_view_module": "@jupyter-widgets/controls",
            "_view_module_version": "1.5.0",
            "_view_name": "HTMLView",
            "description": "",
            "description_tooltip": null,
            "layout": "IPY_MODEL_68b1d8033a1148bda9d1dd89864bb2b5",
            "placeholder": "​",
            "style": "IPY_MODEL_5bab10d58c4e4533807858582046d7a8",
            "value": " 385/385 [00:00&lt;00:00, 7.78kB/s]"
          }
        },
        "82e292b6da374affa9fc4a36a1dced13": {
          "model_module": "@jupyter-widgets/base",
          "model_name": "LayoutModel",
          "model_module_version": "1.2.0",
          "state": {
            "_model_module": "@jupyter-widgets/base",
            "_model_module_version": "1.2.0",
            "_model_name": "LayoutModel",
            "_view_count": null,
            "_view_module": "@jupyter-widgets/base",
            "_view_module_version": "1.2.0",
            "_view_name": "LayoutView",
            "align_content": null,
            "align_items": null,
            "align_self": null,
            "border": null,
            "bottom": null,
            "display": null,
            "flex": null,
            "flex_flow": null,
            "grid_area": null,
            "grid_auto_columns": null,
            "grid_auto_flow": null,
            "grid_auto_rows": null,
            "grid_column": null,
            "grid_gap": null,
            "grid_row": null,
            "grid_template_areas": null,
            "grid_template_columns": null,
            "grid_template_rows": null,
            "height": null,
            "justify_content": null,
            "justify_items": null,
            "left": null,
            "margin": null,
            "max_height": null,
            "max_width": null,
            "min_height": null,
            "min_width": null,
            "object_fit": null,
            "object_position": null,
            "order": null,
            "overflow": null,
            "overflow_x": null,
            "overflow_y": null,
            "padding": null,
            "right": null,
            "top": null,
            "visibility": null,
            "width": null
          }
        },
        "392aea85f8984d4f8a9b17a77fad6672": {
          "model_module": "@jupyter-widgets/base",
          "model_name": "LayoutModel",
          "model_module_version": "1.2.0",
          "state": {
            "_model_module": "@jupyter-widgets/base",
            "_model_module_version": "1.2.0",
            "_model_name": "LayoutModel",
            "_view_count": null,
            "_view_module": "@jupyter-widgets/base",
            "_view_module_version": "1.2.0",
            "_view_name": "LayoutView",
            "align_content": null,
            "align_items": null,
            "align_self": null,
            "border": null,
            "bottom": null,
            "display": null,
            "flex": null,
            "flex_flow": null,
            "grid_area": null,
            "grid_auto_columns": null,
            "grid_auto_flow": null,
            "grid_auto_rows": null,
            "grid_column": null,
            "grid_gap": null,
            "grid_row": null,
            "grid_template_areas": null,
            "grid_template_columns": null,
            "grid_template_rows": null,
            "height": null,
            "justify_content": null,
            "justify_items": null,
            "left": null,
            "margin": null,
            "max_height": null,
            "max_width": null,
            "min_height": null,
            "min_width": null,
            "object_fit": null,
            "object_position": null,
            "order": null,
            "overflow": null,
            "overflow_x": null,
            "overflow_y": null,
            "padding": null,
            "right": null,
            "top": null,
            "visibility": null,
            "width": null
          }
        },
        "b220bab59fa048f7b3a5fc94079b8019": {
          "model_module": "@jupyter-widgets/controls",
          "model_name": "DescriptionStyleModel",
          "model_module_version": "1.5.0",
          "state": {
            "_model_module": "@jupyter-widgets/controls",
            "_model_module_version": "1.5.0",
            "_model_name": "DescriptionStyleModel",
            "_view_count": null,
            "_view_module": "@jupyter-widgets/base",
            "_view_module_version": "1.2.0",
            "_view_name": "StyleView",
            "description_width": ""
          }
        },
        "84876e60864843c4b4dfefc482c44df9": {
          "model_module": "@jupyter-widgets/base",
          "model_name": "LayoutModel",
          "model_module_version": "1.2.0",
          "state": {
            "_model_module": "@jupyter-widgets/base",
            "_model_module_version": "1.2.0",
            "_model_name": "LayoutModel",
            "_view_count": null,
            "_view_module": "@jupyter-widgets/base",
            "_view_module_version": "1.2.0",
            "_view_name": "LayoutView",
            "align_content": null,
            "align_items": null,
            "align_self": null,
            "border": null,
            "bottom": null,
            "display": null,
            "flex": null,
            "flex_flow": null,
            "grid_area": null,
            "grid_auto_columns": null,
            "grid_auto_flow": null,
            "grid_auto_rows": null,
            "grid_column": null,
            "grid_gap": null,
            "grid_row": null,
            "grid_template_areas": null,
            "grid_template_columns": null,
            "grid_template_rows": null,
            "height": null,
            "justify_content": null,
            "justify_items": null,
            "left": null,
            "margin": null,
            "max_height": null,
            "max_width": null,
            "min_height": null,
            "min_width": null,
            "object_fit": null,
            "object_position": null,
            "order": null,
            "overflow": null,
            "overflow_x": null,
            "overflow_y": null,
            "padding": null,
            "right": null,
            "top": null,
            "visibility": null,
            "width": null
          }
        },
        "28b3b8bf99f149118db2c515d9f9ac44": {
          "model_module": "@jupyter-widgets/controls",
          "model_name": "ProgressStyleModel",
          "model_module_version": "1.5.0",
          "state": {
            "_model_module": "@jupyter-widgets/controls",
            "_model_module_version": "1.5.0",
            "_model_name": "ProgressStyleModel",
            "_view_count": null,
            "_view_module": "@jupyter-widgets/base",
            "_view_module_version": "1.2.0",
            "_view_name": "StyleView",
            "bar_color": null,
            "description_width": ""
          }
        },
        "68b1d8033a1148bda9d1dd89864bb2b5": {
          "model_module": "@jupyter-widgets/base",
          "model_name": "LayoutModel",
          "model_module_version": "1.2.0",
          "state": {
            "_model_module": "@jupyter-widgets/base",
            "_model_module_version": "1.2.0",
            "_model_name": "LayoutModel",
            "_view_count": null,
            "_view_module": "@jupyter-widgets/base",
            "_view_module_version": "1.2.0",
            "_view_name": "LayoutView",
            "align_content": null,
            "align_items": null,
            "align_self": null,
            "border": null,
            "bottom": null,
            "display": null,
            "flex": null,
            "flex_flow": null,
            "grid_area": null,
            "grid_auto_columns": null,
            "grid_auto_flow": null,
            "grid_auto_rows": null,
            "grid_column": null,
            "grid_gap": null,
            "grid_row": null,
            "grid_template_areas": null,
            "grid_template_columns": null,
            "grid_template_rows": null,
            "height": null,
            "justify_content": null,
            "justify_items": null,
            "left": null,
            "margin": null,
            "max_height": null,
            "max_width": null,
            "min_height": null,
            "min_width": null,
            "object_fit": null,
            "object_position": null,
            "order": null,
            "overflow": null,
            "overflow_x": null,
            "overflow_y": null,
            "padding": null,
            "right": null,
            "top": null,
            "visibility": null,
            "width": null
          }
        },
        "5bab10d58c4e4533807858582046d7a8": {
          "model_module": "@jupyter-widgets/controls",
          "model_name": "DescriptionStyleModel",
          "model_module_version": "1.5.0",
          "state": {
            "_model_module": "@jupyter-widgets/controls",
            "_model_module_version": "1.5.0",
            "_model_name": "DescriptionStyleModel",
            "_view_count": null,
            "_view_module": "@jupyter-widgets/base",
            "_view_module_version": "1.2.0",
            "_view_name": "StyleView",
            "description_width": ""
          }
        },
        "a17a0c52492f4024a5d542f5dde55600": {
          "model_module": "@jupyter-widgets/controls",
          "model_name": "HBoxModel",
          "model_module_version": "1.5.0",
          "state": {
            "_dom_classes": [],
            "_model_module": "@jupyter-widgets/controls",
            "_model_module_version": "1.5.0",
            "_model_name": "HBoxModel",
            "_view_count": null,
            "_view_module": "@jupyter-widgets/controls",
            "_view_module_version": "1.5.0",
            "_view_name": "HBoxView",
            "box_style": "",
            "children": [
              "IPY_MODEL_47c5d11761444d4393770d7541066b78",
              "IPY_MODEL_ac04745bf17546538ddde8d01de7a63d",
              "IPY_MODEL_6222d2192baf4fffb9e0246e4aece7c8"
            ],
            "layout": "IPY_MODEL_b3e949a23fe741a4b599002ab0cf1567"
          }
        },
        "47c5d11761444d4393770d7541066b78": {
          "model_module": "@jupyter-widgets/controls",
          "model_name": "HTMLModel",
          "model_module_version": "1.5.0",
          "state": {
            "_dom_classes": [],
            "_model_module": "@jupyter-widgets/controls",
            "_model_module_version": "1.5.0",
            "_model_name": "HTMLModel",
            "_view_count": null,
            "_view_module": "@jupyter-widgets/controls",
            "_view_module_version": "1.5.0",
            "_view_name": "HTMLView",
            "description": "",
            "description_tooltip": null,
            "layout": "IPY_MODEL_3ddf16954f23481a85cfe202bd57af69",
            "placeholder": "​",
            "style": "IPY_MODEL_5cfd2886ad294a37964bb62025c2fdd9",
            "value": "Downloading: 100%"
          }
        },
        "ac04745bf17546538ddde8d01de7a63d": {
          "model_module": "@jupyter-widgets/controls",
          "model_name": "FloatProgressModel",
          "model_module_version": "1.5.0",
          "state": {
            "_dom_classes": [],
            "_model_module": "@jupyter-widgets/controls",
            "_model_module_version": "1.5.0",
            "_model_name": "FloatProgressModel",
            "_view_count": null,
            "_view_module": "@jupyter-widgets/controls",
            "_view_module_version": "1.5.0",
            "_view_name": "ProgressView",
            "bar_style": "success",
            "description": "",
            "description_tooltip": null,
            "layout": "IPY_MODEL_e4e1d561645342cc85dc17cfdb30d6a7",
            "max": 225062,
            "min": 0,
            "orientation": "horizontal",
            "style": "IPY_MODEL_f381579177094e2b951ab5f8ca6bbf04",
            "value": 225062
          }
        },
        "6222d2192baf4fffb9e0246e4aece7c8": {
          "model_module": "@jupyter-widgets/controls",
          "model_name": "HTMLModel",
          "model_module_version": "1.5.0",
          "state": {
            "_dom_classes": [],
            "_model_module": "@jupyter-widgets/controls",
            "_model_module_version": "1.5.0",
            "_model_name": "HTMLModel",
            "_view_count": null,
            "_view_module": "@jupyter-widgets/controls",
            "_view_module_version": "1.5.0",
            "_view_name": "HTMLView",
            "description": "",
            "description_tooltip": null,
            "layout": "IPY_MODEL_4abb129845dc417ab01d60013ffa7fb6",
            "placeholder": "​",
            "style": "IPY_MODEL_0a3f80df5a0a468599070cf2ae0a1fb9",
            "value": " 220k/220k [00:00&lt;00:00, 682kB/s]"
          }
        },
        "b3e949a23fe741a4b599002ab0cf1567": {
          "model_module": "@jupyter-widgets/base",
          "model_name": "LayoutModel",
          "model_module_version": "1.2.0",
          "state": {
            "_model_module": "@jupyter-widgets/base",
            "_model_module_version": "1.2.0",
            "_model_name": "LayoutModel",
            "_view_count": null,
            "_view_module": "@jupyter-widgets/base",
            "_view_module_version": "1.2.0",
            "_view_name": "LayoutView",
            "align_content": null,
            "align_items": null,
            "align_self": null,
            "border": null,
            "bottom": null,
            "display": null,
            "flex": null,
            "flex_flow": null,
            "grid_area": null,
            "grid_auto_columns": null,
            "grid_auto_flow": null,
            "grid_auto_rows": null,
            "grid_column": null,
            "grid_gap": null,
            "grid_row": null,
            "grid_template_areas": null,
            "grid_template_columns": null,
            "grid_template_rows": null,
            "height": null,
            "justify_content": null,
            "justify_items": null,
            "left": null,
            "margin": null,
            "max_height": null,
            "max_width": null,
            "min_height": null,
            "min_width": null,
            "object_fit": null,
            "object_position": null,
            "order": null,
            "overflow": null,
            "overflow_x": null,
            "overflow_y": null,
            "padding": null,
            "right": null,
            "top": null,
            "visibility": null,
            "width": null
          }
        },
        "3ddf16954f23481a85cfe202bd57af69": {
          "model_module": "@jupyter-widgets/base",
          "model_name": "LayoutModel",
          "model_module_version": "1.2.0",
          "state": {
            "_model_module": "@jupyter-widgets/base",
            "_model_module_version": "1.2.0",
            "_model_name": "LayoutModel",
            "_view_count": null,
            "_view_module": "@jupyter-widgets/base",
            "_view_module_version": "1.2.0",
            "_view_name": "LayoutView",
            "align_content": null,
            "align_items": null,
            "align_self": null,
            "border": null,
            "bottom": null,
            "display": null,
            "flex": null,
            "flex_flow": null,
            "grid_area": null,
            "grid_auto_columns": null,
            "grid_auto_flow": null,
            "grid_auto_rows": null,
            "grid_column": null,
            "grid_gap": null,
            "grid_row": null,
            "grid_template_areas": null,
            "grid_template_columns": null,
            "grid_template_rows": null,
            "height": null,
            "justify_content": null,
            "justify_items": null,
            "left": null,
            "margin": null,
            "max_height": null,
            "max_width": null,
            "min_height": null,
            "min_width": null,
            "object_fit": null,
            "object_position": null,
            "order": null,
            "overflow": null,
            "overflow_x": null,
            "overflow_y": null,
            "padding": null,
            "right": null,
            "top": null,
            "visibility": null,
            "width": null
          }
        },
        "5cfd2886ad294a37964bb62025c2fdd9": {
          "model_module": "@jupyter-widgets/controls",
          "model_name": "DescriptionStyleModel",
          "model_module_version": "1.5.0",
          "state": {
            "_model_module": "@jupyter-widgets/controls",
            "_model_module_version": "1.5.0",
            "_model_name": "DescriptionStyleModel",
            "_view_count": null,
            "_view_module": "@jupyter-widgets/base",
            "_view_module_version": "1.2.0",
            "_view_name": "StyleView",
            "description_width": ""
          }
        },
        "e4e1d561645342cc85dc17cfdb30d6a7": {
          "model_module": "@jupyter-widgets/base",
          "model_name": "LayoutModel",
          "model_module_version": "1.2.0",
          "state": {
            "_model_module": "@jupyter-widgets/base",
            "_model_module_version": "1.2.0",
            "_model_name": "LayoutModel",
            "_view_count": null,
            "_view_module": "@jupyter-widgets/base",
            "_view_module_version": "1.2.0",
            "_view_name": "LayoutView",
            "align_content": null,
            "align_items": null,
            "align_self": null,
            "border": null,
            "bottom": null,
            "display": null,
            "flex": null,
            "flex_flow": null,
            "grid_area": null,
            "grid_auto_columns": null,
            "grid_auto_flow": null,
            "grid_auto_rows": null,
            "grid_column": null,
            "grid_gap": null,
            "grid_row": null,
            "grid_template_areas": null,
            "grid_template_columns": null,
            "grid_template_rows": null,
            "height": null,
            "justify_content": null,
            "justify_items": null,
            "left": null,
            "margin": null,
            "max_height": null,
            "max_width": null,
            "min_height": null,
            "min_width": null,
            "object_fit": null,
            "object_position": null,
            "order": null,
            "overflow": null,
            "overflow_x": null,
            "overflow_y": null,
            "padding": null,
            "right": null,
            "top": null,
            "visibility": null,
            "width": null
          }
        },
        "f381579177094e2b951ab5f8ca6bbf04": {
          "model_module": "@jupyter-widgets/controls",
          "model_name": "ProgressStyleModel",
          "model_module_version": "1.5.0",
          "state": {
            "_model_module": "@jupyter-widgets/controls",
            "_model_module_version": "1.5.0",
            "_model_name": "ProgressStyleModel",
            "_view_count": null,
            "_view_module": "@jupyter-widgets/base",
            "_view_module_version": "1.2.0",
            "_view_name": "StyleView",
            "bar_color": null,
            "description_width": ""
          }
        },
        "4abb129845dc417ab01d60013ffa7fb6": {
          "model_module": "@jupyter-widgets/base",
          "model_name": "LayoutModel",
          "model_module_version": "1.2.0",
          "state": {
            "_model_module": "@jupyter-widgets/base",
            "_model_module_version": "1.2.0",
            "_model_name": "LayoutModel",
            "_view_count": null,
            "_view_module": "@jupyter-widgets/base",
            "_view_module_version": "1.2.0",
            "_view_name": "LayoutView",
            "align_content": null,
            "align_items": null,
            "align_self": null,
            "border": null,
            "bottom": null,
            "display": null,
            "flex": null,
            "flex_flow": null,
            "grid_area": null,
            "grid_auto_columns": null,
            "grid_auto_flow": null,
            "grid_auto_rows": null,
            "grid_column": null,
            "grid_gap": null,
            "grid_row": null,
            "grid_template_areas": null,
            "grid_template_columns": null,
            "grid_template_rows": null,
            "height": null,
            "justify_content": null,
            "justify_items": null,
            "left": null,
            "margin": null,
            "max_height": null,
            "max_width": null,
            "min_height": null,
            "min_width": null,
            "object_fit": null,
            "object_position": null,
            "order": null,
            "overflow": null,
            "overflow_x": null,
            "overflow_y": null,
            "padding": null,
            "right": null,
            "top": null,
            "visibility": null,
            "width": null
          }
        },
        "0a3f80df5a0a468599070cf2ae0a1fb9": {
          "model_module": "@jupyter-widgets/controls",
          "model_name": "DescriptionStyleModel",
          "model_module_version": "1.5.0",
          "state": {
            "_model_module": "@jupyter-widgets/controls",
            "_model_module_version": "1.5.0",
            "_model_name": "DescriptionStyleModel",
            "_view_count": null,
            "_view_module": "@jupyter-widgets/base",
            "_view_module_version": "1.2.0",
            "_view_name": "StyleView",
            "description_width": ""
          }
        },
        "e68cf2f0a0a04b448900042262fe8a2b": {
          "model_module": "@jupyter-widgets/controls",
          "model_name": "HBoxModel",
          "model_module_version": "1.5.0",
          "state": {
            "_dom_classes": [],
            "_model_module": "@jupyter-widgets/controls",
            "_model_module_version": "1.5.0",
            "_model_name": "HBoxModel",
            "_view_count": null,
            "_view_module": "@jupyter-widgets/controls",
            "_view_module_version": "1.5.0",
            "_view_name": "HBoxView",
            "box_style": "",
            "children": [
              "IPY_MODEL_3bb0e610c50a45598cc0951c5e079c0d",
              "IPY_MODEL_c3104e1869eb439b8454f41b2835cdeb",
              "IPY_MODEL_4ebf2b6fba9244179971bd59d62a8646"
            ],
            "layout": "IPY_MODEL_a6b2c9aed7c24ea2bfda1335165c50e5"
          }
        },
        "3bb0e610c50a45598cc0951c5e079c0d": {
          "model_module": "@jupyter-widgets/controls",
          "model_name": "HTMLModel",
          "model_module_version": "1.5.0",
          "state": {
            "_dom_classes": [],
            "_model_module": "@jupyter-widgets/controls",
            "_model_module_version": "1.5.0",
            "_model_name": "HTMLModel",
            "_view_count": null,
            "_view_module": "@jupyter-widgets/controls",
            "_view_module_version": "1.5.0",
            "_view_name": "HTMLView",
            "description": "",
            "description_tooltip": null,
            "layout": "IPY_MODEL_562ed9fd8acd4b58857df2805abb8980",
            "placeholder": "​",
            "style": "IPY_MODEL_45c1a6ea59224321a1f8c5a8f0ba4a4c",
            "value": "Downloading: 100%"
          }
        },
        "c3104e1869eb439b8454f41b2835cdeb": {
          "model_module": "@jupyter-widgets/controls",
          "model_name": "FloatProgressModel",
          "model_module_version": "1.5.0",
          "state": {
            "_dom_classes": [],
            "_model_module": "@jupyter-widgets/controls",
            "_model_module_version": "1.5.0",
            "_model_name": "FloatProgressModel",
            "_view_count": null,
            "_view_module": "@jupyter-widgets/controls",
            "_view_module_version": "1.5.0",
            "_view_name": "ProgressView",
            "bar_style": "success",
            "description": "",
            "description_tooltip": null,
            "layout": "IPY_MODEL_0daa5162626943c1820229bc1dc37eef",
            "max": 440474434,
            "min": 0,
            "orientation": "horizontal",
            "style": "IPY_MODEL_2d1b8396c05f4532806b30193849ef23",
            "value": 440474434
          }
        },
        "4ebf2b6fba9244179971bd59d62a8646": {
          "model_module": "@jupyter-widgets/controls",
          "model_name": "HTMLModel",
          "model_module_version": "1.5.0",
          "state": {
            "_dom_classes": [],
            "_model_module": "@jupyter-widgets/controls",
            "_model_module_version": "1.5.0",
            "_model_name": "HTMLModel",
            "_view_count": null,
            "_view_module": "@jupyter-widgets/controls",
            "_view_module_version": "1.5.0",
            "_view_name": "HTMLView",
            "description": "",
            "description_tooltip": null,
            "layout": "IPY_MODEL_77e5a136f3b84525a50ab951dc77dfee",
            "placeholder": "​",
            "style": "IPY_MODEL_e34b0100af764a2eb47daac22726317d",
            "value": " 420M/420M [00:07&lt;00:00, 48.6MB/s]"
          }
        },
        "a6b2c9aed7c24ea2bfda1335165c50e5": {
          "model_module": "@jupyter-widgets/base",
          "model_name": "LayoutModel",
          "model_module_version": "1.2.0",
          "state": {
            "_model_module": "@jupyter-widgets/base",
            "_model_module_version": "1.2.0",
            "_model_name": "LayoutModel",
            "_view_count": null,
            "_view_module": "@jupyter-widgets/base",
            "_view_module_version": "1.2.0",
            "_view_name": "LayoutView",
            "align_content": null,
            "align_items": null,
            "align_self": null,
            "border": null,
            "bottom": null,
            "display": null,
            "flex": null,
            "flex_flow": null,
            "grid_area": null,
            "grid_auto_columns": null,
            "grid_auto_flow": null,
            "grid_auto_rows": null,
            "grid_column": null,
            "grid_gap": null,
            "grid_row": null,
            "grid_template_areas": null,
            "grid_template_columns": null,
            "grid_template_rows": null,
            "height": null,
            "justify_content": null,
            "justify_items": null,
            "left": null,
            "margin": null,
            "max_height": null,
            "max_width": null,
            "min_height": null,
            "min_width": null,
            "object_fit": null,
            "object_position": null,
            "order": null,
            "overflow": null,
            "overflow_x": null,
            "overflow_y": null,
            "padding": null,
            "right": null,
            "top": null,
            "visibility": null,
            "width": null
          }
        },
        "562ed9fd8acd4b58857df2805abb8980": {
          "model_module": "@jupyter-widgets/base",
          "model_name": "LayoutModel",
          "model_module_version": "1.2.0",
          "state": {
            "_model_module": "@jupyter-widgets/base",
            "_model_module_version": "1.2.0",
            "_model_name": "LayoutModel",
            "_view_count": null,
            "_view_module": "@jupyter-widgets/base",
            "_view_module_version": "1.2.0",
            "_view_name": "LayoutView",
            "align_content": null,
            "align_items": null,
            "align_self": null,
            "border": null,
            "bottom": null,
            "display": null,
            "flex": null,
            "flex_flow": null,
            "grid_area": null,
            "grid_auto_columns": null,
            "grid_auto_flow": null,
            "grid_auto_rows": null,
            "grid_column": null,
            "grid_gap": null,
            "grid_row": null,
            "grid_template_areas": null,
            "grid_template_columns": null,
            "grid_template_rows": null,
            "height": null,
            "justify_content": null,
            "justify_items": null,
            "left": null,
            "margin": null,
            "max_height": null,
            "max_width": null,
            "min_height": null,
            "min_width": null,
            "object_fit": null,
            "object_position": null,
            "order": null,
            "overflow": null,
            "overflow_x": null,
            "overflow_y": null,
            "padding": null,
            "right": null,
            "top": null,
            "visibility": null,
            "width": null
          }
        },
        "45c1a6ea59224321a1f8c5a8f0ba4a4c": {
          "model_module": "@jupyter-widgets/controls",
          "model_name": "DescriptionStyleModel",
          "model_module_version": "1.5.0",
          "state": {
            "_model_module": "@jupyter-widgets/controls",
            "_model_module_version": "1.5.0",
            "_model_name": "DescriptionStyleModel",
            "_view_count": null,
            "_view_module": "@jupyter-widgets/base",
            "_view_module_version": "1.2.0",
            "_view_name": "StyleView",
            "description_width": ""
          }
        },
        "0daa5162626943c1820229bc1dc37eef": {
          "model_module": "@jupyter-widgets/base",
          "model_name": "LayoutModel",
          "model_module_version": "1.2.0",
          "state": {
            "_model_module": "@jupyter-widgets/base",
            "_model_module_version": "1.2.0",
            "_model_name": "LayoutModel",
            "_view_count": null,
            "_view_module": "@jupyter-widgets/base",
            "_view_module_version": "1.2.0",
            "_view_name": "LayoutView",
            "align_content": null,
            "align_items": null,
            "align_self": null,
            "border": null,
            "bottom": null,
            "display": null,
            "flex": null,
            "flex_flow": null,
            "grid_area": null,
            "grid_auto_columns": null,
            "grid_auto_flow": null,
            "grid_auto_rows": null,
            "grid_column": null,
            "grid_gap": null,
            "grid_row": null,
            "grid_template_areas": null,
            "grid_template_columns": null,
            "grid_template_rows": null,
            "height": null,
            "justify_content": null,
            "justify_items": null,
            "left": null,
            "margin": null,
            "max_height": null,
            "max_width": null,
            "min_height": null,
            "min_width": null,
            "object_fit": null,
            "object_position": null,
            "order": null,
            "overflow": null,
            "overflow_x": null,
            "overflow_y": null,
            "padding": null,
            "right": null,
            "top": null,
            "visibility": null,
            "width": null
          }
        },
        "2d1b8396c05f4532806b30193849ef23": {
          "model_module": "@jupyter-widgets/controls",
          "model_name": "ProgressStyleModel",
          "model_module_version": "1.5.0",
          "state": {
            "_model_module": "@jupyter-widgets/controls",
            "_model_module_version": "1.5.0",
            "_model_name": "ProgressStyleModel",
            "_view_count": null,
            "_view_module": "@jupyter-widgets/base",
            "_view_module_version": "1.2.0",
            "_view_name": "StyleView",
            "bar_color": null,
            "description_width": ""
          }
        },
        "77e5a136f3b84525a50ab951dc77dfee": {
          "model_module": "@jupyter-widgets/base",
          "model_name": "LayoutModel",
          "model_module_version": "1.2.0",
          "state": {
            "_model_module": "@jupyter-widgets/base",
            "_model_module_version": "1.2.0",
            "_model_name": "LayoutModel",
            "_view_count": null,
            "_view_module": "@jupyter-widgets/base",
            "_view_module_version": "1.2.0",
            "_view_name": "LayoutView",
            "align_content": null,
            "align_items": null,
            "align_self": null,
            "border": null,
            "bottom": null,
            "display": null,
            "flex": null,
            "flex_flow": null,
            "grid_area": null,
            "grid_auto_columns": null,
            "grid_auto_flow": null,
            "grid_auto_rows": null,
            "grid_column": null,
            "grid_gap": null,
            "grid_row": null,
            "grid_template_areas": null,
            "grid_template_columns": null,
            "grid_template_rows": null,
            "height": null,
            "justify_content": null,
            "justify_items": null,
            "left": null,
            "margin": null,
            "max_height": null,
            "max_width": null,
            "min_height": null,
            "min_width": null,
            "object_fit": null,
            "object_position": null,
            "order": null,
            "overflow": null,
            "overflow_x": null,
            "overflow_y": null,
            "padding": null,
            "right": null,
            "top": null,
            "visibility": null,
            "width": null
          }
        },
        "e34b0100af764a2eb47daac22726317d": {
          "model_module": "@jupyter-widgets/controls",
          "model_name": "DescriptionStyleModel",
          "model_module_version": "1.5.0",
          "state": {
            "_model_module": "@jupyter-widgets/controls",
            "_model_module_version": "1.5.0",
            "_model_name": "DescriptionStyleModel",
            "_view_count": null,
            "_view_module": "@jupyter-widgets/base",
            "_view_module_version": "1.2.0",
            "_view_name": "StyleView",
            "description_width": ""
          }
        },
        "54212438377f41ffb312a3404181b8c5": {
          "model_module": "@jupyter-widgets/controls",
          "model_name": "HBoxModel",
          "model_module_version": "1.5.0",
          "state": {
            "_dom_classes": [],
            "_model_module": "@jupyter-widgets/controls",
            "_model_module_version": "1.5.0",
            "_model_name": "HBoxModel",
            "_view_count": null,
            "_view_module": "@jupyter-widgets/controls",
            "_view_module_version": "1.5.0",
            "_view_name": "HBoxView",
            "box_style": "",
            "children": [
              "IPY_MODEL_be05a0ddd1dd4277b063258c07a77104",
              "IPY_MODEL_b2967616b37647b7b197eb26575f8a6f",
              "IPY_MODEL_65018faee4c2413d818061f671c3adcd"
            ],
            "layout": "IPY_MODEL_c12131bba15a4d0eb96c39117ea71192"
          }
        },
        "be05a0ddd1dd4277b063258c07a77104": {
          "model_module": "@jupyter-widgets/controls",
          "model_name": "HTMLModel",
          "model_module_version": "1.5.0",
          "state": {
            "_dom_classes": [],
            "_model_module": "@jupyter-widgets/controls",
            "_model_module_version": "1.5.0",
            "_model_name": "HTMLModel",
            "_view_count": null,
            "_view_module": "@jupyter-widgets/controls",
            "_view_module_version": "1.5.0",
            "_view_name": "HTMLView",
            "description": "",
            "description_tooltip": null,
            "layout": "IPY_MODEL_4759e18c7db24c2ba533a471f737d5cf",
            "placeholder": "​",
            "style": "IPY_MODEL_979391870a714653a5837564d807a865",
            "value": "Downloading: 100%"
          }
        },
        "b2967616b37647b7b197eb26575f8a6f": {
          "model_module": "@jupyter-widgets/controls",
          "model_name": "FloatProgressModel",
          "model_module_version": "1.5.0",
          "state": {
            "_dom_classes": [],
            "_model_module": "@jupyter-widgets/controls",
            "_model_module_version": "1.5.0",
            "_model_name": "FloatProgressModel",
            "_view_count": null,
            "_view_module": "@jupyter-widgets/controls",
            "_view_module_version": "1.5.0",
            "_view_name": "ProgressView",
            "bar_style": "success",
            "description": "",
            "description_tooltip": null,
            "layout": "IPY_MODEL_0a82afffe200439195c0f45ecee1e43b",
            "max": 385,
            "min": 0,
            "orientation": "horizontal",
            "style": "IPY_MODEL_d56c7798ae304ffdb2166f966d71cb25",
            "value": 385
          }
        },
        "65018faee4c2413d818061f671c3adcd": {
          "model_module": "@jupyter-widgets/controls",
          "model_name": "HTMLModel",
          "model_module_version": "1.5.0",
          "state": {
            "_dom_classes": [],
            "_model_module": "@jupyter-widgets/controls",
            "_model_module_version": "1.5.0",
            "_model_name": "HTMLModel",
            "_view_count": null,
            "_view_module": "@jupyter-widgets/controls",
            "_view_module_version": "1.5.0",
            "_view_name": "HTMLView",
            "description": "",
            "description_tooltip": null,
            "layout": "IPY_MODEL_0ed23e521a8a4384b19f88faeed5ff7f",
            "placeholder": "​",
            "style": "IPY_MODEL_5a5421fbfb794ff1b329dc23e32994e3",
            "value": " 385/385 [00:00&lt;00:00, 2.84kB/s]"
          }
        },
        "c12131bba15a4d0eb96c39117ea71192": {
          "model_module": "@jupyter-widgets/base",
          "model_name": "LayoutModel",
          "model_module_version": "1.2.0",
          "state": {
            "_model_module": "@jupyter-widgets/base",
            "_model_module_version": "1.2.0",
            "_model_name": "LayoutModel",
            "_view_count": null,
            "_view_module": "@jupyter-widgets/base",
            "_view_module_version": "1.2.0",
            "_view_name": "LayoutView",
            "align_content": null,
            "align_items": null,
            "align_self": null,
            "border": null,
            "bottom": null,
            "display": null,
            "flex": null,
            "flex_flow": null,
            "grid_area": null,
            "grid_auto_columns": null,
            "grid_auto_flow": null,
            "grid_auto_rows": null,
            "grid_column": null,
            "grid_gap": null,
            "grid_row": null,
            "grid_template_areas": null,
            "grid_template_columns": null,
            "grid_template_rows": null,
            "height": null,
            "justify_content": null,
            "justify_items": null,
            "left": null,
            "margin": null,
            "max_height": null,
            "max_width": null,
            "min_height": null,
            "min_width": null,
            "object_fit": null,
            "object_position": null,
            "order": null,
            "overflow": null,
            "overflow_x": null,
            "overflow_y": null,
            "padding": null,
            "right": null,
            "top": null,
            "visibility": null,
            "width": null
          }
        },
        "4759e18c7db24c2ba533a471f737d5cf": {
          "model_module": "@jupyter-widgets/base",
          "model_name": "LayoutModel",
          "model_module_version": "1.2.0",
          "state": {
            "_model_module": "@jupyter-widgets/base",
            "_model_module_version": "1.2.0",
            "_model_name": "LayoutModel",
            "_view_count": null,
            "_view_module": "@jupyter-widgets/base",
            "_view_module_version": "1.2.0",
            "_view_name": "LayoutView",
            "align_content": null,
            "align_items": null,
            "align_self": null,
            "border": null,
            "bottom": null,
            "display": null,
            "flex": null,
            "flex_flow": null,
            "grid_area": null,
            "grid_auto_columns": null,
            "grid_auto_flow": null,
            "grid_auto_rows": null,
            "grid_column": null,
            "grid_gap": null,
            "grid_row": null,
            "grid_template_areas": null,
            "grid_template_columns": null,
            "grid_template_rows": null,
            "height": null,
            "justify_content": null,
            "justify_items": null,
            "left": null,
            "margin": null,
            "max_height": null,
            "max_width": null,
            "min_height": null,
            "min_width": null,
            "object_fit": null,
            "object_position": null,
            "order": null,
            "overflow": null,
            "overflow_x": null,
            "overflow_y": null,
            "padding": null,
            "right": null,
            "top": null,
            "visibility": null,
            "width": null
          }
        },
        "979391870a714653a5837564d807a865": {
          "model_module": "@jupyter-widgets/controls",
          "model_name": "DescriptionStyleModel",
          "model_module_version": "1.5.0",
          "state": {
            "_model_module": "@jupyter-widgets/controls",
            "_model_module_version": "1.5.0",
            "_model_name": "DescriptionStyleModel",
            "_view_count": null,
            "_view_module": "@jupyter-widgets/base",
            "_view_module_version": "1.2.0",
            "_view_name": "StyleView",
            "description_width": ""
          }
        },
        "0a82afffe200439195c0f45ecee1e43b": {
          "model_module": "@jupyter-widgets/base",
          "model_name": "LayoutModel",
          "model_module_version": "1.2.0",
          "state": {
            "_model_module": "@jupyter-widgets/base",
            "_model_module_version": "1.2.0",
            "_model_name": "LayoutModel",
            "_view_count": null,
            "_view_module": "@jupyter-widgets/base",
            "_view_module_version": "1.2.0",
            "_view_name": "LayoutView",
            "align_content": null,
            "align_items": null,
            "align_self": null,
            "border": null,
            "bottom": null,
            "display": null,
            "flex": null,
            "flex_flow": null,
            "grid_area": null,
            "grid_auto_columns": null,
            "grid_auto_flow": null,
            "grid_auto_rows": null,
            "grid_column": null,
            "grid_gap": null,
            "grid_row": null,
            "grid_template_areas": null,
            "grid_template_columns": null,
            "grid_template_rows": null,
            "height": null,
            "justify_content": null,
            "justify_items": null,
            "left": null,
            "margin": null,
            "max_height": null,
            "max_width": null,
            "min_height": null,
            "min_width": null,
            "object_fit": null,
            "object_position": null,
            "order": null,
            "overflow": null,
            "overflow_x": null,
            "overflow_y": null,
            "padding": null,
            "right": null,
            "top": null,
            "visibility": null,
            "width": null
          }
        },
        "d56c7798ae304ffdb2166f966d71cb25": {
          "model_module": "@jupyter-widgets/controls",
          "model_name": "ProgressStyleModel",
          "model_module_version": "1.5.0",
          "state": {
            "_model_module": "@jupyter-widgets/controls",
            "_model_module_version": "1.5.0",
            "_model_name": "ProgressStyleModel",
            "_view_count": null,
            "_view_module": "@jupyter-widgets/base",
            "_view_module_version": "1.2.0",
            "_view_name": "StyleView",
            "bar_color": null,
            "description_width": ""
          }
        },
        "0ed23e521a8a4384b19f88faeed5ff7f": {
          "model_module": "@jupyter-widgets/base",
          "model_name": "LayoutModel",
          "model_module_version": "1.2.0",
          "state": {
            "_model_module": "@jupyter-widgets/base",
            "_model_module_version": "1.2.0",
            "_model_name": "LayoutModel",
            "_view_count": null,
            "_view_module": "@jupyter-widgets/base",
            "_view_module_version": "1.2.0",
            "_view_name": "LayoutView",
            "align_content": null,
            "align_items": null,
            "align_self": null,
            "border": null,
            "bottom": null,
            "display": null,
            "flex": null,
            "flex_flow": null,
            "grid_area": null,
            "grid_auto_columns": null,
            "grid_auto_flow": null,
            "grid_auto_rows": null,
            "grid_column": null,
            "grid_gap": null,
            "grid_row": null,
            "grid_template_areas": null,
            "grid_template_columns": null,
            "grid_template_rows": null,
            "height": null,
            "justify_content": null,
            "justify_items": null,
            "left": null,
            "margin": null,
            "max_height": null,
            "max_width": null,
            "min_height": null,
            "min_width": null,
            "object_fit": null,
            "object_position": null,
            "order": null,
            "overflow": null,
            "overflow_x": null,
            "overflow_y": null,
            "padding": null,
            "right": null,
            "top": null,
            "visibility": null,
            "width": null
          }
        },
        "5a5421fbfb794ff1b329dc23e32994e3": {
          "model_module": "@jupyter-widgets/controls",
          "model_name": "DescriptionStyleModel",
          "model_module_version": "1.5.0",
          "state": {
            "_model_module": "@jupyter-widgets/controls",
            "_model_module_version": "1.5.0",
            "_model_name": "DescriptionStyleModel",
            "_view_count": null,
            "_view_module": "@jupyter-widgets/base",
            "_view_module_version": "1.2.0",
            "_view_name": "StyleView",
            "description_width": ""
          }
        },
        "5e0b4ffba22b4c91a0c4cede7558acb8": {
          "model_module": "@jupyter-widgets/controls",
          "model_name": "HBoxModel",
          "model_module_version": "1.5.0",
          "state": {
            "_dom_classes": [],
            "_model_module": "@jupyter-widgets/controls",
            "_model_module_version": "1.5.0",
            "_model_name": "HBoxModel",
            "_view_count": null,
            "_view_module": "@jupyter-widgets/controls",
            "_view_module_version": "1.5.0",
            "_view_name": "HBoxView",
            "box_style": "",
            "children": [
              "IPY_MODEL_674cc04e1a09401994bf98ac6d077880",
              "IPY_MODEL_aa5373aae96747fa849a3d47f8b801f6",
              "IPY_MODEL_82eaedd550ca4df2a0836ea0558edebe"
            ],
            "layout": "IPY_MODEL_98be7abb4f244e458ee4360053e7a9b5"
          }
        },
        "674cc04e1a09401994bf98ac6d077880": {
          "model_module": "@jupyter-widgets/controls",
          "model_name": "HTMLModel",
          "model_module_version": "1.5.0",
          "state": {
            "_dom_classes": [],
            "_model_module": "@jupyter-widgets/controls",
            "_model_module_version": "1.5.0",
            "_model_name": "HTMLModel",
            "_view_count": null,
            "_view_module": "@jupyter-widgets/controls",
            "_view_module_version": "1.5.0",
            "_view_name": "HTMLView",
            "description": "",
            "description_tooltip": null,
            "layout": "IPY_MODEL_f248525495ad48d580aed168fe4dcf15",
            "placeholder": "​",
            "style": "IPY_MODEL_5d010cc435b74735a70455811e3110bb",
            "value": "Downloading: 100%"
          }
        },
        "aa5373aae96747fa849a3d47f8b801f6": {
          "model_module": "@jupyter-widgets/controls",
          "model_name": "FloatProgressModel",
          "model_module_version": "1.5.0",
          "state": {
            "_dom_classes": [],
            "_model_module": "@jupyter-widgets/controls",
            "_model_module_version": "1.5.0",
            "_model_name": "FloatProgressModel",
            "_view_count": null,
            "_view_module": "@jupyter-widgets/controls",
            "_view_module_version": "1.5.0",
            "_view_name": "ProgressView",
            "bar_style": "success",
            "description": "",
            "description_tooltip": null,
            "layout": "IPY_MODEL_16cfce7040cd4215bae59848d9ded2dd",
            "max": 227845,
            "min": 0,
            "orientation": "horizontal",
            "style": "IPY_MODEL_3a27f82860cb4a2193b8654cef07c069",
            "value": 227845
          }
        },
        "82eaedd550ca4df2a0836ea0558edebe": {
          "model_module": "@jupyter-widgets/controls",
          "model_name": "HTMLModel",
          "model_module_version": "1.5.0",
          "state": {
            "_dom_classes": [],
            "_model_module": "@jupyter-widgets/controls",
            "_model_module_version": "1.5.0",
            "_model_name": "HTMLModel",
            "_view_count": null,
            "_view_module": "@jupyter-widgets/controls",
            "_view_module_version": "1.5.0",
            "_view_name": "HTMLView",
            "description": "",
            "description_tooltip": null,
            "layout": "IPY_MODEL_ce3559b1fceb4a1e830aaaadd7bf2a38",
            "placeholder": "​",
            "style": "IPY_MODEL_f44832c57bce43f893ea1e1d8e1732fe",
            "value": " 223k/223k [00:00&lt;00:00, 10.1kB/s]"
          }
        },
        "98be7abb4f244e458ee4360053e7a9b5": {
          "model_module": "@jupyter-widgets/base",
          "model_name": "LayoutModel",
          "model_module_version": "1.2.0",
          "state": {
            "_model_module": "@jupyter-widgets/base",
            "_model_module_version": "1.2.0",
            "_model_name": "LayoutModel",
            "_view_count": null,
            "_view_module": "@jupyter-widgets/base",
            "_view_module_version": "1.2.0",
            "_view_name": "LayoutView",
            "align_content": null,
            "align_items": null,
            "align_self": null,
            "border": null,
            "bottom": null,
            "display": null,
            "flex": null,
            "flex_flow": null,
            "grid_area": null,
            "grid_auto_columns": null,
            "grid_auto_flow": null,
            "grid_auto_rows": null,
            "grid_column": null,
            "grid_gap": null,
            "grid_row": null,
            "grid_template_areas": null,
            "grid_template_columns": null,
            "grid_template_rows": null,
            "height": null,
            "justify_content": null,
            "justify_items": null,
            "left": null,
            "margin": null,
            "max_height": null,
            "max_width": null,
            "min_height": null,
            "min_width": null,
            "object_fit": null,
            "object_position": null,
            "order": null,
            "overflow": null,
            "overflow_x": null,
            "overflow_y": null,
            "padding": null,
            "right": null,
            "top": null,
            "visibility": null,
            "width": null
          }
        },
        "f248525495ad48d580aed168fe4dcf15": {
          "model_module": "@jupyter-widgets/base",
          "model_name": "LayoutModel",
          "model_module_version": "1.2.0",
          "state": {
            "_model_module": "@jupyter-widgets/base",
            "_model_module_version": "1.2.0",
            "_model_name": "LayoutModel",
            "_view_count": null,
            "_view_module": "@jupyter-widgets/base",
            "_view_module_version": "1.2.0",
            "_view_name": "LayoutView",
            "align_content": null,
            "align_items": null,
            "align_self": null,
            "border": null,
            "bottom": null,
            "display": null,
            "flex": null,
            "flex_flow": null,
            "grid_area": null,
            "grid_auto_columns": null,
            "grid_auto_flow": null,
            "grid_auto_rows": null,
            "grid_column": null,
            "grid_gap": null,
            "grid_row": null,
            "grid_template_areas": null,
            "grid_template_columns": null,
            "grid_template_rows": null,
            "height": null,
            "justify_content": null,
            "justify_items": null,
            "left": null,
            "margin": null,
            "max_height": null,
            "max_width": null,
            "min_height": null,
            "min_width": null,
            "object_fit": null,
            "object_position": null,
            "order": null,
            "overflow": null,
            "overflow_x": null,
            "overflow_y": null,
            "padding": null,
            "right": null,
            "top": null,
            "visibility": null,
            "width": null
          }
        },
        "5d010cc435b74735a70455811e3110bb": {
          "model_module": "@jupyter-widgets/controls",
          "model_name": "DescriptionStyleModel",
          "model_module_version": "1.5.0",
          "state": {
            "_model_module": "@jupyter-widgets/controls",
            "_model_module_version": "1.5.0",
            "_model_name": "DescriptionStyleModel",
            "_view_count": null,
            "_view_module": "@jupyter-widgets/base",
            "_view_module_version": "1.2.0",
            "_view_name": "StyleView",
            "description_width": ""
          }
        },
        "16cfce7040cd4215bae59848d9ded2dd": {
          "model_module": "@jupyter-widgets/base",
          "model_name": "LayoutModel",
          "model_module_version": "1.2.0",
          "state": {
            "_model_module": "@jupyter-widgets/base",
            "_model_module_version": "1.2.0",
            "_model_name": "LayoutModel",
            "_view_count": null,
            "_view_module": "@jupyter-widgets/base",
            "_view_module_version": "1.2.0",
            "_view_name": "LayoutView",
            "align_content": null,
            "align_items": null,
            "align_self": null,
            "border": null,
            "bottom": null,
            "display": null,
            "flex": null,
            "flex_flow": null,
            "grid_area": null,
            "grid_auto_columns": null,
            "grid_auto_flow": null,
            "grid_auto_rows": null,
            "grid_column": null,
            "grid_gap": null,
            "grid_row": null,
            "grid_template_areas": null,
            "grid_template_columns": null,
            "grid_template_rows": null,
            "height": null,
            "justify_content": null,
            "justify_items": null,
            "left": null,
            "margin": null,
            "max_height": null,
            "max_width": null,
            "min_height": null,
            "min_width": null,
            "object_fit": null,
            "object_position": null,
            "order": null,
            "overflow": null,
            "overflow_x": null,
            "overflow_y": null,
            "padding": null,
            "right": null,
            "top": null,
            "visibility": null,
            "width": null
          }
        },
        "3a27f82860cb4a2193b8654cef07c069": {
          "model_module": "@jupyter-widgets/controls",
          "model_name": "ProgressStyleModel",
          "model_module_version": "1.5.0",
          "state": {
            "_model_module": "@jupyter-widgets/controls",
            "_model_module_version": "1.5.0",
            "_model_name": "ProgressStyleModel",
            "_view_count": null,
            "_view_module": "@jupyter-widgets/base",
            "_view_module_version": "1.2.0",
            "_view_name": "StyleView",
            "bar_color": null,
            "description_width": ""
          }
        },
        "ce3559b1fceb4a1e830aaaadd7bf2a38": {
          "model_module": "@jupyter-widgets/base",
          "model_name": "LayoutModel",
          "model_module_version": "1.2.0",
          "state": {
            "_model_module": "@jupyter-widgets/base",
            "_model_module_version": "1.2.0",
            "_model_name": "LayoutModel",
            "_view_count": null,
            "_view_module": "@jupyter-widgets/base",
            "_view_module_version": "1.2.0",
            "_view_name": "LayoutView",
            "align_content": null,
            "align_items": null,
            "align_self": null,
            "border": null,
            "bottom": null,
            "display": null,
            "flex": null,
            "flex_flow": null,
            "grid_area": null,
            "grid_auto_columns": null,
            "grid_auto_flow": null,
            "grid_auto_rows": null,
            "grid_column": null,
            "grid_gap": null,
            "grid_row": null,
            "grid_template_areas": null,
            "grid_template_columns": null,
            "grid_template_rows": null,
            "height": null,
            "justify_content": null,
            "justify_items": null,
            "left": null,
            "margin": null,
            "max_height": null,
            "max_width": null,
            "min_height": null,
            "min_width": null,
            "object_fit": null,
            "object_position": null,
            "order": null,
            "overflow": null,
            "overflow_x": null,
            "overflow_y": null,
            "padding": null,
            "right": null,
            "top": null,
            "visibility": null,
            "width": null
          }
        },
        "f44832c57bce43f893ea1e1d8e1732fe": {
          "model_module": "@jupyter-widgets/controls",
          "model_name": "DescriptionStyleModel",
          "model_module_version": "1.5.0",
          "state": {
            "_model_module": "@jupyter-widgets/controls",
            "_model_module_version": "1.5.0",
            "_model_name": "DescriptionStyleModel",
            "_view_count": null,
            "_view_module": "@jupyter-widgets/base",
            "_view_module_version": "1.2.0",
            "_view_name": "StyleView",
            "description_width": ""
          }
        },
        "e11ac54d98bf48b381738416dfb57ead": {
          "model_module": "@jupyter-widgets/controls",
          "model_name": "HBoxModel",
          "model_module_version": "1.5.0",
          "state": {
            "_dom_classes": [],
            "_model_module": "@jupyter-widgets/controls",
            "_model_module_version": "1.5.0",
            "_model_name": "HBoxModel",
            "_view_count": null,
            "_view_module": "@jupyter-widgets/controls",
            "_view_module_version": "1.5.0",
            "_view_name": "HBoxView",
            "box_style": "",
            "children": [
              "IPY_MODEL_334d4cd832674531b489fcebed1bd5e6",
              "IPY_MODEL_851d6aa0cce7496ead7df1c535126d6f",
              "IPY_MODEL_0574046008f347e4bf17467878c25711"
            ],
            "layout": "IPY_MODEL_e30eb3492d6a4e8d9ab7b70984853429"
          }
        },
        "334d4cd832674531b489fcebed1bd5e6": {
          "model_module": "@jupyter-widgets/controls",
          "model_name": "HTMLModel",
          "model_module_version": "1.5.0",
          "state": {
            "_dom_classes": [],
            "_model_module": "@jupyter-widgets/controls",
            "_model_module_version": "1.5.0",
            "_model_name": "HTMLModel",
            "_view_count": null,
            "_view_module": "@jupyter-widgets/controls",
            "_view_module_version": "1.5.0",
            "_view_name": "HTMLView",
            "description": "",
            "description_tooltip": null,
            "layout": "IPY_MODEL_4e82c41f33d74d0aadb0d1f4a733adcd",
            "placeholder": "​",
            "style": "IPY_MODEL_6a37ece0dd2845219be21e61798bb98a",
            "value": "Downloading: 100%"
          }
        },
        "851d6aa0cce7496ead7df1c535126d6f": {
          "model_module": "@jupyter-widgets/controls",
          "model_name": "FloatProgressModel",
          "model_module_version": "1.5.0",
          "state": {
            "_dom_classes": [],
            "_model_module": "@jupyter-widgets/controls",
            "_model_module_version": "1.5.0",
            "_model_name": "FloatProgressModel",
            "_view_count": null,
            "_view_module": "@jupyter-widgets/controls",
            "_view_module_version": "1.5.0",
            "_view_name": "ProgressView",
            "bar_style": "success",
            "description": "",
            "description_tooltip": null,
            "layout": "IPY_MODEL_79823729d1b4452f89e709c481b0e8a1",
            "max": 442221694,
            "min": 0,
            "orientation": "horizontal",
            "style": "IPY_MODEL_98c27a4a0dcb437a825d2d22a5b974ce",
            "value": 442221694
          }
        },
        "0574046008f347e4bf17467878c25711": {
          "model_module": "@jupyter-widgets/controls",
          "model_name": "HTMLModel",
          "model_module_version": "1.5.0",
          "state": {
            "_dom_classes": [],
            "_model_module": "@jupyter-widgets/controls",
            "_model_module_version": "1.5.0",
            "_model_name": "HTMLModel",
            "_view_count": null,
            "_view_module": "@jupyter-widgets/controls",
            "_view_module_version": "1.5.0",
            "_view_name": "HTMLView",
            "description": "",
            "description_tooltip": null,
            "layout": "IPY_MODEL_bf0d280baf3b4021b16f151a07efa838",
            "placeholder": "​",
            "style": "IPY_MODEL_954cc46566784a04b043e0a4f7bfd3a5",
            "value": " 422M/422M [00:07&lt;00:00, 64.1MB/s]"
          }
        },
        "e30eb3492d6a4e8d9ab7b70984853429": {
          "model_module": "@jupyter-widgets/base",
          "model_name": "LayoutModel",
          "model_module_version": "1.2.0",
          "state": {
            "_model_module": "@jupyter-widgets/base",
            "_model_module_version": "1.2.0",
            "_model_name": "LayoutModel",
            "_view_count": null,
            "_view_module": "@jupyter-widgets/base",
            "_view_module_version": "1.2.0",
            "_view_name": "LayoutView",
            "align_content": null,
            "align_items": null,
            "align_self": null,
            "border": null,
            "bottom": null,
            "display": null,
            "flex": null,
            "flex_flow": null,
            "grid_area": null,
            "grid_auto_columns": null,
            "grid_auto_flow": null,
            "grid_auto_rows": null,
            "grid_column": null,
            "grid_gap": null,
            "grid_row": null,
            "grid_template_areas": null,
            "grid_template_columns": null,
            "grid_template_rows": null,
            "height": null,
            "justify_content": null,
            "justify_items": null,
            "left": null,
            "margin": null,
            "max_height": null,
            "max_width": null,
            "min_height": null,
            "min_width": null,
            "object_fit": null,
            "object_position": null,
            "order": null,
            "overflow": null,
            "overflow_x": null,
            "overflow_y": null,
            "padding": null,
            "right": null,
            "top": null,
            "visibility": null,
            "width": null
          }
        },
        "4e82c41f33d74d0aadb0d1f4a733adcd": {
          "model_module": "@jupyter-widgets/base",
          "model_name": "LayoutModel",
          "model_module_version": "1.2.0",
          "state": {
            "_model_module": "@jupyter-widgets/base",
            "_model_module_version": "1.2.0",
            "_model_name": "LayoutModel",
            "_view_count": null,
            "_view_module": "@jupyter-widgets/base",
            "_view_module_version": "1.2.0",
            "_view_name": "LayoutView",
            "align_content": null,
            "align_items": null,
            "align_self": null,
            "border": null,
            "bottom": null,
            "display": null,
            "flex": null,
            "flex_flow": null,
            "grid_area": null,
            "grid_auto_columns": null,
            "grid_auto_flow": null,
            "grid_auto_rows": null,
            "grid_column": null,
            "grid_gap": null,
            "grid_row": null,
            "grid_template_areas": null,
            "grid_template_columns": null,
            "grid_template_rows": null,
            "height": null,
            "justify_content": null,
            "justify_items": null,
            "left": null,
            "margin": null,
            "max_height": null,
            "max_width": null,
            "min_height": null,
            "min_width": null,
            "object_fit": null,
            "object_position": null,
            "order": null,
            "overflow": null,
            "overflow_x": null,
            "overflow_y": null,
            "padding": null,
            "right": null,
            "top": null,
            "visibility": null,
            "width": null
          }
        },
        "6a37ece0dd2845219be21e61798bb98a": {
          "model_module": "@jupyter-widgets/controls",
          "model_name": "DescriptionStyleModel",
          "model_module_version": "1.5.0",
          "state": {
            "_model_module": "@jupyter-widgets/controls",
            "_model_module_version": "1.5.0",
            "_model_name": "DescriptionStyleModel",
            "_view_count": null,
            "_view_module": "@jupyter-widgets/base",
            "_view_module_version": "1.2.0",
            "_view_name": "StyleView",
            "description_width": ""
          }
        },
        "79823729d1b4452f89e709c481b0e8a1": {
          "model_module": "@jupyter-widgets/base",
          "model_name": "LayoutModel",
          "model_module_version": "1.2.0",
          "state": {
            "_model_module": "@jupyter-widgets/base",
            "_model_module_version": "1.2.0",
            "_model_name": "LayoutModel",
            "_view_count": null,
            "_view_module": "@jupyter-widgets/base",
            "_view_module_version": "1.2.0",
            "_view_name": "LayoutView",
            "align_content": null,
            "align_items": null,
            "align_self": null,
            "border": null,
            "bottom": null,
            "display": null,
            "flex": null,
            "flex_flow": null,
            "grid_area": null,
            "grid_auto_columns": null,
            "grid_auto_flow": null,
            "grid_auto_rows": null,
            "grid_column": null,
            "grid_gap": null,
            "grid_row": null,
            "grid_template_areas": null,
            "grid_template_columns": null,
            "grid_template_rows": null,
            "height": null,
            "justify_content": null,
            "justify_items": null,
            "left": null,
            "margin": null,
            "max_height": null,
            "max_width": null,
            "min_height": null,
            "min_width": null,
            "object_fit": null,
            "object_position": null,
            "order": null,
            "overflow": null,
            "overflow_x": null,
            "overflow_y": null,
            "padding": null,
            "right": null,
            "top": null,
            "visibility": null,
            "width": null
          }
        },
        "98c27a4a0dcb437a825d2d22a5b974ce": {
          "model_module": "@jupyter-widgets/controls",
          "model_name": "ProgressStyleModel",
          "model_module_version": "1.5.0",
          "state": {
            "_model_module": "@jupyter-widgets/controls",
            "_model_module_version": "1.5.0",
            "_model_name": "ProgressStyleModel",
            "_view_count": null,
            "_view_module": "@jupyter-widgets/base",
            "_view_module_version": "1.2.0",
            "_view_name": "StyleView",
            "bar_color": null,
            "description_width": ""
          }
        },
        "bf0d280baf3b4021b16f151a07efa838": {
          "model_module": "@jupyter-widgets/base",
          "model_name": "LayoutModel",
          "model_module_version": "1.2.0",
          "state": {
            "_model_module": "@jupyter-widgets/base",
            "_model_module_version": "1.2.0",
            "_model_name": "LayoutModel",
            "_view_count": null,
            "_view_module": "@jupyter-widgets/base",
            "_view_module_version": "1.2.0",
            "_view_name": "LayoutView",
            "align_content": null,
            "align_items": null,
            "align_self": null,
            "border": null,
            "bottom": null,
            "display": null,
            "flex": null,
            "flex_flow": null,
            "grid_area": null,
            "grid_auto_columns": null,
            "grid_auto_flow": null,
            "grid_auto_rows": null,
            "grid_column": null,
            "grid_gap": null,
            "grid_row": null,
            "grid_template_areas": null,
            "grid_template_columns": null,
            "grid_template_rows": null,
            "height": null,
            "justify_content": null,
            "justify_items": null,
            "left": null,
            "margin": null,
            "max_height": null,
            "max_width": null,
            "min_height": null,
            "min_width": null,
            "object_fit": null,
            "object_position": null,
            "order": null,
            "overflow": null,
            "overflow_x": null,
            "overflow_y": null,
            "padding": null,
            "right": null,
            "top": null,
            "visibility": null,
            "width": null
          }
        },
        "954cc46566784a04b043e0a4f7bfd3a5": {
          "model_module": "@jupyter-widgets/controls",
          "model_name": "DescriptionStyleModel",
          "model_module_version": "1.5.0",
          "state": {
            "_model_module": "@jupyter-widgets/controls",
            "_model_module_version": "1.5.0",
            "_model_name": "DescriptionStyleModel",
            "_view_count": null,
            "_view_module": "@jupyter-widgets/base",
            "_view_module_version": "1.2.0",
            "_view_name": "StyleView",
            "description_width": ""
          }
        },
        "511066fb5786494389ed09065b788ab4": {
          "model_module": "@jupyter-widgets/controls",
          "model_name": "HBoxModel",
          "model_module_version": "1.5.0",
          "state": {
            "_dom_classes": [],
            "_model_module": "@jupyter-widgets/controls",
            "_model_module_version": "1.5.0",
            "_model_name": "HBoxModel",
            "_view_count": null,
            "_view_module": "@jupyter-widgets/controls",
            "_view_module_version": "1.5.0",
            "_view_name": "HBoxView",
            "box_style": "",
            "children": [
              "IPY_MODEL_277159b9ecd848d0902516ec098638d7",
              "IPY_MODEL_9c468413402b468084f821c350cff720",
              "IPY_MODEL_a08b50c3c1144d359f958055decb45eb"
            ],
            "layout": "IPY_MODEL_ea4e4455fb2648228bb96807c8dc9f22"
          }
        },
        "277159b9ecd848d0902516ec098638d7": {
          "model_module": "@jupyter-widgets/controls",
          "model_name": "HTMLModel",
          "model_module_version": "1.5.0",
          "state": {
            "_dom_classes": [],
            "_model_module": "@jupyter-widgets/controls",
            "_model_module_version": "1.5.0",
            "_model_name": "HTMLModel",
            "_view_count": null,
            "_view_module": "@jupyter-widgets/controls",
            "_view_module_version": "1.5.0",
            "_view_name": "HTMLView",
            "description": "",
            "description_tooltip": null,
            "layout": "IPY_MODEL_753719cb41324aa4bd1722f1fe6a34af",
            "placeholder": "​",
            "style": "IPY_MODEL_775af22563384cc59037134ca5141fa8",
            "value": "Downloading: 100%"
          }
        },
        "9c468413402b468084f821c350cff720": {
          "model_module": "@jupyter-widgets/controls",
          "model_name": "FloatProgressModel",
          "model_module_version": "1.5.0",
          "state": {
            "_dom_classes": [],
            "_model_module": "@jupyter-widgets/controls",
            "_model_module_version": "1.5.0",
            "_model_name": "FloatProgressModel",
            "_view_count": null,
            "_view_module": "@jupyter-widgets/controls",
            "_view_module_version": "1.5.0",
            "_view_name": "ProgressView",
            "bar_style": "success",
            "description": "",
            "description_tooltip": null,
            "layout": "IPY_MODEL_e585e02daeb04ee7b2efc4b5dc87c0b0",
            "max": 321,
            "min": 0,
            "orientation": "horizontal",
            "style": "IPY_MODEL_1aed516df85d4a9a9f4259d53e348060",
            "value": 321
          }
        },
        "a08b50c3c1144d359f958055decb45eb": {
          "model_module": "@jupyter-widgets/controls",
          "model_name": "HTMLModel",
          "model_module_version": "1.5.0",
          "state": {
            "_dom_classes": [],
            "_model_module": "@jupyter-widgets/controls",
            "_model_module_version": "1.5.0",
            "_model_name": "HTMLModel",
            "_view_count": null,
            "_view_module": "@jupyter-widgets/controls",
            "_view_module_version": "1.5.0",
            "_view_name": "HTMLView",
            "description": "",
            "description_tooltip": null,
            "layout": "IPY_MODEL_aa1819dfb3b84a2082c70e9840b2073c",
            "placeholder": "​",
            "style": "IPY_MODEL_d535f25fa0c147399a803944208790e2",
            "value": " 321/321 [00:00&lt;00:00, 8.80kB/s]"
          }
        },
        "ea4e4455fb2648228bb96807c8dc9f22": {
          "model_module": "@jupyter-widgets/base",
          "model_name": "LayoutModel",
          "model_module_version": "1.2.0",
          "state": {
            "_model_module": "@jupyter-widgets/base",
            "_model_module_version": "1.2.0",
            "_model_name": "LayoutModel",
            "_view_count": null,
            "_view_module": "@jupyter-widgets/base",
            "_view_module_version": "1.2.0",
            "_view_name": "LayoutView",
            "align_content": null,
            "align_items": null,
            "align_self": null,
            "border": null,
            "bottom": null,
            "display": null,
            "flex": null,
            "flex_flow": null,
            "grid_area": null,
            "grid_auto_columns": null,
            "grid_auto_flow": null,
            "grid_auto_rows": null,
            "grid_column": null,
            "grid_gap": null,
            "grid_row": null,
            "grid_template_areas": null,
            "grid_template_columns": null,
            "grid_template_rows": null,
            "height": null,
            "justify_content": null,
            "justify_items": null,
            "left": null,
            "margin": null,
            "max_height": null,
            "max_width": null,
            "min_height": null,
            "min_width": null,
            "object_fit": null,
            "object_position": null,
            "order": null,
            "overflow": null,
            "overflow_x": null,
            "overflow_y": null,
            "padding": null,
            "right": null,
            "top": null,
            "visibility": null,
            "width": null
          }
        },
        "753719cb41324aa4bd1722f1fe6a34af": {
          "model_module": "@jupyter-widgets/base",
          "model_name": "LayoutModel",
          "model_module_version": "1.2.0",
          "state": {
            "_model_module": "@jupyter-widgets/base",
            "_model_module_version": "1.2.0",
            "_model_name": "LayoutModel",
            "_view_count": null,
            "_view_module": "@jupyter-widgets/base",
            "_view_module_version": "1.2.0",
            "_view_name": "LayoutView",
            "align_content": null,
            "align_items": null,
            "align_self": null,
            "border": null,
            "bottom": null,
            "display": null,
            "flex": null,
            "flex_flow": null,
            "grid_area": null,
            "grid_auto_columns": null,
            "grid_auto_flow": null,
            "grid_auto_rows": null,
            "grid_column": null,
            "grid_gap": null,
            "grid_row": null,
            "grid_template_areas": null,
            "grid_template_columns": null,
            "grid_template_rows": null,
            "height": null,
            "justify_content": null,
            "justify_items": null,
            "left": null,
            "margin": null,
            "max_height": null,
            "max_width": null,
            "min_height": null,
            "min_width": null,
            "object_fit": null,
            "object_position": null,
            "order": null,
            "overflow": null,
            "overflow_x": null,
            "overflow_y": null,
            "padding": null,
            "right": null,
            "top": null,
            "visibility": null,
            "width": null
          }
        },
        "775af22563384cc59037134ca5141fa8": {
          "model_module": "@jupyter-widgets/controls",
          "model_name": "DescriptionStyleModel",
          "model_module_version": "1.5.0",
          "state": {
            "_model_module": "@jupyter-widgets/controls",
            "_model_module_version": "1.5.0",
            "_model_name": "DescriptionStyleModel",
            "_view_count": null,
            "_view_module": "@jupyter-widgets/base",
            "_view_module_version": "1.2.0",
            "_view_name": "StyleView",
            "description_width": ""
          }
        },
        "e585e02daeb04ee7b2efc4b5dc87c0b0": {
          "model_module": "@jupyter-widgets/base",
          "model_name": "LayoutModel",
          "model_module_version": "1.2.0",
          "state": {
            "_model_module": "@jupyter-widgets/base",
            "_model_module_version": "1.2.0",
            "_model_name": "LayoutModel",
            "_view_count": null,
            "_view_module": "@jupyter-widgets/base",
            "_view_module_version": "1.2.0",
            "_view_name": "LayoutView",
            "align_content": null,
            "align_items": null,
            "align_self": null,
            "border": null,
            "bottom": null,
            "display": null,
            "flex": null,
            "flex_flow": null,
            "grid_area": null,
            "grid_auto_columns": null,
            "grid_auto_flow": null,
            "grid_auto_rows": null,
            "grid_column": null,
            "grid_gap": null,
            "grid_row": null,
            "grid_template_areas": null,
            "grid_template_columns": null,
            "grid_template_rows": null,
            "height": null,
            "justify_content": null,
            "justify_items": null,
            "left": null,
            "margin": null,
            "max_height": null,
            "max_width": null,
            "min_height": null,
            "min_width": null,
            "object_fit": null,
            "object_position": null,
            "order": null,
            "overflow": null,
            "overflow_x": null,
            "overflow_y": null,
            "padding": null,
            "right": null,
            "top": null,
            "visibility": null,
            "width": null
          }
        },
        "1aed516df85d4a9a9f4259d53e348060": {
          "model_module": "@jupyter-widgets/controls",
          "model_name": "ProgressStyleModel",
          "model_module_version": "1.5.0",
          "state": {
            "_model_module": "@jupyter-widgets/controls",
            "_model_module_version": "1.5.0",
            "_model_name": "ProgressStyleModel",
            "_view_count": null,
            "_view_module": "@jupyter-widgets/base",
            "_view_module_version": "1.2.0",
            "_view_name": "StyleView",
            "bar_color": null,
            "description_width": ""
          }
        },
        "aa1819dfb3b84a2082c70e9840b2073c": {
          "model_module": "@jupyter-widgets/base",
          "model_name": "LayoutModel",
          "model_module_version": "1.2.0",
          "state": {
            "_model_module": "@jupyter-widgets/base",
            "_model_module_version": "1.2.0",
            "_model_name": "LayoutModel",
            "_view_count": null,
            "_view_module": "@jupyter-widgets/base",
            "_view_module_version": "1.2.0",
            "_view_name": "LayoutView",
            "align_content": null,
            "align_items": null,
            "align_self": null,
            "border": null,
            "bottom": null,
            "display": null,
            "flex": null,
            "flex_flow": null,
            "grid_area": null,
            "grid_auto_columns": null,
            "grid_auto_flow": null,
            "grid_auto_rows": null,
            "grid_column": null,
            "grid_gap": null,
            "grid_row": null,
            "grid_template_areas": null,
            "grid_template_columns": null,
            "grid_template_rows": null,
            "height": null,
            "justify_content": null,
            "justify_items": null,
            "left": null,
            "margin": null,
            "max_height": null,
            "max_width": null,
            "min_height": null,
            "min_width": null,
            "object_fit": null,
            "object_position": null,
            "order": null,
            "overflow": null,
            "overflow_x": null,
            "overflow_y": null,
            "padding": null,
            "right": null,
            "top": null,
            "visibility": null,
            "width": null
          }
        },
        "d535f25fa0c147399a803944208790e2": {
          "model_module": "@jupyter-widgets/controls",
          "model_name": "DescriptionStyleModel",
          "model_module_version": "1.5.0",
          "state": {
            "_model_module": "@jupyter-widgets/controls",
            "_model_module_version": "1.5.0",
            "_model_name": "DescriptionStyleModel",
            "_view_count": null,
            "_view_module": "@jupyter-widgets/base",
            "_view_module_version": "1.2.0",
            "_view_name": "StyleView",
            "description_width": ""
          }
        },
        "ed3cdb16823643d2af4d4cd30d6bb94c": {
          "model_module": "@jupyter-widgets/controls",
          "model_name": "HBoxModel",
          "model_module_version": "1.5.0",
          "state": {
            "_dom_classes": [],
            "_model_module": "@jupyter-widgets/controls",
            "_model_module_version": "1.5.0",
            "_model_name": "HBoxModel",
            "_view_count": null,
            "_view_module": "@jupyter-widgets/controls",
            "_view_module_version": "1.5.0",
            "_view_name": "HBoxView",
            "box_style": "",
            "children": [
              "IPY_MODEL_90c456fa37354bb19dbb6c2b285d8792",
              "IPY_MODEL_f4e24917ed3b42c9a7a9ba0b00e7235e",
              "IPY_MODEL_9592b8b91274447ca44eae68ef6648d0"
            ],
            "layout": "IPY_MODEL_0f723239e313473fbf5c1db2578576fb"
          }
        },
        "90c456fa37354bb19dbb6c2b285d8792": {
          "model_module": "@jupyter-widgets/controls",
          "model_name": "HTMLModel",
          "model_module_version": "1.5.0",
          "state": {
            "_dom_classes": [],
            "_model_module": "@jupyter-widgets/controls",
            "_model_module_version": "1.5.0",
            "_model_name": "HTMLModel",
            "_view_count": null,
            "_view_module": "@jupyter-widgets/controls",
            "_view_module_version": "1.5.0",
            "_view_name": "HTMLView",
            "description": "",
            "description_tooltip": null,
            "layout": "IPY_MODEL_d3a0aedb14504ffc94ffe8f3216cba51",
            "placeholder": "​",
            "style": "IPY_MODEL_98ac5113d6e64103bd99e796e0a80bb1",
            "value": "Downloading: 100%"
          }
        },
        "f4e24917ed3b42c9a7a9ba0b00e7235e": {
          "model_module": "@jupyter-widgets/controls",
          "model_name": "FloatProgressModel",
          "model_module_version": "1.5.0",
          "state": {
            "_dom_classes": [],
            "_model_module": "@jupyter-widgets/controls",
            "_model_module_version": "1.5.0",
            "_model_name": "FloatProgressModel",
            "_view_count": null,
            "_view_module": "@jupyter-widgets/controls",
            "_view_module_version": "1.5.0",
            "_view_name": "ProgressView",
            "bar_style": "success",
            "description": "",
            "description_tooltip": null,
            "layout": "IPY_MODEL_6d81d5de6d2c496fa09e7d82bcd8e995",
            "max": 612,
            "min": 0,
            "orientation": "horizontal",
            "style": "IPY_MODEL_5fcd12d21eac45de82cea41df55459b4",
            "value": 612
          }
        },
        "9592b8b91274447ca44eae68ef6648d0": {
          "model_module": "@jupyter-widgets/controls",
          "model_name": "HTMLModel",
          "model_module_version": "1.5.0",
          "state": {
            "_dom_classes": [],
            "_model_module": "@jupyter-widgets/controls",
            "_model_module_version": "1.5.0",
            "_model_name": "HTMLModel",
            "_view_count": null,
            "_view_module": "@jupyter-widgets/controls",
            "_view_module_version": "1.5.0",
            "_view_name": "HTMLView",
            "description": "",
            "description_tooltip": null,
            "layout": "IPY_MODEL_ffb9e6f8e36d4e93b2c8ef6c9841b811",
            "placeholder": "​",
            "style": "IPY_MODEL_fa0a63d791f54ef8964199d27bb20243",
            "value": " 612/612 [00:00&lt;00:00, 17.4kB/s]"
          }
        },
        "0f723239e313473fbf5c1db2578576fb": {
          "model_module": "@jupyter-widgets/base",
          "model_name": "LayoutModel",
          "model_module_version": "1.2.0",
          "state": {
            "_model_module": "@jupyter-widgets/base",
            "_model_module_version": "1.2.0",
            "_model_name": "LayoutModel",
            "_view_count": null,
            "_view_module": "@jupyter-widgets/base",
            "_view_module_version": "1.2.0",
            "_view_name": "LayoutView",
            "align_content": null,
            "align_items": null,
            "align_self": null,
            "border": null,
            "bottom": null,
            "display": null,
            "flex": null,
            "flex_flow": null,
            "grid_area": null,
            "grid_auto_columns": null,
            "grid_auto_flow": null,
            "grid_auto_rows": null,
            "grid_column": null,
            "grid_gap": null,
            "grid_row": null,
            "grid_template_areas": null,
            "grid_template_columns": null,
            "grid_template_rows": null,
            "height": null,
            "justify_content": null,
            "justify_items": null,
            "left": null,
            "margin": null,
            "max_height": null,
            "max_width": null,
            "min_height": null,
            "min_width": null,
            "object_fit": null,
            "object_position": null,
            "order": null,
            "overflow": null,
            "overflow_x": null,
            "overflow_y": null,
            "padding": null,
            "right": null,
            "top": null,
            "visibility": null,
            "width": null
          }
        },
        "d3a0aedb14504ffc94ffe8f3216cba51": {
          "model_module": "@jupyter-widgets/base",
          "model_name": "LayoutModel",
          "model_module_version": "1.2.0",
          "state": {
            "_model_module": "@jupyter-widgets/base",
            "_model_module_version": "1.2.0",
            "_model_name": "LayoutModel",
            "_view_count": null,
            "_view_module": "@jupyter-widgets/base",
            "_view_module_version": "1.2.0",
            "_view_name": "LayoutView",
            "align_content": null,
            "align_items": null,
            "align_self": null,
            "border": null,
            "bottom": null,
            "display": null,
            "flex": null,
            "flex_flow": null,
            "grid_area": null,
            "grid_auto_columns": null,
            "grid_auto_flow": null,
            "grid_auto_rows": null,
            "grid_column": null,
            "grid_gap": null,
            "grid_row": null,
            "grid_template_areas": null,
            "grid_template_columns": null,
            "grid_template_rows": null,
            "height": null,
            "justify_content": null,
            "justify_items": null,
            "left": null,
            "margin": null,
            "max_height": null,
            "max_width": null,
            "min_height": null,
            "min_width": null,
            "object_fit": null,
            "object_position": null,
            "order": null,
            "overflow": null,
            "overflow_x": null,
            "overflow_y": null,
            "padding": null,
            "right": null,
            "top": null,
            "visibility": null,
            "width": null
          }
        },
        "98ac5113d6e64103bd99e796e0a80bb1": {
          "model_module": "@jupyter-widgets/controls",
          "model_name": "DescriptionStyleModel",
          "model_module_version": "1.5.0",
          "state": {
            "_model_module": "@jupyter-widgets/controls",
            "_model_module_version": "1.5.0",
            "_model_name": "DescriptionStyleModel",
            "_view_count": null,
            "_view_module": "@jupyter-widgets/base",
            "_view_module_version": "1.2.0",
            "_view_name": "StyleView",
            "description_width": ""
          }
        },
        "6d81d5de6d2c496fa09e7d82bcd8e995": {
          "model_module": "@jupyter-widgets/base",
          "model_name": "LayoutModel",
          "model_module_version": "1.2.0",
          "state": {
            "_model_module": "@jupyter-widgets/base",
            "_model_module_version": "1.2.0",
            "_model_name": "LayoutModel",
            "_view_count": null,
            "_view_module": "@jupyter-widgets/base",
            "_view_module_version": "1.2.0",
            "_view_name": "LayoutView",
            "align_content": null,
            "align_items": null,
            "align_self": null,
            "border": null,
            "bottom": null,
            "display": null,
            "flex": null,
            "flex_flow": null,
            "grid_area": null,
            "grid_auto_columns": null,
            "grid_auto_flow": null,
            "grid_auto_rows": null,
            "grid_column": null,
            "grid_gap": null,
            "grid_row": null,
            "grid_template_areas": null,
            "grid_template_columns": null,
            "grid_template_rows": null,
            "height": null,
            "justify_content": null,
            "justify_items": null,
            "left": null,
            "margin": null,
            "max_height": null,
            "max_width": null,
            "min_height": null,
            "min_width": null,
            "object_fit": null,
            "object_position": null,
            "order": null,
            "overflow": null,
            "overflow_x": null,
            "overflow_y": null,
            "padding": null,
            "right": null,
            "top": null,
            "visibility": null,
            "width": null
          }
        },
        "5fcd12d21eac45de82cea41df55459b4": {
          "model_module": "@jupyter-widgets/controls",
          "model_name": "ProgressStyleModel",
          "model_module_version": "1.5.0",
          "state": {
            "_model_module": "@jupyter-widgets/controls",
            "_model_module_version": "1.5.0",
            "_model_name": "ProgressStyleModel",
            "_view_count": null,
            "_view_module": "@jupyter-widgets/base",
            "_view_module_version": "1.2.0",
            "_view_name": "StyleView",
            "bar_color": null,
            "description_width": ""
          }
        },
        "ffb9e6f8e36d4e93b2c8ef6c9841b811": {
          "model_module": "@jupyter-widgets/base",
          "model_name": "LayoutModel",
          "model_module_version": "1.2.0",
          "state": {
            "_model_module": "@jupyter-widgets/base",
            "_model_module_version": "1.2.0",
            "_model_name": "LayoutModel",
            "_view_count": null,
            "_view_module": "@jupyter-widgets/base",
            "_view_module_version": "1.2.0",
            "_view_name": "LayoutView",
            "align_content": null,
            "align_items": null,
            "align_self": null,
            "border": null,
            "bottom": null,
            "display": null,
            "flex": null,
            "flex_flow": null,
            "grid_area": null,
            "grid_auto_columns": null,
            "grid_auto_flow": null,
            "grid_auto_rows": null,
            "grid_column": null,
            "grid_gap": null,
            "grid_row": null,
            "grid_template_areas": null,
            "grid_template_columns": null,
            "grid_template_rows": null,
            "height": null,
            "justify_content": null,
            "justify_items": null,
            "left": null,
            "margin": null,
            "max_height": null,
            "max_width": null,
            "min_height": null,
            "min_width": null,
            "object_fit": null,
            "object_position": null,
            "order": null,
            "overflow": null,
            "overflow_x": null,
            "overflow_y": null,
            "padding": null,
            "right": null,
            "top": null,
            "visibility": null,
            "width": null
          }
        },
        "fa0a63d791f54ef8964199d27bb20243": {
          "model_module": "@jupyter-widgets/controls",
          "model_name": "DescriptionStyleModel",
          "model_module_version": "1.5.0",
          "state": {
            "_model_module": "@jupyter-widgets/controls",
            "_model_module_version": "1.5.0",
            "_model_name": "DescriptionStyleModel",
            "_view_count": null,
            "_view_module": "@jupyter-widgets/base",
            "_view_module_version": "1.2.0",
            "_view_name": "StyleView",
            "description_width": ""
          }
        },
        "dbd2108c88f5423d8b3ae7b87e7b5cb5": {
          "model_module": "@jupyter-widgets/controls",
          "model_name": "HBoxModel",
          "model_module_version": "1.5.0",
          "state": {
            "_dom_classes": [],
            "_model_module": "@jupyter-widgets/controls",
            "_model_module_version": "1.5.0",
            "_model_name": "HBoxModel",
            "_view_count": null,
            "_view_module": "@jupyter-widgets/controls",
            "_view_module_version": "1.5.0",
            "_view_name": "HBoxView",
            "box_style": "",
            "children": [
              "IPY_MODEL_9989cf507e544ef7a009143d31262d76",
              "IPY_MODEL_bc8b0748a7b0419bbe857e1aa62f45df",
              "IPY_MODEL_62e46521cec543cda36af151b8c12764"
            ],
            "layout": "IPY_MODEL_5535b4233b064f59a78d771f15776f44"
          }
        },
        "9989cf507e544ef7a009143d31262d76": {
          "model_module": "@jupyter-widgets/controls",
          "model_name": "HTMLModel",
          "model_module_version": "1.5.0",
          "state": {
            "_dom_classes": [],
            "_model_module": "@jupyter-widgets/controls",
            "_model_module_version": "1.5.0",
            "_model_name": "HTMLModel",
            "_view_count": null,
            "_view_module": "@jupyter-widgets/controls",
            "_view_module_version": "1.5.0",
            "_view_name": "HTMLView",
            "description": "",
            "description_tooltip": null,
            "layout": "IPY_MODEL_045a427d231a42c4a212de199edffb7f",
            "placeholder": "​",
            "style": "IPY_MODEL_66809e6930df4dd98c219bd702a9855c",
            "value": "Downloading: 100%"
          }
        },
        "bc8b0748a7b0419bbe857e1aa62f45df": {
          "model_module": "@jupyter-widgets/controls",
          "model_name": "FloatProgressModel",
          "model_module_version": "1.5.0",
          "state": {
            "_dom_classes": [],
            "_model_module": "@jupyter-widgets/controls",
            "_model_module_version": "1.5.0",
            "_model_name": "FloatProgressModel",
            "_view_count": null,
            "_view_module": "@jupyter-widgets/controls",
            "_view_module_version": "1.5.0",
            "_view_name": "ProgressView",
            "bar_style": "success",
            "description": "",
            "description_tooltip": null,
            "layout": "IPY_MODEL_cb41ff86cb874b94bb2a7f2c18aca2c0",
            "max": 222296,
            "min": 0,
            "orientation": "horizontal",
            "style": "IPY_MODEL_adb55edcaf5c4bd6848a56fa01d89d52",
            "value": 222296
          }
        },
        "62e46521cec543cda36af151b8c12764": {
          "model_module": "@jupyter-widgets/controls",
          "model_name": "HTMLModel",
          "model_module_version": "1.5.0",
          "state": {
            "_dom_classes": [],
            "_model_module": "@jupyter-widgets/controls",
            "_model_module_version": "1.5.0",
            "_model_name": "HTMLModel",
            "_view_count": null,
            "_view_module": "@jupyter-widgets/controls",
            "_view_module_version": "1.5.0",
            "_view_name": "HTMLView",
            "description": "",
            "description_tooltip": null,
            "layout": "IPY_MODEL_beb0116c40754af982d3dc228f2e18fd",
            "placeholder": "​",
            "style": "IPY_MODEL_cfbe014272a248349e0eeeaef82efbf6",
            "value": " 217k/217k [00:00&lt;00:00, 2.82MB/s]"
          }
        },
        "5535b4233b064f59a78d771f15776f44": {
          "model_module": "@jupyter-widgets/base",
          "model_name": "LayoutModel",
          "model_module_version": "1.2.0",
          "state": {
            "_model_module": "@jupyter-widgets/base",
            "_model_module_version": "1.2.0",
            "_model_name": "LayoutModel",
            "_view_count": null,
            "_view_module": "@jupyter-widgets/base",
            "_view_module_version": "1.2.0",
            "_view_name": "LayoutView",
            "align_content": null,
            "align_items": null,
            "align_self": null,
            "border": null,
            "bottom": null,
            "display": null,
            "flex": null,
            "flex_flow": null,
            "grid_area": null,
            "grid_auto_columns": null,
            "grid_auto_flow": null,
            "grid_auto_rows": null,
            "grid_column": null,
            "grid_gap": null,
            "grid_row": null,
            "grid_template_areas": null,
            "grid_template_columns": null,
            "grid_template_rows": null,
            "height": null,
            "justify_content": null,
            "justify_items": null,
            "left": null,
            "margin": null,
            "max_height": null,
            "max_width": null,
            "min_height": null,
            "min_width": null,
            "object_fit": null,
            "object_position": null,
            "order": null,
            "overflow": null,
            "overflow_x": null,
            "overflow_y": null,
            "padding": null,
            "right": null,
            "top": null,
            "visibility": null,
            "width": null
          }
        },
        "045a427d231a42c4a212de199edffb7f": {
          "model_module": "@jupyter-widgets/base",
          "model_name": "LayoutModel",
          "model_module_version": "1.2.0",
          "state": {
            "_model_module": "@jupyter-widgets/base",
            "_model_module_version": "1.2.0",
            "_model_name": "LayoutModel",
            "_view_count": null,
            "_view_module": "@jupyter-widgets/base",
            "_view_module_version": "1.2.0",
            "_view_name": "LayoutView",
            "align_content": null,
            "align_items": null,
            "align_self": null,
            "border": null,
            "bottom": null,
            "display": null,
            "flex": null,
            "flex_flow": null,
            "grid_area": null,
            "grid_auto_columns": null,
            "grid_auto_flow": null,
            "grid_auto_rows": null,
            "grid_column": null,
            "grid_gap": null,
            "grid_row": null,
            "grid_template_areas": null,
            "grid_template_columns": null,
            "grid_template_rows": null,
            "height": null,
            "justify_content": null,
            "justify_items": null,
            "left": null,
            "margin": null,
            "max_height": null,
            "max_width": null,
            "min_height": null,
            "min_width": null,
            "object_fit": null,
            "object_position": null,
            "order": null,
            "overflow": null,
            "overflow_x": null,
            "overflow_y": null,
            "padding": null,
            "right": null,
            "top": null,
            "visibility": null,
            "width": null
          }
        },
        "66809e6930df4dd98c219bd702a9855c": {
          "model_module": "@jupyter-widgets/controls",
          "model_name": "DescriptionStyleModel",
          "model_module_version": "1.5.0",
          "state": {
            "_model_module": "@jupyter-widgets/controls",
            "_model_module_version": "1.5.0",
            "_model_name": "DescriptionStyleModel",
            "_view_count": null,
            "_view_module": "@jupyter-widgets/base",
            "_view_module_version": "1.2.0",
            "_view_name": "StyleView",
            "description_width": ""
          }
        },
        "cb41ff86cb874b94bb2a7f2c18aca2c0": {
          "model_module": "@jupyter-widgets/base",
          "model_name": "LayoutModel",
          "model_module_version": "1.2.0",
          "state": {
            "_model_module": "@jupyter-widgets/base",
            "_model_module_version": "1.2.0",
            "_model_name": "LayoutModel",
            "_view_count": null,
            "_view_module": "@jupyter-widgets/base",
            "_view_module_version": "1.2.0",
            "_view_name": "LayoutView",
            "align_content": null,
            "align_items": null,
            "align_self": null,
            "border": null,
            "bottom": null,
            "display": null,
            "flex": null,
            "flex_flow": null,
            "grid_area": null,
            "grid_auto_columns": null,
            "grid_auto_flow": null,
            "grid_auto_rows": null,
            "grid_column": null,
            "grid_gap": null,
            "grid_row": null,
            "grid_template_areas": null,
            "grid_template_columns": null,
            "grid_template_rows": null,
            "height": null,
            "justify_content": null,
            "justify_items": null,
            "left": null,
            "margin": null,
            "max_height": null,
            "max_width": null,
            "min_height": null,
            "min_width": null,
            "object_fit": null,
            "object_position": null,
            "order": null,
            "overflow": null,
            "overflow_x": null,
            "overflow_y": null,
            "padding": null,
            "right": null,
            "top": null,
            "visibility": null,
            "width": null
          }
        },
        "adb55edcaf5c4bd6848a56fa01d89d52": {
          "model_module": "@jupyter-widgets/controls",
          "model_name": "ProgressStyleModel",
          "model_module_version": "1.5.0",
          "state": {
            "_model_module": "@jupyter-widgets/controls",
            "_model_module_version": "1.5.0",
            "_model_name": "ProgressStyleModel",
            "_view_count": null,
            "_view_module": "@jupyter-widgets/base",
            "_view_module_version": "1.2.0",
            "_view_name": "StyleView",
            "bar_color": null,
            "description_width": ""
          }
        },
        "beb0116c40754af982d3dc228f2e18fd": {
          "model_module": "@jupyter-widgets/base",
          "model_name": "LayoutModel",
          "model_module_version": "1.2.0",
          "state": {
            "_model_module": "@jupyter-widgets/base",
            "_model_module_version": "1.2.0",
            "_model_name": "LayoutModel",
            "_view_count": null,
            "_view_module": "@jupyter-widgets/base",
            "_view_module_version": "1.2.0",
            "_view_name": "LayoutView",
            "align_content": null,
            "align_items": null,
            "align_self": null,
            "border": null,
            "bottom": null,
            "display": null,
            "flex": null,
            "flex_flow": null,
            "grid_area": null,
            "grid_auto_columns": null,
            "grid_auto_flow": null,
            "grid_auto_rows": null,
            "grid_column": null,
            "grid_gap": null,
            "grid_row": null,
            "grid_template_areas": null,
            "grid_template_columns": null,
            "grid_template_rows": null,
            "height": null,
            "justify_content": null,
            "justify_items": null,
            "left": null,
            "margin": null,
            "max_height": null,
            "max_width": null,
            "min_height": null,
            "min_width": null,
            "object_fit": null,
            "object_position": null,
            "order": null,
            "overflow": null,
            "overflow_x": null,
            "overflow_y": null,
            "padding": null,
            "right": null,
            "top": null,
            "visibility": null,
            "width": null
          }
        },
        "cfbe014272a248349e0eeeaef82efbf6": {
          "model_module": "@jupyter-widgets/controls",
          "model_name": "DescriptionStyleModel",
          "model_module_version": "1.5.0",
          "state": {
            "_model_module": "@jupyter-widgets/controls",
            "_model_module_version": "1.5.0",
            "_model_name": "DescriptionStyleModel",
            "_view_count": null,
            "_view_module": "@jupyter-widgets/base",
            "_view_module_version": "1.2.0",
            "_view_name": "StyleView",
            "description_width": ""
          }
        },
        "bf818dc8cf3f4f38b46e3a994e244369": {
          "model_module": "@jupyter-widgets/controls",
          "model_name": "HBoxModel",
          "model_module_version": "1.5.0",
          "state": {
            "_dom_classes": [],
            "_model_module": "@jupyter-widgets/controls",
            "_model_module_version": "1.5.0",
            "_model_name": "HBoxModel",
            "_view_count": null,
            "_view_module": "@jupyter-widgets/controls",
            "_view_module_version": "1.5.0",
            "_view_name": "HBoxView",
            "box_style": "",
            "children": [
              "IPY_MODEL_1c945d889da54b149560c7d9805d456a",
              "IPY_MODEL_94da0d7920234e82b1718fa7876d5126",
              "IPY_MODEL_ee14244dbe0543f89d545a55ece7c390"
            ],
            "layout": "IPY_MODEL_ceaa1686617d47c3abaa10216d7d5530"
          }
        },
        "1c945d889da54b149560c7d9805d456a": {
          "model_module": "@jupyter-widgets/controls",
          "model_name": "HTMLModel",
          "model_module_version": "1.5.0",
          "state": {
            "_dom_classes": [],
            "_model_module": "@jupyter-widgets/controls",
            "_model_module_version": "1.5.0",
            "_model_name": "HTMLModel",
            "_view_count": null,
            "_view_module": "@jupyter-widgets/controls",
            "_view_module_version": "1.5.0",
            "_view_name": "HTMLView",
            "description": "",
            "description_tooltip": null,
            "layout": "IPY_MODEL_da0ad88e847d48309504b238521abd38",
            "placeholder": "​",
            "style": "IPY_MODEL_b2b1245685d74611b97091c630e34b91",
            "value": "Downloading: 100%"
          }
        },
        "94da0d7920234e82b1718fa7876d5126": {
          "model_module": "@jupyter-widgets/controls",
          "model_name": "FloatProgressModel",
          "model_module_version": "1.5.0",
          "state": {
            "_dom_classes": [],
            "_model_module": "@jupyter-widgets/controls",
            "_model_module_version": "1.5.0",
            "_model_name": "FloatProgressModel",
            "_view_count": null,
            "_view_module": "@jupyter-widgets/controls",
            "_view_module_version": "1.5.0",
            "_view_name": "ProgressView",
            "bar_style": "success",
            "description": "",
            "description_tooltip": null,
            "layout": "IPY_MODEL_b594cde3a83a47048e1bae2af0aa0873",
            "max": 112,
            "min": 0,
            "orientation": "horizontal",
            "style": "IPY_MODEL_63475a1879a64c75a30092384d1c6ee3",
            "value": 112
          }
        },
        "ee14244dbe0543f89d545a55ece7c390": {
          "model_module": "@jupyter-widgets/controls",
          "model_name": "HTMLModel",
          "model_module_version": "1.5.0",
          "state": {
            "_dom_classes": [],
            "_model_module": "@jupyter-widgets/controls",
            "_model_module_version": "1.5.0",
            "_model_name": "HTMLModel",
            "_view_count": null,
            "_view_module": "@jupyter-widgets/controls",
            "_view_module_version": "1.5.0",
            "_view_name": "HTMLView",
            "description": "",
            "description_tooltip": null,
            "layout": "IPY_MODEL_03b06ba905484440888a463746ec6bde",
            "placeholder": "​",
            "style": "IPY_MODEL_b31d8ffab62a465e97b3c28351dce823",
            "value": " 112/112 [00:00&lt;00:00, 2.78kB/s]"
          }
        },
        "ceaa1686617d47c3abaa10216d7d5530": {
          "model_module": "@jupyter-widgets/base",
          "model_name": "LayoutModel",
          "model_module_version": "1.2.0",
          "state": {
            "_model_module": "@jupyter-widgets/base",
            "_model_module_version": "1.2.0",
            "_model_name": "LayoutModel",
            "_view_count": null,
            "_view_module": "@jupyter-widgets/base",
            "_view_module_version": "1.2.0",
            "_view_name": "LayoutView",
            "align_content": null,
            "align_items": null,
            "align_self": null,
            "border": null,
            "bottom": null,
            "display": null,
            "flex": null,
            "flex_flow": null,
            "grid_area": null,
            "grid_auto_columns": null,
            "grid_auto_flow": null,
            "grid_auto_rows": null,
            "grid_column": null,
            "grid_gap": null,
            "grid_row": null,
            "grid_template_areas": null,
            "grid_template_columns": null,
            "grid_template_rows": null,
            "height": null,
            "justify_content": null,
            "justify_items": null,
            "left": null,
            "margin": null,
            "max_height": null,
            "max_width": null,
            "min_height": null,
            "min_width": null,
            "object_fit": null,
            "object_position": null,
            "order": null,
            "overflow": null,
            "overflow_x": null,
            "overflow_y": null,
            "padding": null,
            "right": null,
            "top": null,
            "visibility": null,
            "width": null
          }
        },
        "da0ad88e847d48309504b238521abd38": {
          "model_module": "@jupyter-widgets/base",
          "model_name": "LayoutModel",
          "model_module_version": "1.2.0",
          "state": {
            "_model_module": "@jupyter-widgets/base",
            "_model_module_version": "1.2.0",
            "_model_name": "LayoutModel",
            "_view_count": null,
            "_view_module": "@jupyter-widgets/base",
            "_view_module_version": "1.2.0",
            "_view_name": "LayoutView",
            "align_content": null,
            "align_items": null,
            "align_self": null,
            "border": null,
            "bottom": null,
            "display": null,
            "flex": null,
            "flex_flow": null,
            "grid_area": null,
            "grid_auto_columns": null,
            "grid_auto_flow": null,
            "grid_auto_rows": null,
            "grid_column": null,
            "grid_gap": null,
            "grid_row": null,
            "grid_template_areas": null,
            "grid_template_columns": null,
            "grid_template_rows": null,
            "height": null,
            "justify_content": null,
            "justify_items": null,
            "left": null,
            "margin": null,
            "max_height": null,
            "max_width": null,
            "min_height": null,
            "min_width": null,
            "object_fit": null,
            "object_position": null,
            "order": null,
            "overflow": null,
            "overflow_x": null,
            "overflow_y": null,
            "padding": null,
            "right": null,
            "top": null,
            "visibility": null,
            "width": null
          }
        },
        "b2b1245685d74611b97091c630e34b91": {
          "model_module": "@jupyter-widgets/controls",
          "model_name": "DescriptionStyleModel",
          "model_module_version": "1.5.0",
          "state": {
            "_model_module": "@jupyter-widgets/controls",
            "_model_module_version": "1.5.0",
            "_model_name": "DescriptionStyleModel",
            "_view_count": null,
            "_view_module": "@jupyter-widgets/base",
            "_view_module_version": "1.2.0",
            "_view_name": "StyleView",
            "description_width": ""
          }
        },
        "b594cde3a83a47048e1bae2af0aa0873": {
          "model_module": "@jupyter-widgets/base",
          "model_name": "LayoutModel",
          "model_module_version": "1.2.0",
          "state": {
            "_model_module": "@jupyter-widgets/base",
            "_model_module_version": "1.2.0",
            "_model_name": "LayoutModel",
            "_view_count": null,
            "_view_module": "@jupyter-widgets/base",
            "_view_module_version": "1.2.0",
            "_view_name": "LayoutView",
            "align_content": null,
            "align_items": null,
            "align_self": null,
            "border": null,
            "bottom": null,
            "display": null,
            "flex": null,
            "flex_flow": null,
            "grid_area": null,
            "grid_auto_columns": null,
            "grid_auto_flow": null,
            "grid_auto_rows": null,
            "grid_column": null,
            "grid_gap": null,
            "grid_row": null,
            "grid_template_areas": null,
            "grid_template_columns": null,
            "grid_template_rows": null,
            "height": null,
            "justify_content": null,
            "justify_items": null,
            "left": null,
            "margin": null,
            "max_height": null,
            "max_width": null,
            "min_height": null,
            "min_width": null,
            "object_fit": null,
            "object_position": null,
            "order": null,
            "overflow": null,
            "overflow_x": null,
            "overflow_y": null,
            "padding": null,
            "right": null,
            "top": null,
            "visibility": null,
            "width": null
          }
        },
        "63475a1879a64c75a30092384d1c6ee3": {
          "model_module": "@jupyter-widgets/controls",
          "model_name": "ProgressStyleModel",
          "model_module_version": "1.5.0",
          "state": {
            "_model_module": "@jupyter-widgets/controls",
            "_model_module_version": "1.5.0",
            "_model_name": "ProgressStyleModel",
            "_view_count": null,
            "_view_module": "@jupyter-widgets/base",
            "_view_module_version": "1.2.0",
            "_view_name": "StyleView",
            "bar_color": null,
            "description_width": ""
          }
        },
        "03b06ba905484440888a463746ec6bde": {
          "model_module": "@jupyter-widgets/base",
          "model_name": "LayoutModel",
          "model_module_version": "1.2.0",
          "state": {
            "_model_module": "@jupyter-widgets/base",
            "_model_module_version": "1.2.0",
            "_model_name": "LayoutModel",
            "_view_count": null,
            "_view_module": "@jupyter-widgets/base",
            "_view_module_version": "1.2.0",
            "_view_name": "LayoutView",
            "align_content": null,
            "align_items": null,
            "align_self": null,
            "border": null,
            "bottom": null,
            "display": null,
            "flex": null,
            "flex_flow": null,
            "grid_area": null,
            "grid_auto_columns": null,
            "grid_auto_flow": null,
            "grid_auto_rows": null,
            "grid_column": null,
            "grid_gap": null,
            "grid_row": null,
            "grid_template_areas": null,
            "grid_template_columns": null,
            "grid_template_rows": null,
            "height": null,
            "justify_content": null,
            "justify_items": null,
            "left": null,
            "margin": null,
            "max_height": null,
            "max_width": null,
            "min_height": null,
            "min_width": null,
            "object_fit": null,
            "object_position": null,
            "order": null,
            "overflow": null,
            "overflow_x": null,
            "overflow_y": null,
            "padding": null,
            "right": null,
            "top": null,
            "visibility": null,
            "width": null
          }
        },
        "b31d8ffab62a465e97b3c28351dce823": {
          "model_module": "@jupyter-widgets/controls",
          "model_name": "DescriptionStyleModel",
          "model_module_version": "1.5.0",
          "state": {
            "_model_module": "@jupyter-widgets/controls",
            "_model_module_version": "1.5.0",
            "_model_name": "DescriptionStyleModel",
            "_view_count": null,
            "_view_module": "@jupyter-widgets/base",
            "_view_module_version": "1.2.0",
            "_view_name": "StyleView",
            "description_width": ""
          }
        },
        "8f141911563c413a9cb87b38b90118a4": {
          "model_module": "@jupyter-widgets/controls",
          "model_name": "HBoxModel",
          "model_module_version": "1.5.0",
          "state": {
            "_dom_classes": [],
            "_model_module": "@jupyter-widgets/controls",
            "_model_module_version": "1.5.0",
            "_model_name": "HBoxModel",
            "_view_count": null,
            "_view_module": "@jupyter-widgets/controls",
            "_view_module_version": "1.5.0",
            "_view_name": "HBoxView",
            "box_style": "",
            "children": [
              "IPY_MODEL_a90e32ff738c42429ff51361cd2feca7",
              "IPY_MODEL_3542db6cdcf143e5a959e37af4621a76",
              "IPY_MODEL_31d6921a311d46d7a8ad11f1d3a78a38"
            ],
            "layout": "IPY_MODEL_33b92bd1012a4a73bcd676a260ff55f0"
          }
        },
        "a90e32ff738c42429ff51361cd2feca7": {
          "model_module": "@jupyter-widgets/controls",
          "model_name": "HTMLModel",
          "model_module_version": "1.5.0",
          "state": {
            "_dom_classes": [],
            "_model_module": "@jupyter-widgets/controls",
            "_model_module_version": "1.5.0",
            "_model_name": "HTMLModel",
            "_view_count": null,
            "_view_module": "@jupyter-widgets/controls",
            "_view_module_version": "1.5.0",
            "_view_name": "HTMLView",
            "description": "",
            "description_tooltip": null,
            "layout": "IPY_MODEL_667c77544df344fe85c6882499ce6170",
            "placeholder": "​",
            "style": "IPY_MODEL_86a534eb3c82425ea4811b36cae19bd2",
            "value": "Downloading: 100%"
          }
        },
        "3542db6cdcf143e5a959e37af4621a76": {
          "model_module": "@jupyter-widgets/controls",
          "model_name": "FloatProgressModel",
          "model_module_version": "1.5.0",
          "state": {
            "_dom_classes": [],
            "_model_module": "@jupyter-widgets/controls",
            "_model_module_version": "1.5.0",
            "_model_name": "FloatProgressModel",
            "_view_count": null,
            "_view_module": "@jupyter-widgets/controls",
            "_view_module_version": "1.5.0",
            "_view_name": "ProgressView",
            "bar_style": "success",
            "description": "",
            "description_tooltip": null,
            "layout": "IPY_MODEL_b6696206b02947a390f586302fdc695e",
            "max": 439803023,
            "min": 0,
            "orientation": "horizontal",
            "style": "IPY_MODEL_158d7d0db7e34d4da52012e9e95af398",
            "value": 439803023
          }
        },
        "31d6921a311d46d7a8ad11f1d3a78a38": {
          "model_module": "@jupyter-widgets/controls",
          "model_name": "HTMLModel",
          "model_module_version": "1.5.0",
          "state": {
            "_dom_classes": [],
            "_model_module": "@jupyter-widgets/controls",
            "_model_module_version": "1.5.0",
            "_model_name": "HTMLModel",
            "_view_count": null,
            "_view_module": "@jupyter-widgets/controls",
            "_view_module_version": "1.5.0",
            "_view_name": "HTMLView",
            "description": "",
            "description_tooltip": null,
            "layout": "IPY_MODEL_4bd3f76adaef48c885975dd4e56530cc",
            "placeholder": "​",
            "style": "IPY_MODEL_a126db05550846449717139bc763439d",
            "value": " 419M/419M [00:07&lt;00:00, 64.6MB/s]"
          }
        },
        "33b92bd1012a4a73bcd676a260ff55f0": {
          "model_module": "@jupyter-widgets/base",
          "model_name": "LayoutModel",
          "model_module_version": "1.2.0",
          "state": {
            "_model_module": "@jupyter-widgets/base",
            "_model_module_version": "1.2.0",
            "_model_name": "LayoutModel",
            "_view_count": null,
            "_view_module": "@jupyter-widgets/base",
            "_view_module_version": "1.2.0",
            "_view_name": "LayoutView",
            "align_content": null,
            "align_items": null,
            "align_self": null,
            "border": null,
            "bottom": null,
            "display": null,
            "flex": null,
            "flex_flow": null,
            "grid_area": null,
            "grid_auto_columns": null,
            "grid_auto_flow": null,
            "grid_auto_rows": null,
            "grid_column": null,
            "grid_gap": null,
            "grid_row": null,
            "grid_template_areas": null,
            "grid_template_columns": null,
            "grid_template_rows": null,
            "height": null,
            "justify_content": null,
            "justify_items": null,
            "left": null,
            "margin": null,
            "max_height": null,
            "max_width": null,
            "min_height": null,
            "min_width": null,
            "object_fit": null,
            "object_position": null,
            "order": null,
            "overflow": null,
            "overflow_x": null,
            "overflow_y": null,
            "padding": null,
            "right": null,
            "top": null,
            "visibility": null,
            "width": null
          }
        },
        "667c77544df344fe85c6882499ce6170": {
          "model_module": "@jupyter-widgets/base",
          "model_name": "LayoutModel",
          "model_module_version": "1.2.0",
          "state": {
            "_model_module": "@jupyter-widgets/base",
            "_model_module_version": "1.2.0",
            "_model_name": "LayoutModel",
            "_view_count": null,
            "_view_module": "@jupyter-widgets/base",
            "_view_module_version": "1.2.0",
            "_view_name": "LayoutView",
            "align_content": null,
            "align_items": null,
            "align_self": null,
            "border": null,
            "bottom": null,
            "display": null,
            "flex": null,
            "flex_flow": null,
            "grid_area": null,
            "grid_auto_columns": null,
            "grid_auto_flow": null,
            "grid_auto_rows": null,
            "grid_column": null,
            "grid_gap": null,
            "grid_row": null,
            "grid_template_areas": null,
            "grid_template_columns": null,
            "grid_template_rows": null,
            "height": null,
            "justify_content": null,
            "justify_items": null,
            "left": null,
            "margin": null,
            "max_height": null,
            "max_width": null,
            "min_height": null,
            "min_width": null,
            "object_fit": null,
            "object_position": null,
            "order": null,
            "overflow": null,
            "overflow_x": null,
            "overflow_y": null,
            "padding": null,
            "right": null,
            "top": null,
            "visibility": null,
            "width": null
          }
        },
        "86a534eb3c82425ea4811b36cae19bd2": {
          "model_module": "@jupyter-widgets/controls",
          "model_name": "DescriptionStyleModel",
          "model_module_version": "1.5.0",
          "state": {
            "_model_module": "@jupyter-widgets/controls",
            "_model_module_version": "1.5.0",
            "_model_name": "DescriptionStyleModel",
            "_view_count": null,
            "_view_module": "@jupyter-widgets/base",
            "_view_module_version": "1.2.0",
            "_view_name": "StyleView",
            "description_width": ""
          }
        },
        "b6696206b02947a390f586302fdc695e": {
          "model_module": "@jupyter-widgets/base",
          "model_name": "LayoutModel",
          "model_module_version": "1.2.0",
          "state": {
            "_model_module": "@jupyter-widgets/base",
            "_model_module_version": "1.2.0",
            "_model_name": "LayoutModel",
            "_view_count": null,
            "_view_module": "@jupyter-widgets/base",
            "_view_module_version": "1.2.0",
            "_view_name": "LayoutView",
            "align_content": null,
            "align_items": null,
            "align_self": null,
            "border": null,
            "bottom": null,
            "display": null,
            "flex": null,
            "flex_flow": null,
            "grid_area": null,
            "grid_auto_columns": null,
            "grid_auto_flow": null,
            "grid_auto_rows": null,
            "grid_column": null,
            "grid_gap": null,
            "grid_row": null,
            "grid_template_areas": null,
            "grid_template_columns": null,
            "grid_template_rows": null,
            "height": null,
            "justify_content": null,
            "justify_items": null,
            "left": null,
            "margin": null,
            "max_height": null,
            "max_width": null,
            "min_height": null,
            "min_width": null,
            "object_fit": null,
            "object_position": null,
            "order": null,
            "overflow": null,
            "overflow_x": null,
            "overflow_y": null,
            "padding": null,
            "right": null,
            "top": null,
            "visibility": null,
            "width": null
          }
        },
        "158d7d0db7e34d4da52012e9e95af398": {
          "model_module": "@jupyter-widgets/controls",
          "model_name": "ProgressStyleModel",
          "model_module_version": "1.5.0",
          "state": {
            "_model_module": "@jupyter-widgets/controls",
            "_model_module_version": "1.5.0",
            "_model_name": "ProgressStyleModel",
            "_view_count": null,
            "_view_module": "@jupyter-widgets/base",
            "_view_module_version": "1.2.0",
            "_view_name": "StyleView",
            "bar_color": null,
            "description_width": ""
          }
        },
        "4bd3f76adaef48c885975dd4e56530cc": {
          "model_module": "@jupyter-widgets/base",
          "model_name": "LayoutModel",
          "model_module_version": "1.2.0",
          "state": {
            "_model_module": "@jupyter-widgets/base",
            "_model_module_version": "1.2.0",
            "_model_name": "LayoutModel",
            "_view_count": null,
            "_view_module": "@jupyter-widgets/base",
            "_view_module_version": "1.2.0",
            "_view_name": "LayoutView",
            "align_content": null,
            "align_items": null,
            "align_self": null,
            "border": null,
            "bottom": null,
            "display": null,
            "flex": null,
            "flex_flow": null,
            "grid_area": null,
            "grid_auto_columns": null,
            "grid_auto_flow": null,
            "grid_auto_rows": null,
            "grid_column": null,
            "grid_gap": null,
            "grid_row": null,
            "grid_template_areas": null,
            "grid_template_columns": null,
            "grid_template_rows": null,
            "height": null,
            "justify_content": null,
            "justify_items": null,
            "left": null,
            "margin": null,
            "max_height": null,
            "max_width": null,
            "min_height": null,
            "min_width": null,
            "object_fit": null,
            "object_position": null,
            "order": null,
            "overflow": null,
            "overflow_x": null,
            "overflow_y": null,
            "padding": null,
            "right": null,
            "top": null,
            "visibility": null,
            "width": null
          }
        },
        "a126db05550846449717139bc763439d": {
          "model_module": "@jupyter-widgets/controls",
          "model_name": "DescriptionStyleModel",
          "model_module_version": "1.5.0",
          "state": {
            "_model_module": "@jupyter-widgets/controls",
            "_model_module_version": "1.5.0",
            "_model_name": "DescriptionStyleModel",
            "_view_count": null,
            "_view_module": "@jupyter-widgets/base",
            "_view_module_version": "1.2.0",
            "_view_name": "StyleView",
            "description_width": ""
          }
        },
        "0110f1cd79ec4045b2eef0e7540556bc": {
          "model_module": "@jupyter-widgets/controls",
          "model_name": "HBoxModel",
          "model_module_version": "1.5.0",
          "state": {
            "_dom_classes": [],
            "_model_module": "@jupyter-widgets/controls",
            "_model_module_version": "1.5.0",
            "_model_name": "HBoxModel",
            "_view_count": null,
            "_view_module": "@jupyter-widgets/controls",
            "_view_module_version": "1.5.0",
            "_view_name": "HBoxView",
            "box_style": "",
            "children": [
              "IPY_MODEL_2e454d72888e4e959070f9330eb846da",
              "IPY_MODEL_4435e3bb8d254a9c8551b669d109da34",
              "IPY_MODEL_55f6520ba784450f9276b517d3f44bc6"
            ],
            "layout": "IPY_MODEL_78820e7847b34c1fa3fab207bcb80c7c"
          }
        },
        "2e454d72888e4e959070f9330eb846da": {
          "model_module": "@jupyter-widgets/controls",
          "model_name": "HTMLModel",
          "model_module_version": "1.5.0",
          "state": {
            "_dom_classes": [],
            "_model_module": "@jupyter-widgets/controls",
            "_model_module_version": "1.5.0",
            "_model_name": "HTMLModel",
            "_view_count": null,
            "_view_module": "@jupyter-widgets/controls",
            "_view_module_version": "1.5.0",
            "_view_name": "HTMLView",
            "description": "",
            "description_tooltip": null,
            "layout": "IPY_MODEL_1cce7608e098465c8733d839fa7ea080",
            "placeholder": "​",
            "style": "IPY_MODEL_f18219c3593a4717a8b9a6bea7ec6474",
            "value": "Downloading: 100%"
          }
        },
        "4435e3bb8d254a9c8551b669d109da34": {
          "model_module": "@jupyter-widgets/controls",
          "model_name": "FloatProgressModel",
          "model_module_version": "1.5.0",
          "state": {
            "_dom_classes": [],
            "_model_module": "@jupyter-widgets/controls",
            "_model_module_version": "1.5.0",
            "_model_name": "FloatProgressModel",
            "_view_count": null,
            "_view_module": "@jupyter-widgets/controls",
            "_view_module_version": "1.5.0",
            "_view_name": "ProgressView",
            "bar_style": "success",
            "description": "",
            "description_tooltip": null,
            "layout": "IPY_MODEL_4cc9c22fa5314d38aad8fa3d26945f71",
            "max": 898823,
            "min": 0,
            "orientation": "horizontal",
            "style": "IPY_MODEL_438846c4ed814c419479e3850f8726a5",
            "value": 898823
          }
        },
        "55f6520ba784450f9276b517d3f44bc6": {
          "model_module": "@jupyter-widgets/controls",
          "model_name": "HTMLModel",
          "model_module_version": "1.5.0",
          "state": {
            "_dom_classes": [],
            "_model_module": "@jupyter-widgets/controls",
            "_model_module_version": "1.5.0",
            "_model_name": "HTMLModel",
            "_view_count": null,
            "_view_module": "@jupyter-widgets/controls",
            "_view_module_version": "1.5.0",
            "_view_name": "HTMLView",
            "description": "",
            "description_tooltip": null,
            "layout": "IPY_MODEL_0cb112ddc12e403bbb00d2fd8d4da370",
            "placeholder": "​",
            "style": "IPY_MODEL_d6872b3c51384d95af575ddb7fde43a2",
            "value": " 878k/878k [00:00&lt;00:00, 2.05MB/s]"
          }
        },
        "78820e7847b34c1fa3fab207bcb80c7c": {
          "model_module": "@jupyter-widgets/base",
          "model_name": "LayoutModel",
          "model_module_version": "1.2.0",
          "state": {
            "_model_module": "@jupyter-widgets/base",
            "_model_module_version": "1.2.0",
            "_model_name": "LayoutModel",
            "_view_count": null,
            "_view_module": "@jupyter-widgets/base",
            "_view_module_version": "1.2.0",
            "_view_name": "LayoutView",
            "align_content": null,
            "align_items": null,
            "align_self": null,
            "border": null,
            "bottom": null,
            "display": null,
            "flex": null,
            "flex_flow": null,
            "grid_area": null,
            "grid_auto_columns": null,
            "grid_auto_flow": null,
            "grid_auto_rows": null,
            "grid_column": null,
            "grid_gap": null,
            "grid_row": null,
            "grid_template_areas": null,
            "grid_template_columns": null,
            "grid_template_rows": null,
            "height": null,
            "justify_content": null,
            "justify_items": null,
            "left": null,
            "margin": null,
            "max_height": null,
            "max_width": null,
            "min_height": null,
            "min_width": null,
            "object_fit": null,
            "object_position": null,
            "order": null,
            "overflow": null,
            "overflow_x": null,
            "overflow_y": null,
            "padding": null,
            "right": null,
            "top": null,
            "visibility": null,
            "width": null
          }
        },
        "1cce7608e098465c8733d839fa7ea080": {
          "model_module": "@jupyter-widgets/base",
          "model_name": "LayoutModel",
          "model_module_version": "1.2.0",
          "state": {
            "_model_module": "@jupyter-widgets/base",
            "_model_module_version": "1.2.0",
            "_model_name": "LayoutModel",
            "_view_count": null,
            "_view_module": "@jupyter-widgets/base",
            "_view_module_version": "1.2.0",
            "_view_name": "LayoutView",
            "align_content": null,
            "align_items": null,
            "align_self": null,
            "border": null,
            "bottom": null,
            "display": null,
            "flex": null,
            "flex_flow": null,
            "grid_area": null,
            "grid_auto_columns": null,
            "grid_auto_flow": null,
            "grid_auto_rows": null,
            "grid_column": null,
            "grid_gap": null,
            "grid_row": null,
            "grid_template_areas": null,
            "grid_template_columns": null,
            "grid_template_rows": null,
            "height": null,
            "justify_content": null,
            "justify_items": null,
            "left": null,
            "margin": null,
            "max_height": null,
            "max_width": null,
            "min_height": null,
            "min_width": null,
            "object_fit": null,
            "object_position": null,
            "order": null,
            "overflow": null,
            "overflow_x": null,
            "overflow_y": null,
            "padding": null,
            "right": null,
            "top": null,
            "visibility": null,
            "width": null
          }
        },
        "f18219c3593a4717a8b9a6bea7ec6474": {
          "model_module": "@jupyter-widgets/controls",
          "model_name": "DescriptionStyleModel",
          "model_module_version": "1.5.0",
          "state": {
            "_model_module": "@jupyter-widgets/controls",
            "_model_module_version": "1.5.0",
            "_model_name": "DescriptionStyleModel",
            "_view_count": null,
            "_view_module": "@jupyter-widgets/base",
            "_view_module_version": "1.2.0",
            "_view_name": "StyleView",
            "description_width": ""
          }
        },
        "4cc9c22fa5314d38aad8fa3d26945f71": {
          "model_module": "@jupyter-widgets/base",
          "model_name": "LayoutModel",
          "model_module_version": "1.2.0",
          "state": {
            "_model_module": "@jupyter-widgets/base",
            "_model_module_version": "1.2.0",
            "_model_name": "LayoutModel",
            "_view_count": null,
            "_view_module": "@jupyter-widgets/base",
            "_view_module_version": "1.2.0",
            "_view_name": "LayoutView",
            "align_content": null,
            "align_items": null,
            "align_self": null,
            "border": null,
            "bottom": null,
            "display": null,
            "flex": null,
            "flex_flow": null,
            "grid_area": null,
            "grid_auto_columns": null,
            "grid_auto_flow": null,
            "grid_auto_rows": null,
            "grid_column": null,
            "grid_gap": null,
            "grid_row": null,
            "grid_template_areas": null,
            "grid_template_columns": null,
            "grid_template_rows": null,
            "height": null,
            "justify_content": null,
            "justify_items": null,
            "left": null,
            "margin": null,
            "max_height": null,
            "max_width": null,
            "min_height": null,
            "min_width": null,
            "object_fit": null,
            "object_position": null,
            "order": null,
            "overflow": null,
            "overflow_x": null,
            "overflow_y": null,
            "padding": null,
            "right": null,
            "top": null,
            "visibility": null,
            "width": null
          }
        },
        "438846c4ed814c419479e3850f8726a5": {
          "model_module": "@jupyter-widgets/controls",
          "model_name": "ProgressStyleModel",
          "model_module_version": "1.5.0",
          "state": {
            "_model_module": "@jupyter-widgets/controls",
            "_model_module_version": "1.5.0",
            "_model_name": "ProgressStyleModel",
            "_view_count": null,
            "_view_module": "@jupyter-widgets/base",
            "_view_module_version": "1.2.0",
            "_view_name": "StyleView",
            "bar_color": null,
            "description_width": ""
          }
        },
        "0cb112ddc12e403bbb00d2fd8d4da370": {
          "model_module": "@jupyter-widgets/base",
          "model_name": "LayoutModel",
          "model_module_version": "1.2.0",
          "state": {
            "_model_module": "@jupyter-widgets/base",
            "_model_module_version": "1.2.0",
            "_model_name": "LayoutModel",
            "_view_count": null,
            "_view_module": "@jupyter-widgets/base",
            "_view_module_version": "1.2.0",
            "_view_name": "LayoutView",
            "align_content": null,
            "align_items": null,
            "align_self": null,
            "border": null,
            "bottom": null,
            "display": null,
            "flex": null,
            "flex_flow": null,
            "grid_area": null,
            "grid_auto_columns": null,
            "grid_auto_flow": null,
            "grid_auto_rows": null,
            "grid_column": null,
            "grid_gap": null,
            "grid_row": null,
            "grid_template_areas": null,
            "grid_template_columns": null,
            "grid_template_rows": null,
            "height": null,
            "justify_content": null,
            "justify_items": null,
            "left": null,
            "margin": null,
            "max_height": null,
            "max_width": null,
            "min_height": null,
            "min_width": null,
            "object_fit": null,
            "object_position": null,
            "order": null,
            "overflow": null,
            "overflow_x": null,
            "overflow_y": null,
            "padding": null,
            "right": null,
            "top": null,
            "visibility": null,
            "width": null
          }
        },
        "d6872b3c51384d95af575ddb7fde43a2": {
          "model_module": "@jupyter-widgets/controls",
          "model_name": "DescriptionStyleModel",
          "model_module_version": "1.5.0",
          "state": {
            "_model_module": "@jupyter-widgets/controls",
            "_model_module_version": "1.5.0",
            "_model_name": "DescriptionStyleModel",
            "_view_count": null,
            "_view_module": "@jupyter-widgets/base",
            "_view_module_version": "1.2.0",
            "_view_name": "StyleView",
            "description_width": ""
          }
        },
        "781d468a14824292ad80959c776535b1": {
          "model_module": "@jupyter-widgets/controls",
          "model_name": "HBoxModel",
          "model_module_version": "1.5.0",
          "state": {
            "_dom_classes": [],
            "_model_module": "@jupyter-widgets/controls",
            "_model_module_version": "1.5.0",
            "_model_name": "HBoxModel",
            "_view_count": null,
            "_view_module": "@jupyter-widgets/controls",
            "_view_module_version": "1.5.0",
            "_view_name": "HBoxView",
            "box_style": "",
            "children": [
              "IPY_MODEL_934a3f4633eb4634916a1083577ffe4f",
              "IPY_MODEL_01ae4ba53e0d46dfb8df35a1e3c29b36",
              "IPY_MODEL_7a33b5254cc6403e8ec46cf63ab8dd1f"
            ],
            "layout": "IPY_MODEL_daa9f84d76ce4eae8a670d37bf2aee42"
          }
        },
        "934a3f4633eb4634916a1083577ffe4f": {
          "model_module": "@jupyter-widgets/controls",
          "model_name": "HTMLModel",
          "model_module_version": "1.5.0",
          "state": {
            "_dom_classes": [],
            "_model_module": "@jupyter-widgets/controls",
            "_model_module_version": "1.5.0",
            "_model_name": "HTMLModel",
            "_view_count": null,
            "_view_module": "@jupyter-widgets/controls",
            "_view_module_version": "1.5.0",
            "_view_name": "HTMLView",
            "description": "",
            "description_tooltip": null,
            "layout": "IPY_MODEL_3fb83a8e2b6c461fa2cd20be311f187e",
            "placeholder": "​",
            "style": "IPY_MODEL_a171db893ef54948ada0056ee2e250c4",
            "value": "Downloading: 100%"
          }
        },
        "01ae4ba53e0d46dfb8df35a1e3c29b36": {
          "model_module": "@jupyter-widgets/controls",
          "model_name": "FloatProgressModel",
          "model_module_version": "1.5.0",
          "state": {
            "_dom_classes": [],
            "_model_module": "@jupyter-widgets/controls",
            "_model_module_version": "1.5.0",
            "_model_name": "FloatProgressModel",
            "_view_count": null,
            "_view_module": "@jupyter-widgets/controls",
            "_view_module_version": "1.5.0",
            "_view_name": "ProgressView",
            "bar_style": "success",
            "description": "",
            "description_tooltip": null,
            "layout": "IPY_MODEL_4f0d148eab88400a8693682e1b932717",
            "max": 456318,
            "min": 0,
            "orientation": "horizontal",
            "style": "IPY_MODEL_a34161f380a94fefb7618e4121514ba7",
            "value": 456318
          }
        },
        "7a33b5254cc6403e8ec46cf63ab8dd1f": {
          "model_module": "@jupyter-widgets/controls",
          "model_name": "HTMLModel",
          "model_module_version": "1.5.0",
          "state": {
            "_dom_classes": [],
            "_model_module": "@jupyter-widgets/controls",
            "_model_module_version": "1.5.0",
            "_model_name": "HTMLModel",
            "_view_count": null,
            "_view_module": "@jupyter-widgets/controls",
            "_view_module_version": "1.5.0",
            "_view_name": "HTMLView",
            "description": "",
            "description_tooltip": null,
            "layout": "IPY_MODEL_647763f4238e40d6974e9286f0c01e7b",
            "placeholder": "​",
            "style": "IPY_MODEL_a9b556219f654d5789083b8501bf4feb",
            "value": " 446k/446k [00:00&lt;00:00, 617kB/s]"
          }
        },
        "daa9f84d76ce4eae8a670d37bf2aee42": {
          "model_module": "@jupyter-widgets/base",
          "model_name": "LayoutModel",
          "model_module_version": "1.2.0",
          "state": {
            "_model_module": "@jupyter-widgets/base",
            "_model_module_version": "1.2.0",
            "_model_name": "LayoutModel",
            "_view_count": null,
            "_view_module": "@jupyter-widgets/base",
            "_view_module_version": "1.2.0",
            "_view_name": "LayoutView",
            "align_content": null,
            "align_items": null,
            "align_self": null,
            "border": null,
            "bottom": null,
            "display": null,
            "flex": null,
            "flex_flow": null,
            "grid_area": null,
            "grid_auto_columns": null,
            "grid_auto_flow": null,
            "grid_auto_rows": null,
            "grid_column": null,
            "grid_gap": null,
            "grid_row": null,
            "grid_template_areas": null,
            "grid_template_columns": null,
            "grid_template_rows": null,
            "height": null,
            "justify_content": null,
            "justify_items": null,
            "left": null,
            "margin": null,
            "max_height": null,
            "max_width": null,
            "min_height": null,
            "min_width": null,
            "object_fit": null,
            "object_position": null,
            "order": null,
            "overflow": null,
            "overflow_x": null,
            "overflow_y": null,
            "padding": null,
            "right": null,
            "top": null,
            "visibility": null,
            "width": null
          }
        },
        "3fb83a8e2b6c461fa2cd20be311f187e": {
          "model_module": "@jupyter-widgets/base",
          "model_name": "LayoutModel",
          "model_module_version": "1.2.0",
          "state": {
            "_model_module": "@jupyter-widgets/base",
            "_model_module_version": "1.2.0",
            "_model_name": "LayoutModel",
            "_view_count": null,
            "_view_module": "@jupyter-widgets/base",
            "_view_module_version": "1.2.0",
            "_view_name": "LayoutView",
            "align_content": null,
            "align_items": null,
            "align_self": null,
            "border": null,
            "bottom": null,
            "display": null,
            "flex": null,
            "flex_flow": null,
            "grid_area": null,
            "grid_auto_columns": null,
            "grid_auto_flow": null,
            "grid_auto_rows": null,
            "grid_column": null,
            "grid_gap": null,
            "grid_row": null,
            "grid_template_areas": null,
            "grid_template_columns": null,
            "grid_template_rows": null,
            "height": null,
            "justify_content": null,
            "justify_items": null,
            "left": null,
            "margin": null,
            "max_height": null,
            "max_width": null,
            "min_height": null,
            "min_width": null,
            "object_fit": null,
            "object_position": null,
            "order": null,
            "overflow": null,
            "overflow_x": null,
            "overflow_y": null,
            "padding": null,
            "right": null,
            "top": null,
            "visibility": null,
            "width": null
          }
        },
        "a171db893ef54948ada0056ee2e250c4": {
          "model_module": "@jupyter-widgets/controls",
          "model_name": "DescriptionStyleModel",
          "model_module_version": "1.5.0",
          "state": {
            "_model_module": "@jupyter-widgets/controls",
            "_model_module_version": "1.5.0",
            "_model_name": "DescriptionStyleModel",
            "_view_count": null,
            "_view_module": "@jupyter-widgets/base",
            "_view_module_version": "1.2.0",
            "_view_name": "StyleView",
            "description_width": ""
          }
        },
        "4f0d148eab88400a8693682e1b932717": {
          "model_module": "@jupyter-widgets/base",
          "model_name": "LayoutModel",
          "model_module_version": "1.2.0",
          "state": {
            "_model_module": "@jupyter-widgets/base",
            "_model_module_version": "1.2.0",
            "_model_name": "LayoutModel",
            "_view_count": null,
            "_view_module": "@jupyter-widgets/base",
            "_view_module_version": "1.2.0",
            "_view_name": "LayoutView",
            "align_content": null,
            "align_items": null,
            "align_self": null,
            "border": null,
            "bottom": null,
            "display": null,
            "flex": null,
            "flex_flow": null,
            "grid_area": null,
            "grid_auto_columns": null,
            "grid_auto_flow": null,
            "grid_auto_rows": null,
            "grid_column": null,
            "grid_gap": null,
            "grid_row": null,
            "grid_template_areas": null,
            "grid_template_columns": null,
            "grid_template_rows": null,
            "height": null,
            "justify_content": null,
            "justify_items": null,
            "left": null,
            "margin": null,
            "max_height": null,
            "max_width": null,
            "min_height": null,
            "min_width": null,
            "object_fit": null,
            "object_position": null,
            "order": null,
            "overflow": null,
            "overflow_x": null,
            "overflow_y": null,
            "padding": null,
            "right": null,
            "top": null,
            "visibility": null,
            "width": null
          }
        },
        "a34161f380a94fefb7618e4121514ba7": {
          "model_module": "@jupyter-widgets/controls",
          "model_name": "ProgressStyleModel",
          "model_module_version": "1.5.0",
          "state": {
            "_model_module": "@jupyter-widgets/controls",
            "_model_module_version": "1.5.0",
            "_model_name": "ProgressStyleModel",
            "_view_count": null,
            "_view_module": "@jupyter-widgets/base",
            "_view_module_version": "1.2.0",
            "_view_name": "StyleView",
            "bar_color": null,
            "description_width": ""
          }
        },
        "647763f4238e40d6974e9286f0c01e7b": {
          "model_module": "@jupyter-widgets/base",
          "model_name": "LayoutModel",
          "model_module_version": "1.2.0",
          "state": {
            "_model_module": "@jupyter-widgets/base",
            "_model_module_version": "1.2.0",
            "_model_name": "LayoutModel",
            "_view_count": null,
            "_view_module": "@jupyter-widgets/base",
            "_view_module_version": "1.2.0",
            "_view_name": "LayoutView",
            "align_content": null,
            "align_items": null,
            "align_self": null,
            "border": null,
            "bottom": null,
            "display": null,
            "flex": null,
            "flex_flow": null,
            "grid_area": null,
            "grid_auto_columns": null,
            "grid_auto_flow": null,
            "grid_auto_rows": null,
            "grid_column": null,
            "grid_gap": null,
            "grid_row": null,
            "grid_template_areas": null,
            "grid_template_columns": null,
            "grid_template_rows": null,
            "height": null,
            "justify_content": null,
            "justify_items": null,
            "left": null,
            "margin": null,
            "max_height": null,
            "max_width": null,
            "min_height": null,
            "min_width": null,
            "object_fit": null,
            "object_position": null,
            "order": null,
            "overflow": null,
            "overflow_x": null,
            "overflow_y": null,
            "padding": null,
            "right": null,
            "top": null,
            "visibility": null,
            "width": null
          }
        },
        "a9b556219f654d5789083b8501bf4feb": {
          "model_module": "@jupyter-widgets/controls",
          "model_name": "DescriptionStyleModel",
          "model_module_version": "1.5.0",
          "state": {
            "_model_module": "@jupyter-widgets/controls",
            "_model_module_version": "1.5.0",
            "_model_name": "DescriptionStyleModel",
            "_view_count": null,
            "_view_module": "@jupyter-widgets/base",
            "_view_module_version": "1.2.0",
            "_view_name": "StyleView",
            "description_width": ""
          }
        },
        "7e5b5a7006664131aad09b49e42e83eb": {
          "model_module": "@jupyter-widgets/controls",
          "model_name": "HBoxModel",
          "model_module_version": "1.5.0",
          "state": {
            "_dom_classes": [],
            "_model_module": "@jupyter-widgets/controls",
            "_model_module_version": "1.5.0",
            "_model_name": "HBoxModel",
            "_view_count": null,
            "_view_module": "@jupyter-widgets/controls",
            "_view_module_version": "1.5.0",
            "_view_name": "HBoxView",
            "box_style": "",
            "children": [
              "IPY_MODEL_d755257f03fb4ce4a7565284dda015bc",
              "IPY_MODEL_7516b9893a7645a4b6e09f26442d6126",
              "IPY_MODEL_86cb645d8a114a56a7e83f0f41991eca"
            ],
            "layout": "IPY_MODEL_e7473c77e794446ba551cf79039fb3c2"
          }
        },
        "d755257f03fb4ce4a7565284dda015bc": {
          "model_module": "@jupyter-widgets/controls",
          "model_name": "HTMLModel",
          "model_module_version": "1.5.0",
          "state": {
            "_dom_classes": [],
            "_model_module": "@jupyter-widgets/controls",
            "_model_module_version": "1.5.0",
            "_model_name": "HTMLModel",
            "_view_count": null,
            "_view_module": "@jupyter-widgets/controls",
            "_view_module_version": "1.5.0",
            "_view_name": "HTMLView",
            "description": "",
            "description_tooltip": null,
            "layout": "IPY_MODEL_5ed7b2b0d1dc46b582d06ce6d8dfe693",
            "placeholder": "​",
            "style": "IPY_MODEL_0784f1bc8d9b491495c002b450bb1685",
            "value": "Downloading: 100%"
          }
        },
        "7516b9893a7645a4b6e09f26442d6126": {
          "model_module": "@jupyter-widgets/controls",
          "model_name": "FloatProgressModel",
          "model_module_version": "1.5.0",
          "state": {
            "_dom_classes": [],
            "_model_module": "@jupyter-widgets/controls",
            "_model_module_version": "1.5.0",
            "_model_name": "FloatProgressModel",
            "_view_count": null,
            "_view_module": "@jupyter-widgets/controls",
            "_view_module_version": "1.5.0",
            "_view_name": "ProgressView",
            "bar_style": "success",
            "description": "",
            "description_tooltip": null,
            "layout": "IPY_MODEL_0132c6a2341b4394b0f9c791a4d912ed",
            "max": 1355863,
            "min": 0,
            "orientation": "horizontal",
            "style": "IPY_MODEL_d3c06952cd4446628a65d764fb3a493d",
            "value": 1355863
          }
        },
        "86cb645d8a114a56a7e83f0f41991eca": {
          "model_module": "@jupyter-widgets/controls",
          "model_name": "HTMLModel",
          "model_module_version": "1.5.0",
          "state": {
            "_dom_classes": [],
            "_model_module": "@jupyter-widgets/controls",
            "_model_module_version": "1.5.0",
            "_model_name": "HTMLModel",
            "_view_count": null,
            "_view_module": "@jupyter-widgets/controls",
            "_view_module_version": "1.5.0",
            "_view_name": "HTMLView",
            "description": "",
            "description_tooltip": null,
            "layout": "IPY_MODEL_c83f37256e0a496fb5a7478613255a96",
            "placeholder": "​",
            "style": "IPY_MODEL_ba13be02f0e94b50bdf62fc566f684b4",
            "value": " 1.29M/1.29M [00:00&lt;00:00, 1.20MB/s]"
          }
        },
        "e7473c77e794446ba551cf79039fb3c2": {
          "model_module": "@jupyter-widgets/base",
          "model_name": "LayoutModel",
          "model_module_version": "1.2.0",
          "state": {
            "_model_module": "@jupyter-widgets/base",
            "_model_module_version": "1.2.0",
            "_model_name": "LayoutModel",
            "_view_count": null,
            "_view_module": "@jupyter-widgets/base",
            "_view_module_version": "1.2.0",
            "_view_name": "LayoutView",
            "align_content": null,
            "align_items": null,
            "align_self": null,
            "border": null,
            "bottom": null,
            "display": null,
            "flex": null,
            "flex_flow": null,
            "grid_area": null,
            "grid_auto_columns": null,
            "grid_auto_flow": null,
            "grid_auto_rows": null,
            "grid_column": null,
            "grid_gap": null,
            "grid_row": null,
            "grid_template_areas": null,
            "grid_template_columns": null,
            "grid_template_rows": null,
            "height": null,
            "justify_content": null,
            "justify_items": null,
            "left": null,
            "margin": null,
            "max_height": null,
            "max_width": null,
            "min_height": null,
            "min_width": null,
            "object_fit": null,
            "object_position": null,
            "order": null,
            "overflow": null,
            "overflow_x": null,
            "overflow_y": null,
            "padding": null,
            "right": null,
            "top": null,
            "visibility": null,
            "width": null
          }
        },
        "5ed7b2b0d1dc46b582d06ce6d8dfe693": {
          "model_module": "@jupyter-widgets/base",
          "model_name": "LayoutModel",
          "model_module_version": "1.2.0",
          "state": {
            "_model_module": "@jupyter-widgets/base",
            "_model_module_version": "1.2.0",
            "_model_name": "LayoutModel",
            "_view_count": null,
            "_view_module": "@jupyter-widgets/base",
            "_view_module_version": "1.2.0",
            "_view_name": "LayoutView",
            "align_content": null,
            "align_items": null,
            "align_self": null,
            "border": null,
            "bottom": null,
            "display": null,
            "flex": null,
            "flex_flow": null,
            "grid_area": null,
            "grid_auto_columns": null,
            "grid_auto_flow": null,
            "grid_auto_rows": null,
            "grid_column": null,
            "grid_gap": null,
            "grid_row": null,
            "grid_template_areas": null,
            "grid_template_columns": null,
            "grid_template_rows": null,
            "height": null,
            "justify_content": null,
            "justify_items": null,
            "left": null,
            "margin": null,
            "max_height": null,
            "max_width": null,
            "min_height": null,
            "min_width": null,
            "object_fit": null,
            "object_position": null,
            "order": null,
            "overflow": null,
            "overflow_x": null,
            "overflow_y": null,
            "padding": null,
            "right": null,
            "top": null,
            "visibility": null,
            "width": null
          }
        },
        "0784f1bc8d9b491495c002b450bb1685": {
          "model_module": "@jupyter-widgets/controls",
          "model_name": "DescriptionStyleModel",
          "model_module_version": "1.5.0",
          "state": {
            "_model_module": "@jupyter-widgets/controls",
            "_model_module_version": "1.5.0",
            "_model_name": "DescriptionStyleModel",
            "_view_count": null,
            "_view_module": "@jupyter-widgets/base",
            "_view_module_version": "1.2.0",
            "_view_name": "StyleView",
            "description_width": ""
          }
        },
        "0132c6a2341b4394b0f9c791a4d912ed": {
          "model_module": "@jupyter-widgets/base",
          "model_name": "LayoutModel",
          "model_module_version": "1.2.0",
          "state": {
            "_model_module": "@jupyter-widgets/base",
            "_model_module_version": "1.2.0",
            "_model_name": "LayoutModel",
            "_view_count": null,
            "_view_module": "@jupyter-widgets/base",
            "_view_module_version": "1.2.0",
            "_view_name": "LayoutView",
            "align_content": null,
            "align_items": null,
            "align_self": null,
            "border": null,
            "bottom": null,
            "display": null,
            "flex": null,
            "flex_flow": null,
            "grid_area": null,
            "grid_auto_columns": null,
            "grid_auto_flow": null,
            "grid_auto_rows": null,
            "grid_column": null,
            "grid_gap": null,
            "grid_row": null,
            "grid_template_areas": null,
            "grid_template_columns": null,
            "grid_template_rows": null,
            "height": null,
            "justify_content": null,
            "justify_items": null,
            "left": null,
            "margin": null,
            "max_height": null,
            "max_width": null,
            "min_height": null,
            "min_width": null,
            "object_fit": null,
            "object_position": null,
            "order": null,
            "overflow": null,
            "overflow_x": null,
            "overflow_y": null,
            "padding": null,
            "right": null,
            "top": null,
            "visibility": null,
            "width": null
          }
        },
        "d3c06952cd4446628a65d764fb3a493d": {
          "model_module": "@jupyter-widgets/controls",
          "model_name": "ProgressStyleModel",
          "model_module_version": "1.5.0",
          "state": {
            "_model_module": "@jupyter-widgets/controls",
            "_model_module_version": "1.5.0",
            "_model_name": "ProgressStyleModel",
            "_view_count": null,
            "_view_module": "@jupyter-widgets/base",
            "_view_module_version": "1.2.0",
            "_view_name": "StyleView",
            "bar_color": null,
            "description_width": ""
          }
        },
        "c83f37256e0a496fb5a7478613255a96": {
          "model_module": "@jupyter-widgets/base",
          "model_name": "LayoutModel",
          "model_module_version": "1.2.0",
          "state": {
            "_model_module": "@jupyter-widgets/base",
            "_model_module_version": "1.2.0",
            "_model_name": "LayoutModel",
            "_view_count": null,
            "_view_module": "@jupyter-widgets/base",
            "_view_module_version": "1.2.0",
            "_view_name": "LayoutView",
            "align_content": null,
            "align_items": null,
            "align_self": null,
            "border": null,
            "bottom": null,
            "display": null,
            "flex": null,
            "flex_flow": null,
            "grid_area": null,
            "grid_auto_columns": null,
            "grid_auto_flow": null,
            "grid_auto_rows": null,
            "grid_column": null,
            "grid_gap": null,
            "grid_row": null,
            "grid_template_areas": null,
            "grid_template_columns": null,
            "grid_template_rows": null,
            "height": null,
            "justify_content": null,
            "justify_items": null,
            "left": null,
            "margin": null,
            "max_height": null,
            "max_width": null,
            "min_height": null,
            "min_width": null,
            "object_fit": null,
            "object_position": null,
            "order": null,
            "overflow": null,
            "overflow_x": null,
            "overflow_y": null,
            "padding": null,
            "right": null,
            "top": null,
            "visibility": null,
            "width": null
          }
        },
        "ba13be02f0e94b50bdf62fc566f684b4": {
          "model_module": "@jupyter-widgets/controls",
          "model_name": "DescriptionStyleModel",
          "model_module_version": "1.5.0",
          "state": {
            "_model_module": "@jupyter-widgets/controls",
            "_model_module_version": "1.5.0",
            "_model_name": "DescriptionStyleModel",
            "_view_count": null,
            "_view_module": "@jupyter-widgets/base",
            "_view_module_version": "1.2.0",
            "_view_name": "StyleView",
            "description_width": ""
          }
        },
        "65834c8ae72145498415051bd906ee32": {
          "model_module": "@jupyter-widgets/controls",
          "model_name": "HBoxModel",
          "model_module_version": "1.5.0",
          "state": {
            "_dom_classes": [],
            "_model_module": "@jupyter-widgets/controls",
            "_model_module_version": "1.5.0",
            "_model_name": "HBoxModel",
            "_view_count": null,
            "_view_module": "@jupyter-widgets/controls",
            "_view_module_version": "1.5.0",
            "_view_name": "HBoxView",
            "box_style": "",
            "children": [
              "IPY_MODEL_3b6f7748d10b4602a1f447b2e56f20cb",
              "IPY_MODEL_50a33fd73f2a4b61bb6cb60c0670e3a4",
              "IPY_MODEL_cd94475f126a406fa7d69a5944cdab1b"
            ],
            "layout": "IPY_MODEL_03e1d2c9c9094e77a0c90f7b8400fea7"
          }
        },
        "3b6f7748d10b4602a1f447b2e56f20cb": {
          "model_module": "@jupyter-widgets/controls",
          "model_name": "HTMLModel",
          "model_module_version": "1.5.0",
          "state": {
            "_dom_classes": [],
            "_model_module": "@jupyter-widgets/controls",
            "_model_module_version": "1.5.0",
            "_model_name": "HTMLModel",
            "_view_count": null,
            "_view_module": "@jupyter-widgets/controls",
            "_view_module_version": "1.5.0",
            "_view_name": "HTMLView",
            "description": "",
            "description_tooltip": null,
            "layout": "IPY_MODEL_17e974a8735b45f49b0b019b9450c455",
            "placeholder": "​",
            "style": "IPY_MODEL_5672638529284c2783f6c0e72b02366c",
            "value": "Downloading: 100%"
          }
        },
        "50a33fd73f2a4b61bb6cb60c0670e3a4": {
          "model_module": "@jupyter-widgets/controls",
          "model_name": "FloatProgressModel",
          "model_module_version": "1.5.0",
          "state": {
            "_dom_classes": [],
            "_model_module": "@jupyter-widgets/controls",
            "_model_module_version": "1.5.0",
            "_model_name": "FloatProgressModel",
            "_view_count": null,
            "_view_module": "@jupyter-widgets/controls",
            "_view_module_version": "1.5.0",
            "_view_name": "ProgressView",
            "bar_style": "success",
            "description": "",
            "description_tooltip": null,
            "layout": "IPY_MODEL_5e60a84b8f744ea99c738ad38017199d",
            "max": 481,
            "min": 0,
            "orientation": "horizontal",
            "style": "IPY_MODEL_db9b98f0f9c7492cab05cae0359bd7c4",
            "value": 481
          }
        },
        "cd94475f126a406fa7d69a5944cdab1b": {
          "model_module": "@jupyter-widgets/controls",
          "model_name": "HTMLModel",
          "model_module_version": "1.5.0",
          "state": {
            "_dom_classes": [],
            "_model_module": "@jupyter-widgets/controls",
            "_model_module_version": "1.5.0",
            "_model_name": "HTMLModel",
            "_view_count": null,
            "_view_module": "@jupyter-widgets/controls",
            "_view_module_version": "1.5.0",
            "_view_name": "HTMLView",
            "description": "",
            "description_tooltip": null,
            "layout": "IPY_MODEL_0652ca9cb0e145828a515e80ac31dd09",
            "placeholder": "​",
            "style": "IPY_MODEL_47b62cf170384177a85b49cdcc740007",
            "value": " 481/481 [00:00&lt;00:00, 16.3kB/s]"
          }
        },
        "03e1d2c9c9094e77a0c90f7b8400fea7": {
          "model_module": "@jupyter-widgets/base",
          "model_name": "LayoutModel",
          "model_module_version": "1.2.0",
          "state": {
            "_model_module": "@jupyter-widgets/base",
            "_model_module_version": "1.2.0",
            "_model_name": "LayoutModel",
            "_view_count": null,
            "_view_module": "@jupyter-widgets/base",
            "_view_module_version": "1.2.0",
            "_view_name": "LayoutView",
            "align_content": null,
            "align_items": null,
            "align_self": null,
            "border": null,
            "bottom": null,
            "display": null,
            "flex": null,
            "flex_flow": null,
            "grid_area": null,
            "grid_auto_columns": null,
            "grid_auto_flow": null,
            "grid_auto_rows": null,
            "grid_column": null,
            "grid_gap": null,
            "grid_row": null,
            "grid_template_areas": null,
            "grid_template_columns": null,
            "grid_template_rows": null,
            "height": null,
            "justify_content": null,
            "justify_items": null,
            "left": null,
            "margin": null,
            "max_height": null,
            "max_width": null,
            "min_height": null,
            "min_width": null,
            "object_fit": null,
            "object_position": null,
            "order": null,
            "overflow": null,
            "overflow_x": null,
            "overflow_y": null,
            "padding": null,
            "right": null,
            "top": null,
            "visibility": null,
            "width": null
          }
        },
        "17e974a8735b45f49b0b019b9450c455": {
          "model_module": "@jupyter-widgets/base",
          "model_name": "LayoutModel",
          "model_module_version": "1.2.0",
          "state": {
            "_model_module": "@jupyter-widgets/base",
            "_model_module_version": "1.2.0",
            "_model_name": "LayoutModel",
            "_view_count": null,
            "_view_module": "@jupyter-widgets/base",
            "_view_module_version": "1.2.0",
            "_view_name": "LayoutView",
            "align_content": null,
            "align_items": null,
            "align_self": null,
            "border": null,
            "bottom": null,
            "display": null,
            "flex": null,
            "flex_flow": null,
            "grid_area": null,
            "grid_auto_columns": null,
            "grid_auto_flow": null,
            "grid_auto_rows": null,
            "grid_column": null,
            "grid_gap": null,
            "grid_row": null,
            "grid_template_areas": null,
            "grid_template_columns": null,
            "grid_template_rows": null,
            "height": null,
            "justify_content": null,
            "justify_items": null,
            "left": null,
            "margin": null,
            "max_height": null,
            "max_width": null,
            "min_height": null,
            "min_width": null,
            "object_fit": null,
            "object_position": null,
            "order": null,
            "overflow": null,
            "overflow_x": null,
            "overflow_y": null,
            "padding": null,
            "right": null,
            "top": null,
            "visibility": null,
            "width": null
          }
        },
        "5672638529284c2783f6c0e72b02366c": {
          "model_module": "@jupyter-widgets/controls",
          "model_name": "DescriptionStyleModel",
          "model_module_version": "1.5.0",
          "state": {
            "_model_module": "@jupyter-widgets/controls",
            "_model_module_version": "1.5.0",
            "_model_name": "DescriptionStyleModel",
            "_view_count": null,
            "_view_module": "@jupyter-widgets/base",
            "_view_module_version": "1.2.0",
            "_view_name": "StyleView",
            "description_width": ""
          }
        },
        "5e60a84b8f744ea99c738ad38017199d": {
          "model_module": "@jupyter-widgets/base",
          "model_name": "LayoutModel",
          "model_module_version": "1.2.0",
          "state": {
            "_model_module": "@jupyter-widgets/base",
            "_model_module_version": "1.2.0",
            "_model_name": "LayoutModel",
            "_view_count": null,
            "_view_module": "@jupyter-widgets/base",
            "_view_module_version": "1.2.0",
            "_view_name": "LayoutView",
            "align_content": null,
            "align_items": null,
            "align_self": null,
            "border": null,
            "bottom": null,
            "display": null,
            "flex": null,
            "flex_flow": null,
            "grid_area": null,
            "grid_auto_columns": null,
            "grid_auto_flow": null,
            "grid_auto_rows": null,
            "grid_column": null,
            "grid_gap": null,
            "grid_row": null,
            "grid_template_areas": null,
            "grid_template_columns": null,
            "grid_template_rows": null,
            "height": null,
            "justify_content": null,
            "justify_items": null,
            "left": null,
            "margin": null,
            "max_height": null,
            "max_width": null,
            "min_height": null,
            "min_width": null,
            "object_fit": null,
            "object_position": null,
            "order": null,
            "overflow": null,
            "overflow_x": null,
            "overflow_y": null,
            "padding": null,
            "right": null,
            "top": null,
            "visibility": null,
            "width": null
          }
        },
        "db9b98f0f9c7492cab05cae0359bd7c4": {
          "model_module": "@jupyter-widgets/controls",
          "model_name": "ProgressStyleModel",
          "model_module_version": "1.5.0",
          "state": {
            "_model_module": "@jupyter-widgets/controls",
            "_model_module_version": "1.5.0",
            "_model_name": "ProgressStyleModel",
            "_view_count": null,
            "_view_module": "@jupyter-widgets/base",
            "_view_module_version": "1.2.0",
            "_view_name": "StyleView",
            "bar_color": null,
            "description_width": ""
          }
        },
        "0652ca9cb0e145828a515e80ac31dd09": {
          "model_module": "@jupyter-widgets/base",
          "model_name": "LayoutModel",
          "model_module_version": "1.2.0",
          "state": {
            "_model_module": "@jupyter-widgets/base",
            "_model_module_version": "1.2.0",
            "_model_name": "LayoutModel",
            "_view_count": null,
            "_view_module": "@jupyter-widgets/base",
            "_view_module_version": "1.2.0",
            "_view_name": "LayoutView",
            "align_content": null,
            "align_items": null,
            "align_self": null,
            "border": null,
            "bottom": null,
            "display": null,
            "flex": null,
            "flex_flow": null,
            "grid_area": null,
            "grid_auto_columns": null,
            "grid_auto_flow": null,
            "grid_auto_rows": null,
            "grid_column": null,
            "grid_gap": null,
            "grid_row": null,
            "grid_template_areas": null,
            "grid_template_columns": null,
            "grid_template_rows": null,
            "height": null,
            "justify_content": null,
            "justify_items": null,
            "left": null,
            "margin": null,
            "max_height": null,
            "max_width": null,
            "min_height": null,
            "min_width": null,
            "object_fit": null,
            "object_position": null,
            "order": null,
            "overflow": null,
            "overflow_x": null,
            "overflow_y": null,
            "padding": null,
            "right": null,
            "top": null,
            "visibility": null,
            "width": null
          }
        },
        "47b62cf170384177a85b49cdcc740007": {
          "model_module": "@jupyter-widgets/controls",
          "model_name": "DescriptionStyleModel",
          "model_module_version": "1.5.0",
          "state": {
            "_model_module": "@jupyter-widgets/controls",
            "_model_module_version": "1.5.0",
            "_model_name": "DescriptionStyleModel",
            "_view_count": null,
            "_view_module": "@jupyter-widgets/base",
            "_view_module_version": "1.2.0",
            "_view_name": "StyleView",
            "description_width": ""
          }
        },
        "3c088d6bfd17433aaa8e11c06332b511": {
          "model_module": "@jupyter-widgets/controls",
          "model_name": "HBoxModel",
          "model_module_version": "1.5.0",
          "state": {
            "_dom_classes": [],
            "_model_module": "@jupyter-widgets/controls",
            "_model_module_version": "1.5.0",
            "_model_name": "HBoxModel",
            "_view_count": null,
            "_view_module": "@jupyter-widgets/controls",
            "_view_module_version": "1.5.0",
            "_view_name": "HBoxView",
            "box_style": "",
            "children": [
              "IPY_MODEL_2afc656719524b48baea49e1cc89632d",
              "IPY_MODEL_504a36514ae0446d8a99189b88d74ced",
              "IPY_MODEL_c8be935a5539479f87ab49112cc414bb"
            ],
            "layout": "IPY_MODEL_1e67ab5545304f0fbe031ed0eb55a297"
          }
        },
        "2afc656719524b48baea49e1cc89632d": {
          "model_module": "@jupyter-widgets/controls",
          "model_name": "HTMLModel",
          "model_module_version": "1.5.0",
          "state": {
            "_dom_classes": [],
            "_model_module": "@jupyter-widgets/controls",
            "_model_module_version": "1.5.0",
            "_model_name": "HTMLModel",
            "_view_count": null,
            "_view_module": "@jupyter-widgets/controls",
            "_view_module_version": "1.5.0",
            "_view_name": "HTMLView",
            "description": "",
            "description_tooltip": null,
            "layout": "IPY_MODEL_c1b8126ddf994d319ac2c09c9c51efe4",
            "placeholder": "​",
            "style": "IPY_MODEL_ecdb473fa2ee49db88f9b0d085a9d675",
            "value": "Downloading: 100%"
          }
        },
        "504a36514ae0446d8a99189b88d74ced": {
          "model_module": "@jupyter-widgets/controls",
          "model_name": "FloatProgressModel",
          "model_module_version": "1.5.0",
          "state": {
            "_dom_classes": [],
            "_model_module": "@jupyter-widgets/controls",
            "_model_module_version": "1.5.0",
            "_model_name": "FloatProgressModel",
            "_view_count": null,
            "_view_module": "@jupyter-widgets/controls",
            "_view_module_version": "1.5.0",
            "_view_name": "ProgressView",
            "bar_style": "success",
            "description": "",
            "description_tooltip": null,
            "layout": "IPY_MODEL_d604876f4e0a45a585251128ca636724",
            "max": 657434796,
            "min": 0,
            "orientation": "horizontal",
            "style": "IPY_MODEL_0582c7426b0b4047b507868c3756862d",
            "value": 657434796
          }
        },
        "c8be935a5539479f87ab49112cc414bb": {
          "model_module": "@jupyter-widgets/controls",
          "model_name": "HTMLModel",
          "model_module_version": "1.5.0",
          "state": {
            "_dom_classes": [],
            "_model_module": "@jupyter-widgets/controls",
            "_model_module_version": "1.5.0",
            "_model_name": "HTMLModel",
            "_view_count": null,
            "_view_module": "@jupyter-widgets/controls",
            "_view_module_version": "1.5.0",
            "_view_name": "HTMLView",
            "description": "",
            "description_tooltip": null,
            "layout": "IPY_MODEL_3e3a3fdcee234b19883f16624a50cb1f",
            "placeholder": "​",
            "style": "IPY_MODEL_25a1ebc42f95419b8548d9553bc951f3",
            "value": " 627M/627M [00:23&lt;00:00, 29.9MB/s]"
          }
        },
        "1e67ab5545304f0fbe031ed0eb55a297": {
          "model_module": "@jupyter-widgets/base",
          "model_name": "LayoutModel",
          "model_module_version": "1.2.0",
          "state": {
            "_model_module": "@jupyter-widgets/base",
            "_model_module_version": "1.2.0",
            "_model_name": "LayoutModel",
            "_view_count": null,
            "_view_module": "@jupyter-widgets/base",
            "_view_module_version": "1.2.0",
            "_view_name": "LayoutView",
            "align_content": null,
            "align_items": null,
            "align_self": null,
            "border": null,
            "bottom": null,
            "display": null,
            "flex": null,
            "flex_flow": null,
            "grid_area": null,
            "grid_auto_columns": null,
            "grid_auto_flow": null,
            "grid_auto_rows": null,
            "grid_column": null,
            "grid_gap": null,
            "grid_row": null,
            "grid_template_areas": null,
            "grid_template_columns": null,
            "grid_template_rows": null,
            "height": null,
            "justify_content": null,
            "justify_items": null,
            "left": null,
            "margin": null,
            "max_height": null,
            "max_width": null,
            "min_height": null,
            "min_width": null,
            "object_fit": null,
            "object_position": null,
            "order": null,
            "overflow": null,
            "overflow_x": null,
            "overflow_y": null,
            "padding": null,
            "right": null,
            "top": null,
            "visibility": null,
            "width": null
          }
        },
        "c1b8126ddf994d319ac2c09c9c51efe4": {
          "model_module": "@jupyter-widgets/base",
          "model_name": "LayoutModel",
          "model_module_version": "1.2.0",
          "state": {
            "_model_module": "@jupyter-widgets/base",
            "_model_module_version": "1.2.0",
            "_model_name": "LayoutModel",
            "_view_count": null,
            "_view_module": "@jupyter-widgets/base",
            "_view_module_version": "1.2.0",
            "_view_name": "LayoutView",
            "align_content": null,
            "align_items": null,
            "align_self": null,
            "border": null,
            "bottom": null,
            "display": null,
            "flex": null,
            "flex_flow": null,
            "grid_area": null,
            "grid_auto_columns": null,
            "grid_auto_flow": null,
            "grid_auto_rows": null,
            "grid_column": null,
            "grid_gap": null,
            "grid_row": null,
            "grid_template_areas": null,
            "grid_template_columns": null,
            "grid_template_rows": null,
            "height": null,
            "justify_content": null,
            "justify_items": null,
            "left": null,
            "margin": null,
            "max_height": null,
            "max_width": null,
            "min_height": null,
            "min_width": null,
            "object_fit": null,
            "object_position": null,
            "order": null,
            "overflow": null,
            "overflow_x": null,
            "overflow_y": null,
            "padding": null,
            "right": null,
            "top": null,
            "visibility": null,
            "width": null
          }
        },
        "ecdb473fa2ee49db88f9b0d085a9d675": {
          "model_module": "@jupyter-widgets/controls",
          "model_name": "DescriptionStyleModel",
          "model_module_version": "1.5.0",
          "state": {
            "_model_module": "@jupyter-widgets/controls",
            "_model_module_version": "1.5.0",
            "_model_name": "DescriptionStyleModel",
            "_view_count": null,
            "_view_module": "@jupyter-widgets/base",
            "_view_module_version": "1.2.0",
            "_view_name": "StyleView",
            "description_width": ""
          }
        },
        "d604876f4e0a45a585251128ca636724": {
          "model_module": "@jupyter-widgets/base",
          "model_name": "LayoutModel",
          "model_module_version": "1.2.0",
          "state": {
            "_model_module": "@jupyter-widgets/base",
            "_model_module_version": "1.2.0",
            "_model_name": "LayoutModel",
            "_view_count": null,
            "_view_module": "@jupyter-widgets/base",
            "_view_module_version": "1.2.0",
            "_view_name": "LayoutView",
            "align_content": null,
            "align_items": null,
            "align_self": null,
            "border": null,
            "bottom": null,
            "display": null,
            "flex": null,
            "flex_flow": null,
            "grid_area": null,
            "grid_auto_columns": null,
            "grid_auto_flow": null,
            "grid_auto_rows": null,
            "grid_column": null,
            "grid_gap": null,
            "grid_row": null,
            "grid_template_areas": null,
            "grid_template_columns": null,
            "grid_template_rows": null,
            "height": null,
            "justify_content": null,
            "justify_items": null,
            "left": null,
            "margin": null,
            "max_height": null,
            "max_width": null,
            "min_height": null,
            "min_width": null,
            "object_fit": null,
            "object_position": null,
            "order": null,
            "overflow": null,
            "overflow_x": null,
            "overflow_y": null,
            "padding": null,
            "right": null,
            "top": null,
            "visibility": null,
            "width": null
          }
        },
        "0582c7426b0b4047b507868c3756862d": {
          "model_module": "@jupyter-widgets/controls",
          "model_name": "ProgressStyleModel",
          "model_module_version": "1.5.0",
          "state": {
            "_model_module": "@jupyter-widgets/controls",
            "_model_module_version": "1.5.0",
            "_model_name": "ProgressStyleModel",
            "_view_count": null,
            "_view_module": "@jupyter-widgets/base",
            "_view_module_version": "1.2.0",
            "_view_name": "StyleView",
            "bar_color": null,
            "description_width": ""
          }
        },
        "3e3a3fdcee234b19883f16624a50cb1f": {
          "model_module": "@jupyter-widgets/base",
          "model_name": "LayoutModel",
          "model_module_version": "1.2.0",
          "state": {
            "_model_module": "@jupyter-widgets/base",
            "_model_module_version": "1.2.0",
            "_model_name": "LayoutModel",
            "_view_count": null,
            "_view_module": "@jupyter-widgets/base",
            "_view_module_version": "1.2.0",
            "_view_name": "LayoutView",
            "align_content": null,
            "align_items": null,
            "align_self": null,
            "border": null,
            "bottom": null,
            "display": null,
            "flex": null,
            "flex_flow": null,
            "grid_area": null,
            "grid_auto_columns": null,
            "grid_auto_flow": null,
            "grid_auto_rows": null,
            "grid_column": null,
            "grid_gap": null,
            "grid_row": null,
            "grid_template_areas": null,
            "grid_template_columns": null,
            "grid_template_rows": null,
            "height": null,
            "justify_content": null,
            "justify_items": null,
            "left": null,
            "margin": null,
            "max_height": null,
            "max_width": null,
            "min_height": null,
            "min_width": null,
            "object_fit": null,
            "object_position": null,
            "order": null,
            "overflow": null,
            "overflow_x": null,
            "overflow_y": null,
            "padding": null,
            "right": null,
            "top": null,
            "visibility": null,
            "width": null
          }
        },
        "25a1ebc42f95419b8548d9553bc951f3": {
          "model_module": "@jupyter-widgets/controls",
          "model_name": "DescriptionStyleModel",
          "model_module_version": "1.5.0",
          "state": {
            "_model_module": "@jupyter-widgets/controls",
            "_model_module_version": "1.5.0",
            "_model_name": "DescriptionStyleModel",
            "_view_count": null,
            "_view_module": "@jupyter-widgets/base",
            "_view_module_version": "1.2.0",
            "_view_name": "StyleView",
            "description_width": ""
          }
        }
      }
    }
  },
  "nbformat": 4,
  "nbformat_minor": 0
}